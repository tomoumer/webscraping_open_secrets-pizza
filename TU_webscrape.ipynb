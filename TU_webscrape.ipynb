{
 "cells": [
  {
   "cell_type": "code",
   "execution_count": 4,
   "metadata": {},
   "outputs": [],
   "source": [
    "import requests\n",
    "from bs4 import BeautifulSoup as BS\n",
    "import pandas as pd"
   ]
  },
  {
   "cell_type": "code",
   "execution_count": 2,
   "metadata": {},
   "outputs": [],
   "source": [
    "URL = 'https://www.opensecrets.org/races/candidates?cycle=2020&id=TN07&spec=N'\n",
    "\n",
    "response = requests.get(URL)"
   ]
  },
  {
   "cell_type": "code",
   "execution_count": 3,
   "metadata": {},
   "outputs": [
    {
     "data": {
      "text/plain": [
       "200"
      ]
     },
     "execution_count": 3,
     "metadata": {},
     "output_type": "execute_result"
    }
   ],
   "source": [
    "response.status_code"
   ]
  },
  {
   "cell_type": "code",
   "execution_count": 6,
   "metadata": {},
   "outputs": [],
   "source": [
    "soup_TN07 = BS(response.text)"
   ]
  },
  {
   "cell_type": "code",
   "execution_count": 9,
   "metadata": {},
   "outputs": [],
   "source": [
    "#print(soup_TN07.prettify())"
   ]
  },
  {
   "cell_type": "markdown",
   "metadata": {},
   "source": [
    "Alright, trying to find:\n",
    "- the percentage of the vote that candidate received\n",
    "- the total amount raised by that candidate (as a numeric variable)\n",
    "- the total amount spent by the candidate (as a numeric variable)"
   ]
  },
  {
   "cell_type": "code",
   "execution_count": 16,
   "metadata": {},
   "outputs": [
    {
     "data": {
      "text/html": [
       "<div>\n",
       "<style scoped>\n",
       "    .dataframe tbody tr th:only-of-type {\n",
       "        vertical-align: middle;\n",
       "    }\n",
       "\n",
       "    .dataframe tbody tr th {\n",
       "        vertical-align: top;\n",
       "    }\n",
       "\n",
       "    .dataframe thead th {\n",
       "        text-align: right;\n",
       "    }\n",
       "</style>\n",
       "<table border=\"1\" class=\"dataframe\">\n",
       "  <thead>\n",
       "    <tr style=\"text-align: right;\">\n",
       "      <th></th>\n",
       "      <th>0</th>\n",
       "      <th>1</th>\n",
       "      <th>2</th>\n",
       "    </tr>\n",
       "  </thead>\n",
       "  <tbody>\n",
       "    <tr>\n",
       "      <th>0</th>\n",
       "      <td>Raised:</td>\n",
       "      <td>$1,194,960</td>\n",
       "      <td>NaN</td>\n",
       "    </tr>\n",
       "    <tr>\n",
       "      <th>1</th>\n",
       "      <td>Spent:</td>\n",
       "      <td>$935,487</td>\n",
       "      <td>NaN</td>\n",
       "    </tr>\n",
       "    <tr>\n",
       "      <th>2</th>\n",
       "      <td>Cash on Hand:</td>\n",
       "      <td>$287,889</td>\n",
       "      <td>NaN</td>\n",
       "    </tr>\n",
       "  </tbody>\n",
       "</table>\n",
       "</div>"
      ],
      "text/plain": [
       "               0           1   2\n",
       "0        Raised:  $1,194,960 NaN\n",
       "1         Spent:    $935,487 NaN\n",
       "2  Cash on Hand:    $287,889 NaN"
      ]
     },
     "execution_count": 16,
     "metadata": {},
     "output_type": "execute_result"
    }
   ],
   "source": [
    "# note1: the first [0] is to get the first candidate\n",
    "# note2: the second [0] is there because otherwise read_html returns a list of tables\n",
    "pd.read_html(str(soup_TN07.findAll('table', attrs={'class' : 'Members--table'})[0]))[0]"
   ]
  },
  {
   "cell_type": "code",
   "execution_count": 23,
   "metadata": {},
   "outputs": [
    {
     "data": {
      "text/plain": [
       "'(69.9% of vote)'"
      ]
     },
     "execution_count": 23,
     "metadata": {},
     "output_type": "execute_result"
    }
   ],
   "source": [
    "soup_TN07.findAll('span', attrs={'class' : 'Members--vote-pct'})[0].text"
   ]
  },
  {
   "cell_type": "code",
   "execution_count": 25,
   "metadata": {},
   "outputs": [
    {
     "data": {
      "text/plain": [
       "[<h2 class=\"f-strata-title f-uppercase\" style=\"color: white; fill: white; text-align: center; font-size: 260%;\"> We Follow the Money. You Make it Possible.</h2>,\n",
       " <h2><strong>\n",
       " <a href=\"/members-of-congress/mark-green/summary?cid=N00041873\">Mark Green (R) • <i>Incumbent</i></a>\n",
       "  • <span class=\"winner\"><i>Winner</i></span> <br/>\n",
       " <span class=\"Members--vote-pct\">(69.9% of vote)</span>\n",
       " </strong></h2>,\n",
       " <h2><strong>\n",
       " \t\t\t\t\t\t\t\t\t\tKiran Sreepada (D)\n",
       " \t\t\t\t\t\t\t\t\t\t<br/>\n",
       " <span class=\"Members--vote-pct\">(27.3% of vote)</span>\n",
       " </strong></h2>,\n",
       " <h2><strong>\n",
       " \t\t\t\t\t\t\t\t\t\tRonald Brown (I)\n",
       " \t\t\t\t\t\t\t\t\t\t<br/>\n",
       " <span class=\"Members--vote-pct\">(2.2% of vote)</span>\n",
       " </strong></h2>,\n",
       " <h2><strong>\n",
       " \t\t\t\t\t\t\t\t\t\tScott Vieira Jr (I)\n",
       " \t\t\t\t\t\t\t\t\t\t<br/>\n",
       " <span class=\"Members--vote-pct\">(0.6% of vote)</span>\n",
       " </strong></h2>,\n",
       " <h2 class=\"Donate-title f-strata-title c-navy\" data-orphans='{\"words\":\"2\",\"wrap\":\"true\"}'>\n",
       "             We follow the money. <span class=\"f-short-underline\">You</span> make it possible.\n",
       "         </h2>,\n",
       " <h2 class=\"StayConnected-title c-white\" data-orphans=\"\">Count Cash &amp; Make Change</h2>]"
      ]
     },
     "execution_count": 25,
     "metadata": {},
     "output_type": "execute_result"
    }
   ],
   "source": [
    "soup_TN07.findAll('h2')"
   ]
  },
  {
   "cell_type": "code",
   "execution_count": null,
   "metadata": {},
   "outputs": [],
   "source": []
  }
 ],
 "metadata": {
  "kernelspec": {
   "display_name": "Python 3.9.12 ('base')",
   "language": "python",
   "name": "python3"
  },
  "language_info": {
   "codemirror_mode": {
    "name": "ipython",
    "version": 3
   },
   "file_extension": ".py",
   "mimetype": "text/x-python",
   "name": "python",
   "nbconvert_exporter": "python",
   "pygments_lexer": "ipython3",
   "version": "3.9.12"
  },
  "orig_nbformat": 4,
  "vscode": {
   "interpreter": {
    "hash": "8ae6d9166a6324ec8fca68373a3fb6f0a0d010f541edaf8017d36667030d4460"
   }
  }
 },
 "nbformat": 4,
 "nbformat_minor": 2
}
