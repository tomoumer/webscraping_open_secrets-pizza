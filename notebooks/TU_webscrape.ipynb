{
 "cells": [
  {
   "cell_type": "code",
   "execution_count": 99,
   "metadata": {},
   "outputs": [],
   "source": [
    "import requests\n",
    "from bs4 import BeautifulSoup as BS\n",
    "import pandas as pd\n",
    "import re\n",
    "import time\n",
    "import matplotlib.pyplot as plt\n",
    "import seaborn as sns"
   ]
  },
  {
   "cell_type": "code",
   "execution_count": 2,
   "metadata": {},
   "outputs": [],
   "source": [
    "URL = 'https://www.opensecrets.org/races/candidates?cycle=2020&id=TN07&spec=N'\n",
    "\n",
    "response = requests.get(URL)"
   ]
  },
  {
   "cell_type": "code",
   "execution_count": 3,
   "metadata": {},
   "outputs": [
    {
     "data": {
      "text/plain": [
       "200"
      ]
     },
     "execution_count": 3,
     "metadata": {},
     "output_type": "execute_result"
    }
   ],
   "source": [
    "response.status_code"
   ]
  },
  {
   "cell_type": "code",
   "execution_count": 4,
   "metadata": {},
   "outputs": [],
   "source": [
    "soup_TN07 = BS(response.text)"
   ]
  },
  {
   "cell_type": "code",
   "execution_count": 5,
   "metadata": {},
   "outputs": [],
   "source": [
    "#print(soup_TN07.prettify())"
   ]
  },
  {
   "cell_type": "markdown",
   "metadata": {},
   "source": [
    "Alright, trying to find:\n",
    "- the percentage of the vote that candidate received\n",
    "- the total amount raised by that candidate (as a numeric variable)\n",
    "- the total amount spent by the candidate (as a numeric variable)"
   ]
  },
  {
   "cell_type": "code",
   "execution_count": 6,
   "metadata": {},
   "outputs": [],
   "source": [
    "# note1: the first [0] is to get the first candidate\n",
    "# note2: the second [0] is there because otherwise read_html returns a list of tables\n",
    "finances = (pd\n",
    "    .read_html(\n",
    "        str(soup_TN07.findAll('table', attrs={'class' : 'Members--table'})[0])\n",
    "            .replace('$','')\n",
    "            .replace(':', '')\n",
    "    )[0]\n",
    "    .pivot(index=2, columns=0, values=1)\n",
    "    .reset_index(drop=True)\n",
    ")"
   ]
  },
  {
   "cell_type": "code",
   "execution_count": 7,
   "metadata": {},
   "outputs": [
    {
     "data": {
      "text/html": [
       "<div>\n",
       "<style scoped>\n",
       "    .dataframe tbody tr th:only-of-type {\n",
       "        vertical-align: middle;\n",
       "    }\n",
       "\n",
       "    .dataframe tbody tr th {\n",
       "        vertical-align: top;\n",
       "    }\n",
       "\n",
       "    .dataframe thead th {\n",
       "        text-align: right;\n",
       "    }\n",
       "</style>\n",
       "<table border=\"1\" class=\"dataframe\">\n",
       "  <thead>\n",
       "    <tr style=\"text-align: right;\">\n",
       "      <th></th>\n",
       "      <th>Cash on Hand</th>\n",
       "      <th>Raised</th>\n",
       "      <th>Spent</th>\n",
       "    </tr>\n",
       "  </thead>\n",
       "  <tbody>\n",
       "    <tr>\n",
       "      <th>0</th>\n",
       "      <td>287889</td>\n",
       "      <td>1194960</td>\n",
       "      <td>935487</td>\n",
       "    </tr>\n",
       "  </tbody>\n",
       "</table>\n",
       "</div>"
      ],
      "text/plain": [
       "0  Cash on Hand   Raised   Spent\n",
       "0        287889  1194960  935487"
      ]
     },
     "execution_count": 7,
     "metadata": {},
     "output_type": "execute_result"
    }
   ],
   "source": [
    "finances.head()"
   ]
  },
  {
   "cell_type": "code",
   "execution_count": 8,
   "metadata": {},
   "outputs": [
    {
     "name": "stdout",
     "output_type": "stream",
     "text": [
      "<class 'pandas.core.frame.DataFrame'>\n",
      "RangeIndex: 1 entries, 0 to 0\n",
      "Data columns (total 3 columns):\n",
      " #   Column        Non-Null Count  Dtype\n",
      "---  ------        --------------  -----\n",
      " 0   Cash on Hand  1 non-null      int64\n",
      " 1   Raised        1 non-null      int64\n",
      " 2   Spent         1 non-null      int64\n",
      "dtypes: int64(3)\n",
      "memory usage: 152.0 bytes\n"
     ]
    }
   ],
   "source": [
    "finances.info()"
   ]
  },
  {
   "cell_type": "code",
   "execution_count": 9,
   "metadata": {},
   "outputs": [
    {
     "data": {
      "text/plain": [
       "'69.9%'"
      ]
     },
     "execution_count": 9,
     "metadata": {},
     "output_type": "execute_result"
    }
   ],
   "source": [
    "#soup_TN07.findAll('span', attrs={'class' : 'Members--vote-pct'})[0].text\n",
    "re.search(r'\\d{1,2}\\.\\d?%', soup_TN07.findAll('span', attrs={'class' : 'Members--vote-pct'})[0].text)[0]"
   ]
  },
  {
   "cell_type": "code",
   "execution_count": 10,
   "metadata": {},
   "outputs": [
    {
     "data": {
      "text/plain": [
       "'Incumbent'"
      ]
     },
     "execution_count": 10,
     "metadata": {},
     "output_type": "execute_result"
    }
   ],
   "source": [
    "soup_TN07.findAll('h2')[0].find('i').text"
   ]
  },
  {
   "cell_type": "code",
   "execution_count": 11,
   "metadata": {},
   "outputs": [
    {
     "data": {
      "text/plain": [
       "'Winner'"
      ]
     },
     "execution_count": 11,
     "metadata": {},
     "output_type": "execute_result"
    }
   ],
   "source": [
    "soup_TN07.findAll('h2')[0].find('span', attrs={'class' : 'winner'}).text"
   ]
  },
  {
   "cell_type": "code",
   "execution_count": 12,
   "metadata": {},
   "outputs": [],
   "source": [
    "candidate_info = soup_TN07.findAll('h2')[0].find('strong').text"
   ]
  },
  {
   "cell_type": "code",
   "execution_count": 13,
   "metadata": {},
   "outputs": [
    {
     "name": "stdout",
     "output_type": "stream",
     "text": [
      "\n",
      "Mark Green (R) • Incumbent\n",
      " • Winner \n",
      "(69.9% of vote)\n",
      "\n"
     ]
    }
   ],
   "source": [
    "print(candidate_info)"
   ]
  },
  {
   "cell_type": "markdown",
   "metadata": {},
   "source": [
    "the regex below possibly includes sr., jr. and the likes"
   ]
  },
  {
   "cell_type": "code",
   "execution_count": 14,
   "metadata": {},
   "outputs": [
    {
     "data": {
      "text/plain": [
       "'Mark Green'"
      ]
     },
     "execution_count": 14,
     "metadata": {},
     "output_type": "execute_result"
    }
   ],
   "source": [
    "re.search(r'[A-Z][a-z]+ [A-Z][a-z]+ [A-Z0-9]?[a-z]?', candidate_info)[0].strip()"
   ]
  },
  {
   "cell_type": "code",
   "execution_count": 15,
   "metadata": {},
   "outputs": [
    {
     "data": {
      "text/plain": [
       "'R'"
      ]
     },
     "execution_count": 15,
     "metadata": {},
     "output_type": "execute_result"
    }
   ],
   "source": [
    "re.findall(r'\\(([R,D])\\)', candidate_info)[0]"
   ]
  },
  {
   "cell_type": "code",
   "execution_count": 16,
   "metadata": {},
   "outputs": [
    {
     "name": "stdout",
     "output_type": "stream",
     "text": [
      "Incumbent\n"
     ]
    }
   ],
   "source": [
    "if re.search(r'Incumbent', candidate_info)[0] == 'Incumbent':\n",
    "    print('Incumbent')\n",
    "else :\n",
    "    print('Not Incumbent')"
   ]
  },
  {
   "cell_type": "code",
   "execution_count": 17,
   "metadata": {},
   "outputs": [
    {
     "name": "stdout",
     "output_type": "stream",
     "text": [
      "Winner\n"
     ]
    }
   ],
   "source": [
    "if re.search(r'Winner', candidate_info)[0] == 'Winner':\n",
    "    print('Winner')\n",
    "else :\n",
    "    print('Loser')"
   ]
  },
  {
   "cell_type": "code",
   "execution_count": 18,
   "metadata": {},
   "outputs": [
    {
     "data": {
      "text/plain": [
       "'Tennessee'"
      ]
     },
     "execution_count": 18,
     "metadata": {},
     "output_type": "execute_result"
    }
   ],
   "source": [
    "re.search(r'[A-Z][a-z]+', soup_TN07.find('h1').text)[0]"
   ]
  },
  {
   "cell_type": "code",
   "execution_count": 19,
   "metadata": {},
   "outputs": [
    {
     "data": {
      "text/plain": [
       "'07'"
      ]
     },
     "execution_count": 19,
     "metadata": {},
     "output_type": "execute_result"
    }
   ],
   "source": [
    "re.findall(r'District (\\d{2})', soup_TN07.find('h1').text)[0]"
   ]
  },
  {
   "cell_type": "markdown",
   "metadata": {},
   "source": [
    "## working together"
   ]
  },
  {
   "cell_type": "code",
   "execution_count": 20,
   "metadata": {},
   "outputs": [],
   "source": [
    "URL = 'https://www.opensecrets.org/races/candidates?cycle=2020&id=TN07&spec=N'\n",
    "response = requests.get(URL)\n",
    "soup = BS(response.text)"
   ]
  },
  {
   "cell_type": "code",
   "execution_count": 21,
   "metadata": {},
   "outputs": [],
   "source": [
    "candidate_df = pd.DataFrame()\n",
    "\n",
    "def district_scraper(soup):\n",
    "    candidate_list = [x.text.strip() for x in soup.find_all('strong')]\n",
    "    candidate_df['name'] = [re.findall(r'(.+ .+) \\(\\w', item)[0] for item in candidate_list]\n",
    "    candidate_df['party'] = [re.findall(r'\\((\\w)\\)', item)[0] for item in candidate_list]\n",
    "    candidate_df['vote'] = [re.findall(r'(\\d*[.?]\\d*\\%)', item)[0] for item in candidate_list]\n",
    "    #candidate_df['winner'] = ['Winner' if re.search(r'Winner', item) != 'None' else 'Not Winner' for item in candidate_list]\n",
    "    #[re.findall(r'(Winner)', item)[0] for item in candidate_list]\n",
    "    #candidate_df['incumbent'] = [re.findall(r'(Incumbent)', item)[0] for item in candidate_list]"
   ]
  },
  {
   "cell_type": "code",
   "execution_count": 22,
   "metadata": {},
   "outputs": [
    {
     "name": "stdout",
     "output_type": "stream",
     "text": [
      "Mark Green (R) • Incumbent\n",
      " • Winner \n",
      "(69.9% of vote)\n",
      "<class 're.Match'>\n",
      "Kiran Sreepada (D)\n",
      "\t\t\t\t\t\t\t\t\t\t\n",
      "(27.3% of vote)\n",
      "<class 'NoneType'>\n",
      "Ronald Brown (I)\n",
      "\t\t\t\t\t\t\t\t\t\t\n",
      "(2.2% of vote)\n",
      "<class 'NoneType'>\n",
      "Scott Vieira Jr (I)\n",
      "\t\t\t\t\t\t\t\t\t\t\n",
      "(0.6% of vote)\n",
      "<class 'NoneType'>\n"
     ]
    }
   ],
   "source": [
    "for item in [x.text.strip() for x in soup.find_all('strong')]:\n",
    "    print(item)\n",
    "    print(type(re.search(r'Winner', item)))"
   ]
  },
  {
   "cell_type": "code",
   "execution_count": 23,
   "metadata": {},
   "outputs": [
    {
     "data": {
      "text/html": [
       "<div>\n",
       "<style scoped>\n",
       "    .dataframe tbody tr th:only-of-type {\n",
       "        vertical-align: middle;\n",
       "    }\n",
       "\n",
       "    .dataframe tbody tr th {\n",
       "        vertical-align: top;\n",
       "    }\n",
       "\n",
       "    .dataframe thead th {\n",
       "        text-align: right;\n",
       "    }\n",
       "</style>\n",
       "<table border=\"1\" class=\"dataframe\">\n",
       "  <thead>\n",
       "    <tr style=\"text-align: right;\">\n",
       "      <th></th>\n",
       "    </tr>\n",
       "  </thead>\n",
       "  <tbody>\n",
       "  </tbody>\n",
       "</table>\n",
       "</div>"
      ],
      "text/plain": [
       "Empty DataFrame\n",
       "Columns: []\n",
       "Index: []"
      ]
     },
     "execution_count": 23,
     "metadata": {},
     "output_type": "execute_result"
    }
   ],
   "source": [
    "candidate_df.head()"
   ]
  },
  {
   "cell_type": "markdown",
   "metadata": {},
   "source": [
    "The code below is to format the finances tables (for each candidate) in the correct order"
   ]
  },
  {
   "cell_type": "code",
   "execution_count": 24,
   "metadata": {},
   "outputs": [],
   "source": [
    "# intitialize empty data frame\n",
    "final_finances = pd.DataFrame()\n",
    "\n",
    "# create the list of all dataframe tables for candidates\n",
    "finances = (pd\n",
    "    .read_html(\n",
    "        str(soup_TN07.findAll('table', attrs={'class' : 'Members--table'}))\n",
    "            .replace('$','')\n",
    "            .replace(':', '')\n",
    "    )\n",
    ")"
   ]
  },
  {
   "cell_type": "code",
   "execution_count": 25,
   "metadata": {},
   "outputs": [
    {
     "name": "stdout",
     "output_type": "stream",
     "text": [
      "[              0        1   2\n",
      "0        Raised  1194960 NaN\n",
      "1         Spent   935487 NaN\n",
      "2  Cash on Hand   287889 NaN,               0       1   2\n",
      "0        Raised  206644 NaN\n",
      "1         Spent  207191 NaN\n",
      "2  Cash on Hand       0 NaN,               0     1   2\n",
      "0        Raised  1750 NaN\n",
      "1         Spent     0 NaN\n",
      "2  Cash on Hand  9006 NaN,               0     1   2\n",
      "0        Raised   655 NaN\n",
      "1         Spent  1049 NaN\n",
      "2  Cash on Hand  -197 NaN]\n"
     ]
    }
   ],
   "source": [
    "print(finances)"
   ]
  },
  {
   "cell_type": "code",
   "execution_count": 26,
   "metadata": {},
   "outputs": [
    {
     "name": "stdout",
     "output_type": "stream",
     "text": [
      "0  Cash on Hand   Raised   Spent\n",
      "0        287889  1194960  935487\n",
      "0             0   206644  207191\n",
      "0          9006     1750       0\n",
      "0          -197      655    1049\n"
     ]
    }
   ],
   "source": [
    "# loop over the dataframes list\n",
    "for fin in finances:\n",
    "    final_finances = pd.concat(\n",
    "        [final_finances,\n",
    "        fin.pivot(index=2, columns=0, values=1).reset_index(drop=True)])\n",
    "\n",
    "print(final_finances)\n",
    "    "
   ]
  },
  {
   "cell_type": "markdown",
   "metadata": {},
   "source": [
    "## Code below after working with team (final version)"
   ]
  },
  {
   "cell_type": "code",
   "execution_count": 27,
   "metadata": {},
   "outputs": [],
   "source": [
    "candidate_df = pd.DataFrame()\n",
    "\n",
    "def district_scraper(state, district):\n",
    "    URL = f'https://www.opensecrets.org/races/candidates?cycle=2020&id={state}{district}&spec=N'\n",
    "    soup = BS(requests.get(URL).text)\n",
    "    \n",
    "    candidate_list = [x.text.strip() for x in soup.find_all('strong')]\n",
    "    \n",
    "    finances = (pd\n",
    "        .read_html(\n",
    "            str(soup.findAll('table', attrs={'class' : 'Members--table'}))\n",
    "                .replace('$','')\n",
    "                .replace(':', '')\n",
    "        )\n",
    "    )\n",
    "    \n",
    "    temp_df = pd.DataFrame()\n",
    "\n",
    "    temp_df['name'] = [re.findall(r'(.+ .+) \\(\\w', item)[0] for item in candidate_list]\n",
    "    temp_df['party'] = [re.findall(r'\\((\\w)\\)', item)[0] for item in candidate_list]\n",
    "    temp_df['vote'] = [re.findall(r'(\\d*[.?]\\d*\\%)', item)[0] for item in candidate_list]\n",
    "    temp_df['winner'] = ['Winner' if re.search(r'(Winner)', str(item)) is not None\n",
    "                              else 'Not Winner' for item in candidate_list]\n",
    "    temp_df['incumbent'] = ['Incumbent' if re.search(r'(Incumbent)', str(item)) != None \n",
    "                            else 'Not Incumbent' for item in candidate_list]\n",
    "    temp_df['state'] = str(re.search(r'[A-Z][a-z]+(?: [A-Z][a-hj-z][a-z]+)?',\n",
    "                                     soup.findAll('title')[0].text)[0])\n",
    "    temp_df['district'] = str(re.findall(r'District ([0-9]{2})', soup.findAll('title')[0].text)[0])\n",
    "    temp_df['raised'] = [finances[i].iloc[0,1] for i in range(len(candidate_list))]\n",
    "    temp_df['spent'] = [finances[i].iloc[1,1] for i in range(len(candidate_list))]\n",
    "    temp_df['cash_on_hand'] = [finances[i].iloc[2,1] for i in range(len(candidate_list))]\n",
    "    \n",
    "    global candidate_df\n",
    "    candidate_df = pd.concat([candidate_df, temp_df])\n",
    "    candidate_df = candidate_df.reset_index(drop=True)"
   ]
  },
  {
   "cell_type": "code",
   "execution_count": 28,
   "metadata": {},
   "outputs": [],
   "source": [
    "#the handy zfill function gives you a 0 with single digit numbers!\n",
    "\n",
    "for num in range(1,10):\n",
    "    district_scraper('TN', str(num).zfill(2))"
   ]
  },
  {
   "cell_type": "code",
   "execution_count": 29,
   "metadata": {},
   "outputs": [
    {
     "data": {
      "text/html": [
       "<div>\n",
       "<style scoped>\n",
       "    .dataframe tbody tr th:only-of-type {\n",
       "        vertical-align: middle;\n",
       "    }\n",
       "\n",
       "    .dataframe tbody tr th {\n",
       "        vertical-align: top;\n",
       "    }\n",
       "\n",
       "    .dataframe thead th {\n",
       "        text-align: right;\n",
       "    }\n",
       "</style>\n",
       "<table border=\"1\" class=\"dataframe\">\n",
       "  <thead>\n",
       "    <tr style=\"text-align: right;\">\n",
       "      <th></th>\n",
       "      <th>name</th>\n",
       "      <th>party</th>\n",
       "      <th>vote</th>\n",
       "      <th>winner</th>\n",
       "      <th>incumbent</th>\n",
       "      <th>state</th>\n",
       "      <th>district</th>\n",
       "      <th>raised</th>\n",
       "      <th>spent</th>\n",
       "      <th>cash_on_hand</th>\n",
       "    </tr>\n",
       "  </thead>\n",
       "  <tbody>\n",
       "    <tr>\n",
       "      <th>0</th>\n",
       "      <td>Diana Harshbarger</td>\n",
       "      <td>R</td>\n",
       "      <td>74.8%</td>\n",
       "      <td>Winner</td>\n",
       "      <td>Not Incumbent</td>\n",
       "      <td>Tennessee</td>\n",
       "      <td>01</td>\n",
       "      <td>2126946</td>\n",
       "      <td>1869100</td>\n",
       "      <td>257846</td>\n",
       "    </tr>\n",
       "    <tr>\n",
       "      <th>1</th>\n",
       "      <td>Blair Nicole Walsingham</td>\n",
       "      <td>D</td>\n",
       "      <td>22.4%</td>\n",
       "      <td>Not Winner</td>\n",
       "      <td>Not Incumbent</td>\n",
       "      <td>Tennessee</td>\n",
       "      <td>01</td>\n",
       "      <td>140209</td>\n",
       "      <td>134995</td>\n",
       "      <td>5215</td>\n",
       "    </tr>\n",
       "    <tr>\n",
       "      <th>2</th>\n",
       "      <td>Tim Burchett</td>\n",
       "      <td>R</td>\n",
       "      <td>67.7%</td>\n",
       "      <td>Winner</td>\n",
       "      <td>Incumbent</td>\n",
       "      <td>Tennessee</td>\n",
       "      <td>02</td>\n",
       "      <td>1336276</td>\n",
       "      <td>878488</td>\n",
       "      <td>593678</td>\n",
       "    </tr>\n",
       "    <tr>\n",
       "      <th>3</th>\n",
       "      <td>Renee Hoyos</td>\n",
       "      <td>D</td>\n",
       "      <td>31.0%</td>\n",
       "      <td>Not Winner</td>\n",
       "      <td>Not Incumbent</td>\n",
       "      <td>Tennessee</td>\n",
       "      <td>02</td>\n",
       "      <td>812784</td>\n",
       "      <td>816793</td>\n",
       "      <td>210</td>\n",
       "    </tr>\n",
       "    <tr>\n",
       "      <th>4</th>\n",
       "      <td>Chuck Fleischmann</td>\n",
       "      <td>R</td>\n",
       "      <td>67.3%</td>\n",
       "      <td>Winner</td>\n",
       "      <td>Incumbent</td>\n",
       "      <td>Tennessee</td>\n",
       "      <td>03</td>\n",
       "      <td>1051653</td>\n",
       "      <td>381411</td>\n",
       "      <td>1880341</td>\n",
       "    </tr>\n",
       "    <tr>\n",
       "      <th>5</th>\n",
       "      <td>Meg Gorman</td>\n",
       "      <td>D</td>\n",
       "      <td>30.5%</td>\n",
       "      <td>Not Winner</td>\n",
       "      <td>Not Incumbent</td>\n",
       "      <td>Tennessee</td>\n",
       "      <td>03</td>\n",
       "      <td>85843</td>\n",
       "      <td>77760</td>\n",
       "      <td>8083</td>\n",
       "    </tr>\n",
       "    <tr>\n",
       "      <th>6</th>\n",
       "      <td>Scott Desjarlais</td>\n",
       "      <td>R</td>\n",
       "      <td>66.7%</td>\n",
       "      <td>Winner</td>\n",
       "      <td>Incumbent</td>\n",
       "      <td>Tennessee</td>\n",
       "      <td>04</td>\n",
       "      <td>331464</td>\n",
       "      <td>392499</td>\n",
       "      <td>302649</td>\n",
       "    </tr>\n",
       "    <tr>\n",
       "      <th>7</th>\n",
       "      <td>Christopher Hale</td>\n",
       "      <td>D</td>\n",
       "      <td>33.3%</td>\n",
       "      <td>Not Winner</td>\n",
       "      <td>Not Incumbent</td>\n",
       "      <td>Tennessee</td>\n",
       "      <td>04</td>\n",
       "      <td>308731</td>\n",
       "      <td>302996</td>\n",
       "      <td>5735</td>\n",
       "    </tr>\n",
       "    <tr>\n",
       "      <th>8</th>\n",
       "      <td>Jim Cooper</td>\n",
       "      <td>D</td>\n",
       "      <td>100.0%</td>\n",
       "      <td>Winner</td>\n",
       "      <td>Incumbent</td>\n",
       "      <td>Tennessee</td>\n",
       "      <td>05</td>\n",
       "      <td>936569</td>\n",
       "      <td>1332131</td>\n",
       "      <td>272934</td>\n",
       "    </tr>\n",
       "    <tr>\n",
       "      <th>9</th>\n",
       "      <td>John Rose</td>\n",
       "      <td>R</td>\n",
       "      <td>73.7%</td>\n",
       "      <td>Winner</td>\n",
       "      <td>Incumbent</td>\n",
       "      <td>Tennessee</td>\n",
       "      <td>06</td>\n",
       "      <td>1050429</td>\n",
       "      <td>625688</td>\n",
       "      <td>454375</td>\n",
       "    </tr>\n",
       "    <tr>\n",
       "      <th>10</th>\n",
       "      <td>Mark Green</td>\n",
       "      <td>R</td>\n",
       "      <td>69.9%</td>\n",
       "      <td>Winner</td>\n",
       "      <td>Incumbent</td>\n",
       "      <td>Tennessee</td>\n",
       "      <td>07</td>\n",
       "      <td>1194960</td>\n",
       "      <td>935487</td>\n",
       "      <td>287889</td>\n",
       "    </tr>\n",
       "    <tr>\n",
       "      <th>11</th>\n",
       "      <td>Kiran Sreepada</td>\n",
       "      <td>D</td>\n",
       "      <td>27.3%</td>\n",
       "      <td>Not Winner</td>\n",
       "      <td>Not Incumbent</td>\n",
       "      <td>Tennessee</td>\n",
       "      <td>07</td>\n",
       "      <td>206644</td>\n",
       "      <td>207191</td>\n",
       "      <td>0</td>\n",
       "    </tr>\n",
       "    <tr>\n",
       "      <th>12</th>\n",
       "      <td>Ronald Brown</td>\n",
       "      <td>I</td>\n",
       "      <td>2.2%</td>\n",
       "      <td>Not Winner</td>\n",
       "      <td>Not Incumbent</td>\n",
       "      <td>Tennessee</td>\n",
       "      <td>07</td>\n",
       "      <td>1750</td>\n",
       "      <td>0</td>\n",
       "      <td>9006</td>\n",
       "    </tr>\n",
       "    <tr>\n",
       "      <th>13</th>\n",
       "      <td>Scott Vieira Jr</td>\n",
       "      <td>I</td>\n",
       "      <td>0.6%</td>\n",
       "      <td>Not Winner</td>\n",
       "      <td>Not Incumbent</td>\n",
       "      <td>Tennessee</td>\n",
       "      <td>07</td>\n",
       "      <td>655</td>\n",
       "      <td>1049</td>\n",
       "      <td>-197</td>\n",
       "    </tr>\n",
       "    <tr>\n",
       "      <th>14</th>\n",
       "      <td>David Kustoff</td>\n",
       "      <td>R</td>\n",
       "      <td>68.5%</td>\n",
       "      <td>Winner</td>\n",
       "      <td>Incumbent</td>\n",
       "      <td>Tennessee</td>\n",
       "      <td>08</td>\n",
       "      <td>1641217</td>\n",
       "      <td>999285</td>\n",
       "      <td>713832</td>\n",
       "    </tr>\n",
       "    <tr>\n",
       "      <th>15</th>\n",
       "      <td>Erika Stotts Pearson</td>\n",
       "      <td>D</td>\n",
       "      <td>29.5%</td>\n",
       "      <td>Not Winner</td>\n",
       "      <td>Not Incumbent</td>\n",
       "      <td>Tennessee</td>\n",
       "      <td>08</td>\n",
       "      <td>19070</td>\n",
       "      <td>15883</td>\n",
       "      <td>4137</td>\n",
       "    </tr>\n",
       "    <tr>\n",
       "      <th>16</th>\n",
       "      <td>Steve Cohen</td>\n",
       "      <td>D</td>\n",
       "      <td>77.4%</td>\n",
       "      <td>Winner</td>\n",
       "      <td>Incumbent</td>\n",
       "      <td>Tennessee</td>\n",
       "      <td>09</td>\n",
       "      <td>607570</td>\n",
       "      <td>457311</td>\n",
       "      <td>1216119</td>\n",
       "    </tr>\n",
       "    <tr>\n",
       "      <th>17</th>\n",
       "      <td>Charlotte Bergmann</td>\n",
       "      <td>R</td>\n",
       "      <td>20.1%</td>\n",
       "      <td>Not Winner</td>\n",
       "      <td>Not Incumbent</td>\n",
       "      <td>Tennessee</td>\n",
       "      <td>09</td>\n",
       "      <td>99147</td>\n",
       "      <td>100532</td>\n",
       "      <td>2566</td>\n",
       "    </tr>\n",
       "    <tr>\n",
       "      <th>18</th>\n",
       "      <td>Dennis Clark</td>\n",
       "      <td>I</td>\n",
       "      <td>1.6%</td>\n",
       "      <td>Not Winner</td>\n",
       "      <td>Not Incumbent</td>\n",
       "      <td>Tennessee</td>\n",
       "      <td>09</td>\n",
       "      <td>9991</td>\n",
       "      <td>9919</td>\n",
       "      <td>40</td>\n",
       "    </tr>\n",
       "  </tbody>\n",
       "</table>\n",
       "</div>"
      ],
      "text/plain": [
       "                       name party    vote      winner      incumbent  \\\n",
       "0         Diana Harshbarger     R   74.8%      Winner  Not Incumbent   \n",
       "1   Blair Nicole Walsingham     D   22.4%  Not Winner  Not Incumbent   \n",
       "2              Tim Burchett     R   67.7%      Winner      Incumbent   \n",
       "3               Renee Hoyos     D   31.0%  Not Winner  Not Incumbent   \n",
       "4         Chuck Fleischmann     R   67.3%      Winner      Incumbent   \n",
       "5                Meg Gorman     D   30.5%  Not Winner  Not Incumbent   \n",
       "6          Scott Desjarlais     R   66.7%      Winner      Incumbent   \n",
       "7          Christopher Hale     D   33.3%  Not Winner  Not Incumbent   \n",
       "8                Jim Cooper     D  100.0%      Winner      Incumbent   \n",
       "9                 John Rose     R   73.7%      Winner      Incumbent   \n",
       "10               Mark Green     R   69.9%      Winner      Incumbent   \n",
       "11           Kiran Sreepada     D   27.3%  Not Winner  Not Incumbent   \n",
       "12             Ronald Brown     I    2.2%  Not Winner  Not Incumbent   \n",
       "13          Scott Vieira Jr     I    0.6%  Not Winner  Not Incumbent   \n",
       "14            David Kustoff     R   68.5%      Winner      Incumbent   \n",
       "15     Erika Stotts Pearson     D   29.5%  Not Winner  Not Incumbent   \n",
       "16              Steve Cohen     D   77.4%      Winner      Incumbent   \n",
       "17       Charlotte Bergmann     R   20.1%  Not Winner  Not Incumbent   \n",
       "18             Dennis Clark     I    1.6%  Not Winner  Not Incumbent   \n",
       "\n",
       "        state district   raised    spent  cash_on_hand  \n",
       "0   Tennessee       01  2126946  1869100        257846  \n",
       "1   Tennessee       01   140209   134995          5215  \n",
       "2   Tennessee       02  1336276   878488        593678  \n",
       "3   Tennessee       02   812784   816793           210  \n",
       "4   Tennessee       03  1051653   381411       1880341  \n",
       "5   Tennessee       03    85843    77760          8083  \n",
       "6   Tennessee       04   331464   392499        302649  \n",
       "7   Tennessee       04   308731   302996          5735  \n",
       "8   Tennessee       05   936569  1332131        272934  \n",
       "9   Tennessee       06  1050429   625688        454375  \n",
       "10  Tennessee       07  1194960   935487        287889  \n",
       "11  Tennessee       07   206644   207191             0  \n",
       "12  Tennessee       07     1750        0          9006  \n",
       "13  Tennessee       07      655     1049          -197  \n",
       "14  Tennessee       08  1641217   999285        713832  \n",
       "15  Tennessee       08    19070    15883          4137  \n",
       "16  Tennessee       09   607570   457311       1216119  \n",
       "17  Tennessee       09    99147   100532          2566  \n",
       "18  Tennessee       09     9991     9919            40  "
      ]
     },
     "execution_count": 29,
     "metadata": {},
     "output_type": "execute_result"
    }
   ],
   "source": [
    "candidate_df"
   ]
  },
  {
   "cell_type": "code",
   "execution_count": 30,
   "metadata": {},
   "outputs": [],
   "source": [
    "URL2 = 'https://www.britannica.com/topic/United-States-House-of-Representatives-Seats-by-State-1787120'\n",
    "\n",
    "soup_house_rep = BS(requests.get(URL2).text)"
   ]
  },
  {
   "cell_type": "code",
   "execution_count": 31,
   "metadata": {},
   "outputs": [],
   "source": [
    "house_rep = pd.read_html(str(soup_house_rep.findAll('table')))[0].drop(index=50)"
   ]
  },
  {
   "cell_type": "code",
   "execution_count": 32,
   "metadata": {},
   "outputs": [
    {
     "data": {
      "text/html": [
       "<div>\n",
       "<style scoped>\n",
       "    .dataframe tbody tr th:only-of-type {\n",
       "        vertical-align: middle;\n",
       "    }\n",
       "\n",
       "    .dataframe tbody tr th {\n",
       "        vertical-align: top;\n",
       "    }\n",
       "\n",
       "    .dataframe thead th {\n",
       "        text-align: right;\n",
       "    }\n",
       "</style>\n",
       "<table border=\"1\" class=\"dataframe\">\n",
       "  <thead>\n",
       "    <tr style=\"text-align: right;\">\n",
       "      <th></th>\n",
       "      <th>state</th>\n",
       "      <th>representatives</th>\n",
       "    </tr>\n",
       "  </thead>\n",
       "  <tbody>\n",
       "    <tr>\n",
       "      <th>0</th>\n",
       "      <td>Alabama</td>\n",
       "      <td>7</td>\n",
       "    </tr>\n",
       "    <tr>\n",
       "      <th>1</th>\n",
       "      <td>Alaska</td>\n",
       "      <td>1</td>\n",
       "    </tr>\n",
       "    <tr>\n",
       "      <th>2</th>\n",
       "      <td>Arizona</td>\n",
       "      <td>9</td>\n",
       "    </tr>\n",
       "    <tr>\n",
       "      <th>3</th>\n",
       "      <td>Arkansas</td>\n",
       "      <td>4</td>\n",
       "    </tr>\n",
       "    <tr>\n",
       "      <th>4</th>\n",
       "      <td>California</td>\n",
       "      <td>53</td>\n",
       "    </tr>\n",
       "  </tbody>\n",
       "</table>\n",
       "</div>"
      ],
      "text/plain": [
       "        state  representatives\n",
       "0     Alabama                7\n",
       "1      Alaska                1\n",
       "2     Arizona                9\n",
       "3    Arkansas                4\n",
       "4  California               53"
      ]
     },
     "execution_count": 32,
     "metadata": {},
     "output_type": "execute_result"
    }
   ],
   "source": [
    "house_rep.head()"
   ]
  },
  {
   "cell_type": "code",
   "execution_count": 33,
   "metadata": {},
   "outputs": [],
   "source": [
    "URL3 = 'https://www.infoplease.com/us/postal-information/state-abbreviations-and-state-postal-codes'\n",
    "\n",
    "soup_stateabbr = BS(requests.get(URL3).text)"
   ]
  },
  {
   "cell_type": "code",
   "execution_count": 34,
   "metadata": {},
   "outputs": [
    {
     "name": "stdout",
     "output_type": "stream",
     "text": [
      "<!DOCTYPE html>\n",
      "<html dir=\"ltr\" lang=\"en\" prefix=\"og: https://ogp.me/ns#\"><head> <link as=\"image\" href=\"https://www.infoplease.com/themes/ip/images/logo-white.svg\" rel=\"preload\"/> <link as=\"image\" href=\"https://www.infoplease.com/themes/ip/images/search.png\" rel=\"preload\"/> <link as=\"image\" href=\"https://www.infoplease.com/themes/ip/images/mag-glass.svg\" rel=\"preload\"/> <script> !function(r,i,t){var u,o=/^data-(.+)/,a='IntersectionObserver',c=/p/.test(i.readyState),s=[],f=s.slice,l='lazied',e='load',n='pageshow',d='forEach',h='hasAttribute',m='shift';function v(e){i.head.appendChild(e)}function p(e,n){f.call(e.attributes)[d](n)}function y(e,n,t,o){return o=(o=n?i.getElementById(n):o)||i.createElement(e),n&&(o.id=n),t&&(o.onload=t),o}function b(e,n){return f.call((n||i).querySelectorAll(e))}function I(t){b('source',t)[d](I),p(t,function(e,n){(n=o.exec(e.name))&&(t[n[1]]=e.value)}),e in t&&t[e]()}function g(e){u(function(o){o=b(e||'[type=deferjs]'),function e(n,t){(n=o[m]())&&(n.parentNode.removeChild(n),(t=y(n.nodeName)).text=n.text,p(n,function(e){'type'!=e.name&&(t[e.name]=e.value)}),t.src&&!t[h]('async')?(t.onload=t.onerror=e,v(t)):(v(t),e()))}()})}(u=function(e,n){c?t(e,n):s.push(e,n)}).all=g,u.js=function(n,t,e,o){u(function(e){(e=y('SCRIPT',t,o)).src=n,v(e)},e)},u.css=function(n,t,e,o){u(function(e){(e=y('LINK',t,o)).rel='stylesheet',e.href=n,v(e)},e)},u.dom=function(e,n,t,o,i){function c(e){o&&!1===o(e)||(I(e),t&&(e.className+=' '+t))}u(function(t){t=a in r&&new r[a](function(e){e[d](function(e,n){e.isIntersecting&&(n=e.target)&&(t.unobserve(n),c(n))})},i),b(e||'[data-src]')[d](function(e){e[h](l)||(e.setAttribute(l,''),t?t.observe(e):c(e))})},n)},u.reveal=I,r.Defer=u,r.addEventListener('on'+n in r?n:e,function(){for(g();s[0];t(s[m](),s[m]()))c=1})}(this,document,setTimeout); </script> <!-- PLACE AFTER OPENING HEAD TAG: Header Bidding Script --> <link crossorigin=\"\" href=\"https://config.playwire.com\" rel=\"preconnect\"/> <link crossorigin=\"\" href=\"https://cdn.intergi.com\" rel=\"preconnect\"/> <link crossorigin=\"\" href=\"https://cdn.intergient.com\" rel=\"preconnect\"/> <link crossorigin=\"\" href=\"https://securepubads.g.doubleclick.net\" rel=\"preconnect\"/> <link crossorigin=\"\" href=\"https://cdn.playwire.com\" rel=\"preconnect\"/> <link crossorigin=\"\" href=\"https://cdn.video.playwire.com\" rel=\"preconnect\"/> <link crossorigin=\"\" href=\"https://cdn.video.playwire.com\" rel=\"preconnect\"/> <link crossorigin=\"\" href=\"https://z.moatads.com\" rel=\"preconnect\"/> <!-- Playwire code ends --> <script> var current_date = 2022-10-08; var current_year = 2022; var current_day = 08; var current_month = 10; </script> <meta charset=\"utf-8\"/><script> var zflag_nid=\"305\", zflag_cid=\"48112/41562/1\", zflag_sid=\"4677\", zflag_width=\"1\", zflag_height=\"1\", zflag_sz=\"15\";</script><meta content=\"no-referrer\" name=\"referrer\"/><meta content=\"The post office advises people to write out full state names when sending a letter. But, especially in the age of texting, people like to abbreviate. Here are the recognized abbreviations for each state so your mail gets to the right place.\" name=\"description\"/><meta content=\"InfoPlease\" property=\"og:site_name\"/><meta content=\"https://www.infoplease.com/us/postal-information/state-abbreviations-and-state-postal-codes\" property=\"og:url\"/><meta content=\"State Abbreviations\" property=\"og:title\"/><meta content=\"The post office advises people to write out full state names when sending a letter. But, especially in the age of texting, people like to abbreviate. Here are the recognized abbreviations for each state so your mail gets to the right place.\" property=\"og:description\"/><meta content=\"https://www.infoplease.com/themes/ip/images/og_logo_pos.jpg\" property=\"og:image\"/><meta content=\"2021-09-18T06:44:08-04:00\" property=\"og:updated_time\"/><meta content=\"Drupal 9 (https://www.drupal.org)\" name=\"Generator\"/><meta content=\"width\" name=\"MobileOptimized\"/><meta content=\"true\" name=\"HandheldFriendly\"/><meta content=\"width=device-width, initial-scale=1.0\" name=\"viewport\"/><style>div#sliding-popup, div#sliding-popup .eu-cookie-withdraw-banner, .eu-cookie-withdraw-tab {background: #0779bf} div#sliding-popup.eu-cookie-withdraw-wrapper { background: transparent; } #sliding-popup h1, #sliding-popup h2, #sliding-popup h3, #sliding-popup p, #sliding-popup label, #sliding-popup div, .eu-cookie-compliance-more-button, .eu-cookie-compliance-secondary-button, .eu-cookie-withdraw-tab { color: #ffffff;} .eu-cookie-withdraw-tab { border-color: #ffffff;}</style><script type=\"application/ld+json\">{ \"@context\": \"https://schema.org\", \"@graph\": [ { \"@type\": \"Article\", \"headline\": \"State Abbreviations\", \"name\": \"State Abbreviations\", \"description\": \"The post office advises people to write out full state names when sending a letter. But, especially in the age of texting, people like to abbreviate. Here are the recognized abbreviations for each state so your mail gets to the right place.\", \"image\": { \"@type\": \"ImageObject\", \"representativeOfPage\": \"True\", \"url\": \"https://www.infoplease.com/themes/ip/logo.png\", \"width\": \"2582\", \"height\": \"1722\" }, \"datePublished\": \"2021-09-18T06:44:08-0400\", \"dateModified\": \"2022-04-08T06:40:50-0400\", \"author\": { \"@type\": \"Organization\", \"@id\": \"https://www.infoplease.com\", \"name\": \"Infoplease\" }, \"publisher\": { \"@type\": \"Organization\", \"@id\": \"https://www.infoplease.com\", \"name\": \"Infoplease\", \"logo\": { \"@type\": \"ImageObject\", \"url\": \"https://www.infoplease.com/themes/ip/logo.png\", \"width\": \"280\", \"height\": \"100\" } }, \"articleBody\": \"From AL to WYThe post office advises people to write out full state names when sending a letter. But, especially in the age of texting, people like to abbreviate. Here are the recognized abbreviations for each state name, as well as their official two-letter postal code. If you think you know them all, try our postal codes quiz.State Name/DistrictPostal AbbreviationPostal CodeAlabama Ala.ALAlaska AlaskaAKArizona Ariz.AZArkansas Ark.ARCalifornia Calif.CAColorado Colo.COConnecticut Conn.CTDelaware Del.DEDistrict of ColumbiaD.C.DCFlorida Fla.FLGeorgia Ga.GAHawaii HawaiiHIIdaho IdahoIDIllinois Ill.ILIndiana Ind.INIowa IowaIAKansas Kans.KSKentucky Ky.KYLouisiana La.LAMaine MaineMEMaryland Md.MDMassachusetts Mass.MAMichigan Mich.MIMinnesota Minn.MNMississippi Miss.MSMissouri Mo.MOMontana Mont.MTNebraska Nebr.NENevada Nev.NVNew Hampshire N.H.NHNew Jersey N.J.NJNew Mexico N.M.NMNew York N.Y.NYNorth Carolina N.C.NCNorth Dakota N.D.NDOhio OhioOHOklahoma Okla.OKOregon Ore.ORPennsylvania Pa.PARhode Island R.I.RISouth Carolina S.C.SCSouth Dakota S.D.SDTennessee Tenn.TNTexas Tex.TXUtah UtahUTVermont Vt.VTVirginia Va.VAWashington Wash.WAWest Virginia W.Va.WVWisconsin Wis.WIWyoming Wyo.WY Territory/AssociateAbbreviationPostal CodeAmerican Samoa ASGuamGuamGUMarshall Islands MHMicronesia FMNorthern Mariana Islands MPPalau PWPuerto RicoP.R.PRVirgin Islands VIThe History of U.S. Postal Codes  The history of the postal service in the U.S. is long, complicated, and supremely important for westward expansion. But, a lot of people might not realize that USPS postal codes are actually quite recent. What\\u0027s more, the two-letter abbreviations that people are familiar with today actually came after the invention of ZIP codes.An Abbreviated Early HistoryThe story starts in 1831–well before the states were given codes–with that year\\u0027s Table of Post Offices in the United States. The Table was essential for people to figure out where they could send their mail and where it could be received back when they were expected to retrieve it themselves. In 1831 the Post Office Department included a list of acceptable state abbreviations to use when addressing letters. They preferred that people just write the full names, but people enjoyed the quicker and easier way of writing (just like today).The Beginnings of the Modern Mail ServicePresident Abraham Lincoln (a former postman himself) was persuaded to begin free letter shipping in cities in 1863. This was the origin of the modern system of home letter deliveries. As mail carriers began taking more complicated and longer routes through the cities, the number of carriers grew. Due to the growing workforce, the admission of new states, and more interstate mail thanks to the likes of the Pony Express, the government sent out a new, bigger list of abbreviations in 1874. These would be the default codes until World War II.When the war called away huge numbers of the country\\u0027s young men, the post was seriously understaffed. The people who were left also weren\\u0027t as familiar with the parts of town they didn\\u0027t work in prior. The post offices began breaking down cities into broad numbered regions (like Birmingham 7, etc.) to narrow the field for carriers. This system proved effective, and became de facto practice up until the release of the Postal Bulletin for June, 1963. The bulletin introduced the ZIP Code as a fast and easy way of organizing mail. They also released new shorter state abbreviations to make room for ZIP codes on letters.The Current SystemBut what about the postal codes? That same year, in October, came Publication 59. With it came the codes we have today. They were originally intended as optional tags for businesses, but became standard for everyone over time. Since 1963 there has been only one change to the postal codes; in 1969, at the request of the Canadian government, the code for Nebraska was changed from NB to NE, to avoid confusion between Nebraska and New Brunswick.In addition to the fifty states and D.C., the United States also holds several overseas territories. The populated ones have their own postal codes, but only the two most populous (Puerto Rico and Guam) have abbreviations. Some former territories still maintain postal codes, as they are considered free associates of the United States. The Marshall Islands, Micronesia, and Palau are all free associates. These are included on a second table below.Source: United States Postal Service\", \"mainEntityOfPage\": \"https://www.infoplease.com/us/postal-information/state-abbreviations-and-state-postal-codes\" }, { \"@type\": \"WebPage\", \"breadcrumb\": [] } ]\n",
      "}</script><style>.text-align-center{text-align:center}.text-align-justify{text-align:justify}.align-center{display:block;margin-right:auto;margin-left:auto}.hidden{display:none}.visually-hidden{position:absolute!important;overflow:hidden;clip:rect(1px,1px,1px,1px);width:1px;height:1px;word-wrap:normal}html{font-size:100%}img{max-width:100%;height:auto}.navbar-we-mega-menu .we-mega-menu-row{margin-left:-1.06383%;margin-right:-1.06383%;display:-webkit-flex;display:flex;-webkit-flex-wrap:wrap;flex-wrap:wrap}.navbar-we-mega-menu .we-mega-menu-row>*{-webkit-box-flex:0;-webkit-flex:0 0 97.87234%;-ms-flex:0 0 97.87234%;flex:0 0 97.87234%;max-width:97.87234%;display:-webkit-flex;display:flex;-webkit-flex-direction:column;flex-direction:column;position:relative;margin-left:1.06383%;margin-right:1.06383%}.navbar-we-mega-menu .span3{-webkit-box-flex:0;-webkit-flex:0 0 22.87234%;-ms-flex:0 0 22.87234%;flex:0 0 22.87234%;max-width:22.87234%}.navbar-we-mega-menu .span6{-webkit-box-flex:0;-webkit-flex:0 0 47.87234%;-ms-flex:0 0 47.87234%;flex:0 0 47.87234%;max-width:47.87234%}.navbar-we-mega-menu .span12{-webkit-box-flex:0;-webkit-flex:0 0 97.87234%;-ms-flex:0 0 97.87234%;flex:0 0 97.87234%;max-width:97.87234%}@media (min-width:992px){.navbar-we-mega-menu .dropdown-menu{min-width:initial;background-color:transparent;position:relative;-moz-border-radius:0;-webkit-border-radius:0;border-radius:0}.navbar-we-mega-menu .nav-tabs{border-bottom:0 none}.navbar-we-mega-menu .we-mega-menu-group>.we-mega-menu-submenu{display:block!important;position:static;margin:0!important;padding:0;border:0 none!important;-moz-box-shadow:none!important;-webkit-box-shadow:none!important;box-shadow:none!important;min-width:initial;visibility:visible!important;opacity:1!important}.navbar-we-mega-menu .type-of-block{font-weight:400}.navbar-we-mega-menu .type-of-block h2{margin-top:0;margin-bottom:.625rem;font-size:.875rem;text-transform:uppercase;font-weight:700}.navbar-we-mega-menu .type-of-block a{color:#666;outline:0;font-weight:400}.we-mega-menu-ul{position:relative;margin:0;border-bottom:0 none;padding:0}.we-mega-menu-ul .dropdown-menu{margin-top:0}.we-mega-menu-ul .we-mega-menu-li{border:0;padding:0;-webkit-box-shadow:none;-moz-box-shadow:none;box-shadow:none;position:static}.we-mega-menu-ul .we-mega-menu-li.dropdown-menu .we-mega-menu-submenu{visibility:hidden;opacity:0}.we-mega-menu-ul .dropdown-menu>a,.we-mega-menu-ul .dropdown-menu>span{position:relative}.we-mega-menu-ul .dropdown-menu>a:after,.we-mega-menu-ul .dropdown-menu>a:before,.we-mega-menu-ul .dropdown-menu>span:after,.we-mega-menu-ul .dropdown-menu>span:before{content:'';position:absolute;right:.9375rem;top:50%;margin-top:-.3125rem;width:.6875rem;height:.6875rem;background-size:contain;background-position:center;background-repeat:no-repeat;display:inline-block}.we-mega-menu-ul .dropdown-menu>a:after,.we-mega-menu-ul .dropdown-menu>span:after{opacity:0}.we-mega-menu-ul .dropdown-menu .dropdown-menu>a:after,.we-mega-menu-ul .dropdown-menu .dropdown-menu>span:after{-moz-transform:rotate(-90deg);-ms-transform:rotate(-90deg);-webkit-transform:rotate(-90deg);transform:rotate(-90deg);position:absolute;right:0;top:50%;margin-top:-.3125rem}.we-mega-menu-col{min-height:1.875rem;margin-top:.3125rem;margin-bottom:.3125rem}.we-mega-menu-submenu{position:absolute;z-index:99;min-width:12.5rem}.we-mega-menu-submenu li.we-mega-menu-li{display:block;float:none}.we-mega-menu-submenu li.we-mega-menu-li:last-child{margin-bottom:0}.we-mega-menu-submenu ul{margin:0}.we-mega-menu-submenu .we-mega-menu-submenu{top:0;left:100%;margin:0;min-width:12.5rem}}@media (min-width:992px){.navbar-we-mega-menu{background-color:#eff0f1;border:0 none;padding:0;-moz-border-radius:0;-webkit-border-radius:0;border-radius:0;min-height:inherit}.navbar-we-mega-menu>.container-fluid{padding-left:0;padding-right:0}.we-mega-menu-submenu .we-mega-menu-submenu{margin-left:0}.we-mega-menu-ul{display:-webkit-flex;display:flex}.we-mega-menu-ul>.we-mega-menu-li{display:-webkit-flex;display:flex}.we-mega-menu-ul>.we-mega-menu-li .we-megamenu-nolink,.we-mega-menu-ul>.we-mega-menu-li>a{display:-webkit-flex;display:flex;-webkit-flex-wrap:wrap;flex-wrap:wrap;-webkit-align-items:center;align-items:center;-webkit-flex:1 1 auto;flex:1 1 auto}.we-mega-menu-ul .dropdown-menu{top:auto;position:relative}.we-mega-menu-ul .dropdown-menu .dropdown-menu:first-child>.we-mega-menu-submenu{margin-top:-1rem}.we-mega-menu-ul>.we-mega-menu-li{margin:0;border-left:1px solid rgba(0,0,0,.1)}.we-mega-menu-ul>.we-mega-menu-li>a{background-color:#eff0f1;border:0 none;-moz-border-radius:0;-webkit-border-radius:0;border-radius:0;margin-right:0;color:#666;font-size:.8125rem;font-weight:700;text-transform:uppercase;padding:1.125rem 1.5625rem 1.125rem 1.5625rem}.we-mega-menu-ul>.we-mega-menu-li>a:before{opacity:1}.we-mega-menu-ul>.we-mega-menu-li>a:after{opacity:0}.we-mega-menu-ul>.we-mega-menu-li:first-child{border-left:0 none}.we-mega-menu-ul>.we-mega-menu-li>span{background-color:#eff0f1;border:0 none;-moz-border-radius:0;-webkit-border-radius:0;border-radius:0;margin-right:0;color:#666;font-size:.8125rem;font-weight:700;text-transform:uppercase;padding:1.125rem 1.5625rem 1.125rem 1.5625rem}.we-mega-menu-ul>.we-mega-menu-li>span:before{opacity:1}.we-mega-menu-ul>.we-mega-menu-li>span:after{opacity:0}.we-mega-menu-ul>.dropdown-menu{z-index:21}.we-mega-menu-ul>.dropdown-menu>span{padding-right:2.375rem}.we-mega-menu-ul>.dropdown-menu:first-child>.we-mega-menu-submenu{margin-left:0}.navbar-we-mega-menu .we-mega-menu-group>.we-mega-menu-submenu{-moz-animation-name:initial!important;-webkit-animation-name:initial!important;animation-name:initial!important;padding:0}.navbar-we-mega-menu .we-mega-menu-group>.we-mega-menu-submenu li:first-child>a{padding-top:.5rem}.navbar-we-mega-menu .we-mega-menu-col>*{padding:0}.we-mega-menu-col{border:0 none;background-color:transparent}.we-mega-menu-group .we-mega-menu-col{margin-top:0;margin-bottom:0}.we-mega-menu-submenu>.we-mega-menu-submenu-inner{min-height:11.25rem}.we-mega-menu-submenu li.we-mega-menu-li a{padding-top:.5rem;padding-bottom:.5rem}.we-mega-menu-submenu li.we-mega-menu-li:first-child>a,.we-mega-menu-submenu li.we-mega-menu-li:first-child>span{padding-top:0}.we-mega-menu-submenu li.we-mega-menu-li:first-child>a:after,.we-mega-menu-submenu li.we-mega-menu-li:first-child>a:before,.we-mega-menu-submenu li.we-mega-menu-li:first-child>span:after,.we-mega-menu-submenu li.we-mega-menu-li:first-child>span:before{margin-top:-.5625rem}}@media (max-width:991px){body{padding-left:0;right:0;position:relative;margin-right:0}.region-we-mega-menu{background-color:#343a40;padding:13px 15px;margin-bottom:20px;-moz-border-radius:3px;-webkit-border-radius:3px;border-radius:3px;display:-webkit-flex;display:flex;-webkit-align-items:center;align-items:center;-webkit-justify-content:flex-start;justify-content:flex-start}.navbar-toggle{display:block;z-index:20;background:0 0;border:0 none;box-shadow:none;display:inline-block;float:none;padding:0;margin:0}.navbar-toggle .icon-bar{background-color:#fff}.navbar-we-mega-menu .we-mega-menu-row{margin-left:0;margin-right:0;display:block;max-width:inherit}.navbar-we-mega-menu .we-mega-menu-row>*{display:block;margin-left:0;margin-right:0;max-width:inherit}.navbar-we-mega-menu .type-of-block{display:none}.we-mega-menu-submenu{width:auto!important}.we-mega-menu-ul>.dropdown-menu>.we-mega-menu-submenu{display:none}.navbar-we-mega-menu.navbar{background:#333;bottom:0;display:none;height:100%;overflow-y:auto;position:fixed;right:-250px;width:250px;top:0;z-index:1000;-moz-border-radius:0;-webkit-border-radius:0;border-radius:0;border:0 none}.navbar-we-mega-menu.navbar .container-fluid{padding:0;position:static;width:auto}.navbar-we-mega-menu.navbar .nav-tabs>li>.we-megamenu-nolink,.navbar-we-mega-menu.navbar .nav-tabs>li>a{-moz-border-radius:0;-webkit-border-radius:0;border-radius:0;margin-right:0;border:0 none;position:relative}.navbar-we-mega-menu.navbar .nav-tabs .nav-tabs>li>a{border:0 none;background-color:transparent;-moz-box-shadow:inherit;-webkit-box-shadow:inherit;box-shadow:inherit}.navbar-we-mega-menu.navbar .dropdown-menu{position:static;min-width:inherit;padding:0;margin:0;background-color:transparent;border:0 none;-moz-box-shadow:inherit;-webkit-box-shadow:inherit;box-shadow:inherit;-moz-border-radius:0;-webkit-border-radius:0;border-radius:0}.navbar-we-mega-menu.navbar .dropdown-menu>.we-megamenu-nolink,.navbar-we-mega-menu.navbar .dropdown-menu>a{padding-right:1.875rem}.navbar-we-mega-menu.navbar .dropdown-menu>.we-megamenu-nolink:after,.navbar-we-mega-menu.navbar .dropdown-menu>a:after{content:'\\25bc';display:inline-block;text-rendering:auto;-webkit-font-smoothing:antialiased;-moz-osx-font-smoothing:grayscale;position:absolute;right:15px;margin-top:-1px;font-size:16px}.navbar-we-mega-menu.navbar .nav-tabs .dropdown-menu{margin-top:0}.navbar-we-mega-menu.navbar .we-mega-menu-ul>li>.we-megamenu-nolink,.navbar-we-mega-menu.navbar .we-mega-menu-ul>li>a{padding-left:15px;padding-right:15px;border-top:1px solid rgba(0,0,0,.3);text-shadow:0 1px 0 rgba(0,0,0,.5);-moz-box-shadow:0 1px 0 rgba(255,255,255,.05) inset;-webkit-box-shadow:0 1px 0 rgba(255,255,255,.05) inset;box-shadow:0 1px 0 rgba(255,255,255,.05) inset}.navbar-we-mega-menu.navbar ul{padding:0;margin:0;border:0 none}.navbar-we-mega-menu.navbar ul .we-megamenu-nolink,.navbar-we-mega-menu.navbar ul a{display:block;color:#ccc;padding-left:0;padding-right:0;padding-top:10px;padding-bottom:10px;text-decoration:none}.navbar-we-mega-menu.navbar ul>li{display:block;float:none;list-style:none;margin:0;padding:0}.navbar-we-mega-menu.navbar ul>li:last-child{border-bottom:0}.navbar-we-mega-menu.navbar ul>li ul{padding-left:30px;padding-bottom:10px;padding-top:10px}.navbar-we-mega-menu.navbar ul>li ul li{border-bottom:0}.navbar-we-mega-menu.navbar ul>li ul li .we-megamenu-nolink,.navbar-we-mega-menu.navbar ul>li ul li a{padding-left:0;padding-right:0;padding-top:7px;padding-bottom:7px;line-height:1}}.voice-search-block{margin-right:6px;position:relative;width:20px;height:20px;display:inline-block!important;margin-left:-24px}.voice-search-block img{position:absolute;bottom:0;top:5px;width:15px}#custom-core-share .share-buttons{list-style-type:none;padding:0;width:40px;position:fixed;z-index:9;right:0;top:35%;bottom:auto}#custom-core-share .share-buttons a{display:block;height:40px;width:40px;justify-content:center;align-items:center}#custom-core-share .share-buttons a img{width:30px;margin:5px}#custom-core-share .share-buttons a.facebook{background:#3b5998}#custom-core-share .share-buttons a.twitter{background:#00acee}#custom-core-share .share-buttons a.email{background:#7d7d7d}#custom-core-share .share-buttons a.print{background:#515151}#custom-core-share .share-buttons a.gbookmark{background:#4285f4}html{font-family:sans-serif;-ms-text-size-adjust:100%;-webkit-text-size-adjust:100%}body{margin:0}article,aside,header,main,nav,section{display:block}a{background-color:transparent}h1{font-size:2em;margin:.67em 0}img{border:0}button,input{color:inherit;font:inherit;margin:0}button{overflow:visible}button{text-transform:none}button,input[type=submit]{-webkit-appearance:button}button::-moz-focus-inner,input::-moz-focus-inner{border:0;padding:0}input{line-height:normal}*{-webkit-box-sizing:border-box;-moz-box-sizing:border-box;box-sizing:border-box}:after,:before{-webkit-box-sizing:border-box;-moz-box-sizing:border-box;box-sizing:border-box}html{font-size:10px}body{font-family:Arial,Helvetica,Helvetica Neue,sans-serif;font-size:13px;line-height:1.42857;color:#333;background-color:#fff}button,input{font-family:inherit;font-size:inherit;line-height:inherit}a{color:#2d88ac;text-decoration:none}img{vertical-align:middle}h1,h2{font-family:inherit;line-height:1.1;color:inherit}h1{margin-top:0;margin-bottom:0}h2{margin-top:18px;margin-bottom:9px}h1{font-size:21px}h2{font-size:18px}p{margin:0 0 9px}ol,ul{margin-top:0;margin-bottom:9px}ul ul{margin-bottom:0}.container{margin-right:auto;margin-left:auto;padding-left:15px;padding-right:15px}.container:after,.container:before{content:\" \";display:table}.container:after{clear:both}@media (min-width:768px){.container{width:750px}}@media (min-width:992px){.container{width:970px}}@media (min-width:1200px){.container{width:1000px}}.container-fluid{margin-right:auto;margin-left:auto;padding-left:15px;padding-right:15px}.container-fluid:after,.container-fluid:before{content:\" \";display:table}.container-fluid:after{clear:both}.row{margin-left:-15px;margin-right:-15px}.row:after,.row:before{content:\" \";display:table}.row:after{clear:both}.col-lg-1,.col-lg-10,.col-lg-11,.col-lg-12,.col-lg-2,.col-lg-3,.col-lg-4,.col-lg-5,.col-lg-6,.col-lg-7,.col-lg-8,.col-lg-9,.col-md-1,.col-md-10,.col-md-11,.col-md-12,.col-md-2,.col-md-3,.col-md-4,.col-md-5,.col-md-6,.col-md-7,.col-md-8,.col-md-9,.col-sm-1,.col-sm-10,.col-sm-11,.col-sm-12,.col-sm-2,.col-sm-3,.col-sm-4,.col-sm-5,.col-sm-6,.col-sm-7,.col-sm-8,.col-sm-9,.col-xs-1,.col-xs-10,.col-xs-11,.col-xs-12,.col-xs-2,.col-xs-3,.col-xs-4,.col-xs-5,.col-xs-6,.col-xs-7,.col-xs-8,.col-xs-9{position:relative;min-height:1px;padding-left:15px;padding-right:15px}.col-xs-1,.col-xs-10,.col-xs-11,.col-xs-12,.col-xs-2,.col-xs-3,.col-xs-4,.col-xs-5,.col-xs-6,.col-xs-7,.col-xs-8,.col-xs-9{float:left}.col-xs-1{width:8.33333%}.col-xs-2{width:16.66667%}.col-xs-3{width:25%}.col-xs-4{width:33.33333%}.col-xs-5{width:41.66667%}.col-xs-6{width:50%}.col-xs-7{width:58.33333%}.col-xs-8{width:66.66667%}.col-xs-9{width:75%}.col-xs-10{width:83.33333%}.col-xs-11{width:91.66667%}.col-xs-12{width:100%}.col-xs-pull-0{right:auto}.col-xs-pull-1{right:8.33333%}.col-xs-pull-2{right:16.66667%}.col-xs-pull-3{right:25%}.col-xs-pull-4{right:33.33333%}.col-xs-pull-5{right:41.66667%}.col-xs-pull-6{right:50%}.col-xs-pull-7{right:58.33333%}.col-xs-pull-8{right:66.66667%}.col-xs-pull-9{right:75%}.col-xs-pull-10{right:83.33333%}.col-xs-pull-11{right:91.66667%}.col-xs-pull-12{right:100%}.col-xs-push-0{left:auto}.col-xs-push-1{left:8.33333%}.col-xs-push-2{left:16.66667%}.col-xs-push-3{left:25%}.col-xs-push-4{left:33.33333%}.col-xs-push-5{left:41.66667%}.col-xs-push-6{left:50%}.col-xs-push-7{left:58.33333%}.col-xs-push-8{left:66.66667%}.col-xs-push-9{left:75%}.col-xs-push-10{left:83.33333%}.col-xs-push-11{left:91.66667%}.col-xs-push-12{left:100%}.col-xs-offset-0{margin-left:0}.col-xs-offset-1{margin-left:8.33333%}.col-xs-offset-2{margin-left:16.66667%}.col-xs-offset-3{margin-left:25%}.col-xs-offset-4{margin-left:33.33333%}.col-xs-offset-5{margin-left:41.66667%}.col-xs-offset-6{margin-left:50%}.col-xs-offset-7{margin-left:58.33333%}.col-xs-offset-8{margin-left:66.66667%}.col-xs-offset-9{margin-left:75%}.col-xs-offset-10{margin-left:83.33333%}.col-xs-offset-11{margin-left:91.66667%}.col-xs-offset-12{margin-left:100%}@media (min-width:768px){.col-sm-1,.col-sm-10,.col-sm-11,.col-sm-12,.col-sm-2,.col-sm-3,.col-sm-4,.col-sm-5,.col-sm-6,.col-sm-7,.col-sm-8,.col-sm-9{float:left}.col-sm-1{width:8.33333%}.col-sm-2{width:16.66667%}.col-sm-3{width:25%}.col-sm-4{width:33.33333%}.col-sm-5{width:41.66667%}.col-sm-6{width:50%}.col-sm-7{width:58.33333%}.col-sm-8{width:66.66667%}.col-sm-9{width:75%}.col-sm-10{width:83.33333%}.col-sm-11{width:91.66667%}.col-sm-12{width:100%}.col-sm-pull-0{right:auto}.col-sm-pull-1{right:8.33333%}.col-sm-pull-2{right:16.66667%}.col-sm-pull-3{right:25%}.col-sm-pull-4{right:33.33333%}.col-sm-pull-5{right:41.66667%}.col-sm-pull-6{right:50%}.col-sm-pull-7{right:58.33333%}.col-sm-pull-8{right:66.66667%}.col-sm-pull-9{right:75%}.col-sm-pull-10{right:83.33333%}.col-sm-pull-11{right:91.66667%}.col-sm-pull-12{right:100%}.col-sm-push-0{left:auto}.col-sm-push-1{left:8.33333%}.col-sm-push-2{left:16.66667%}.col-sm-push-3{left:25%}.col-sm-push-4{left:33.33333%}.col-sm-push-5{left:41.66667%}.col-sm-push-6{left:50%}.col-sm-push-7{left:58.33333%}.col-sm-push-8{left:66.66667%}.col-sm-push-9{left:75%}.col-sm-push-10{left:83.33333%}.col-sm-push-11{left:91.66667%}.col-sm-push-12{left:100%}.col-sm-offset-0{margin-left:0}.col-sm-offset-1{margin-left:8.33333%}.col-sm-offset-2{margin-left:16.66667%}.col-sm-offset-3{margin-left:25%}.col-sm-offset-4{margin-left:33.33333%}.col-sm-offset-5{margin-left:41.66667%}.col-sm-offset-6{margin-left:50%}.col-sm-offset-7{margin-left:58.33333%}.col-sm-offset-8{margin-left:66.66667%}.col-sm-offset-9{margin-left:75%}.col-sm-offset-10{margin-left:83.33333%}.col-sm-offset-11{margin-left:91.66667%}.col-sm-offset-12{margin-left:100%}}@media (min-width:992px){.col-md-1,.col-md-10,.col-md-11,.col-md-12,.col-md-2,.col-md-3,.col-md-4,.col-md-5,.col-md-6,.col-md-7,.col-md-8,.col-md-9{float:left}.col-md-1{width:8.33333%}.col-md-2{width:16.66667%}.col-md-3{width:25%}.col-md-4{width:33.33333%}.col-md-5{width:41.66667%}.col-md-6{width:50%}.col-md-7{width:58.33333%}.col-md-8{width:66.66667%}.col-md-9{width:75%}.col-md-10{width:83.33333%}.col-md-11{width:91.66667%}.col-md-12{width:100%}.col-md-pull-0{right:auto}.col-md-pull-1{right:8.33333%}.col-md-pull-2{right:16.66667%}.col-md-pull-3{right:25%}.col-md-pull-4{right:33.33333%}.col-md-pull-5{right:41.66667%}.col-md-pull-6{right:50%}.col-md-pull-7{right:58.33333%}.col-md-pull-8{right:66.66667%}.col-md-pull-9{right:75%}.col-md-pull-10{right:83.33333%}.col-md-pull-11{right:91.66667%}.col-md-pull-12{right:100%}.col-md-push-0{left:auto}.col-md-push-1{left:8.33333%}.col-md-push-2{left:16.66667%}.col-md-push-3{left:25%}.col-md-push-4{left:33.33333%}.col-md-push-5{left:41.66667%}.col-md-push-6{left:50%}.col-md-push-7{left:58.33333%}.col-md-push-8{left:66.66667%}.col-md-push-9{left:75%}.col-md-push-10{left:83.33333%}.col-md-push-11{left:91.66667%}.col-md-push-12{left:100%}.col-md-offset-0{margin-left:0}.col-md-offset-1{margin-left:8.33333%}.col-md-offset-2{margin-left:16.66667%}.col-md-offset-3{margin-left:25%}.col-md-offset-4{margin-left:33.33333%}.col-md-offset-5{margin-left:41.66667%}.col-md-offset-6{margin-left:50%}.col-md-offset-7{margin-left:58.33333%}.col-md-offset-8{margin-left:66.66667%}.col-md-offset-9{margin-left:75%}.col-md-offset-10{margin-left:83.33333%}.col-md-offset-11{margin-left:91.66667%}.col-md-offset-12{margin-left:100%}}@media (min-width:1200px){.col-lg-1,.col-lg-10,.col-lg-11,.col-lg-12,.col-lg-2,.col-lg-3,.col-lg-4,.col-lg-5,.col-lg-6,.col-lg-7,.col-lg-8,.col-lg-9{float:left}.col-lg-1{width:8.33333%}.col-lg-2{width:16.66667%}.col-lg-3{width:25%}.col-lg-4{width:33.33333%}.col-lg-5{width:41.66667%}.col-lg-6{width:50%}.col-lg-7{width:58.33333%}.col-lg-8{width:66.66667%}.col-lg-9{width:75%}.col-lg-10{width:83.33333%}.col-lg-11{width:91.66667%}.col-lg-12{width:100%}.col-lg-pull-0{right:auto}.col-lg-pull-1{right:8.33333%}.col-lg-pull-2{right:16.66667%}.col-lg-pull-3{right:25%}.col-lg-pull-4{right:33.33333%}.col-lg-pull-5{right:41.66667%}.col-lg-pull-6{right:50%}.col-lg-pull-7{right:58.33333%}.col-lg-pull-8{right:66.66667%}.col-lg-pull-9{right:75%}.col-lg-pull-10{right:83.33333%}.col-lg-pull-11{right:91.66667%}.col-lg-pull-12{right:100%}.col-lg-push-0{left:auto}.col-lg-push-1{left:8.33333%}.col-lg-push-2{left:16.66667%}.col-lg-push-3{left:25%}.col-lg-push-4{left:33.33333%}.col-lg-push-5{left:41.66667%}.col-lg-push-6{left:50%}.col-lg-push-7{left:58.33333%}.col-lg-push-8{left:66.66667%}.col-lg-push-9{left:75%}.col-lg-push-10{left:83.33333%}.col-lg-push-11{left:91.66667%}.col-lg-push-12{left:100%}.col-lg-offset-0{margin-left:0}.col-lg-offset-1{margin-left:8.33333%}.col-lg-offset-2{margin-left:16.66667%}.col-lg-offset-3{margin-left:25%}.col-lg-offset-4{margin-left:33.33333%}.col-lg-offset-5{margin-left:41.66667%}.col-lg-offset-6{margin-left:50%}.col-lg-offset-7{margin-left:58.33333%}.col-lg-offset-8{margin-left:66.66667%}.col-lg-offset-9{margin-left:75%}.col-lg-offset-10{margin-left:83.33333%}.col-lg-offset-11{margin-left:91.66667%}.col-lg-offset-12{margin-left:100%}}label{display:inline-block;max-width:100%;margin-bottom:5px;font-weight:700}.dropdown-menu{position:absolute;top:100%;left:0;z-index:1000;display:none;float:left;min-width:160px;padding:5px 0;margin:2px 0 0;list-style:none;font-size:13px;text-align:left;background-color:#fff;border:1px solid #ccc;border:1px solid rgba(0,0,0,.15);border-radius:4px;-webkit-box-shadow:0 6px 12px rgba(0,0,0,.175);box-shadow:0 6px 12px rgba(0,0,0,.175);background-clip:padding-box}.nav{margin-bottom:0;padding-left:0;list-style:none}.nav:after,.nav:before{content:\" \";display:table}.nav:after{clear:both}.nav>li:last-child{position:relative;display:block;border-right:0 solid #ccc}.nav>li{position:relative;display:block;border-right:1px solid #ccc}.nav>li>a{position:relative;display:block;padding:10px 15px}.nav-tabs{border-bottom:1px solid #ddd}.nav-tabs>li{float:left;margin-bottom:-1px}.nav-tabs>li>a{margin-right:2px;line-height:1.42857;border:1px solid transparent;border-radius:4px 4px 0 0}.nav-tabs .dropdown-menu{margin-top:-1px;border-top-right-radius:0;border-top-left-radius:0}.navbar{position:relative}.navbar:after,.navbar:before{content:\" \";display:table}.navbar:after{clear:both}@media (min-width:768px){.navbar{border-radius:4px}}.navbar-toggle{position:relative;margin-right:15px;padding:9px 10px;margin-top:12px;margin-bottom:8px;background-color:transparent;background-image:none;border:1px solid #ccc;border-radius:4px}.navbar-toggle .icon-bar{background-color:#fff;display:block;width:22px;height:2px;border-radius:1px}.navbar-toggle .icon-bar+.icon-bar{margin-top:4px}.hidden{display:none!important}@-ms-viewport{width:device-width}header .container{max-width:1210px;width:auto}.main-section.col-sm-12{padding:0;clear:both}form{margin-bottom:20px}input[type=submit]{border-radius:4px}input{margin-right:5px}.page-breadcrumb{float:left}.page-title{clear:both;color:#2d88ac;padding:5px 0 8px 0}img.b-lazy.lazy_load_image{background-color:#e6e6e6;position:initial;text-indent:-9999px;display:block;max-width:100%}img.b-lazy.lazy_load_image[alt]{color:#e6e6e6}div img{margin:5px}.breadcrumb-navigation{list-style-type:none;padding-left:0}.breadcrumb-navigation li{display:inline;font-size:13px!important}p{margin:10px 0}.block-citing{float:right}.block-citing img{margin-top:0}@media (min-width:1200px){.container{width:1080px}}@media (max-width:1199px){main>article[class*=col-sm-]{max-width:-webkit-calc(100% - 355px);max-width:-moz-calc(100% - 355px);max-width:calc(100% - 355px)}main>aside[class*=col-sm-]{min-width:355px}}@media (max-width:767px){main>article[class*=col-sm-]{max-width:100%}}@media (max-width:480px){main>aside[class*=col-sm-]{min-width:100%;padding-left:9px;padding-right:9px}main>aside[class*=col-sm-] .right-section{border:0;padding-left:0;padding-right:0}#block-ipabovethefold{padding:0}}#block-mainnavigation-2{float:left}.site-header img{max-width:100%}.ip-logo img{width:170px;margin:0;margin-top:-2px}#block-ipsearchformblock{width:25%;float:right;margin-top:6px;position:relative}#block-ipsearchformblock form{margin-bottom:0}#block-ipsearchformblock .js-form-type-search-api-autocomplete{width:100%;position:relative}#block-ipsearchformblock .js-form-type-search-api-autocomplete .field-suffix{position:absolute;top:1px;right:0}#block-ipsearchformblock .voice-search-block{margin:0}#block-ipsearchformblock .form-actions{position:absolute;top:5px;right:24px}#block-ipsearchformblock input[type=submit]{border:0;text-indent:-9999px;width:18px;padding:0;margin:0}#block-ipsearchformblock input.form-autocomplete{height:30px;padding-left:3px;padding-right:40px}.voice-search-block{margin-left:-26px}.voice-search-block img{margin:3px 0 0;width:12px;filter:brightness(0) invert(.6)}#block-ipleaderboardad{background:#f2f2f2;min-height:90px;margin-bottom:20px;height:270px;width:100vw;position:relative;margin-left:-50vw;left:50%;font-weight:300;display:inline-flex;vertical-align:middle}.ip-nav-search-close,.ip-search-toggle{display:none}@media (max-width:991px){.site-header{padding-bottom:0;border-top:3px solid #2d88ac}.site-header .container{padding:0;width:100%;margin-bottom:15px}.ip-nav-search-close,.ip-search-toggle{display:block;border:0;background-color:transparent;position:absolute;right:14px;top:18px;width:25px;padding:0}.ip-nav-search-close img,.ip-search-toggle img{width:100%;margin:0}.ip-nav-search-close{display:none}#block-ipsearchformblock{position:absolute;top:15px;right:45px;width:0;overflow:hidden;margin:0}#block-ipsearchformblock .form-actions{display:none}#block-ipsearchformblock .js-form-type-search-api-autocomplete .field-suffix{right:0}.navbar-toggle{padding-left:20px}.ip-logo{width:175px;padding:0;margin:0 auto;float:none;display:block}}@media (max-width:767px){#block-ipleaderboardad{min-height:50px}}@media (min-width:992px){.we-mega-menu-ul>.we-mega-menu-li{width:auto}.we-mega-menu-ul>.we-mega-menu-li li.we-mega-menu-group{margin-bottom:20px}.we-mega-menu-ul>.we-mega-menu-li li.we-mega-menu-group .we-megamenu-nolink{color:#fff;font-size:15px;font-weight:700}.we-mega-menu-ul>.we-mega-menu-li>.we-megamenu-nolink{padding:12px 10px}.we-mega-menu-ul>.we-mega-menu-li>.we-megamenu-nolink:before{display:none}.we-mega-menu-ul>.we-mega-menu-li>.we-megamenu-nolink i{border:solid #fff;border-width:0 3px 3px 0;display:inline;padding:2px;margin-left:8px;margin-top:-2px}.we-mega-menu-ul>.we-mega-menu-li>.we-megamenu-nolink .down{transform:rotate(45deg);-webkit-transform:rotate(45deg)}.we-mega-menu-ul>.we-mega-menu-li a{position:relative}.we-mega-menu-ul>.we-mega-menu-li>span:after{margin-top:15px}.we-mega-menu-ul>.we-mega-menu-li>a:after{bottom:3px!important}.we-mega-menu-ul>.we-mega-menu-li>a:after,.we-mega-menu-ul>.we-mega-menu-li>span:after{background:none repeat scroll 0 0 transparent;bottom:0;content:\"\";display:block;height:2px;left:50%;position:absolute;background:#fff;width:0;opacity:1}}@media (max-width:991px){.site-header .container{margin-bottom:10px}.site-header .navbar-we-mega-menu.navbar ul>li ul{padding-top:0;padding-bottom:0}}@media (max-width:991px){.site-header .region-we-mega-menu{background-color:transparent;position:absolute;top:0;padding:0;border:0;margin:0}.site-header .region-we-mega-menu .navbar-toggle{border:0}.site-header .region-we-mega-menu .navbar-toggle .icon-bar{height:4px}}.site-header .region-we-mega-menu .we-mega-menu-submenu{display:none}.we-mega-menu-submenu .we-mega-menu-submenu-inner .field_menu_grid{float:left;width:48%;margin-top:20px}.we-mega-menu-submenu .we-mega-menu-submenu-inner .field_menu_grid:nth-of-type(odd){margin-right:4%}.we-mega-menu-submenu .we-mega-menu-submenu-inner .field_menu_grid:nth-of-type(2n+1){clear:both}.we-mega-menu-submenu .we-mega-menu-submenu-inner .field_menu_grid img{width:100%}.we-mega-menu-submenu .we-mega-menu-submenu-inner .field_menu_grid .content{background:rgba(255,255,255,.2);padding:10px}.we-mega-menu-submenu .we-mega-menu-submenu-inner .field_menu_grid .content a{color:#f26522!important;font-weight:700}.we-mega-menu-submenu .we-mega-menu-submenu-inner .field_menu_grid .content .field_menu_grid_title .field__label{display:none}.we-mega-menu-submenu .we-mega-menu-submenu-inner .field_menu_grid .content .field_menu_grid_title .field__item{margin-top:10px}@media (max-width:991px){.show-desktop{display:none!important}.site-header{z-index:999;background:#2d88ac;width:100%;padding:5px 0}}@media (min-width:991px){.show-mobile{display:none!important}}@media (min-width:992px){.navbar-toggle{display:none}.layout-full-width{padding-top:56px}.site-header{position:fixed;z-index:999;background:#2d88ac;width:100%;padding:5px 0}.navbar-we-mega-menu{background:0 0}.navbar-we-mega-menu ul.we-mega-menu-ul>li>a,.navbar-we-mega-menu ul.we-mega-menu-ul>li>span{background:0 0!important;font-size:12px!important;color:#fff!important;width:auto}.navbar-we-mega-menu ul.we-mega-menu-ul>li a{color:#84bce7;font-size:14px;font-weight:700}}#block-ipsearchformblock .voice-search-block img{margin:0}img{max-width:100%!important}@media (max-width:600px){#block-ipleaderboardad{display:none}}.right-section{padding:10px 5px 10px 5px}.right-section .block{padding:6px 6px 0;margin:10px 0;border:1px solid #cdd9e6}#block-ipabovethefold{min-height:653px;display:flex}@media (max-width:600px){#block-ipabovethefold{background:#f2f2f2;display:grid}}[class^=icon-]{background-repeat:no-repeat;display:inline-block;vertical-align:top;padding-left:20px}.icon-bar{background-image:none;padding-left:0}.main-section{position:relative}@media (max-width:767px){aside.col-sm-4{margin-top:20px}}img{max-width:1000px}label{padding:0 0 2px;display:block;font-weight:700}input[type=submit]{display:inline-block}@media (max-width:767px){.main-section{font-size:16px!important;line-height:24px!important}}input.form-autocomplete{width:100%;background-image:none!important}#block-searchapipagesearchblockform{width:25%;float:right;margin-top:6px;position:relative}#block-searchapipagesearchblockform form{margin-bottom:0}#block-searchapipagesearchblockform .js-form-type-search-api-autocomplete{width:100%;position:relative}#block-searchapipagesearchblockform .js-form-type-search-api-autocomplete .field-suffix{position:absolute;top:1px;right:0}#block-searchapipagesearchblockform .voice-search-block{margin:0}#block-searchapipagesearchblockform .form-actions{position:absolute;top:5px;right:24px}#block-searchapipagesearchblockform input[type=submit]{border:0;text-indent:-9999px;width:18px;padding:0;margin:0}#block-searchapipagesearchblockform input.form-autocomplete{height:30px;padding-left:3px;padding-right:40px}@media (max-width:991px){.site-header{height:66px}#block-searchapipagesearchblockform{position:absolute;top:15px;right:45px;width:0;overflow:hidden;margin:0}#block-searchapipagesearchblockform .form-actions{display:none}#block-searchapipagesearchblockform .js-form-type-search-api-autocomplete .field-suffix{right:0}}#block-searchapipagesearchblockform .voice-search-block img{margin:0}@media (min-width:992px){.site-header{height:53px;}}@media (max-width:767px){.add-mobile-margin{margin-top:25px;}}#fRELATED{width:180px;margin:8px 0 20px 10px;padding:0 0 10px 10px;float:right;text-align:left;border:none}@media (max-width:767px){#fRELATED{float:none;width:100%;padding:0;margin-left:0}}#fRELATED img{border:none;margin-bottom:10px;max-width:280px}#fRELATED td{padding:10px;border:1px solid #dcdcdc}#fRELATED td h4,#fRELATED td p.caption{text-align:left;line-height:15px}#fRELATED td p.caption{margin:0}#fCONTENT table{background:0 0;border-top:none;padding-top:5px;margin-top:5px}#spotFootDYK{margin:12px auto;padding:4px 8px;background-color:#f6fbfc;clear:both}#fPACKMORE{margin:5px auto;padding:6px 0 0 0;list-style:none;background-color:#f6fbfc;text-align:center;width:auto;font-weight:700;font-size:13px;clear:both;border:1px solid #dcdcdc}#fPACKMORE li{padding:2px;margin:0;font-size:13px;background-image:none}.fbody{margin:0 0 0 20px;padding:0;color:#515050}.fbody li{padding:0 0 2px 10px!important}.imgCaption{text-align:center}.fsubhead{font-weight:700}.source{margin:5px 0;padding:0;font-size:13px;text-align:left}.sgmllist{width:100%;margin-bottom:15px}.sgmllist td{padding:4px}.oddrow td{background:#dcdcdc;border:2px solid #fff}.evenrow td{background:#eee;border:2px solid #fff}#HCfoot ul{margin:2px 0 0;padding:0}#HCfoot ul li{display:inline;list-style:none;font-size:13px;margin:0;padding:0}#HCfoot ul li ul{display:inline}#HCfoot ul li ul li{list-style-type:none}#block-otherarchives-3{padding:10px 10px 5px 15px;width:100%;margin:10px 8px 20px 0!important;background:#f6fbfc;border:1px solid #dcdcdc}#block-otherarchives-3 h2{margin-top:5px;margin-bottom:5px;font-size:15px}#block-otherarchives-3 ul{padding-left:19px}.toc{padding:5px;width:100%;margin:10px 8px 20px 0!important;background:#f6fbfc;border:1px solid #dcdcdc}@media (max-width:767px){.toc{margin-bottom:0!important}}.toc td h3{text-align:center}.toc dl,.toc p,.toc p.tocentry{padding:5px 5px 5px 8px}.toc dl font,.toc p font,.toc p.tocentry font{color:#f60;font-size:10px}.toc dl font b,.toc p font b,.toc p.tocentry font b{color:#f60;font-size:10px}.toc ul{margin-top:10px}.toc ul li img{margin:0 5px}.toc h3{padding-left:10px}.subtitle{font-weight:700}table.sgmltable.centered#mostpowerfulwomen{margin:10px auto 0 auto!important;border-spacing:0}#fRELATED input[name=fourdigit]{display:inline-block;max-width:130px}.sgmltable{text-align:left;border:1px solid #dcdcdc;border-collapse:collapse;padding:0;margin:10px auto}.sgmltable td,.sgmltable th{padding:5px;border:1px solid #dcdcdc}.centered{margin:0 auto}img{max-width:1000px}.see{width:auto;padding:10px 2px 10px 10px;margin:30px 4px 10px 0;background:#f6fbfc;border:solid #dcdcdc;border-width:1px 0;font-style:italic;clear:both;text-align:left}.see ul{list-style-type:none;padding:5px 0 0 10px}.see ul li{padding:0 0 2px 0;color:#2d88ac}div[id*=block-views-block-more-like-this-block]{margin-top:60px}table[align=left][width=\"40%\"]{width:40%;float:left}.graphseg{padding:0 8px 8px 8px}@media (max-width:767px){.graphseg img{display:block}}.graphseg #A0878166{text-align:center}ul li font b{color:#f60;font-size:10px;font-weight:400}.relContent{clear:both}td{vertical-align:top}.return-to-periodic-table a{font-size:13px;font-weight:700}.return-to-periodic-table img{margin:0 5px}.embedded-entity{float:left;margin:10px 0;width:100%}.embedded-entity .affiliates-left-side{float:left;width:30%;margin-right:3%}@media (max-width:600px){.embedded-entity .affiliates-left-side{width:100%}}.embedded-entity .affiliates-left-side img{padding:0}.embedded-entity .field--name-field-product-title{font-size:25px;padding-bottom:8px}.embedded-entity .field__label{font-weight:700;padding-bottom:5px}.embedded-entity .cta-link{padding-bottom:10px}.embedded-entity .affiliates-right-side{float:left;width:67%}@media (max-width:600px){.embedded-entity .affiliates-right-side{width:100%}}.embedded-entity a{background-color:#2d88ac;border:none;color:#fff;padding:15px;text-align:center;text-decoration:none;display:inline-block;font-size:16px;margin-bottom:10px}.embedded-entity a:hover{background-color:#1d586f}#block-periodictabledetail{margin-bottom:40px}#block-periodictabledetail .table-text{font-size:15px;font-weight:700;text-align:center;margin:20px 0 20px 0}#block-periodictabledetail .custom-periodic{display:table;width:100%;text-align:center;padding-left:0;margin-bottom:0}#block-periodictabledetail .custom-periodic li{width:5.5%;border:1px solid rgba(0,0,0,.3);box-shadow:inset 0 1px 0 rgba(255,255,255,.4);position:relative;cursor:pointer;list-style-type:none;text-align:center;font-weight:700;display:table-cell}#block-periodictabledetail .custom-periodic li:before{content:attr(data-pos);position:absolute;top:3px;left:3px;color:#635f5e;font-size:8px;line-height:1;font-weight:bolder}#block-periodictabledetail .custom-periodic li:after{content:attr(data-nb);left:auto;right:3px;position:absolute;top:3px;color:#000;font-size:8px;line-height:1;font-weight:bolder}#block-periodictabledetail .custom-periodic li a{color:#000!important;text-decoration:none;display:inline-block;height:100%;width:100%;font-size:16px;padding-top:13px}#block-periodictabledetail .custom-periodic li span{display:block;line-height:1;font-size:9px;color:#000;padding-top:7px}#block-periodictabledetail .custom-periodic li .empty-cell{visibility:hidden}#block-periodictabledetail .custom-periodic li.type-4.cat-0.header{border:#fff}#block-periodictabledetail .custom-periodic li.type-4.cat-0.header span{background:#4d4d4d;color:#fff;font-size:9px;height:1px;line-height:0!important;padding:6px;border:none;font-weight:bolder;vertical-align:bottom;margin-bottom:2px;pointer-events:none}#block-periodictabledetail .custom-periodic li.type-4.cat-0.empty-cell{visibility:hidden}#block-periodictabledetail .periodic-table ul:nth-child(7) li.type-4.cat-0:nth-child(3),#block-periodictabledetail .periodic-table ul:nth-child(8) li.type-4.cat-0:nth-child(3){padding-top:14px;padding-bottom:2px;pointer-events:none}#block-periodictabledetail .periodic-table ul:last-child li.type-4.cat-0.empty-cell,#block-periodictabledetail .periodic-table ul:nth-child(9) li.type-4.cat-0.empty-cell{display:none!important}#block-periodictabledetail .periodic-table ul:last-child li.type-4.cat-0:first-child,#block-periodictabledetail .periodic-table ul:nth-child(9) li.type-4.cat-0:first-child{font-size:11.5px;white-space:nowrap;border:#fff;width:16.5%;text-align:right;font-weight:bolder;pointer-events:none}#block-periodictabledetail .periodic-table ul:nth-child(9){margin-top:10px}@media (max-width:767px){#block-periodictabledetail .periodic-table .custom-periodic{padding-left:0}#block-periodictabledetail .periodic-table .custom-periodic li a{font-size:10px;padding-top:8px}#block-periodictabledetail .periodic-table .custom-periodic li:before{font-size:5px}#block-periodictabledetail .periodic-table .custom-periodic li:after{font-size:5px}}@media (max-width: 991px){#custom-core-share{display:none;}}</style><link href=\"/themes/ip/favicon.ico\" rel=\"icon\" type=\"image/vnd.microsoft.icon\"/><link href=\"https://www.infoplease.com/us/postal-information/state-abbreviations-and-state-postal-codes\" rel=\"canonical\"/><script>(function(w,d,s,l,i){w[l]=w[l]||[];w[l].push({'gtm.start':new Date().getTime(),event:'gtm.js'});var f=d.getElementsByTagName(s)[0];var j=d.createElement(s);var dl=l!='dataLayer'?'&l='+l:'';j.src='https://www.googletagmanager.com/gtm.js?id='+i+dl+'';j.async=true;f.parentNode.insertBefore(j,f);})(window,document,'script','dataLayer','GTM-NBS6K3');</script><meta content=\"max-image-preview:large\" name=\"robots\"/> <title>State Abbreviations &amp; Postal Codes Cheatsheet</title> <style>.async-hide { opacity: 0 !important}</style><script>(function(a,s,y,n,c,h,i,d,e){s.className+=' '+y;h.start=1*new Date; h.end=i=function(){s.className=s.className.replace(RegExp(' ?'+y),'')}; (a[n]=a[n]||[]).hide=h;setTimeout(function(){i();h.end=null},c);h.timeout=c; })(window,document.documentElement,'async-hide','dataLayer',4000, {'GTM-NBS6K3':true});</script><link as=\"image\" href=\"/sites/infoplease.com/files/inline-images/infoplease_white_logo_2.png\" rel=\"preload\"/></head><body class=\"user-logged-out path-node page-node-type-article head-title-State-Abbreviations-&amp;-Postal-Codes-Cheatsheet\"><noscript aria-hidden=\"true\"><iframe height=\"0\" src=\"https://www.googletagmanager.com/ns.html?id=GTM-NBS6K3\" style=\"display:none;visibility:hidden\" width=\"0\"></iframe></noscript> <div class=\"dialog-off-canvas-main-canvas\" data-off-canvas-main-canvas=\"\"> <header class=\"site-header\"> <div class=\"container\"> <a class=\"col-sm-3 col-xs-6 ip-logo\" href=\"/\" rel=\"home\" title=\"Home\"> <img alt=\"Home\" src=\"/themes/ip/images/logo-white.svg\"/> </a> <button class=\"ip-search-toggle\"><img src=\"/themes/ip/images/mag-glass.svg\"/></button><button class=\"ip-nav-search-close\"><img src=\"/themes/ip/images/close.svg\"/></button><div class=\"block\" id=\"block-mainnavigation-2\"> <div class=\"region-we-mega-menu\"><a class=\"navbar-toggle collapsed\"> <span class=\"icon-bar\"></span> <span class=\"icon-bar\"></span> <span class=\"icon-bar\"></span></a><nav class=\"main navbar navbar-default navbar-we-mega-menu mobile-collapse click-action\" data-action=\"clicked\" data-alwayshowsubmenu=\"1\" data-animation=\"None\" data-autoarrow=\"1\" data-block-theme=\"ip\" data-menu-name=\"main\" data-mobile-collapse=\"1\" data-style=\"Default\"> <div class=\"container-fluid\"> <ul class=\"we-mega-menu-ul\"> <li class=\"we-mega-menu-li dropdown-menu main-menu-browse\" data-class=\"main-menu-browse\" data-element-type=\"we-mega-menu-li\" data-group=\"0\" data-id=\"1a723417-141b-4c01-8390-43bc05c17e8a\" data-level=\"0\" data-submenu=\"1\" hide-sub-when-collapse=\"0\"> <span class=\"we-megamenu-nolink\" data-drupal-link-system-path=\"&lt;front&gt;\">Browse<i class=\"arrow down\"></i></span> <div class=\"we-mega-menu-submenu\" data-element-type=\"we-mega-menu-submenu\" data-submenu-width=\"1200\" style=\"width: 1200px\"> <div class=\"we-mega-menu-submenu-inner\"> <div class=\"we-mega-menu-row\" data-custom-row=\"0\" data-element-type=\"we-mega-menu-row\"> <div class=\"we-mega-menu-col span3\" data-element-type=\"we-mega-menu-col\" data-hidewhencollapse=\"0\" data-width=\"3\"> <ul class=\"nav nav-tabs subul\"> <li class=\"we-mega-menu-li dropdown-menu we-mega-menu-group\" data-element-type=\"we-mega-menu-li\" data-group=\"1\" data-id=\"ff3e3eff-37a7-4c29-bc5c-2260588e3e2d\" data-level=\"1\" data-submenu=\"1\" hide-sub-when-collapse=\"0\"> <span class=\"we-megamenu-nolink\" data-drupal-link-system-path=\"&lt;front&gt;\">World<i class=\"arrow down\"></i></span> <div class=\"we-mega-menu-submenu\" data-element-type=\"we-mega-menu-submenu\"> <div class=\"we-mega-menu-submenu-inner\"> <div class=\"we-mega-menu-row\" data-custom-row=\"0\" data-element-type=\"we-mega-menu-row\"> <div class=\"we-mega-menu-col span12\" data-element-type=\"we-mega-menu-col\" data-hidewhencollapse=\"0\" data-width=\"12\"> <ul class=\"nav nav-tabs subul\"> <li class=\"we-mega-menu-li\" data-element-type=\"we-mega-menu-li\" data-id=\"a4a2e641-8a37-4cae-8a23-d9eb1b3fb181\" data-level=\"2\" data-submenu=\"0\" hide-sub-when-collapse=\"0\"> <a class=\"we-mega-menu-li\" href=\"/world\" target=\"\" title=\"\"> World Overview </a> </li><li class=\"we-mega-menu-li\" data-element-type=\"we-mega-menu-li\" data-id=\"cb1c78ba-b3c5-4aa7-9aba-80e35a6eeb25\" data-level=\"2\" data-submenu=\"0\" hide-sub-when-collapse=\"0\"> <a class=\"we-mega-menu-li\" href=\"/atlas\" target=\"\" title=\"\"> Atlas </a> </li><li class=\"we-mega-menu-li\" data-element-type=\"we-mega-menu-li\" data-id=\"9161d572-95be-4598-a77e-6f434c4e3d09\" data-level=\"2\" data-submenu=\"0\" hide-sub-when-collapse=\"0\"> <a class=\"we-mega-menu-li\" href=\"/world/countries\" target=\"\" title=\"\"> Countries </a> </li><li class=\"we-mega-menu-li\" data-element-type=\"we-mega-menu-li\" data-id=\"67431e6f-f079-4256-9c6e-9115547796c4\" data-level=\"2\" data-submenu=\"0\" hide-sub-when-collapse=\"0\"> <a class=\"we-mega-menu-li\" href=\"/disasters\" target=\"\" title=\"\"> Disasters </a> </li><li class=\"we-mega-menu-li\" data-element-type=\"we-mega-menu-li\" data-id=\"3cfa6176-642f-4594-a369-6f287c4aa14c\" data-level=\"2\" data-submenu=\"0\" hide-sub-when-collapse=\"0\"> <a class=\"we-mega-menu-li\" href=\"/current-events\" target=\"\" title=\"\"> News </a> </li><li class=\"we-mega-menu-li\" data-element-type=\"we-mega-menu-li\" data-id=\"676bb6ec-a766-41fc-8126-55dd6a57d1e8\" data-level=\"2\" data-submenu=\"0\" hide-sub-when-collapse=\"0\"> <a class=\"we-mega-menu-li\" href=\"/countries/flags\" target=\"\" title=\"\"> Flags of the World </a> </li><li class=\"we-mega-menu-li\" data-element-type=\"we-mega-menu-li\" data-id=\"fed9df34-c250-462b-a592-e1f4e94df822\" data-level=\"2\" data-submenu=\"0\" hide-sub-when-collapse=\"0\"> <a class=\"we-mega-menu-li\" href=\"/geography\" target=\"\" title=\"\"> Geography </a> </li><li class=\"we-mega-menu-li\" data-element-type=\"we-mega-menu-li\" data-id=\"4d8d75e6-b221-42ba-8e0d-eb29f046ea51\" data-level=\"2\" data-submenu=\"0\" hide-sub-when-collapse=\"0\"> <a class=\"we-mega-menu-li\" href=\"/diplomacy\" target=\"\" title=\"\"> International Relations </a> </li><li class=\"we-mega-menu-li\" data-element-type=\"we-mega-menu-li\" data-id=\"530cc07a-c6ec-4017-a6fc-eaea78d71a61\" data-level=\"2\" data-submenu=\"0\" hide-sub-when-collapse=\"0\"> <a class=\"we-mega-menu-li\" href=\"/religion\" target=\"\" title=\"\"> Religion </a> </li><li class=\"we-mega-menu-li\" data-element-type=\"we-mega-menu-li\" data-id=\"22d47f9e-20af-4bdb-8f0b-791cb357f290\" data-level=\"2\" data-submenu=\"0\" hide-sub-when-collapse=\"0\"> <a class=\"we-mega-menu-li\" href=\"/world-statistics\" target=\"\" title=\"\"> Statistics </a> </li><li class=\"we-mega-menu-li\" data-element-type=\"we-mega-menu-li\" data-id=\"177dba64-9022-4451-9139-5ce838f19878\" data-level=\"2\" data-submenu=\"0\" hide-sub-when-collapse=\"0\"> <a class=\"we-mega-menu-li\" href=\"/geography/monuments-landmarks\" target=\"\" title=\"\"> Structures &amp; Buildings </a> </li><li class=\"we-mega-menu-li\" data-element-type=\"we-mega-menu-li\" data-id=\"5f59129b-05d1-4ee3-ae12-26853728aa41\" data-level=\"2\" data-submenu=\"0\" hide-sub-when-collapse=\"0\"> <a class=\"we-mega-menu-li\" href=\"/world/travel-transportation\" target=\"\" title=\"\"> Travel </a> </li><li class=\"we-mega-menu-li\" data-element-type=\"we-mega-menu-li\" data-id=\"15dc6059-ceac-44e1-9cc0-6e8d3d965146\" data-level=\"2\" data-submenu=\"0\" hide-sub-when-collapse=\"0\"> <a class=\"we-mega-menu-li\" href=\"/biographies/government-politics/world-leaders\" target=\"\" title=\"\"> World Rulers </a> </li></ul></div></div> </div></div></li><li class=\"we-mega-menu-li dropdown-menu we-mega-menu-group\" data-element-type=\"we-mega-menu-li\" data-group=\"1\" data-id=\"e45e053c-0185-4d5c-8ab2-1d17e5f1b7f4\" data-level=\"1\" data-submenu=\"1\" hide-sub-when-collapse=\"0\"> <span class=\"we-megamenu-nolink\" data-drupal-link-system-path=\"&lt;front&gt;\">People<i class=\"arrow down\"></i></span> <div class=\"we-mega-menu-submenu\" data-element-type=\"we-mega-menu-submenu\"> <div class=\"we-mega-menu-submenu-inner\"> <div class=\"we-mega-menu-row\" data-custom-row=\"0\" data-element-type=\"we-mega-menu-row\"> <div class=\"we-mega-menu-col span12\" data-element-type=\"we-mega-menu-col\" data-hidewhencollapse=\"0\" data-width=\"12\"> <ul class=\"nav nav-tabs subul\"> <li class=\"we-mega-menu-li\" data-element-type=\"we-mega-menu-li\" data-id=\"9de0a2bb-f293-40f7-a616-31749e2714f5\" data-level=\"2\" data-submenu=\"0\" hide-sub-when-collapse=\"0\"> <a class=\"we-mega-menu-li\" href=\"/biographies\" target=\"\" title=\"\"> People Overview </a> </li><li class=\"we-mega-menu-li\" data-element-type=\"we-mega-menu-li\" data-id=\"1b19e2b7-8467-4935-adb8-5c17e815b06c\" data-level=\"2\" data-submenu=\"0\" hide-sub-when-collapse=\"0\"> <a class=\"we-mega-menu-li\" href=\"/biographies/society-culture/academia-and-culture\" target=\"\" title=\"\"> Academia &amp; Culture </a> </li><li class=\"we-mega-menu-li\" data-element-type=\"we-mega-menu-li\" data-id=\"20e77017-ade4-4a1c-8fe5-7e5df056669e\" data-level=\"2\" data-submenu=\"0\" hide-sub-when-collapse=\"0\"> <a class=\"we-mega-menu-li\" href=\"/biographies/art-entertainment\" target=\"\" title=\"\"> Arts &amp; Entertainment </a> </li><li class=\"we-mega-menu-li\" data-element-type=\"we-mega-menu-li\" data-id=\"65fef05d-8367-4380-a556-7115b76c461e\" data-level=\"2\" data-submenu=\"0\" hide-sub-when-collapse=\"0\"> <a class=\"we-mega-menu-li\" href=\"/biographies/society-culture/business-biographies\" target=\"\" title=\"\"> Business </a> </li><li class=\"we-mega-menu-li\" data-element-type=\"we-mega-menu-li\" data-id=\"773ac213-1255-45a0-8dc1-3006d0b34ff5\" data-level=\"2\" data-submenu=\"0\" hide-sub-when-collapse=\"0\"> <a class=\"we-mega-menu-li\" href=\"/biographies/government-politics\" target=\"\" title=\"\"> Government </a> </li><li class=\"we-mega-menu-li\" data-element-type=\"we-mega-menu-li\" data-id=\"61cfdce9-b3b5-4a88-9ae6-f13f8c998e5c\" data-level=\"2\" data-submenu=\"0\" hide-sub-when-collapse=\"0\"> <a class=\"we-mega-menu-li\" href=\"/people/in-the-news\" target=\"\" title=\"\"> Newsmakers </a> </li><li class=\"we-mega-menu-li\" data-element-type=\"we-mega-menu-li\" data-id=\"241a306b-bf64-4b88-9b79-454b50256708\" data-level=\"2\" data-submenu=\"0\" hide-sub-when-collapse=\"0\"> <a class=\"we-mega-menu-li\" href=\"/science\" target=\"\" title=\"\"> Science </a> </li><li class=\"we-mega-menu-li\" data-element-type=\"we-mega-menu-li\" data-id=\"e144c555-0438-4f7f-802f-8fa1e1b7f83f\" data-level=\"2\" data-submenu=\"0\" hide-sub-when-collapse=\"0\"> <a class=\"we-mega-menu-li\" href=\"/biographies/sports\" target=\"\" title=\"\"> Sports </a> </li></ul></div></div> </div></div></li></ul></div><div class=\"we-mega-menu-col span3\" data-blocktitle=\"1\" data-element-type=\"we-mega-menu-col\" data-hidewhencollapse=\"0\" data-width=\"3\"> <ul class=\"nav nav-tabs subul\"> <li class=\"we-mega-menu-li dropdown-menu we-mega-menu-group\" data-element-type=\"we-mega-menu-li\" data-group=\"1\" data-id=\"26d1626f-a7f9-4b2d-bda0-a19182b3b878\" data-level=\"1\" data-submenu=\"1\" hide-sub-when-collapse=\"0\"> <span class=\"we-megamenu-nolink\" data-drupal-link-system-path=\"&lt;front&gt;\">U.S.<i class=\"arrow down\"></i></span> <div class=\"we-mega-menu-submenu\" data-element-type=\"we-mega-menu-submenu\"> <div class=\"we-mega-menu-submenu-inner\"> <div class=\"we-mega-menu-row\" data-custom-row=\"0\" data-element-type=\"we-mega-menu-row\"> <div class=\"we-mega-menu-col span12\" data-element-type=\"we-mega-menu-col\" data-hidewhencollapse=\"0\" data-width=\"12\"> <ul class=\"nav nav-tabs subul\"> <li class=\"we-mega-menu-li\" data-element-type=\"we-mega-menu-li\" data-id=\"c4049b03-08d3-4f01-afb6-c07cb304fef6\" data-level=\"2\" data-submenu=\"0\" hide-sub-when-collapse=\"0\"> <a class=\"we-mega-menu-li\" href=\"/us\" target=\"\" title=\"\"> U.S. Overview </a> </li><li class=\"we-mega-menu-li\" data-element-type=\"we-mega-menu-li\" data-id=\"11f654b6-17f6-40df-854c-fe1296ea413b\" data-level=\"2\" data-submenu=\"0\" hide-sub-when-collapse=\"0\"> <a class=\"we-mega-menu-li\" href=\"/us/cities\" target=\"\" title=\"\"> Cities </a> </li><li class=\"we-mega-menu-li\" data-element-type=\"we-mega-menu-li\" data-id=\"927a27e3-bbed-4715-8212-18b1584a403e\" data-level=\"2\" data-submenu=\"0\" hide-sub-when-collapse=\"0\"> <a class=\"we-mega-menu-li\" href=\"/primary-sources/government\" target=\"\" title=\"\"> U.S. Documents </a> </li><li class=\"we-mega-menu-li\" data-element-type=\"we-mega-menu-li\" data-id=\"af8b257b-83f4-4e60-b30b-36c08a23975b\" data-level=\"2\" data-submenu=\"0\" hide-sub-when-collapse=\"0\"> <a class=\"we-mega-menu-li\" href=\"/us/gender-sexuality\" target=\"\" title=\"\"> Gender Issues </a> </li><li class=\"we-mega-menu-li\" data-element-type=\"we-mega-menu-li\" data-id=\"0dcfb035-3eda-4f29-816b-466870f8a7bb\" data-level=\"2\" data-submenu=\"0\" hide-sub-when-collapse=\"0\"> <a class=\"we-mega-menu-li\" href=\"/geography\" target=\"\" title=\"\"> Geography </a> </li><li class=\"we-mega-menu-li\" data-element-type=\"we-mega-menu-li\" data-id=\"9a41a5fe-7153-4201-a22a-4837e354487d\" data-level=\"2\" data-submenu=\"0\" hide-sub-when-collapse=\"0\"> <a class=\"we-mega-menu-li\" href=\"/us/government\" target=\"\" title=\"\"> Government </a> </li><li class=\"we-mega-menu-li\" data-element-type=\"we-mega-menu-li\" data-id=\"23258840-bc85-4fb0-bb88-ce0239aa0e1f\" data-level=\"2\" data-submenu=\"0\" hide-sub-when-collapse=\"0\"> <a class=\"we-mega-menu-li\" href=\"/current-events\" target=\"\" title=\"\"> News </a> </li><li class=\"we-mega-menu-li\" data-element-type=\"we-mega-menu-li\" data-id=\"faecca9a-42a4-49c4-a466-504b1b1d757a\" data-level=\"2\" data-submenu=\"0\" hide-sub-when-collapse=\"0\"> <a class=\"we-mega-menu-li\" href=\"/us/military\" target=\"\" title=\"\"> Military </a> </li><li class=\"we-mega-menu-li\" data-element-type=\"we-mega-menu-li\" data-id=\"b7a741f7-ccd0-45db-9d5d-e0311755e640\" data-level=\"2\" data-submenu=\"0\" hide-sub-when-collapse=\"0\"> <a class=\"we-mega-menu-li\" href=\"/history-and-government/us-historical-monuments\" target=\"\" title=\"\"> Monuments &amp; Landmarks </a> </li><li class=\"we-mega-menu-li\" data-element-type=\"we-mega-menu-li\" data-id=\"a1522757-57d9-4011-8954-cf72e71a576e\" data-level=\"2\" data-submenu=\"0\" hide-sub-when-collapse=\"0\"> <a class=\"we-mega-menu-li\" href=\"/us/postal-information\" target=\"\" title=\"\"> Postal Information </a> </li><li class=\"we-mega-menu-li\" data-element-type=\"we-mega-menu-li\" data-id=\"b0f03f17-f878-43df-b447-b46b5450ed4a\" data-level=\"2\" data-submenu=\"0\" hide-sub-when-collapse=\"0\"> <a class=\"we-mega-menu-li\" href=\"/us/race\" target=\"\" title=\"\"> Race &amp; Ethnicity </a> </li><li class=\"we-mega-menu-li\" data-element-type=\"we-mega-menu-li\" data-id=\"7681b583-1195-42e1-a3ce-91f80e657ed5\" data-level=\"2\" data-submenu=\"0\" hide-sub-when-collapse=\"0\"> <a class=\"we-mega-menu-li\" href=\"/us/states\" target=\"\" title=\"\"> States </a> </li><li class=\"we-mega-menu-li\" data-element-type=\"we-mega-menu-li\" data-id=\"59e82755-eb02-450d-81cf-dd9e5d00fd6f\" data-level=\"2\" data-submenu=\"0\" hide-sub-when-collapse=\"0\"> <a class=\"we-mega-menu-li\" href=\"/us/us-statistics\" target=\"\" title=\"\"> Statistics </a> </li><li class=\"we-mega-menu-li\" data-element-type=\"we-mega-menu-li\" data-id=\"78a597de-29f1-4bc8-b0a7-6ed1c8e90bf2\" data-level=\"2\" data-submenu=\"0\" hide-sub-when-collapse=\"0\"> <a class=\"we-mega-menu-li\" href=\"/culture-entertainment\" target=\"\" title=\"\"> Arts &amp; Entertainment </a> </li><li class=\"we-mega-menu-li\" data-element-type=\"we-mega-menu-li\" data-id=\"859fbbf0-ed65-484c-87d9-1ef9013fdeb0\" data-level=\"2\" data-submenu=\"0\" hide-sub-when-collapse=\"0\"> <a class=\"we-mega-menu-li\" href=\"/culture-entertainment/sports\" target=\"\" title=\"\"> Sports </a> </li></ul></div></div> </div></div></li><li class=\"we-mega-menu-li dropdown-menu we-mega-menu-group\" data-element-type=\"we-mega-menu-li\" data-group=\"1\" data-id=\"e1bc4f50-e073-4d69-b307-abd57db40de1\" data-level=\"1\" data-submenu=\"1\" hide-sub-when-collapse=\"0\"> <span class=\"we-megamenu-nolink\" data-drupal-link-system-path=\"&lt;front&gt;\">History<i class=\"arrow down\"></i></span> <div class=\"we-mega-menu-submenu\" data-element-type=\"we-mega-menu-submenu\"> <div class=\"we-mega-menu-submenu-inner\"> <div class=\"we-mega-menu-row\" data-custom-row=\"0\" data-element-type=\"we-mega-menu-row\"> <div class=\"we-mega-menu-col span12\" data-element-type=\"we-mega-menu-col\" data-hidewhencollapse=\"0\" data-width=\"12\"> <ul class=\"nav nav-tabs subul\"> <li class=\"we-mega-menu-li\" data-element-type=\"we-mega-menu-li\" data-id=\"4b93647c-84fc-4a69-99c9-a421fd7559b4\" data-level=\"2\" data-submenu=\"0\" hide-sub-when-collapse=\"0\"> <a class=\"we-mega-menu-li\" href=\"/history\" target=\"\" title=\"\"> History Overview </a> </li><li class=\"we-mega-menu-li\" data-element-type=\"we-mega-menu-li\" data-id=\"c56361ab-8d10-4c0c-83c7-251a5eb04a38\" data-level=\"2\" data-submenu=\"0\" hide-sub-when-collapse=\"0\"> <a class=\"we-mega-menu-li\" href=\"/timeline-archive\" target=\"\" title=\"\"> Timelines </a> </li><li class=\"we-mega-menu-li\" data-element-type=\"we-mega-menu-li\" data-id=\"f6bdbafb-edc7-4fe9-b578-9cca0babbf51\" data-level=\"2\" data-submenu=\"0\" hide-sub-when-collapse=\"0\"> <a class=\"we-mega-menu-li\" href=\"/history/world\" target=\"\" title=\"\"> World History </a> </li><li class=\"we-mega-menu-li\" data-element-type=\"we-mega-menu-li\" data-id=\"7e9ce0c4-b34d-4021-a9a1-51b6f26f2a3f\" data-level=\"2\" data-submenu=\"0\" hide-sub-when-collapse=\"0\"> <a class=\"we-mega-menu-li\" href=\"/history/us\" target=\"\" title=\"\"> U.S. History </a> </li><li class=\"we-mega-menu-li\" data-element-type=\"we-mega-menu-li\" data-id=\"4ad2a1d4-8110-45ff-864f-61a7e677915c\" data-level=\"2\" data-submenu=\"0\" hide-sub-when-collapse=\"0\"> <a class=\"we-mega-menu-li\" href=\"/history/black-history\" target=\"\" title=\"\"> Black History Month </a> </li><li class=\"we-mega-menu-li\" data-element-type=\"we-mega-menu-li\" data-id=\"dbbab138-8121-4d5a-a022-8a8af6ff3073\" data-level=\"2\" data-submenu=\"0\" hide-sub-when-collapse=\"0\"> <a class=\"we-mega-menu-li\" href=\"/history/hispanic-heritage\" target=\"\" title=\"\"> Hispanic Heritage Month </a> </li><li class=\"we-mega-menu-li\" data-element-type=\"we-mega-menu-li\" data-id=\"9646478f-f2ce-49e5-b90d-a26bc85f39d1\" data-level=\"2\" data-submenu=\"0\" hide-sub-when-collapse=\"0\"> <a class=\"we-mega-menu-li\" href=\"/history/womens-history\" target=\"\" title=\"\"> Women's History Month </a> </li></ul></div></div> </div></div></li></ul></div><div class=\"we-mega-menu-col span3\" data-blocktitle=\"1\" data-element-type=\"we-mega-menu-col\" data-hidewhencollapse=\"0\" data-width=\"3\"> <ul class=\"nav nav-tabs subul\"> <li class=\"we-mega-menu-li dropdown-menu we-mega-menu-group\" data-element-type=\"we-mega-menu-li\" data-group=\"1\" data-id=\"823c9906-9f40-4c10-8bb9-57da2519a641\" data-level=\"1\" data-submenu=\"1\" hide-sub-when-collapse=\"0\"> <span class=\"we-megamenu-nolink\" data-drupal-link-system-path=\"&lt;front&gt;\">Math &amp; Science<i class=\"arrow down\"></i></span> <div class=\"we-mega-menu-submenu\" data-element-type=\"we-mega-menu-submenu\"> <div class=\"we-mega-menu-submenu-inner\"> <div class=\"we-mega-menu-row\" data-custom-row=\"0\" data-element-type=\"we-mega-menu-row\"> <div class=\"we-mega-menu-col span12\" data-element-type=\"we-mega-menu-col\" data-hidewhencollapse=\"0\" data-width=\"12\"> <ul class=\"nav nav-tabs subul\"> <li class=\"we-mega-menu-li\" data-element-type=\"we-mega-menu-li\" data-id=\"ad31b703-5dfd-4ea0-bea2-52aff8db39cc\" data-level=\"2\" data-submenu=\"0\" hide-sub-when-collapse=\"0\"> <a class=\"we-mega-menu-li\" href=\"/math-science\" target=\"\" title=\"\"> Math &amp; Science Overview </a> </li><li class=\"we-mega-menu-li\" data-element-type=\"we-mega-menu-li\" data-id=\"a924bf45-ec7b-4870-97a9-fc046d125d37\" data-level=\"2\" data-submenu=\"0\" hide-sub-when-collapse=\"0\"> <a class=\"we-mega-menu-li\" href=\"/math-science/aviation\" target=\"\" title=\"\"> Aviation </a> </li><li class=\"we-mega-menu-li\" data-element-type=\"we-mega-menu-li\" data-id=\"0b4e7ad8-b50a-469c-934a-2f3e129fe476\" data-level=\"2\" data-submenu=\"0\" hide-sub-when-collapse=\"0\"> <a class=\"we-mega-menu-li\" href=\"/math-science/biology\" target=\"\" title=\"\"> Biology </a> </li><li class=\"we-mega-menu-li\" data-element-type=\"we-mega-menu-li\" data-id=\"5d21d31e-4f9b-4610-8779-69692b65c49d\" data-level=\"2\" data-submenu=\"0\" hide-sub-when-collapse=\"0\"> <a class=\"we-mega-menu-li\" href=\"/math-science/computers-internet\" target=\"\" title=\"\"> Computers &amp; Internet </a> </li><li class=\"we-mega-menu-li\" data-element-type=\"we-mega-menu-li\" data-id=\"789f214d-109b-4b6a-8084-75bbc0aa448d\" data-level=\"2\" data-submenu=\"0\" hide-sub-when-collapse=\"0\"> <a class=\"we-mega-menu-li\" href=\"/math-science/earth-environment\" target=\"\" title=\"\"> Earth &amp; Environment </a> </li><li class=\"we-mega-menu-li\" data-element-type=\"we-mega-menu-li\" data-id=\"f5853629-653e-45e3-a782-57b0a357fb31\" data-level=\"2\" data-submenu=\"0\" hide-sub-when-collapse=\"0\"> <a class=\"we-mega-menu-li\" href=\"/math-science/health\" target=\"\" title=\"\"> Health </a> </li><li class=\"we-mega-menu-li\" data-element-type=\"we-mega-menu-li\" data-id=\"e906c067-e474-4ac3-b6fa-d158707529fd\" data-level=\"2\" data-submenu=\"0\" hide-sub-when-collapse=\"0\"> <a class=\"we-mega-menu-li\" href=\"/math-science/inventions-discoveries\" target=\"\" title=\"\"> Inventions &amp; Discoveries </a> </li><li class=\"we-mega-menu-li\" data-element-type=\"we-mega-menu-li\" data-id=\"1616d2b9-7d57-4980-9559-5bdc425e5e61\" data-level=\"2\" data-submenu=\"0\" hide-sub-when-collapse=\"0\"> <a class=\"we-mega-menu-li\" href=\"/math-science/mathematics\" target=\"\" title=\"\"> Mathematics </a> </li><li class=\"we-mega-menu-li\" data-element-type=\"we-mega-menu-li\" data-id=\"f306cda5-cdc9-476e-9d51-4e64af61e583\" data-level=\"2\" data-submenu=\"0\" hide-sub-when-collapse=\"0\"> <a class=\"we-mega-menu-li\" href=\"/math-science/physics\" target=\"\" title=\"\"> Physics </a> </li><li class=\"we-mega-menu-li\" data-element-type=\"we-mega-menu-li\" data-id=\"37a433fe-ab89-4d18-b369-3ea72e8ad9fc\" data-level=\"2\" data-submenu=\"0\" hide-sub-when-collapse=\"0\"> <a class=\"we-mega-menu-li\" href=\"/math-science/space\" target=\"\" title=\"\"> Space </a> </li><li class=\"we-mega-menu-li\" data-element-type=\"we-mega-menu-li\" data-id=\"92382932-5ad4-4351-832a-94d653aa683c\" data-level=\"2\" data-submenu=\"0\" hide-sub-when-collapse=\"0\"> <a class=\"we-mega-menu-li\" href=\"/math-science/weather\" target=\"\" title=\"\"> Weather </a> </li><li class=\"we-mega-menu-li\" data-element-type=\"we-mega-menu-li\" data-id=\"7aad6b27-5acb-4bac-8acf-be91c836bbb8\" data-level=\"2\" data-submenu=\"0\" hide-sub-when-collapse=\"0\"> <a class=\"we-mega-menu-li\" href=\"/math-science/weights-measures\" target=\"\" title=\"\"> Weights &amp; Measures </a> </li></ul></div></div> </div></div></li><li class=\"we-mega-menu-li dropdown-menu we-mega-menu-group\" data-element-type=\"we-mega-menu-li\" data-group=\"1\" data-id=\"29a78c62-ce20-4f1e-bb70-da47b92141ae\" data-level=\"1\" data-submenu=\"1\" hide-sub-when-collapse=\"0\"> <span class=\"we-megamenu-nolink\" data-drupal-link-system-path=\"&lt;front&gt;\">Calendar &amp; Holidays<i class=\"arrow down\"></i></span> <div class=\"we-mega-menu-submenu\" data-element-type=\"we-mega-menu-submenu\"> <div class=\"we-mega-menu-submenu-inner\"> <div class=\"we-mega-menu-row\" data-custom-row=\"0\" data-element-type=\"we-mega-menu-row\"> <div class=\"we-mega-menu-col span12\" data-element-type=\"we-mega-menu-col\" data-hidewhencollapse=\"0\" data-width=\"12\"> <ul class=\"nav nav-tabs subul\"> <li class=\"we-mega-menu-li\" data-element-type=\"we-mega-menu-li\" data-id=\"7ebfbf4a-de2b-460b-930f-1928372833d7\" data-level=\"2\" data-submenu=\"0\" hide-sub-when-collapse=\"0\"> <a class=\"we-mega-menu-li\" href=\"/calendars\" target=\"\" title=\"\"> Calendar &amp; Holidays Overview </a> </li><li class=\"we-mega-menu-li\" data-element-type=\"we-mega-menu-li\" data-id=\"4411d1bf-0883-4267-8759-11614e0f285f\" data-level=\"2\" data-submenu=\"0\" hide-sub-when-collapse=\"0\"> <a class=\"we-mega-menu-li\" href=\"/calendars/history\" target=\"\" title=\"\"> Calendars </a> </li><li class=\"we-mega-menu-li\" data-element-type=\"we-mega-menu-li\" data-id=\"d76efcb5-a742-4b6a-b14d-217d6d76e9ca\" data-level=\"2\" data-submenu=\"0\" hide-sub-when-collapse=\"0\"> <a class=\"we-mega-menu-li\" href=\"/culture-entertainment/holidays\" target=\"\" title=\"\"> Holidays </a> </li><li class=\"we-mega-menu-li\" data-element-type=\"we-mega-menu-li\" data-id=\"56cc31b3-222b-448a-bf5c-bd325334323d\" data-level=\"2\" data-submenu=\"0\" hide-sub-when-collapse=\"0\"> <a class=\"we-mega-menu-li\" href=\"/calendars/months-seasons\" target=\"\" title=\"\"> Seasons, Months, Days </a> </li><li class=\"we-mega-menu-li\" data-element-type=\"we-mega-menu-li\" data-id=\"fe1989d7-ce71-4b13-9848-4f86e931467e\" data-level=\"2\" data-submenu=\"0\" hide-sub-when-collapse=\"0\"> <a class=\"we-mega-menu-li\" href=\"/calendar\" target=\"\" title=\"\"> Perpetual Calendar </a> </li></ul></div></div> </div></div></li></ul></div><div class=\"we-mega-menu-col span3\" data-blocktitle=\"1\" data-element-type=\"we-mega-menu-col\" data-hidewhencollapse=\"0\" data-width=\"3\"> <ul class=\"nav nav-tabs subul\"> <li class=\"we-mega-menu-li dropdown-menu we-mega-menu-group\" data-element-type=\"we-mega-menu-li\" data-group=\"1\" data-id=\"460bd358-e183-4af6-a30d-8c241e4f3651\" data-level=\"1\" data-submenu=\"1\" hide-sub-when-collapse=\"0\"> <span class=\"we-megamenu-nolink\" data-drupal-link-system-path=\"&lt;front&gt;\">Business<i class=\"arrow down\"></i></span> <div class=\"we-mega-menu-submenu\" data-element-type=\"we-mega-menu-submenu\"> <div class=\"we-mega-menu-submenu-inner\"> <div class=\"we-mega-menu-row\" data-custom-row=\"0\" data-element-type=\"we-mega-menu-row\"> <div class=\"we-mega-menu-col span12\" data-element-type=\"we-mega-menu-col\" data-hidewhencollapse=\"0\" data-width=\"12\"> <ul class=\"nav nav-tabs subul\"> <li class=\"we-mega-menu-li\" data-element-type=\"we-mega-menu-li\" data-id=\"b1311617-2ec4-4bde-804a-719134a89765\" data-level=\"2\" data-submenu=\"0\" hide-sub-when-collapse=\"0\"> <a class=\"we-mega-menu-li\" href=\"/business-and-finance\" target=\"\" title=\"\"> Business Overview </a> </li><li class=\"we-mega-menu-li\" data-element-type=\"we-mega-menu-li\" data-id=\"9513d3b1-064f-4a95-9e98-a0c9ed4302f3\" data-level=\"2\" data-submenu=\"0\" description=\"Business\" hide-sub-when-collapse=\"0\"> <a class=\"we-mega-menu-li\" href=\"/business/business-statistics\" target=\"\" title=\"Business\"> Business </a> </li><li class=\"we-mega-menu-li\" data-element-type=\"we-mega-menu-li\" data-id=\"4feb0c14-5b30-4a3d-8f9d-8d69a49f82ff\" data-level=\"2\" data-submenu=\"0\" description=\"Consumer Resources\" hide-sub-when-collapse=\"0\"> <a class=\"we-mega-menu-li\" href=\"/business/consumer-resources\" target=\"\" title=\"Consumer Resources\"> Consumer Resources </a> </li><li class=\"we-mega-menu-li\" data-element-type=\"we-mega-menu-li\" data-id=\"757bd3fa-14b6-4466-8e1f-4d6277557bc9\" data-level=\"2\" data-submenu=\"0\" hide-sub-when-collapse=\"0\"> <a class=\"we-mega-menu-li\" href=\"/business/money\" target=\"\" title=\"\"> Currency </a> </li><li class=\"we-mega-menu-li\" data-element-type=\"we-mega-menu-li\" data-id=\"afe3b0e4-dbb8-48db-823f-833990412195\" data-level=\"2\" data-submenu=\"0\" description=\"Economy\" hide-sub-when-collapse=\"0\"> <a class=\"we-mega-menu-li\" href=\"/business/economy\" target=\"\" title=\"Economy\"> Economy </a> </li><li class=\"we-mega-menu-li\" data-element-type=\"we-mega-menu-li\" data-id=\"d71a21f6-4513-4b0b-85e3-7536e3c8abb1\" data-level=\"2\" data-submenu=\"0\" hide-sub-when-collapse=\"0\"> <a class=\"we-mega-menu-li\" href=\"/business/labor\" target=\"\" title=\"\"> Employment &amp; Labor </a> </li><li class=\"we-mega-menu-li\" data-element-type=\"we-mega-menu-li\" data-id=\"96f6fbb9-2438-42e8-b2a9-28d2fb98fc3d\" data-level=\"2\" data-submenu=\"0\" description=\"Personal Finance\" hide-sub-when-collapse=\"0\"> <a class=\"we-mega-menu-li\" href=\"/business/consumer-resources/personal-finance\" target=\"\" title=\"Personal Finance\"> Personal Finance </a> </li><li class=\"we-mega-menu-li\" data-element-type=\"we-mega-menu-li\" data-id=\"a4bbd341-91b6-4f5a-9c15-fcb11d0264c4\" data-level=\"2\" data-submenu=\"0\" description=\"Poverty &amp; Income\" hide-sub-when-collapse=\"0\"> <a class=\"we-mega-menu-li\" href=\"/business/poverty-income\" target=\"\" title=\"Poverty &amp;amp; Income\"> Poverty &amp; Income </a> </li><li class=\"we-mega-menu-li\" data-element-type=\"we-mega-menu-li\" data-id=\"1b6f5657-2b70-428f-b6f0-6805afc58846\" data-level=\"2\" data-submenu=\"0\" description=\"Taxes\" hide-sub-when-collapse=\"0\"> <a class=\"we-mega-menu-li\" href=\"/business/economy/taxes\" target=\"\" title=\"Taxes\"> Taxes </a> </li></ul></div></div> </div></div></li><li class=\"we-mega-menu-li dropdown-menu we-mega-menu-group\" data-element-type=\"we-mega-menu-li\" data-group=\"1\" data-id=\"8f6bc10c-f6ac-4aeb-a173-e18ad1841128\" data-level=\"1\" data-submenu=\"1\" hide-sub-when-collapse=\"0\"> <span class=\"we-megamenu-nolink\" data-drupal-link-system-path=\"&lt;front&gt;\">Primary Sources<i class=\"arrow down\"></i></span> <div class=\"we-mega-menu-submenu\" data-element-type=\"we-mega-menu-submenu\"> <div class=\"we-mega-menu-submenu-inner\"> <div class=\"we-mega-menu-row\" data-custom-row=\"0\" data-element-type=\"we-mega-menu-row\"> <div class=\"we-mega-menu-col span12\" data-element-type=\"we-mega-menu-col\" data-hidewhencollapse=\"0\" data-width=\"12\"> <ul class=\"nav nav-tabs subul\"> <li class=\"we-mega-menu-li\" data-element-type=\"we-mega-menu-li\" data-id=\"3afed967-659a-4564-81d3-3bf591e0dc22\" data-level=\"2\" data-submenu=\"0\" hide-sub-when-collapse=\"0\"> <a class=\"we-mega-menu-li\" href=\"/primary-sources\" target=\"\" title=\"\"> Primary Sources Overview </a> </li><li class=\"we-mega-menu-li\" data-element-type=\"we-mega-menu-li\" data-id=\"a0ff5327-d5c0-48e5-ba40-8ab97d733777\" data-level=\"2\" data-submenu=\"0\" hide-sub-when-collapse=\"0\"> <a class=\"we-mega-menu-li\" href=\"/primary-sources/philosophy-religion\" target=\"\" title=\"\"> Philosophy &amp; Religion </a> </li><li class=\"we-mega-menu-li\" data-element-type=\"we-mega-menu-li\" data-id=\"eb835e9d-1daa-4e9d-a932-25e4e1c99f09\" data-level=\"2\" data-submenu=\"0\" hide-sub-when-collapse=\"0\"> <a class=\"we-mega-menu-li\" href=\"/primary-sources/fables-fairytales\" target=\"\" title=\"\"> Fables &amp; Fairy Tales </a> </li><li class=\"we-mega-menu-li\" data-element-type=\"we-mega-menu-li\" data-id=\"4cedd10c-1b01-4072-9c53-311f846a73e4\" data-level=\"2\" data-submenu=\"0\" hide-sub-when-collapse=\"0\"> <a class=\"we-mega-menu-li\" href=\"/primary-sources/government\" target=\"\" title=\"\"> Government </a> </li><li class=\"we-mega-menu-li\" data-element-type=\"we-mega-menu-li\" data-id=\"aefbd0b6-b078-45d0-9705-5b8cdb1f7a9d\" data-level=\"2\" data-submenu=\"0\" hide-sub-when-collapse=\"0\"> <a class=\"we-mega-menu-li\" href=\"/primary-sources/history-biography\" target=\"\" title=\"\"> History &amp; Biography </a> </li><li class=\"we-mega-menu-li\" data-element-type=\"we-mega-menu-li\" data-id=\"feeac410-62de-4c7c-979c-debf7d0a60ec\" data-level=\"2\" data-submenu=\"0\" hide-sub-when-collapse=\"0\"> <a class=\"we-mega-menu-li\" href=\"/primary-sources/poetry\" target=\"\" title=\"\"> Poetry </a> </li><li class=\"we-mega-menu-li\" data-element-type=\"we-mega-menu-li\" data-id=\"4888d99f-f9f3-47f9-9789-cef11babf5c1\" data-level=\"2\" data-submenu=\"0\" hide-sub-when-collapse=\"0\"> <a class=\"we-mega-menu-li\" href=\"/primary-sources/speeches-essays\" target=\"\" title=\"\"> Speeches &amp; Essays </a> </li><li class=\"we-mega-menu-li\" data-element-type=\"we-mega-menu-li\" data-id=\"d4ae94e0-8a6f-488e-aedf-2af5588f8acf\" data-level=\"2\" data-submenu=\"0\" hide-sub-when-collapse=\"0\"> <a class=\"we-mega-menu-li\" href=\"/primary-sources/books-plays\" target=\"\" title=\"\"> Books &amp; Plays </a> </li></ul></div></div> </div></div></li><li class=\"we-mega-menu-li dropdown-menu we-mega-menu-group\" data-element-type=\"we-mega-menu-li\" data-group=\"1\" data-id=\"d8fe03d9-7281-434f-99d8-20bb7c5a5c4f\" data-level=\"1\" data-submenu=\"1\" data-target=\"_self\" hide-sub-when-collapse=\"0\"> <span class=\"we-megamenu-nolink\" data-drupal-link-system-path=\"&lt;front&gt;\">Ask the Editors<i class=\"arrow down\"></i></span> <div class=\"we-mega-menu-submenu\" data-element-type=\"we-mega-menu-submenu\"> <div class=\"we-mega-menu-submenu-inner\"> <div class=\"we-mega-menu-row\" data-custom-row=\"0\" data-element-type=\"we-mega-menu-row\"> <div class=\"we-mega-menu-col span12\" data-element-type=\"we-mega-menu-col\" data-hidewhencollapse=\"0\" data-width=\"12\"> <ul class=\"nav nav-tabs subul\"> <li class=\"we-mega-menu-li\" data-element-type=\"we-mega-menu-li\" data-id=\"0b5e80e8-3b89-44fd-9c59-936fa70e3df2\" data-level=\"2\" data-submenu=\"0\" data-target=\"_self\" hide-sub-when-collapse=\"0\"> <a class=\"we-mega-menu-li\" href=\"/askeds\" target=\"_self\" title=\"\"> View All Questions &amp; Answers </a> </li></ul></div></div> </div></div></li></ul></div></div> </div></div></li><li class=\"we-mega-menu-li dropdown-menu show-desktop main-menu-tools\" data-class=\"show-desktop main-menu-tools\" data-element-type=\"we-mega-menu-li\" data-group=\"0\" data-id=\"2e777ddd-8c5d-47c9-8025-33ebe0b5aa9c\" data-level=\"0\" data-submenu=\"1\" hide-sub-when-collapse=\"0\"> <span class=\"we-megamenu-nolink\" data-drupal-link-system-path=\"&lt;front&gt;\">Tools<i class=\"arrow down\"></i></span> <div class=\"we-mega-menu-submenu\" data-element-type=\"we-mega-menu-submenu\"> <div class=\"we-mega-menu-submenu-inner\"> <div class=\"we-mega-menu-row\" data-custom-row=\"0\" data-element-type=\"we-mega-menu-row\"> <div class=\"we-mega-menu-col span6\" data-element-type=\"we-mega-menu-col\" data-hidewhencollapse=\"0\" data-width=\"6\"> <ul class=\"nav nav-tabs subul\"> <li class=\"we-mega-menu-li\" data-element-type=\"we-mega-menu-li\" data-id=\"5e333d26-f3ae-4028-86a8-706eaa8ffc85\" data-level=\"1\" data-submenu=\"0\" hide-sub-when-collapse=\"0\"> <a class=\"we-mega-menu-li\" href=\"/conversion-calculator\" target=\"\" title=\"\"> Conversion Calculator </a> </li><li class=\"we-mega-menu-li\" data-element-type=\"we-mega-menu-li\" data-id=\"fe7e30ab-c7a0-436b-804a-864a5904f3f4\" data-level=\"1\" data-submenu=\"0\" hide-sub-when-collapse=\"0\"> <a class=\"we-mega-menu-li\" href=\"/atlas/latitude-longitude\" target=\"\" title=\"\"> Latitude &amp; Longitude </a> </li><li class=\"we-mega-menu-li\" data-element-type=\"we-mega-menu-li\" data-id=\"a61a0ac9-5d80-446b-a641-5db5a7e8ea2c\" data-level=\"1\" data-submenu=\"0\" hide-sub-when-collapse=\"0\"> <a class=\"we-mega-menu-li\" href=\"/calendar\" target=\"\" title=\"\"> Perpetual Calendar </a> </li><li class=\"we-mega-menu-li\" data-element-type=\"we-mega-menu-li\" data-id=\"df73eac9-3705-471d-a220-469569eab2b3\" data-level=\"1\" data-submenu=\"0\" hide-sub-when-collapse=\"0\"> <a class=\"we-mega-menu-li\" href=\"/dictionary\" target=\"\" title=\"\"> Dictionary </a> </li><li class=\"we-mega-menu-li\" data-element-type=\"we-mega-menu-li\" data-id=\"6c5c3d7c-ffd1-4c40-a868-e9692d71c5f4\" data-level=\"1\" data-submenu=\"0\" hide-sub-when-collapse=\"0\"> <a class=\"we-mega-menu-li\" href=\"/thesaurus\" target=\"\" title=\"\"> Thesaurus </a> </li><li class=\"we-mega-menu-li\" data-element-type=\"we-mega-menu-li\" data-id=\"3018a940-9a0b-41d1-950b-893f2cac3886\" data-level=\"1\" data-submenu=\"0\" hide-sub-when-collapse=\"0\"> <a class=\"we-mega-menu-li\" href=\"/atlas/calculate-distance\" target=\"\" title=\"\"> Distance Calculator </a> </li><li class=\"we-mega-menu-li\" data-element-type=\"we-mega-menu-li\" data-id=\"b83929b5-c2ce-4cd0-add6-c643d1542ed3\" data-level=\"1\" data-submenu=\"0\" hide-sub-when-collapse=\"0\"> <a class=\"we-mega-menu-li\" href=\"/math-science/chemistry/periodic-table\" target=\"\" title=\"\"> Periodic Table </a> </li><li class=\"we-mega-menu-li\" data-element-type=\"we-mega-menu-li\" data-id=\"72ca68da-9f4a-4d9c-a32d-4d75531731ff\" data-level=\"1\" data-submenu=\"0\" hide-sub-when-collapse=\"0\"> <a class=\"we-mega-menu-li\" href=\"/videos\" target=\"\" title=\"\"> Videos </a> </li></ul></div><div class=\"we-mega-menu-col span6\" data-blocktitle=\"1\" data-element-type=\"we-mega-menu-col\" data-hidewhencollapse=\"0\" data-width=\"6\"> <ul class=\"nav nav-tabs subul\"> <li class=\"we-mega-menu-li\" data-element-type=\"we-mega-menu-li\" data-id=\"e3e7c305-dcb0-47ed-9c51-74259aa3a7c2\" data-level=\"1\" data-submenu=\"0\" data-target=\"_self\" hide-sub-when-collapse=\"0\"> <a class=\"we-mega-menu-li\" href=\"/spelling-check\" target=\"_self\" title=\"\"> Spellcheck </a> </li><li class=\"we-mega-menu-li menu-tools-atlas dropdown-menu\" data-class=\"menu-tools-atlas\" data-element-type=\"we-mega-menu-li\" data-id=\"c35ff46f-42ff-45df-ab3c-e760791c12af\" data-level=\"1\" data-submenu=\"1\" hide-sub-when-collapse=\"0\"> <a class=\"we-mega-menu-li\" href=\"/atlas\" target=\"\" title=\"\"> Atlas </a> <div class=\"we-mega-menu-submenu\" data-element-type=\"we-mega-menu-submenu\"> <div class=\"we-mega-menu-submenu-inner\"> <div class=\"we-mega-menu-row\" data-custom-row=\"1\" data-element-type=\"we-mega-menu-row\"> <div class=\"we-mega-menu-col span12\" data-block=\"atlastoolsmenu\" data-blocktitle=\"1\" data-element-type=\"we-mega-menu-col\" data-hidewhencollapse=\"0\" data-width=\"12\"> <div class=\"type-of-block\"><div class=\"block-inner\"><h2>Atlas Tools Menu</h2><div class=\"block\" id=\"block-atlastoolsmenu\"> <a href=\"/atlas\">Atlas »</a> <p>Learn more about the world with our collection of regional and country maps.</p> <div> <div class=\"field_menu_grid\"><div class=\"field-collection-item field-collection-item--name-field-menu-grid field-collection-item--view-mode-full\"> <div class=\"content\"> <img alt=\"Europe\" class=\"menu-lazy menu_lazy_load_image\" data-lazysrc=\"/sites/infoplease.com/files/styles/scale600w/public/2020-04/europe.jpg?itok=ebEl2eAK\" height=\"333\" loading=\"lazy\" width=\"600\"/> <div class=\"field_menu_grid_title\"> <div class=\"field__label\">Title</div> <div class=\"field__item\">Maps of Europe</div> </div> <p>Brush up on your geography and finally learn what countries are in Eastern Europe with our maps.</p> <a href=\"/atlas/europe\">Maps of Europe »</a> </div></div></div> <div class=\"field_menu_grid\"><div class=\"field-collection-item field-collection-item--name-field-menu-grid field-collection-item--view-mode-full\"> <div class=\"content\"> <img alt=\"Middle East\" class=\"menu-lazy menu_lazy_load_image\" data-lazysrc=\"/sites/infoplease.com/files/styles/scale600w/public/2020-04/middleeast.jpg?itok=Gc5KL7-t\" height=\"333\" loading=\"lazy\" width=\"600\"/> <div class=\"field_menu_grid_title\"> <div class=\"field__label\">Title</div> <div class=\"field__item\">Maps of the Middle East</div> </div> <p>Not sure about the geography of the middle east? We've got you covered with our map collection.</p> <a href=\"/atlas/middle-east\">Maps of the Middle East »</a> </div></div></div> </div> </div></div></div></div></div> </div></div></li><li class=\"we-mega-menu-li dropdown-menu\" data-element-type=\"we-mega-menu-li\" data-id=\"2e0f0558-c45c-477d-b238-6ac7fd976580\" data-level=\"1\" data-submenu=\"1\" hide-sub-when-collapse=\"0\"> <a class=\"we-mega-menu-li\" href=\"/encyclopedia\" target=\"\" title=\"\"> Encyclopedia </a> <div class=\"we-mega-menu-submenu\" data-element-type=\"we-mega-menu-submenu\"> <div class=\"we-mega-menu-submenu-inner\"> <div class=\"we-mega-menu-row\" data-custom-row=\"1\" data-element-type=\"we-mega-menu-row\"> <div class=\"we-mega-menu-col span12\" data-block=\"encyclopediatoolsmenu\" data-blocktitle=\"1\" data-element-type=\"we-mega-menu-col\" data-hidewhencollapse=\"0\" data-width=\"12\"> <div class=\"type-of-block\"><div class=\"block-inner\"><h2>Encyclopedia Tools Menu</h2><div class=\"block\" id=\"block-encyclopediatoolsmenu\"> <a href=\"/encyclopedia\">Encyclopedia »</a> <p>Need a reference? Check our encyclopedia for a gloss on thousands of topics from biographies to the table of elements.</p> <div> <div class=\"field_menu_grid\"><div class=\"field-collection-item field-collection-item--name-field-menu-grid field-collection-item--view-mode-full\"> <div class=\"content\"> <img alt=\"The Trojan War\" class=\"menu-lazy menu_lazy_load_image\" data-lazysrc=\"/sites/infoplease.com/files/styles/scale600w/public/2020-04/Triumph_of_Achilles_in_Corfu_Achilleion.jpg?itok=bqLAl-Mb\" height=\"333\" loading=\"lazy\" width=\"600\"/> <div class=\"field_menu_grid_title\"> <div class=\"field__label\">Title</div> <div class=\"field__item\">The Trojan War</div> </div> <p>Learn more about the mythic conflict between the Argives and the Trojans.</p> <a href=\"/encyclopedia/arts/classical-lit/myths-folklore/trojan-war\">The Trojan War »</a> </div></div></div> <div class=\"field_menu_grid\"><div class=\"field-collection-item field-collection-item--name-field-menu-grid field-collection-item--view-mode-full\"> <div class=\"content\"> <img alt=\"Buddhism\" class=\"menu-lazy menu_lazy_load_image\" data-lazysrc=\"/sites/infoplease.com/files/styles/scale600w/public/2020-04/iStock-1163662016.jpg?itok=nQK7DBsZ\" height=\"333\" loading=\"lazy\" width=\"600\"/> <div class=\"field_menu_grid_title\"> <div class=\"field__label\">Title</div> <div class=\"field__item\">Buddhism</div> </div> <p>Learn about one of the world's oldest and most popular religions.</p> <a href=\"/encyclopedia/religion/eastern/buddhism/buddhism/basic-beliefs-and-practices\">Buddhism »</a> </div></div></div> </div> </div></div></div></div></div> </div></div></li></ul></div></div> </div></div></li><li class=\"we-mega-menu-li dropdown-menu show-mobile\" data-class=\"show-mobile\" data-element-type=\"we-mega-menu-li\" data-group=\"0\" data-id=\"3a19eceb-3b38-41de-b670-2cadc9a43db1\" data-level=\"0\" data-submenu=\"1\" hide-sub-when-collapse=\"0\"> <span class=\"we-megamenu-nolink\" data-drupal-link-system-path=\"&lt;front&gt;\">Tools<i class=\"arrow down\"></i></span> <div class=\"we-mega-menu-submenu\" data-element-type=\"we-mega-menu-submenu\"> <div class=\"we-mega-menu-submenu-inner\"> <div class=\"we-mega-menu-row\" data-custom-row=\"0\" data-element-type=\"we-mega-menu-row\"> <div class=\"we-mega-menu-col span12\" data-element-type=\"we-mega-menu-col\" data-hidewhencollapse=\"0\" data-width=\"12\"> <ul class=\"nav nav-tabs subul\"> <li class=\"we-mega-menu-li\" data-element-type=\"we-mega-menu-li\" data-id=\"501ad0d1-f040-4423-b9be-505e10f8cbdb\" data-level=\"1\" data-submenu=\"0\" hide-sub-when-collapse=\"0\"> <a class=\"we-mega-menu-li\" href=\"/conversion-calculator\" target=\"\" title=\"\"> Conversion Calculator </a> </li><li class=\"we-mega-menu-li\" data-element-type=\"we-mega-menu-li\" data-id=\"7d7af736-828f-4a52-b92b-23ab199ec5d3\" data-level=\"1\" data-submenu=\"0\" hide-sub-when-collapse=\"0\"> <a class=\"we-mega-menu-li\" href=\"/atlas/latitude-longitude\" target=\"\" title=\"\"> Latitude &amp; Longitude </a> </li><li class=\"we-mega-menu-li\" data-element-type=\"we-mega-menu-li\" data-id=\"0c257c8f-b968-406f-adb9-85e12e3c4bfa\" data-level=\"1\" data-submenu=\"0\" hide-sub-when-collapse=\"0\"> <a class=\"we-mega-menu-li\" href=\"/calendar\" target=\"\" title=\"\"> Perpetual Calendar </a> </li><li class=\"we-mega-menu-li\" data-element-type=\"we-mega-menu-li\" data-id=\"51a704e4-affb-4bb9-a641-86d000766348\" data-level=\"1\" data-submenu=\"0\" hide-sub-when-collapse=\"0\"> <a class=\"we-mega-menu-li\" href=\"/dictionary\" target=\"\" title=\"\"> Dictionary </a> </li><li class=\"we-mega-menu-li\" data-element-type=\"we-mega-menu-li\" data-id=\"cb7dbf20-e015-47c6-9a2e-f2a1f75ca130\" data-level=\"1\" data-submenu=\"0\" hide-sub-when-collapse=\"0\"> <a class=\"we-mega-menu-li\" href=\"/thesaurus\" target=\"\" title=\"\"> Thesaurus </a> </li><li class=\"we-mega-menu-li\" data-element-type=\"we-mega-menu-li\" data-id=\"19fbc65b-0112-43fc-8f06-fe9419bb5c57\" data-level=\"1\" data-submenu=\"0\" hide-sub-when-collapse=\"0\"> <a class=\"we-mega-menu-li\" href=\"/math-science/chemistry/periodic-table\" target=\"\" title=\"\"> Periodic Table </a> </li><li class=\"we-mega-menu-li\" data-element-type=\"we-mega-menu-li\" data-id=\"b2bdfbdc-509f-480a-9d4c-b2a5b84abefa\" data-level=\"1\" data-submenu=\"0\" hide-sub-when-collapse=\"0\"> <a class=\"we-mega-menu-li\" href=\"/atlas/calculate-distance\" target=\"\" title=\"\"> Distance Calculator </a> </li><li class=\"we-mega-menu-li\" data-element-type=\"we-mega-menu-li\" data-id=\"824351be-2933-4665-8d68-b9d980202020\" data-level=\"1\" data-submenu=\"0\" hide-sub-when-collapse=\"0\"> <a class=\"we-mega-menu-li\" href=\"/videos\" target=\"\" title=\"\"> Videos </a> </li><li class=\"we-mega-menu-li\" data-element-type=\"we-mega-menu-li\" data-id=\"5109beb8-fbe5-4cfc-8504-d9a7b6e4b984\" data-level=\"1\" data-submenu=\"0\" hide-sub-when-collapse=\"0\"> <a class=\"we-mega-menu-li\" href=\"/atlas\" target=\"\" title=\"\"> Atlas </a> </li><li class=\"we-mega-menu-li\" data-element-type=\"we-mega-menu-li\" data-id=\"020e0659-8dea-49f7-a609-8cc65678b67e\" data-level=\"1\" data-submenu=\"0\" hide-sub-when-collapse=\"0\"> <a class=\"we-mega-menu-li\" href=\"/encyclopedia\" target=\"\" title=\"\"> Encyclopedia </a> </li></ul></div></div> </div></div></li><li class=\"we-mega-menu-li\" data-element-type=\"we-mega-menu-li\" data-id=\"6867f29f-8726-4c62-9eae-2ffd482a5664\" data-level=\"0\" data-submenu=\"0\" description=\"Quizzes and Trivia\" hide-sub-when-collapse=\"0\"> <a class=\"we-mega-menu-li\" href=\"/quizzes\" target=\"\" title=\"Quizzes and Trivia\"> Quizzes </a> </li><li class=\"we-mega-menu-li\" data-element-type=\"we-mega-menu-li\" data-id=\"503b6b2f-f62d-4a18-a790-17487bcc65c9\" data-level=\"0\" data-submenu=\"0\" hide-sub-when-collapse=\"0\"> <a class=\"we-mega-menu-li\" href=\"/top-ten-archive\" target=\"\" title=\"\"> Top 10s </a> </li><li class=\"we-mega-menu-li\" data-element-type=\"we-mega-menu-li\" data-id=\"53ad389c-5f3b-4481-b5d3-9efd966a6f0a\" data-level=\"0\" data-submenu=\"0\" hide-sub-when-collapse=\"0\"> <a class=\"we-mega-menu-li\" href=\"/daily\" target=\"\" title=\"\"> Day In History </a> </li></ul> </div></nav></div> </div><div class=\"ip-search-form block\" data-drupal-selector=\"ip-search-form\" id=\"block-ipsearchformblock\"> <form accept-charset=\"UTF-8\" action=\"/us/postal-information/state-abbreviations-and-state-postal-codes\" id=\"ip-search-form\" method=\"post\"> <div class=\"js-form-item form-item js-form-type-search-api-autocomplete form-item-keys js-form-item-keys form-no-label\"> <label class=\"visually-hidden\" for=\"edit-keys\">Search</label> <input class=\"form-autocomplete form-text\" data-autocomplete-path=\"/search_api_autocomplete/search\" data-drupal-selector=\"edit-keys\" data-search-api-autocomplete-search=\"search\" id=\"edit-keys\" maxlength=\"128\" name=\"keys\" placeholder=\"Search\" size=\"60\" title=\"Enter the terms you wish to search for.\" type=\"text\" value=\"\"/> <span class=\"field-suffix\"><div class=\"voice-search-block\"><img src=\"/modules/contrib/custom_voice_search/images/mic.png\"/></div></span> </div><input class=\"form-actions button js-form-submit form-submit\" data-drupal-selector=\"edit-submit\" id=\"edit-submit--3\" name=\"op\" type=\"submit\" value=\"Search\"/><input autocomplete=\"off\" data-drupal-selector=\"form-ssmtvifuplninpk-qukx5-osjxiq3oeesf921mgye-g\" name=\"form_build_id\" type=\"hidden\" value=\"form-sSMtvIFUpLNinpK-qUKX5_OSjXIq3OeeSF921mgyE-g\"/><input data-drupal-selector=\"edit-ip-search-form\" name=\"form_id\" type=\"hidden\" value=\"ip_search_form\"/></form> </div> </div> </header> <div id=\"content-anchor\" style=\"position:absolute;\"></div> <section class=\"layout-full-width\"> <div class=\"block\" id=\"block-ipleaderboardad\"> <!-- 728 x 90 ATF Desktop --><div data-pw-desk=\"leaderboard_atf\"> </div> </div> </section><div class=\"container node-166023\"> <main class=\"row add-mobile-margin\"> <div class=\"main-section col-sm-8 article-feed\"> <div id=\"content-anchor\" style=\"position:absolute;\"></div> <article class=\"article\"> <nav aria-labelledby=\"system-breadcrumb\" class=\"page-breadcrumb\" role=\"navigation\"> <h2 class=\"visually-hidden\" id=\"system-breadcrumb\">Breadcrumb</h2> <ol class=\"breadcrumb-navigation\"> <li> <a href=\"/\">Home</a> &gt; </li> <li> <a href=\"/us\">U.S.</a> &gt; </li> <li> State Abbreviations </li> </ol> </nav> <h1 class=\"page-title\"><span>State Abbreviations</span></h1> <section class=\"main-section col-sm-12\" id=\"mainaside\"> <div class=\"hidden\" data-drupal-messages-fallback=\"\"></div> <article data-history-node-id=\"166023\" role=\"article\"> <div class=\"update-date\"> Updated September 18, 2021 | <a href=\"/about-us#Our%20Editors\"> Logan Chamberlain </a><img height=\"12px\" src=\"/themes/ip/images/info-circle.png\" title=\"Updated by an Infoplease Editor on September 18, 2021\" width=\"12px\"/> </div> <h2>From AL to WY</h2><p>The post office advises people to write out full state names when sending a letter. But, especially in the age of texting, people like to abbreviate. Here are the recognized abbreviations for each state name, as well as their official two-letter postal code. If you think you know them all, try our <a href=\"/take-quiz/postal-codes\">postal codes quiz</a>.</p><table border=\"0\" class=\"sgmltable\" style=\"border-collapse: collapse;display:table\"><thead><tr><th align=\"left\" scope=\"col\" style=\"height: 25px; width: 40%;\" valign=\"bottom\">State Name/District</th><th align=\"center\" scope=\"col\" style=\"height: 25px; width: 30%;\" valign=\"bottom\">Postal Abbreviation</th><th align=\"center\" scope=\"col\" style=\"height: 25px; width: 30%;\" valign=\"bottom\">Postal Code</th></tr></thead><tbody><tr><td align=\"left\" style=\"width: 40%; background-color:#f6f3f3;\" valign=\"bottom\"><a href=\"/us/states/alabama\">Alabama </a></td><td align=\"left\" style=\"width: 30%; background-color:#f6f3f3;\" valign=\"bottom\">Ala.</td><td align=\"left\" style=\"width: 30%; background-color:#f6f3f3;\" valign=\"bottom\">AL</td></tr><tr><td align=\"left\" style=\"width: 40%;\" valign=\"bottom\"><a href=\"/us/states/alaska\">Alaska </a></td><td align=\"left\" style=\"width: 30%;\" valign=\"bottom\">Alaska</td><td align=\"left\" style=\"width: 30%;\" valign=\"bottom\">AK</td></tr><tr><td align=\"left\" style=\"width: 40%; background-color:#f6f3f3;\" valign=\"bottom\"><a href=\"/us/states/arizona\">Arizona </a></td><td align=\"left\" style=\"width: 30%; background-color:#f6f3f3;\" valign=\"bottom\">Ariz.</td><td align=\"left\" style=\"width: 30%; background-color:#f6f3f3;\" valign=\"bottom\">AZ</td></tr><tr><td align=\"left\" style=\"width: 40%;\" valign=\"bottom\"><a href=\"/us/states/arkansas\">Arkansas </a></td><td align=\"left\" style=\"width: 30%;\" valign=\"bottom\">Ark.</td><td align=\"left\" style=\"width: 30%;\" valign=\"bottom\">AR</td></tr><tr><td align=\"left\" style=\"width: 40%; background-color:#f6f3f3;\" valign=\"bottom\"><a href=\"/us/states/california\">California </a></td><td align=\"left\" style=\"width: 30%; background-color:#f6f3f3;\" valign=\"bottom\">Calif.</td><td align=\"left\" style=\"width: 30%; background-color:#f6f3f3;\" valign=\"bottom\">CA</td></tr><tr><td align=\"left\" style=\"width: 40%;\" valign=\"bottom\"><a href=\"/us/states/colorado\">Colorado </a></td><td align=\"left\" style=\"width: 30%;\" valign=\"bottom\">Colo.</td><td align=\"left\" style=\"width: 30%;\" valign=\"bottom\">CO</td></tr><tr><td align=\"left\" style=\"width: 40%; background-color:#f6f3f3;\" valign=\"bottom\"><a href=\"/us/states/connecticut\">Connecticut </a></td><td align=\"left\" style=\"width: 30%; background-color:#f6f3f3;\" valign=\"bottom\">Conn.</td><td align=\"left\" style=\"width: 30%; background-color:#f6f3f3;\" valign=\"bottom\">CT</td></tr><tr><td align=\"left\" style=\"width: 40%;\" valign=\"bottom\"><a href=\"/us/states/delaware\">Delaware </a></td><td align=\"left\" style=\"width: 30%;\" valign=\"bottom\">Del.</td><td align=\"left\" style=\"width: 30%;\" valign=\"bottom\">DE</td></tr><tr><td align=\"left\" style=\"width: 40%; background-color:#f6f3f3;\" valign=\"bottom\"><a href=\"/us/cities/washington-dc\">District of Columbia</a></td><td align=\"left\" style=\"width: 30%; background-color:#f6f3f3;\" valign=\"bottom\">D.C.</td><td align=\"left\" style=\"width: 30%; background-color:#f6f3f3;\" valign=\"bottom\">DC</td></tr><tr><td align=\"left\" style=\"width: 40%;\" valign=\"bottom\"><a href=\"/us/states/florida\">Florida </a></td><td align=\"left\" style=\"width: 30%;\" valign=\"bottom\">Fla.</td><td align=\"left\" style=\"width: 30%;\" valign=\"bottom\">FL</td></tr><tr><td align=\"left\" style=\"width: 40%; background-color:#f6f3f3;\" valign=\"bottom\"><a href=\"/us/states/georgia\">Georgia </a></td><td align=\"left\" style=\"width: 30%; background-color:#f6f3f3;\" valign=\"bottom\">Ga.</td><td align=\"left\" style=\"width: 30%; background-color:#f6f3f3;\" valign=\"bottom\">GA</td></tr><tr><td align=\"left\" style=\"width: 40%;\" valign=\"bottom\"><a href=\"/us/states/hawaii\">Hawaii </a></td><td align=\"left\" style=\"width: 30%;\" valign=\"bottom\">Hawaii</td><td align=\"left\" style=\"width: 30%;\" valign=\"bottom\">HI</td></tr><tr><td align=\"left\" style=\"width: 40%; background-color:#f6f3f3;\" valign=\"bottom\"><a href=\"/us/states/idaho\">Idaho </a></td><td align=\"left\" style=\"width: 30%; background-color:#f6f3f3;\" valign=\"bottom\">Idaho</td><td align=\"left\" style=\"width: 30%; background-color:#f6f3f3;\" valign=\"bottom\">ID</td></tr><tr><td align=\"left\" style=\"width: 40%;\" valign=\"bottom\"><a href=\"/us/states/illinois\">Illinois </a></td><td align=\"left\" style=\"width: 30%;\" valign=\"bottom\">Ill.</td><td align=\"left\" style=\"width: 30%;\" valign=\"bottom\">IL</td></tr><tr><td align=\"left\" style=\"width: 40%; background-color:#f6f3f3;\" valign=\"bottom\"><a href=\"/us/states/indiana\">Indiana </a></td><td align=\"left\" style=\"width: 30%; background-color:#f6f3f3;\" valign=\"bottom\">Ind.</td><td align=\"left\" style=\"width: 30%; background-color:#f6f3f3;\" valign=\"bottom\">IN</td></tr><tr><td align=\"left\" style=\"width: 40%;\" valign=\"bottom\"><a href=\"/us/states/iowa\">Iowa </a></td><td align=\"left\" style=\"width: 30%;\" valign=\"bottom\">Iowa</td><td align=\"left\" style=\"width: 30%;\" valign=\"bottom\">IA</td></tr><tr><td align=\"left\" style=\"width: 40%; background-color:#f6f3f3;\" valign=\"bottom\"><a href=\"/us/states/kansas\">Kansas </a></td><td align=\"left\" style=\"width: 30%; background-color:#f6f3f3;\" valign=\"bottom\">Kans.</td><td align=\"left\" style=\"width: 30%; background-color:#f6f3f3;\" valign=\"bottom\">KS</td></tr><tr><td align=\"left\" style=\"width: 40%;\" valign=\"bottom\"><a href=\"/us/states/kentucky\">Kentucky </a></td><td align=\"left\" style=\"width: 30%;\" valign=\"bottom\">Ky.</td><td align=\"left\" style=\"width: 30%;\" valign=\"bottom\">KY</td></tr><tr><td align=\"left\" style=\"width: 40%; background-color:#f6f3f3;\" valign=\"bottom\"><a href=\"/us/states/louisiana\">Louisiana </a></td><td align=\"left\" style=\"width: 30%; background-color:#f6f3f3;\" valign=\"bottom\">La.</td><td align=\"left\" style=\"width: 30%; background-color:#f6f3f3;\" valign=\"bottom\">LA</td></tr><tr><td align=\"left\" style=\"width: 40%;\" valign=\"bottom\"><a href=\"/us/states/maine\">Maine </a></td><td align=\"left\" style=\"width: 30%;\" valign=\"bottom\">Maine</td><td align=\"left\" style=\"width: 30%;\" valign=\"bottom\">ME</td></tr><tr><td align=\"left\" style=\"width: 40%; background-color:#f6f3f3;\" valign=\"bottom\"><a href=\"/us/states/maryland\">Maryland </a></td><td align=\"left\" style=\"width: 30%; background-color:#f6f3f3;\" valign=\"bottom\">Md.</td><td align=\"left\" style=\"width: 30%; background-color:#f6f3f3;\" valign=\"bottom\">MD</td></tr><tr><td align=\"left\" style=\"width: 40%;\" valign=\"bottom\"><a href=\"/us/states/massachusetts\">Massachusetts </a></td><td align=\"left\" style=\"width: 30%;\" valign=\"bottom\">Mass.</td><td align=\"left\" style=\"width: 30%;\" valign=\"bottom\">MA</td></tr><tr><td align=\"left\" style=\"width: 40%; background-color:#f6f3f3;\" valign=\"bottom\"><a href=\"/us/states/michigan\">Michigan </a></td><td align=\"left\" style=\"width: 30%; background-color:#f6f3f3;\" valign=\"bottom\">Mich.</td><td align=\"left\" style=\"width: 30%; background-color:#f6f3f3;\" valign=\"bottom\">MI</td></tr><tr><td align=\"left\" style=\"width: 40%;\" valign=\"bottom\"><a href=\"/us/states/minnesota\">Minnesota </a></td><td align=\"left\" style=\"width: 30%;\" valign=\"bottom\">Minn.</td><td align=\"left\" style=\"width: 30%;\" valign=\"bottom\">MN</td></tr><tr><td align=\"left\" style=\"width: 40%; background-color:#f6f3f3;\" valign=\"bottom\"><a href=\"/us/states/mississippi\">Mississippi </a></td><td align=\"left\" style=\"width: 30%; background-color:#f6f3f3;\" valign=\"bottom\">Miss.</td><td align=\"left\" style=\"width: 30%; background-color:#f6f3f3;\" valign=\"bottom\">MS</td></tr><tr><td align=\"left\" style=\"width: 40%;\" valign=\"bottom\"><a href=\"/us/states/missouri\">Missouri </a></td><td align=\"left\" style=\"width: 30%;\" valign=\"bottom\">Mo.</td><td align=\"left\" style=\"width: 30%;\" valign=\"bottom\">MO</td></tr><tr><td align=\"left\" style=\"width: 40%; background-color:#f6f3f3;\" valign=\"bottom\"><a href=\"/us/states/montana\">Montana </a></td><td align=\"left\" style=\"width: 30%; background-color:#f6f3f3;\" valign=\"bottom\">Mont.</td><td align=\"left\" style=\"width: 30%; background-color:#f6f3f3;\" valign=\"bottom\">MT</td></tr><tr><td align=\"left\" style=\"width: 40%;\" valign=\"bottom\"><a href=\"/us/states/nebraska\">Nebraska </a></td><td align=\"left\" style=\"width: 30%;\" valign=\"bottom\">Nebr.</td><td align=\"left\" style=\"width: 30%;\" valign=\"bottom\">NE</td></tr><tr><td align=\"left\" style=\"width: 40%; background-color:#f6f3f3;\" valign=\"bottom\"><a href=\"/us/states/nevada\">Nevada </a></td><td align=\"left\" style=\"width: 30%; background-color:#f6f3f3;\" valign=\"bottom\">Nev.</td><td align=\"left\" style=\"width: 30%; background-color:#f6f3f3;\" valign=\"bottom\">NV</td></tr><tr><td align=\"left\" style=\"width: 40%;\" valign=\"bottom\"><a href=\"/us/states/new-hampshire\">New Hampshire </a></td><td align=\"left\" style=\"width: 30%;\" valign=\"bottom\">N.H.</td><td align=\"left\" style=\"width: 30%;\" valign=\"bottom\">NH</td></tr><tr><td align=\"left\" style=\"width: 40%; background-color:#f6f3f3;\" valign=\"bottom\"><a href=\"/us/states/new-jersey\">New Jersey </a></td><td align=\"left\" style=\"width: 30%; background-color:#f6f3f3;\" valign=\"bottom\">N.J.</td><td align=\"left\" style=\"width: 30%; background-color:#f6f3f3;\" valign=\"bottom\">NJ</td></tr><tr><td align=\"left\" style=\"width: 40%;\" valign=\"bottom\"><a href=\"/us/states/new-mexico\">New Mexico </a></td><td align=\"left\" style=\"width: 30%;\" valign=\"bottom\">N.M.</td><td align=\"left\" style=\"width: 30%;\" valign=\"bottom\">NM</td></tr><tr><td align=\"left\" style=\"width: 40%; background-color:#f6f3f3;\" valign=\"bottom\"><a href=\"/us/states/new-york\">New York </a></td><td align=\"left\" style=\"width: 30%; background-color:#f6f3f3;\" valign=\"bottom\">N.Y.</td><td align=\"left\" style=\"width: 30%; background-color:#f6f3f3;\" valign=\"bottom\">NY</td></tr><tr><td align=\"left\" style=\"width: 40%;\" valign=\"bottom\"><a href=\"/us/states/north-carolina\">North Carolina </a></td><td align=\"left\" style=\"width: 30%;\" valign=\"bottom\">N.C.</td><td align=\"left\" style=\"width: 30%;\" valign=\"bottom\">NC</td></tr><tr><td align=\"left\" style=\"width: 40%; background-color:#f6f3f3;\" valign=\"bottom\"><a href=\"/us/states/north-dakota\">North Dakota </a></td><td align=\"left\" style=\"width: 30%; background-color:#f6f3f3;\" valign=\"bottom\">N.D.</td><td align=\"left\" style=\"width: 30%; background-color:#f6f3f3;\" valign=\"bottom\">ND</td></tr><tr><td align=\"left\" style=\"width: 40%;\" valign=\"bottom\"><a href=\"/us/states/ohio\">Ohio </a></td><td align=\"left\" style=\"width: 30%;\" valign=\"bottom\">Ohio</td><td align=\"left\" style=\"width: 30%;\" valign=\"bottom\">OH</td></tr><tr><td align=\"left\" style=\"width: 40%; background-color:#f6f3f3;\" valign=\"bottom\"><a href=\"/us/states/oklahoma\">Oklahoma </a></td><td align=\"left\" style=\"width: 30%; background-color:#f6f3f3;\" valign=\"bottom\">Okla.</td><td align=\"left\" style=\"width: 30%; background-color:#f6f3f3;\" valign=\"bottom\">OK</td></tr><tr><td align=\"left\" style=\"width: 40%;\" valign=\"bottom\"><a href=\"/us/states/oregon\">Oregon </a></td><td align=\"left\" style=\"width: 30%;\" valign=\"bottom\">Ore.</td><td align=\"left\" style=\"width: 30%;\" valign=\"bottom\">OR</td></tr><tr><td align=\"left\" style=\"width: 40%; background-color:#f6f3f3;\" valign=\"bottom\"><a href=\"/us/states/pennsylvania\">Pennsylvania </a></td><td align=\"left\" style=\"width: 30%; background-color:#f6f3f3;\" valign=\"bottom\">Pa.</td><td align=\"left\" style=\"width: 30%; background-color:#f6f3f3;\" valign=\"bottom\">PA</td></tr><tr><td align=\"left\" style=\"width: 40%;\" valign=\"bottom\"><a href=\"/us/states/rhode-island\">Rhode Island </a></td><td align=\"left\" style=\"width: 30%;\" valign=\"bottom\">R.I.</td><td align=\"left\" style=\"width: 30%;\" valign=\"bottom\">RI</td></tr><tr><td align=\"left\" style=\"width: 40%; background-color:#f6f3f3;\" valign=\"bottom\"><a href=\"/us/states/south-carolina\">South Carolina </a></td><td align=\"left\" style=\"width: 30%; background-color:#f6f3f3;\" valign=\"bottom\">S.C.</td><td align=\"left\" style=\"width: 30%; background-color:#f6f3f3;\" valign=\"bottom\">SC</td></tr><tr><td align=\"left\" style=\"width: 40%;\" valign=\"bottom\"><a href=\"/us/states/south-dakota\">South Dakota </a></td><td align=\"left\" style=\"width: 30%;\" valign=\"bottom\">S.D.</td><td align=\"left\" style=\"width: 30%;\" valign=\"bottom\">SD</td></tr><tr><td align=\"left\" style=\"width: 40%; background-color:#f6f3f3;\" valign=\"bottom\"><a href=\"/us/states/tennessee\">Tennessee </a></td><td align=\"left\" style=\"width: 30%; background-color:#f6f3f3;\" valign=\"bottom\">Tenn.</td><td align=\"left\" style=\"width: 30%; background-color:#f6f3f3;\" valign=\"bottom\">TN</td></tr><tr><td align=\"left\" style=\"width: 40%;\" valign=\"bottom\"><a href=\"/us/states/texas\">Texas </a></td><td align=\"left\" style=\"width: 30%;\" valign=\"bottom\">Tex.</td><td align=\"left\" style=\"width: 30%;\" valign=\"bottom\">TX</td></tr><tr><td align=\"left\" style=\"width: 40%; background-color:#f6f3f3;\" valign=\"bottom\"><a href=\"/us/states/utah\">Utah </a></td><td align=\"left\" style=\"width: 30%; background-color:#f6f3f3;\" valign=\"bottom\">Utah</td><td align=\"left\" style=\"width: 30%; background-color:#f6f3f3;\" valign=\"bottom\">UT</td></tr><tr><td align=\"left\" style=\"width: 40%;\" valign=\"bottom\"><a href=\"/us/states/vermont\">Vermont </a></td><td align=\"left\" style=\"width: 30%;\" valign=\"bottom\">Vt.</td><td align=\"left\" style=\"width: 30%;\" valign=\"bottom\">VT</td></tr><tr><td align=\"left\" style=\"width: 40%; background-color:#f6f3f3;\" valign=\"bottom\"><a href=\"/us/states/virginia\">Virginia </a></td><td align=\"left\" style=\"width: 30%; background-color:#f6f3f3;\" valign=\"bottom\">Va.</td><td align=\"left\" style=\"width: 30%; background-color:#f6f3f3;\" valign=\"bottom\">VA</td></tr><tr><td align=\"left\" style=\"width: 40%;\" valign=\"bottom\"><a href=\"/us/states/washington\">Washington </a></td><td align=\"left\" style=\"width: 30%;\" valign=\"bottom\">Wash.</td><td align=\"left\" style=\"width: 30%;\" valign=\"bottom\">WA</td></tr><tr><td align=\"left\" style=\"width: 40%; background-color:#f6f3f3;\" valign=\"bottom\"><a href=\"/us/states/west-virginia\">West Virginia </a></td><td align=\"left\" style=\"width: 30%; background-color:#f6f3f3;\" valign=\"bottom\">W.Va.</td><td align=\"left\" style=\"width: 30%; background-color:#f6f3f3;\" valign=\"bottom\">WV</td></tr><tr><td align=\"left\" style=\"width: 40%;\" valign=\"bottom\"><a href=\"/us/states/wisconsin\">Wisconsin </a></td><td align=\"left\" style=\"width: 30%;\" valign=\"bottom\">Wis.</td><td align=\"left\" style=\"width: 30%;\" valign=\"bottom\">WI</td></tr><tr><td align=\"left\" style=\"width: 40%; background-color:#f6f3f3;\" valign=\"bottom\"><a href=\"/us/states/wyoming\">Wyoming </a></td><td align=\"left\" style=\"width: 30%; background-color:#f6f3f3;\" valign=\"bottom\">Wyo.</td><td align=\"left\" style=\"width: 30%; background-color:#f6f3f3;\" valign=\"bottom\">WY</td></tr></tbody></table><p> </p><table border=\"0\" class=\"sgmltable\" style=\"border-collapse: collapse;display:table;\"><thead><tr><th scope=\"col\" style=\"width: 40%; height: 25px; vertical-align: bottom; text-align: left;\">Territory/Associate</th><th scope=\"col\" style=\"width: 30%; height: 25px; vertical-align: bottom; text-align: left;\">Abbreviation</th><th scope=\"col\" style=\"width: 30%; height: 25px; vertical-align: bottom; text-align: left;\">Postal Code</th></tr></thead><tbody><tr><td style=\"width: 40%; vertical-align: bottom; text-align: left; background-color:#f6f3f3;\"><a href=\"/encyclopedia/places/australia-and-oceania/pacific-islands-political-geography/american-samoa\">American Samoa</a></td><td style=\"width: 30%; vertical-align: bottom; text-align: left; background-color:#f6f3f3;\"> </td><td style=\"width: 30%; vertical-align: bottom; background-color:#f6f3f3;; text-align: left;\">AS</td></tr><tr><td style=\"width: 40%; vertical-align: bottom; text-align: left;\"><a href=\"/encyclopedia/places/australia-and-oceania/pacific-islands-political-geography/guam\">Guam</a></td><td style=\"width: 30%; vertical-align: bottom; text-align: left;\">Guam</td><td style=\"width: 30%; vertical-align: bottom; text-align: left;\">GU</td></tr><tr><td style=\"width: 40%; vertical-align: bottom; text-align: left;background-color:#f6f3f3;\"><a href=\"/world/countries/state-department-profiles/marshall-islands-department-of-state-background\">Marshall Islands</a></td><td style=\"width: 30%; vertical-align: bottom; text-align: left;background-color:#f6f3f3;\"> </td><td style=\"width: 30%; vertical-align: bottom; background-color:#f6f3f3;; text-align: left;\">MH</td></tr><tr><td style=\"width: 40%; vertical-align: bottom; text-align: left;\"><a href=\"/world/countries/micronesia\">Micronesia</a></td><td style=\"width: 30%; vertical-align: bottom; text-align: left;\"> </td><td style=\"width: 30%; vertical-align: bottom; text-align: left;\">FM</td></tr><tr><td style=\"width: 40%; vertical-align: bottom; text-align: left;background-color:#f6f3f3;\"><a href=\"/encyclopedia/places/australia-and-oceania/pacific-islands-political-geography/northern-mariana-islands\">Northern Mariana Islands</a></td><td style=\"width: 30%; vertical-align: bottom; text-align: left;background-color:#f6f3f3;\"> </td><td style=\"width: 30%; vertical-align: bottom; background-color:#f6f3f3;; text-align: left;\">MP</td></tr><tr><td style=\"width: 40%; vertical-align: bottom; text-align: left;\"><a href=\"/world/countries/state-department-profiles/palau-department-of-state-background\">Palau</a></td><td style=\"width: 30%; vertical-align: bottom; text-align: left;\"> </td><td style=\"width: 30%; vertical-align: bottom; text-align: left;\">PW</td></tr><tr><td style=\"width: 40%; vertical-align: bottom; text-align: left; background-color:#f6f3f3;\"><a href=\"/encyclopedia/places/latin-america-and-the-caribbean/caribbean-political-geography/puerto-rico\">Puerto Rico</a></td><td style=\"width: 30%; vertical-align: bottom; text-align: left; background-color:#f6f3f3;\">P.R.</td><td style=\"width: 30%; vertical-align: bottom; background-color:#f6f3f3;; text-align: left;\">PR</td></tr><tr><td style=\"width: 40%; vertical-align: bottom; text-align: left;\"><a href=\"/encyclopedia/places/latin-america-and-the-caribbean/caribbean-political-geography/virgin-islands\">Virgin Islands</a></td><td style=\"width: 30%; vertical-align: bottom; text-align: left;\"> </td><td style=\"width: 30%; vertical-align: bottom; text-align: left;\">VI</td></tr></tbody></table><h2>The History of U.S. Postal Codes</h2><div class=\"col-md-5\" style=\"float: right;\"><!-- Place the following HTML div tag where you want your widget to display --><div id=\"cobrawidget\"> </div><!-- Place the following script tag anywhere below the above div tag in your HTML --><script src=\"https://getcobra.io/ext/quiz/6845?ud=cobrawidget&amp;preview=1&amp;fmt=300x250\" type=\"text/javascript\"></script></div><p>The history of the postal service in the U.S. is long, complicated, and supremely important for <a href=\"\">westward expansion</a>. But, a lot of people might not realize that USPS postal codes are actually quite recent. What's more, the two-letter abbreviations that people are familiar with today actually came <em>after</em> the invention of <a href=\"/us/postal-information/zip-codes\">ZIP codes</a>.</p><h3>An Abbreviated Early History</h3><p>The story starts in 1831–well before the states were given codes–with that year's <em>Table of Post Offices in the United States. </em>The <em>Table</em> was essential for people to figure out where they could send their mail and where it could be received back when they were expected to retrieve it themselves. In 1831 the Post Office Department included a list of acceptable state abbreviations to use when addressing letters. They preferred that people just write the full names, but people enjoyed the quicker and easier way of writing (just like today).</p><h3>The Beginnings of the Modern Mail Service</h3><p>President <a href=\"/encyclopedia/people/history/us-history-biographies/lincoln-abraham/early-life\">Abraham Lincoln</a> (a former postman himself) was persuaded to begin free letter shipping in cities in 1863. This was the origin of the modern system of home letter deliveries. As mail carriers began taking more complicated and longer routes through the cities, the number of carriers grew. Due to the growing workforce, the admission of new states, and more interstate mail thanks to the likes of the <a href=\"/encyclopedia/history/united-states-canada-and-greenland/us-history/pony-express\">Pony Express</a>, the government sent out a new, bigger list of abbreviations in 1874. These would be the default codes until <a href=\"https://www.infoplease.com/encyclopedia/history/modern-europe/wars-and-battles/world-war-ii/war-comes-to-the-united-states\">World War II</a>.</p><p>When the war called away huge numbers of the country's young men, the post was seriously understaffed. The people who were left also weren't as familiar with the parts of town they didn't work in prior. The post offices began breaking down cities into broad numbered regions (like Birmingham 7, etc.) to narrow the field for carriers. This system proved effective, and became de facto practice up until the release of the <em>Postal Bulletin</em> for June, 1963. The bulletin introduced the ZIP Code as a fast and easy way of organizing mail. They also released new shorter state abbreviations to make room for ZIP codes on letters.</p><h3>The Current System</h3><p>But what about the postal codes? That same year, in October, came <em>Publication 59</em>. With it came the codes we have today. They were originally intended as optional tags for businesses, but became standard for everyone over time. Since 1963 there has been only one change to the postal codes; in 1969, at the request of the Canadian government, the code for Nebraska was changed from NB to NE, to avoid confusion between Nebraska and New Brunswick.</p><p>In addition to the fifty states and D.C., the United States also holds several overseas territories. The populated ones have their own postal codes, but only the two most populous (Puerto Rico and Guam) have abbreviations. Some former territories still maintain postal codes, as they are considered free associates of the United States. The Marshall Islands, Micronesia, and Palau are all free associates. These are included on a second table below.</p><p><em>Source: United States Postal Service</em></p> <a href=\"/us/postal-information/us-letter-rates-since-the-civil-war\" rel=\"prev\">U.S. Letter Rates Since the Civil War</a> <a href=\"/us/postal-information/how-to-complain-about-a-postal-problem\" rel=\"next\">How to Complain About a Postal Problem</a> <div> <div class=\"field_old_url\">.com/ipa/A0110468.html</div> <div class=\"field_old_url\">.com/ipa/a0110468.html</div> </div> <div class=\"src-wrapper\"> <div class=\"expand-src\">Sources +</div> <div class=\"collapse-src hide\"> <div> <a href=\"/sources\">Our Common Sources</a></div> </div> </div> </article><div class=\"views-element-container block\" id=\"block-views-block-more-like-this-block-1\"> <div class=\"see js-view-dom-id-9b80fd5deed315bea3a164fb3693f563499b83760b9f1d498e976982c1d19686\"> <div class=\"view-header\"> <b>See also:</b> </div> <div class=\"item-list\"> <ul> <li><a href=\"/world-statistics/health-and-social-statistics/life-expectancy-by-country\">Life Expectancy by Country</a></li> </ul></div> </div> </div><div class=\"block\" id=\"block-globalcitepopup\"> <div id=\"global-overlay\"><div class=\"global-overlay-content\"><a class=\"global-close-overlay overlay-large-button\" href=\"#\"></a><div class=\"global-message-window\"> </div></div></div> </div> </section> <div class=\"block\" id=\"block-lockerdomeblock\"> <div class=\"OUTBRAIN\" data-src=\"https://www.infoplease.com/us/postal-information/state-abbreviations-and-state-postal-codes\" data-widget-id=\"GS_1\"></div><p> </p> </div> <!-- Playwire Leaderboard BTF Tag Desktop Sizes: 728x90,970x90,970x250 Mobile Sizes: 320x50 --> <div data-pw-desk=\"leaderboard_btf\" data-pw-mobi=\"leaderboard_btf\"> </div> </article> </div> <div class=\"page-load-status\"> <div class=\"infinite-scroll-request loader-ellips\"> <span class=\"loader-ellips__dot\"></span> <span class=\"loader-ellips__dot\"></span> <span class=\"loader-ellips__dot\"></span> <span class=\"loader-ellips__dot\"></span> </div> </div> <aside class=\"col-sm-4\"> <div class=\"right-section\" id=\"right-section\"> <div class=\"block\" id=\"block-ipabovethefold\"> <!-- 300 x 250 ATF Desktop --><div data-pw-desk=\"med_rect_atf\"> </div><!-- 300 x 250 ATF Mobile --><div data-pw-mobi=\"med_rect_atf\"> </div> </div><div class=\"block\" id=\"block-ipmiddlewaread\"> <!-- 300 x 250 BTF Desktop --><div data-pw-desk=\"med_rect_btf\"> </div><!-- 300 x 250 BTF Mobile --><div data-pw-mobi=\"med_rect_btf\"> </div> </div> </div> </aside> </main></div> <section class=\"page-content-bottom\"> <div class=\"block\" id=\"block-ipbtfad\"> <!-- Desktop/iPad Leaderboard BTF --><div data-pw-desk=\"leaderboard_btf\"> </div><!-- Mobile Leaderboard BTF --><div data-pw-mobi=\"leaderboard_btf\"> </div> </div> </section> <footer> <div class=\"footer-inner\"> <div class=\"block\" id=\"block-copyrights\"> <div class=\"col-8\"><div class=\"form-intro\">Encouraging curious minds for <a href=\"/about-us\">nearly a century</a>.</div><form action=\"/search\" class=\"search-area-wrap-footer\" data-drupal-form-fields=\"searchquery,searchsubmit\" method=\"GET\"><input data-drupal-selector=\"searchquery\" id=\"searchquery\" name=\"searchquery\" placeholder=\"Enter your search here?\" type=\"text\"/><input class=\"button js-form-submit form-submit\" data-drupal-selector=\"searchsubmit\" id=\"searchsubmit_footer\" name=\"searchsubmit\" type=\"submit\" value=\"Search\"/> </form><div class=\"footer-logo\"><a href=\"/\"><img alt=\"Infoplease logo\" data-entity-type=\"file\" data-entity-uuid=\"24fb0ad1-1218-4036-986f-f25a079dd027\" height=\"27\" loading=\"lazy\" src=\"/sites/infoplease.com/files/inline-images/infoplease_white_logo_2.png\" width=\"141\"/></a></div><div class=\"fe-site-info\">Infoplease knows the value of having sources you can trust. Infoplease is a reference and learning site, combining the contents of an encyclopedia, a dictionary, an atlas and several almanacs loaded with facts. Our editors update and regularly refine this enormous body of information to bring you reliable information.</div></div><ul class=\"social list-unstyled\" style=\"text-align:left;\"><li><a href=\"https://www.facebook.com/InfoPleaseOfficial/\"><img alt=\"Infoplease on Facebook\" class=\"b-lazy lazy_load_image\" data-src=\"/images/ip17_social_facebook_icon.png\" src=\"\" style=\"height:23px;width:auto;\"/></a></li><li><a href=\"https://twitter.com/Info_Please\"><img alt=\"Infoplease on Twitter\" class=\"b-lazy lazy_load_image\" data-src=\"/images/ip17_social_twitter_icon.png\" src=\"\" style=\"height:19px;width:auto;\"/></a></li><li><a href=\"https://www.pinterest.com/infopleasecom\"><img alt=\"Infoplease on Pinterest\" class=\"b-lazy lazy_load_image\" data-src=\"/images/ip17_social_pinterest_icon.png\" src=\"\" style=\"height:23px;width:auto;\"/></a></li></ul> </div><nav aria-labelledby=\"block-footer-2-menu\" id=\"block-footer-2\" role=\"navigation\"> <h2 class=\"visually-hidden\" id=\"block-footer-2-menu\">Footer</h2> <ul> <li> <a data-drupal-link-system-path=\"node/167329\" href=\"/about-us\">About Us</a> </li> <li> <a data-drupal-link-system-path=\"node/167329\" href=\"/about-us#Editorial%20Policy\">Editorial Policy</a> </li> <li> <a data-drupal-link-system-path=\"node/167396\" href=\"/advertising-infopleasecom\">Advertise with Infoplease</a> </li> <li> <a data-drupal-link-system-path=\"node/472446\" href=\"/privacy-policy\">Privacy Policy</a> </li> <li> <a data-drupal-link-system-path=\"node/167445\" href=\"/sitemaps\">Site Map</a> </li> <li> <a data-drupal-link-system-path=\"node/479831\" href=\"/contact-support\">Contact Us</a> </li> <li> <a data-drupal-link-system-path=\"node/472456\" href=\"/terms-of-use\">Terms of Use</a> </li> <li> <a data-drupal-link-system-path=\"node/167362\" href=\"/citing-infoplease\">Citing Infoplease</a> </li> <li> <a data-drupal-link-system-path=\"node/475641\" href=\"/privacy/ip-do-not-sell-my-info\" rel=\"\" target=\"_self\">Do Not Sell My Info (for CA Residents)</a> </li> <li> <a data-drupal-link-system-path=\"node/475691\" href=\"/sources\" rel=\"\" target=\"_self\">Our Sources</a> </li> <a href=\"https://www.bestteacherjob.com/company/infoplease-5f2c87acd657\" target=\"_blank\">Infoplease Jobs</a> </ul> </nav><div class=\"block\" id=\"block-customcoresharecontentblock\"> <div id=\"custom-core-share\"> <ul class=\"share-buttons\"> <li><a class=\"facebook\" role=\"”button”\" title=\"Share this page to facebook\"> <img alt=\"facebook share icon\" class=\"b-lazy lazy_load_image\" data-src=\"/modules/custom/custom_core_common/images/facebook.svg\" src=\"\"/></a></li> <li><a class=\"twitter\" role=\"”button”\" title=\"Share this page to twitter\"><img alt=\"twitter share icon\" class=\"b-lazy lazy_load_image\" data-src=\"/modules/custom/custom_core_common/images/twitter.svg\" src=\"\"/></a></li> <li><a class=\"gbookmark\" role=\"”button”\" title=\"Google bookmark this page\"> <img alt=\"Google bookmark icon\" class=\"b-lazy lazy_load_image\" data-src=\"/modules/custom/custom_core_common/images/googlebookmarks.svg\" src=\"\"/></a></li> <li><a class=\"email\" role=\"”button”\" title=\"Share this page to an email\"> <img alt=\"email share icon\" class=\"b-lazy lazy_load_image\" data-src=\"/modules/custom/custom_core_common/images/email.svg\" src=\"\"/></a></li> <li><a class=\"print\" role=\"”button”\" title=\"Print this page\"> <img alt=\"Print page icon\" class=\"b-lazy lazy_load_image\" data-src=\"/modules/custom/custom_core_common/images/print.svg\" src=\"\"/></a></li> </ul></div> </div><div class=\"block\" id=\"block-footerproducts\"> <div class=\"fen-info\"><div class=\"fen-info-logo\"><a href=\"https://sandboxandco.com/learning/index.html\" rel=\"noopener nofollow\" target=\"_blank\"><img alt=\"sandbox learning logo\" class=\"b-lazy lazy_load_image\" data-entity-type=\"file\" data-entity-uuid=\"93a73b37-43a5-48eb-8d63-64bea56122b3\" data-src=\"/sites/infoplease.com/files/inline-images/sandbox-learning.png\" height=\"219\" loading=\"lazy\" src=\"\" style=\"width:230px\" width=\"1669\"/></a></div><div class=\"fen-info-copy\" style=\"clear:both;padding-left:0\">Infoplease is part of the Sandbox Learning family of educational and reference sites for parents, teachers and students.</div></div><div><span class=\"fen-product fen-product-fm\"><a href=\"https://www.factmonster.com\" rel=\"noopener\" target=\"_blank\"><img alt=\"factmonster logo\" class=\"b-lazy lazy_load_image\" data-entity-type=\"file\" data-entity-uuid=\"052cbf24-649d-4d5e-a491-a1519884d056\" data-src=\"/sites/default/files/inline-images/factmonster_logo.png\" src=\"\"/></a></span><span class=\"fen-product fen-product-fe\"><a href=\"https://www.familyeducation.com\" rel=\"noopener\" target=\"_blank\"><img alt=\"familyeducation logo\" class=\"b-lazy lazy_load_image\" data-src=\"/sites/infoplease.com/files/inline-images/familyeducation_logo_1.png\" src=\"\"/></a></span><span class=\"fen-product fen-product-tv\"><a href=\"https://www.teachervision.com\" rel=\"noopener\" target=\"_blank\"><img alt=\"TeacherVision logo\" class=\"b-lazy lazy_load_image\" data-entity-type=\"file\" data-entity-uuid=\"c73c57cb-e555-416f-9e47-dd93cd150a12\" data-src=\"/sites/default/files/inline-images/teachervision_logo.png\" src=\"\"/></a></span></div> </div> </div> </footer> <div class=\"page-footer-bottom\"> <div class=\"block\" id=\"block-footerbottomsandbox\"> <div class=\"sandbox-branding\"><a href=\"https://sandboxandco.com\"><img alt=\"sandbbox logo\" class=\"b-lazy lazy_load_image\" data-entity-type=\"file\" data-entity-uuid=\"696abfb6-fcf6-4f0d-ac1e-714bc8faaa4c\" data-src=\"/sites/default/files/inline-images/sandbox_logo.png\" src=\"\"/></a></div><div class=\"sandbox-copy\" style=\"padding-top: 5px;\">©2022 Sandbox Networks Inc. All rights reserved. Sandbox Learning is part of Sandbox &amp; Co., a digital learning company.</div> </div> </div> </div><link as=\"style\" href=\"/sites/infoplease.com/files/css/css_xA5HKzF1chOO6ilw63dtQ1KzdrZCHObvGNvfCWSin5g.css\" media=\"all\" onload=\"this.rel='stylesheet'\" rel=\"preload\"/><noscript><link href=\"/sites/infoplease.com/files/css/css_xA5HKzF1chOO6ilw63dtQ1KzdrZCHObvGNvfCWSin5g.css\" media=\"all\" rel=\"stylesheet\"/></noscript><link as=\"style\" href=\"/sites/infoplease.com/files/css/css_MbxpBFk7e7qluFjneGoTsmzR5LU35ecKQsqGbWcCE0w.css\" media=\"all\" onload=\"this.rel='stylesheet'\" rel=\"preload\"/><noscript><link href=\"/sites/infoplease.com/files/css/css_MbxpBFk7e7qluFjneGoTsmzR5LU35ecKQsqGbWcCE0w.css\" media=\"all\" rel=\"stylesheet\"/></noscript><script data-drupal-selector=\"drupal-settings-json\" type=\"application/json\">{\"path\":{\"baseUrl\":\"\\/\",\"scriptPath\":null,\"pathPrefix\":\"\",\"currentPath\":\"node\\/166023\",\"currentPathIsAdmin\":false,\"isFront\":false,\"currentLanguage\":\"en\"},\"pluralDelimiter\":\"\\u0003\",\"suppressDeprecationErrors\":true,\"ajaxPageState\":{\"libraries\":\"advagg_mod\\/css_defer,custom_core_common\\/add-block-popup,custom_core_common\\/share-content-block,custom_voice_search\\/custom_voice_search,eu_cookie_compliance\\/eu_cookie_compliance_default,ip\\/article-styling,ip\\/global-styling,ip\\/infinite-scroll-config,lazy_load\\/lazy_load.lazyLoading,search_api_autocomplete\\/search_api_autocomplete,system\\/base,views\\/views.module,we_megamenu\\/form.we-mega-menu-frontend\",\"theme\":\"ip\",\"theme_token\":null},\"ajaxTrustedUrl\":{\"form_action_p_pvdeGsVG5zNF_XLGPTvYSKCf43t8qZYSwcfZl2uzM\":true},\"\":false,\"cloudinary\":true,\"eu_cookie_compliance\":{\"cookie_policy_version\":\"1.0.0\",\"popup_enabled\":false,\"popup_agreed_enabled\":false,\"popup_hide_agreed\":false,\"popup_clicking_confirmation\":true,\"popup_scrolling_confirmation\":false,\"popup_html_info\":false,\"use_mobile_message\":true,\"mobile_popup_html_info\":false,\"mobile_breakpoint\":768,\"popup_html_agreed\":false,\"popup_use_bare_css\":false,\"popup_height\":75,\"popup_width\":\"100%\",\"popup_delay\":700,\"popup_link\":\"\\/privacy-policy\",\"popup_link_new_window\":true,\"popup_position\":false,\"fixed_top_position\":true,\"popup_language\":\"en\",\"store_consent\":false,\"better_support_for_screen_readers\":false,\"cookie_name\":\"\",\"reload_page\":false,\"domain\":\"\",\"domain_all_sites\":false,\"popup_eu_only_js\":false,\"cookie_lifetime\":100,\"cookie_session\":0,\"set_cookie_session_zero_on_disagree\":0,\"disagree_do_not_show_popup\":false,\"method\":\"default\",\"automatic_cookies_removal\":true,\"allowed_cookies\":\"\",\"withdraw_markup\":\"\\u003Cbutton type=\\u0022button\\u0022 class=\\u0022eu-cookie-withdraw-tab\\u0022\\u003EPrivacy settings\\u003C\\/button\\u003E\\n\\u003Cdiv role=\\u0022alertdialog\\u0022 aria-labelledby=\\u0022popup-text\\u0022 class=\\u0022eu-cookie-withdraw-banner\\u0022\\u003E\\n \\u003Cdiv class=\\u0022popup-content info eu-cookie-compliance-content\\u0022\\u003E\\n \\u003Cdiv id=\\u0022popup-text\\u0022 class=\\u0022eu-cookie-compliance-message\\u0022\\u003E\\n \\u003Ch2\\u003EWe use cookies on this site to enhance your user experience\\u003C\\/h2\\u003E\\n\\u003Cp\\u003EYou have given your consent for us to set cookies.\\u003C\\/p\\u003E\\n\\n \\u003C\\/div\\u003E\\n \\u003Cdiv id=\\u0022popup-buttons\\u0022 class=\\u0022eu-cookie-compliance-buttons\\u0022\\u003E\\n \\u003Cbutton type=\\u0022button\\u0022 class=\\u0022eu-cookie-withdraw-button\\u0022\\u003EWithdraw consent\\u003C\\/button\\u003E\\n \\u003C\\/div\\u003E\\n \\u003C\\/div\\u003E\\n\\u003C\\/div\\u003E\",\"withdraw_enabled\":false,\"reload_options\":0,\"reload_routes_list\":\"\",\"withdraw_button_on_info_popup\":false,\"cookie_categories\":[],\"cookie_categories_details\":[],\"enable_save_preferences_button\":true,\"cookie_value_disagreed\":\"0\",\"cookie_value_agreed_show_thank_you\":\"1\",\"cookie_value_agreed\":\"2\",\"containing_element\":\"body\",\"settings_tab_enabled\":false,\"open_by_default\":false},\"nodetype\":\"article\",\"authorname\":false,\"infiniteScroll\":{\"values\":[\"\\/us\\/states\\/facts-about-texas\\/native-american-tribes-in-texas\",\"\\/us\\/states\\/facts-about-texas\\/natural-disasters-in-texas\",\"\\/us\\/states\\/facts-about-texas\\/highest-peaks-texas\",\"\\/us\\/states\\/facts-about-texas\\/national-parks-in-texas\",\"\\/us\\/states\\/facts-about-texas\\/chihuahuan-desert-texas\",\"\\/us\\/states\\/facts-about-texas\\/15-texas-landmarks\",\"\\/us\\/states\\/facts-about-texas\\/texas-rodeo-history\",\"\\/us\\/states\\/facts-about-texas\\/texas-revolution-santa-anna-and-the-alamo\"]},\"custom_voice_search\":{\"custom_voice_search\":{\"ids\":[{\"id\":\"search_api_page_block_form\",\"input_id\":\"edit-keys\"},{\"id\":\"ip_search_form\",\"input_id\":\"edit-keys\"}]}},\"custom_core_common\":{\"social_share\":{\"facebook_app_id\":\"140586622674265\"}},\"search_api_autocomplete\":{\"search\":{\"auto_submit\":true}},\"user\":{\"uid\":0,\"permissionsHash\":\"2398e65c83ce42adf23bb1968a126a3566cc74cde17eb8b360e154334d1192ac\"}}</script><script src=\"/sites/infoplease.com/files/js/js_6NHok88L8w10HbT1ZADesN6wgFADeQrzG8MsBRstIFM.js\"></script><script src=\"/sites/infoplease.com/files/js/js_6MZIQBFvKmi3dwUTFSwSGL687AO9bi3GEhm82ffO8v8.js\"></script><script src=\"/sites/infoplease.com/files/js/js_jNEdSphKOFUnxr4h7D0E-RUMeprL2RDO7BETH9hE6tY.js\"></script> <script type=\"text/javascript\"> var tyche = { mode: 'tyche', config: '//config.playwire.com/1022050/v2/websites/69785/banner.json', forcePath: 'article-test' }; Defer.js('https://btloader.com/tag?o=5150306120761344&upapi=true', 'btloader', 3900); Defer.js('https://cdn.intergient.com/pageos/pageos.js', 'tyche', 4000); Defer.js('https://widgets.outbrain.com/outbrain.js', 'outbrain', 4000); Defer(function() { OBR.extern.researchWidget(); }, 2600); </script> </body></html>\n"
     ]
    }
   ],
   "source": [
    "request_url = requests.get(URL3)\n",
    "tm=0\n",
    "while request_url.status_code != 200:\n",
    "    print('no work')\n",
    "    time.sleep(1)\n",
    "    request_url = requests.get(URL3)\n",
    "    tm = tm + 1\n",
    "    if tm == 10:\n",
    "        break\n",
    "\n",
    "print(BS(request_url.text))\n"
   ]
  },
  {
   "cell_type": "code",
   "execution_count": 35,
   "metadata": {},
   "outputs": [],
   "source": [
    "postal = pd.read_html(str(soup_stateabbr.findAll('table')))[0].rename(columns={'State Name/District' : 'state'})"
   ]
  },
  {
   "cell_type": "code",
   "execution_count": 36,
   "metadata": {},
   "outputs": [
    {
     "data": {
      "text/html": [
       "<div>\n",
       "<style scoped>\n",
       "    .dataframe tbody tr th:only-of-type {\n",
       "        vertical-align: middle;\n",
       "    }\n",
       "\n",
       "    .dataframe tbody tr th {\n",
       "        vertical-align: top;\n",
       "    }\n",
       "\n",
       "    .dataframe thead th {\n",
       "        text-align: right;\n",
       "    }\n",
       "</style>\n",
       "<table border=\"1\" class=\"dataframe\">\n",
       "  <thead>\n",
       "    <tr style=\"text-align: right;\">\n",
       "      <th></th>\n",
       "      <th>state</th>\n",
       "      <th>Postal Abbreviation</th>\n",
       "      <th>Postal Code</th>\n",
       "    </tr>\n",
       "  </thead>\n",
       "  <tbody>\n",
       "    <tr>\n",
       "      <th>0</th>\n",
       "      <td>Alabama</td>\n",
       "      <td>Ala.</td>\n",
       "      <td>AL</td>\n",
       "    </tr>\n",
       "    <tr>\n",
       "      <th>1</th>\n",
       "      <td>Alaska</td>\n",
       "      <td>Alaska</td>\n",
       "      <td>AK</td>\n",
       "    </tr>\n",
       "    <tr>\n",
       "      <th>2</th>\n",
       "      <td>Arizona</td>\n",
       "      <td>Ariz.</td>\n",
       "      <td>AZ</td>\n",
       "    </tr>\n",
       "    <tr>\n",
       "      <th>3</th>\n",
       "      <td>Arkansas</td>\n",
       "      <td>Ark.</td>\n",
       "      <td>AR</td>\n",
       "    </tr>\n",
       "    <tr>\n",
       "      <th>4</th>\n",
       "      <td>California</td>\n",
       "      <td>Calif.</td>\n",
       "      <td>CA</td>\n",
       "    </tr>\n",
       "  </tbody>\n",
       "</table>\n",
       "</div>"
      ],
      "text/plain": [
       "        state Postal Abbreviation Postal Code\n",
       "0     Alabama                Ala.          AL\n",
       "1      Alaska              Alaska          AK\n",
       "2     Arizona               Ariz.          AZ\n",
       "3    Arkansas                Ark.          AR\n",
       "4  California              Calif.          CA"
      ]
     },
     "execution_count": 36,
     "metadata": {},
     "output_type": "execute_result"
    }
   ],
   "source": [
    "postal.head()"
   ]
  },
  {
   "cell_type": "code",
   "execution_count": 37,
   "metadata": {},
   "outputs": [],
   "source": [
    "house_rep_postal = pd.merge(house_rep, postal, how=\"inner\", on='state')"
   ]
  },
  {
   "cell_type": "code",
   "execution_count": 38,
   "metadata": {},
   "outputs": [
    {
     "data": {
      "text/html": [
       "<div>\n",
       "<style scoped>\n",
       "    .dataframe tbody tr th:only-of-type {\n",
       "        vertical-align: middle;\n",
       "    }\n",
       "\n",
       "    .dataframe tbody tr th {\n",
       "        vertical-align: top;\n",
       "    }\n",
       "\n",
       "    .dataframe thead th {\n",
       "        text-align: right;\n",
       "    }\n",
       "</style>\n",
       "<table border=\"1\" class=\"dataframe\">\n",
       "  <thead>\n",
       "    <tr style=\"text-align: right;\">\n",
       "      <th></th>\n",
       "      <th>state</th>\n",
       "      <th>representatives</th>\n",
       "      <th>Postal Abbreviation</th>\n",
       "      <th>Postal Code</th>\n",
       "    </tr>\n",
       "  </thead>\n",
       "  <tbody>\n",
       "    <tr>\n",
       "      <th>0</th>\n",
       "      <td>Alabama</td>\n",
       "      <td>7</td>\n",
       "      <td>Ala.</td>\n",
       "      <td>AL</td>\n",
       "    </tr>\n",
       "    <tr>\n",
       "      <th>1</th>\n",
       "      <td>Alaska</td>\n",
       "      <td>1</td>\n",
       "      <td>Alaska</td>\n",
       "      <td>AK</td>\n",
       "    </tr>\n",
       "    <tr>\n",
       "      <th>2</th>\n",
       "      <td>Arizona</td>\n",
       "      <td>9</td>\n",
       "      <td>Ariz.</td>\n",
       "      <td>AZ</td>\n",
       "    </tr>\n",
       "    <tr>\n",
       "      <th>3</th>\n",
       "      <td>Arkansas</td>\n",
       "      <td>4</td>\n",
       "      <td>Ark.</td>\n",
       "      <td>AR</td>\n",
       "    </tr>\n",
       "    <tr>\n",
       "      <th>4</th>\n",
       "      <td>California</td>\n",
       "      <td>53</td>\n",
       "      <td>Calif.</td>\n",
       "      <td>CA</td>\n",
       "    </tr>\n",
       "  </tbody>\n",
       "</table>\n",
       "</div>"
      ],
      "text/plain": [
       "        state  representatives Postal Abbreviation Postal Code\n",
       "0     Alabama                7                Ala.          AL\n",
       "1      Alaska                1              Alaska          AK\n",
       "2     Arizona                9               Ariz.          AZ\n",
       "3    Arkansas                4                Ark.          AR\n",
       "4  California               53              Calif.          CA"
      ]
     },
     "execution_count": 38,
     "metadata": {},
     "output_type": "execute_result"
    }
   ],
   "source": [
    "house_rep_postal.head()"
   ]
  },
  {
   "cell_type": "code",
   "execution_count": 39,
   "metadata": {},
   "outputs": [],
   "source": [
    "district_dictionary = house_rep_postal.set_index('Postal Code')['representatives'].to_dict()"
   ]
  },
  {
   "cell_type": "markdown",
   "metadata": {},
   "source": [
    "## testing my own variation"
   ]
  },
  {
   "cell_type": "code",
   "execution_count": 47,
   "metadata": {},
   "outputs": [],
   "source": [
    "candidate_df = pd.DataFrame()\n",
    "\n",
    "def district_scraper(state, district):\n",
    "    URL = f'https://www.opensecrets.org/races/candidates?cycle=2020&id={state}{district}&spec=N'\n",
    "    \n",
    "    request_url = requests.get(URL)\n",
    "    tm=0\n",
    "\n",
    "    while request_url.status_code != 200:\n",
    "        print('waiting for ' + state + district)\n",
    "        time.sleep(10)\n",
    "        request_url = requests.get(URL)\n",
    "        tm = tm + 1\n",
    "        if tm == 10:\n",
    "            break\n",
    "\n",
    "    soup = BS(request_url.text)\n",
    "\n",
    "    candidate_list = [x.text.strip() for x in soup.find_all('strong')]\n",
    "    \n",
    "    finances = (pd\n",
    "        .read_html(\n",
    "            str(soup.findAll('table', attrs={'class' : 'Members--table'}))\n",
    "                .replace('$','')\n",
    "                .replace(':', '')\n",
    "        )\n",
    "    )\n",
    "    \n",
    "    temp_df = pd.DataFrame()\n",
    "\n",
    "    temp_df['name'] = [re.findall(r'(.+ .+) \\(\\w', item)[0] for item in candidate_list]\n",
    "    temp_df['party'] = [re.findall(r'\\((\\w)\\)', item)[0] for item in candidate_list]\n",
    "    temp_df['vote'] = [re.findall(r'(\\d*[.?]\\d*\\%)', item)[0] for item in candidate_list]\n",
    "    temp_df['winner'] = ['Winner' if re.search(r'(Winner)', str(item)) is not None\n",
    "                              else 'Not Winner' for item in candidate_list]\n",
    "    temp_df['incumbent'] = ['Incumbent' if re.search(r'(Incumbent)', str(item)) != None \n",
    "                            else 'Not Incumbent' for item in candidate_list]\n",
    "    temp_df['state'] = str(re.search(r'[A-Z][a-z]+(?: [A-Z][a-z][a-rt-z][a-z]+)?', soup.findAll('title')[0].text)[0])\n",
    "\n",
    "    temp_df['district'] = str(re.findall(r'District ([0-9]{2})', soup.findAll('title')[0].text)[0])\n",
    "    temp_df['raised'] = [finances[i].iloc[0,1] for i in range(len(candidate_list))]\n",
    "    temp_df['spent'] = [finances[i].iloc[1,1] for i in range(len(candidate_list))]\n",
    "    temp_df['cash_on_hand'] = [finances[i].iloc[2,1] for i in range(len(candidate_list))]\n",
    "    \n",
    "    global candidate_df\n",
    "    candidate_df = pd.concat([candidate_df, temp_df])\n",
    "    candidate_df = candidate_df.reset_index(drop=True)"
   ]
  },
  {
   "cell_type": "code",
   "execution_count": 48,
   "metadata": {},
   "outputs": [
    {
     "name": "stdout",
     "output_type": "stream",
     "text": [
      "waiting for PA18\n",
      "waiting for PA18\n",
      "waiting for PA18\n",
      "waiting for PA18\n",
      "waiting for PA18\n",
      "waiting for PA18\n",
      "waiting for PA18\n"
     ]
    },
    {
     "data": {
      "text/plain": [
       "[]"
      ]
     },
     "execution_count": 48,
     "metadata": {},
     "output_type": "execute_result"
    }
   ],
   "source": [
    "candidate_df = pd.DataFrame()\n",
    "fail_list =[]\n",
    "\n",
    "for state, dist in district_dictionary.items():\n",
    "    try:\n",
    "        for num in range(1, dist +1): \n",
    "            district_scraper(state, str(num).zfill(2))\n",
    "\n",
    "    except: \n",
    "        fail_list.append((state, dist))\n",
    "\n",
    "fail_list"
   ]
  },
  {
   "cell_type": "code",
   "execution_count": 49,
   "metadata": {},
   "outputs": [
    {
     "data": {
      "text/html": [
       "<div>\n",
       "<style scoped>\n",
       "    .dataframe tbody tr th:only-of-type {\n",
       "        vertical-align: middle;\n",
       "    }\n",
       "\n",
       "    .dataframe tbody tr th {\n",
       "        vertical-align: top;\n",
       "    }\n",
       "\n",
       "    .dataframe thead th {\n",
       "        text-align: right;\n",
       "    }\n",
       "</style>\n",
       "<table border=\"1\" class=\"dataframe\">\n",
       "  <thead>\n",
       "    <tr style=\"text-align: right;\">\n",
       "      <th></th>\n",
       "      <th>name</th>\n",
       "      <th>party</th>\n",
       "      <th>vote</th>\n",
       "      <th>winner</th>\n",
       "      <th>incumbent</th>\n",
       "      <th>state</th>\n",
       "      <th>district</th>\n",
       "      <th>raised</th>\n",
       "      <th>spent</th>\n",
       "      <th>cash_on_hand</th>\n",
       "    </tr>\n",
       "  </thead>\n",
       "  <tbody>\n",
       "    <tr>\n",
       "      <th>0</th>\n",
       "      <td>Jerry Carl</td>\n",
       "      <td>R</td>\n",
       "      <td>64.9%</td>\n",
       "      <td>Winner</td>\n",
       "      <td>Not Incumbent</td>\n",
       "      <td>Alabama</td>\n",
       "      <td>01</td>\n",
       "      <td>1971321</td>\n",
       "      <td>1859349</td>\n",
       "      <td>111973</td>\n",
       "    </tr>\n",
       "    <tr>\n",
       "      <th>1</th>\n",
       "      <td>James Averhart</td>\n",
       "      <td>D</td>\n",
       "      <td>35.0%</td>\n",
       "      <td>Not Winner</td>\n",
       "      <td>Not Incumbent</td>\n",
       "      <td>Alabama</td>\n",
       "      <td>01</td>\n",
       "      <td>80095</td>\n",
       "      <td>78973</td>\n",
       "      <td>1122</td>\n",
       "    </tr>\n",
       "    <tr>\n",
       "      <th>2</th>\n",
       "      <td>Barry Moore</td>\n",
       "      <td>R</td>\n",
       "      <td>65.3%</td>\n",
       "      <td>Winner</td>\n",
       "      <td>Not Incumbent</td>\n",
       "      <td>Alabama</td>\n",
       "      <td>02</td>\n",
       "      <td>650807</td>\n",
       "      <td>669368</td>\n",
       "      <td>-13633</td>\n",
       "    </tr>\n",
       "    <tr>\n",
       "      <th>3</th>\n",
       "      <td>Phyllis Harvey-Hall</td>\n",
       "      <td>D</td>\n",
       "      <td>34.6%</td>\n",
       "      <td>Not Winner</td>\n",
       "      <td>Not Incumbent</td>\n",
       "      <td>Alabama</td>\n",
       "      <td>02</td>\n",
       "      <td>56050</td>\n",
       "      <td>55988</td>\n",
       "      <td>0</td>\n",
       "    </tr>\n",
       "    <tr>\n",
       "      <th>4</th>\n",
       "      <td>Mike D Rogers</td>\n",
       "      <td>R</td>\n",
       "      <td>67.5%</td>\n",
       "      <td>Winner</td>\n",
       "      <td>Incumbent</td>\n",
       "      <td>Alabama</td>\n",
       "      <td>03</td>\n",
       "      <td>1193111</td>\n",
       "      <td>1218564</td>\n",
       "      <td>502234</td>\n",
       "    </tr>\n",
       "    <tr>\n",
       "      <th>...</th>\n",
       "      <td>...</td>\n",
       "      <td>...</td>\n",
       "      <td>...</td>\n",
       "      <td>...</td>\n",
       "      <td>...</td>\n",
       "      <td>...</td>\n",
       "      <td>...</td>\n",
       "      <td>...</td>\n",
       "      <td>...</td>\n",
       "      <td>...</td>\n",
       "    </tr>\n",
       "    <tr>\n",
       "      <th>887</th>\n",
       "      <td>Tricia Zunker</td>\n",
       "      <td>D</td>\n",
       "      <td>39.2%</td>\n",
       "      <td>Not Winner</td>\n",
       "      <td>Not Incumbent</td>\n",
       "      <td>Wisconsin</td>\n",
       "      <td>07</td>\n",
       "      <td>1261957</td>\n",
       "      <td>1232690</td>\n",
       "      <td>29267</td>\n",
       "    </tr>\n",
       "    <tr>\n",
       "      <th>888</th>\n",
       "      <td>Mike Gallagher</td>\n",
       "      <td>R</td>\n",
       "      <td>64.0%</td>\n",
       "      <td>Winner</td>\n",
       "      <td>Incumbent</td>\n",
       "      <td>Wisconsin</td>\n",
       "      <td>08</td>\n",
       "      <td>3202905</td>\n",
       "      <td>2841801</td>\n",
       "      <td>1169362</td>\n",
       "    </tr>\n",
       "    <tr>\n",
       "      <th>889</th>\n",
       "      <td>Amanda Stuck</td>\n",
       "      <td>D</td>\n",
       "      <td>36.0%</td>\n",
       "      <td>Not Winner</td>\n",
       "      <td>Not Incumbent</td>\n",
       "      <td>Wisconsin</td>\n",
       "      <td>08</td>\n",
       "      <td>416978</td>\n",
       "      <td>399916</td>\n",
       "      <td>2165</td>\n",
       "    </tr>\n",
       "    <tr>\n",
       "      <th>890</th>\n",
       "      <td>Liz Cheney</td>\n",
       "      <td>R</td>\n",
       "      <td>68.6%</td>\n",
       "      <td>Winner</td>\n",
       "      <td>Incumbent</td>\n",
       "      <td>Wyoming</td>\n",
       "      <td>01</td>\n",
       "      <td>3003883</td>\n",
       "      <td>3060167</td>\n",
       "      <td>153567</td>\n",
       "    </tr>\n",
       "    <tr>\n",
       "      <th>891</th>\n",
       "      <td>Lynnette Grey Bull</td>\n",
       "      <td>D</td>\n",
       "      <td>24.6%</td>\n",
       "      <td>Not Winner</td>\n",
       "      <td>Not Incumbent</td>\n",
       "      <td>Wyoming</td>\n",
       "      <td>01</td>\n",
       "      <td>134597</td>\n",
       "      <td>132235</td>\n",
       "      <td>2363</td>\n",
       "    </tr>\n",
       "  </tbody>\n",
       "</table>\n",
       "<p>892 rows × 10 columns</p>\n",
       "</div>"
      ],
      "text/plain": [
       "                    name party   vote      winner      incumbent      state  \\\n",
       "0             Jerry Carl     R  64.9%      Winner  Not Incumbent    Alabama   \n",
       "1         James Averhart     D  35.0%  Not Winner  Not Incumbent    Alabama   \n",
       "2            Barry Moore     R  65.3%      Winner  Not Incumbent    Alabama   \n",
       "3    Phyllis Harvey-Hall     D  34.6%  Not Winner  Not Incumbent    Alabama   \n",
       "4          Mike D Rogers     R  67.5%      Winner      Incumbent    Alabama   \n",
       "..                   ...   ...    ...         ...            ...        ...   \n",
       "887        Tricia Zunker     D  39.2%  Not Winner  Not Incumbent  Wisconsin   \n",
       "888       Mike Gallagher     R  64.0%      Winner      Incumbent  Wisconsin   \n",
       "889         Amanda Stuck     D  36.0%  Not Winner  Not Incumbent  Wisconsin   \n",
       "890           Liz Cheney     R  68.6%      Winner      Incumbent    Wyoming   \n",
       "891   Lynnette Grey Bull     D  24.6%  Not Winner  Not Incumbent    Wyoming   \n",
       "\n",
       "    district   raised    spent  cash_on_hand  \n",
       "0         01  1971321  1859349        111973  \n",
       "1         01    80095    78973          1122  \n",
       "2         02   650807   669368        -13633  \n",
       "3         02    56050    55988             0  \n",
       "4         03  1193111  1218564        502234  \n",
       "..       ...      ...      ...           ...  \n",
       "887       07  1261957  1232690         29267  \n",
       "888       08  3202905  2841801       1169362  \n",
       "889       08   416978   399916          2165  \n",
       "890       01  3003883  3060167        153567  \n",
       "891       01   134597   132235          2363  \n",
       "\n",
       "[892 rows x 10 columns]"
      ]
     },
     "execution_count": 49,
     "metadata": {},
     "output_type": "execute_result"
    }
   ],
   "source": [
    "candidate_df"
   ]
  },
  {
   "cell_type": "markdown",
   "metadata": {},
   "source": [
    "4. Using your scraped data, investigates different relationships between candidates and the amount of money they raised. Here are some suggestions to get you started, but feel free to pose you own questions or do additional exploration:\n",
    "- How often does the candidate who raised more money win a race?\n",
    "> 88.3% of time"
   ]
  },
  {
   "cell_type": "code",
   "execution_count": 70,
   "metadata": {},
   "outputs": [
    {
     "data": {
      "text/html": [
       "<div>\n",
       "<style scoped>\n",
       "    .dataframe tbody tr th:only-of-type {\n",
       "        vertical-align: middle;\n",
       "    }\n",
       "\n",
       "    .dataframe tbody tr th {\n",
       "        vertical-align: top;\n",
       "    }\n",
       "\n",
       "    .dataframe thead th {\n",
       "        text-align: right;\n",
       "    }\n",
       "</style>\n",
       "<table border=\"1\" class=\"dataframe\">\n",
       "  <thead>\n",
       "    <tr style=\"text-align: right;\">\n",
       "      <th></th>\n",
       "      <th>name</th>\n",
       "      <th>party</th>\n",
       "      <th>vote</th>\n",
       "      <th>incumbent</th>\n",
       "      <th>state</th>\n",
       "      <th>district</th>\n",
       "      <th>raised</th>\n",
       "      <th>spent</th>\n",
       "      <th>cash_on_hand</th>\n",
       "    </tr>\n",
       "    <tr>\n",
       "      <th>winner</th>\n",
       "      <th></th>\n",
       "      <th></th>\n",
       "      <th></th>\n",
       "      <th></th>\n",
       "      <th></th>\n",
       "      <th></th>\n",
       "      <th></th>\n",
       "      <th></th>\n",
       "      <th></th>\n",
       "    </tr>\n",
       "  </thead>\n",
       "  <tbody>\n",
       "    <tr>\n",
       "      <th>Not Winner</th>\n",
       "      <td>51</td>\n",
       "      <td>51</td>\n",
       "      <td>51</td>\n",
       "      <td>51</td>\n",
       "      <td>51</td>\n",
       "      <td>51</td>\n",
       "      <td>51</td>\n",
       "      <td>51</td>\n",
       "      <td>51</td>\n",
       "    </tr>\n",
       "    <tr>\n",
       "      <th>Winner</th>\n",
       "      <td>384</td>\n",
       "      <td>384</td>\n",
       "      <td>384</td>\n",
       "      <td>384</td>\n",
       "      <td>384</td>\n",
       "      <td>384</td>\n",
       "      <td>384</td>\n",
       "      <td>384</td>\n",
       "      <td>384</td>\n",
       "    </tr>\n",
       "  </tbody>\n",
       "</table>\n",
       "</div>"
      ],
      "text/plain": [
       "            name  party  vote  incumbent  state  district  raised  spent  \\\n",
       "winner                                                                     \n",
       "Not Winner    51     51    51         51     51        51      51     51   \n",
       "Winner       384    384   384        384    384       384     384    384   \n",
       "\n",
       "            cash_on_hand  \n",
       "winner                    \n",
       "Not Winner            51  \n",
       "Winner               384  "
      ]
     },
     "execution_count": 70,
     "metadata": {},
     "output_type": "execute_result"
    }
   ],
   "source": [
    "candidate_df[\n",
    "    candidate_df['raised']\n",
    "    .isin(candidate_df.groupby(by=['state', 'district'])['raised'].max())\n",
    "    ].groupby(by='winner').count()"
   ]
  },
  {
   "cell_type": "code",
   "execution_count": 77,
   "metadata": {},
   "outputs": [
    {
     "data": {
      "text/plain": [
       "0.8827586206896552"
      ]
     },
     "execution_count": 77,
     "metadata": {},
     "output_type": "execute_result"
    }
   ],
   "source": [
    "384/435"
   ]
  },
  {
   "cell_type": "code",
   "execution_count": 75,
   "metadata": {},
   "outputs": [
    {
     "data": {
      "text/html": [
       "<div>\n",
       "<style scoped>\n",
       "    .dataframe tbody tr th:only-of-type {\n",
       "        vertical-align: middle;\n",
       "    }\n",
       "\n",
       "    .dataframe tbody tr th {\n",
       "        vertical-align: top;\n",
       "    }\n",
       "\n",
       "    .dataframe thead th {\n",
       "        text-align: right;\n",
       "    }\n",
       "</style>\n",
       "<table border=\"1\" class=\"dataframe\">\n",
       "  <thead>\n",
       "    <tr style=\"text-align: right;\">\n",
       "      <th></th>\n",
       "      <th>raised</th>\n",
       "    </tr>\n",
       "  </thead>\n",
       "  <tbody>\n",
       "    <tr>\n",
       "      <th>0</th>\n",
       "      <td>1971321</td>\n",
       "    </tr>\n",
       "    <tr>\n",
       "      <th>1</th>\n",
       "      <td>1971321</td>\n",
       "    </tr>\n",
       "    <tr>\n",
       "      <th>2</th>\n",
       "      <td>650807</td>\n",
       "    </tr>\n",
       "    <tr>\n",
       "      <th>3</th>\n",
       "      <td>650807</td>\n",
       "    </tr>\n",
       "    <tr>\n",
       "      <th>4</th>\n",
       "      <td>1193111</td>\n",
       "    </tr>\n",
       "    <tr>\n",
       "      <th>...</th>\n",
       "      <td>...</td>\n",
       "    </tr>\n",
       "    <tr>\n",
       "      <th>887</th>\n",
       "      <td>2637459</td>\n",
       "    </tr>\n",
       "    <tr>\n",
       "      <th>888</th>\n",
       "      <td>3202905</td>\n",
       "    </tr>\n",
       "    <tr>\n",
       "      <th>889</th>\n",
       "      <td>3202905</td>\n",
       "    </tr>\n",
       "    <tr>\n",
       "      <th>890</th>\n",
       "      <td>3003883</td>\n",
       "    </tr>\n",
       "    <tr>\n",
       "      <th>891</th>\n",
       "      <td>3003883</td>\n",
       "    </tr>\n",
       "  </tbody>\n",
       "</table>\n",
       "<p>892 rows × 1 columns</p>\n",
       "</div>"
      ],
      "text/plain": [
       "      raised\n",
       "0    1971321\n",
       "1    1971321\n",
       "2     650807\n",
       "3     650807\n",
       "4    1193111\n",
       "..       ...\n",
       "887  2637459\n",
       "888  3202905\n",
       "889  3202905\n",
       "890  3003883\n",
       "891  3003883\n",
       "\n",
       "[892 rows x 1 columns]"
      ]
     },
     "execution_count": 75,
     "metadata": {},
     "output_type": "execute_result"
    }
   ],
   "source": [
    "# the transform applies the 'max' value to undo the grouping essentially; the .to_frame() makes it a dataframe again\n",
    "candidate_df.groupby(['state', 'district'])['raised'].transform('max').to_frame()"
   ]
  },
  {
   "cell_type": "markdown",
   "metadata": {},
   "source": [
    "- How often does the candidate who spent more money win a race?\n",
    "> 87.6%"
   ]
  },
  {
   "cell_type": "code",
   "execution_count": 78,
   "metadata": {},
   "outputs": [
    {
     "data": {
      "text/html": [
       "<div>\n",
       "<style scoped>\n",
       "    .dataframe tbody tr th:only-of-type {\n",
       "        vertical-align: middle;\n",
       "    }\n",
       "\n",
       "    .dataframe tbody tr th {\n",
       "        vertical-align: top;\n",
       "    }\n",
       "\n",
       "    .dataframe thead th {\n",
       "        text-align: right;\n",
       "    }\n",
       "</style>\n",
       "<table border=\"1\" class=\"dataframe\">\n",
       "  <thead>\n",
       "    <tr style=\"text-align: right;\">\n",
       "      <th></th>\n",
       "      <th>name</th>\n",
       "      <th>party</th>\n",
       "      <th>vote</th>\n",
       "      <th>incumbent</th>\n",
       "      <th>state</th>\n",
       "      <th>district</th>\n",
       "      <th>raised</th>\n",
       "      <th>spent</th>\n",
       "      <th>cash_on_hand</th>\n",
       "    </tr>\n",
       "    <tr>\n",
       "      <th>winner</th>\n",
       "      <th></th>\n",
       "      <th></th>\n",
       "      <th></th>\n",
       "      <th></th>\n",
       "      <th></th>\n",
       "      <th></th>\n",
       "      <th></th>\n",
       "      <th></th>\n",
       "      <th></th>\n",
       "    </tr>\n",
       "  </thead>\n",
       "  <tbody>\n",
       "    <tr>\n",
       "      <th>Not Winner</th>\n",
       "      <td>54</td>\n",
       "      <td>54</td>\n",
       "      <td>54</td>\n",
       "      <td>54</td>\n",
       "      <td>54</td>\n",
       "      <td>54</td>\n",
       "      <td>54</td>\n",
       "      <td>54</td>\n",
       "      <td>54</td>\n",
       "    </tr>\n",
       "    <tr>\n",
       "      <th>Winner</th>\n",
       "      <td>381</td>\n",
       "      <td>381</td>\n",
       "      <td>381</td>\n",
       "      <td>381</td>\n",
       "      <td>381</td>\n",
       "      <td>381</td>\n",
       "      <td>381</td>\n",
       "      <td>381</td>\n",
       "      <td>381</td>\n",
       "    </tr>\n",
       "  </tbody>\n",
       "</table>\n",
       "</div>"
      ],
      "text/plain": [
       "            name  party  vote  incumbent  state  district  raised  spent  \\\n",
       "winner                                                                     \n",
       "Not Winner    54     54    54         54     54        54      54     54   \n",
       "Winner       381    381   381        381    381       381     381    381   \n",
       "\n",
       "            cash_on_hand  \n",
       "winner                    \n",
       "Not Winner            54  \n",
       "Winner               381  "
      ]
     },
     "execution_count": 78,
     "metadata": {},
     "output_type": "execute_result"
    }
   ],
   "source": [
    "candidate_df[\n",
    "    candidate_df['spent']\n",
    "    .isin(candidate_df.groupby(by=['state', 'district'])['spent'].max())\n",
    "    ].groupby(by='winner').count()"
   ]
  },
  {
   "cell_type": "code",
   "execution_count": 79,
   "metadata": {},
   "outputs": [
    {
     "data": {
      "text/plain": [
       "0.8758620689655172"
      ]
     },
     "execution_count": 79,
     "metadata": {},
     "output_type": "execute_result"
    }
   ],
   "source": [
    "381/435"
   ]
  },
  {
   "cell_type": "markdown",
   "metadata": {},
   "source": [
    "- Does the difference between either money raised or money spent seem to influence the likelihood of a candidate winning a race?"
   ]
  },
  {
   "cell_type": "code",
   "execution_count": 116,
   "metadata": {},
   "outputs": [],
   "source": [
    "candidate_df['diff_raised'] = candidate_df.groupby(by=['state', 'district'])['raised'].transform('max') - candidate_df['raised']"
   ]
  },
  {
   "cell_type": "code",
   "execution_count": 118,
   "metadata": {},
   "outputs": [],
   "source": [
    "candidate_df['diff_spent'] = candidate_df.groupby(by=['state', 'district'])['spent'].transform('max') - candidate_df['spent']"
   ]
  },
  {
   "cell_type": "code",
   "execution_count": 119,
   "metadata": {},
   "outputs": [
    {
     "data": {
      "text/html": [
       "<div>\n",
       "<style scoped>\n",
       "    .dataframe tbody tr th:only-of-type {\n",
       "        vertical-align: middle;\n",
       "    }\n",
       "\n",
       "    .dataframe tbody tr th {\n",
       "        vertical-align: top;\n",
       "    }\n",
       "\n",
       "    .dataframe thead th {\n",
       "        text-align: right;\n",
       "    }\n",
       "</style>\n",
       "<table border=\"1\" class=\"dataframe\">\n",
       "  <thead>\n",
       "    <tr style=\"text-align: right;\">\n",
       "      <th></th>\n",
       "      <th>name</th>\n",
       "      <th>party</th>\n",
       "      <th>vote</th>\n",
       "      <th>winner</th>\n",
       "      <th>incumbent</th>\n",
       "      <th>state</th>\n",
       "      <th>district</th>\n",
       "      <th>raised</th>\n",
       "      <th>spent</th>\n",
       "      <th>cash_on_hand</th>\n",
       "      <th>diff_raised</th>\n",
       "      <th>diff_spent</th>\n",
       "    </tr>\n",
       "  </thead>\n",
       "  <tbody>\n",
       "    <tr>\n",
       "      <th>0</th>\n",
       "      <td>Jerry Carl</td>\n",
       "      <td>R</td>\n",
       "      <td>64.9%</td>\n",
       "      <td>Winner</td>\n",
       "      <td>Not Incumbent</td>\n",
       "      <td>Alabama</td>\n",
       "      <td>01</td>\n",
       "      <td>1971321</td>\n",
       "      <td>1859349</td>\n",
       "      <td>111973</td>\n",
       "      <td>0</td>\n",
       "      <td>0</td>\n",
       "    </tr>\n",
       "    <tr>\n",
       "      <th>1</th>\n",
       "      <td>James Averhart</td>\n",
       "      <td>D</td>\n",
       "      <td>35.0%</td>\n",
       "      <td>Not Winner</td>\n",
       "      <td>Not Incumbent</td>\n",
       "      <td>Alabama</td>\n",
       "      <td>01</td>\n",
       "      <td>80095</td>\n",
       "      <td>78973</td>\n",
       "      <td>1122</td>\n",
       "      <td>1891226</td>\n",
       "      <td>1780376</td>\n",
       "    </tr>\n",
       "    <tr>\n",
       "      <th>2</th>\n",
       "      <td>Barry Moore</td>\n",
       "      <td>R</td>\n",
       "      <td>65.3%</td>\n",
       "      <td>Winner</td>\n",
       "      <td>Not Incumbent</td>\n",
       "      <td>Alabama</td>\n",
       "      <td>02</td>\n",
       "      <td>650807</td>\n",
       "      <td>669368</td>\n",
       "      <td>-13633</td>\n",
       "      <td>0</td>\n",
       "      <td>0</td>\n",
       "    </tr>\n",
       "    <tr>\n",
       "      <th>3</th>\n",
       "      <td>Phyllis Harvey-Hall</td>\n",
       "      <td>D</td>\n",
       "      <td>34.6%</td>\n",
       "      <td>Not Winner</td>\n",
       "      <td>Not Incumbent</td>\n",
       "      <td>Alabama</td>\n",
       "      <td>02</td>\n",
       "      <td>56050</td>\n",
       "      <td>55988</td>\n",
       "      <td>0</td>\n",
       "      <td>594757</td>\n",
       "      <td>613380</td>\n",
       "    </tr>\n",
       "    <tr>\n",
       "      <th>4</th>\n",
       "      <td>Mike D Rogers</td>\n",
       "      <td>R</td>\n",
       "      <td>67.5%</td>\n",
       "      <td>Winner</td>\n",
       "      <td>Incumbent</td>\n",
       "      <td>Alabama</td>\n",
       "      <td>03</td>\n",
       "      <td>1193111</td>\n",
       "      <td>1218564</td>\n",
       "      <td>502234</td>\n",
       "      <td>0</td>\n",
       "      <td>0</td>\n",
       "    </tr>\n",
       "  </tbody>\n",
       "</table>\n",
       "</div>"
      ],
      "text/plain": [
       "                  name party   vote      winner      incumbent    state  \\\n",
       "0           Jerry Carl     R  64.9%      Winner  Not Incumbent  Alabama   \n",
       "1       James Averhart     D  35.0%  Not Winner  Not Incumbent  Alabama   \n",
       "2          Barry Moore     R  65.3%      Winner  Not Incumbent  Alabama   \n",
       "3  Phyllis Harvey-Hall     D  34.6%  Not Winner  Not Incumbent  Alabama   \n",
       "4        Mike D Rogers     R  67.5%      Winner      Incumbent  Alabama   \n",
       "\n",
       "  district   raised    spent  cash_on_hand  diff_raised  diff_spent  \n",
       "0       01  1971321  1859349        111973            0           0  \n",
       "1       01    80095    78973          1122      1891226     1780376  \n",
       "2       02   650807   669368        -13633            0           0  \n",
       "3       02    56050    55988             0       594757      613380  \n",
       "4       03  1193111  1218564        502234            0           0  "
      ]
     },
     "execution_count": 119,
     "metadata": {},
     "output_type": "execute_result"
    }
   ],
   "source": [
    "candidate_df.head()"
   ]
  },
  {
   "cell_type": "code",
   "execution_count": 120,
   "metadata": {},
   "outputs": [
    {
     "data": {
      "image/png": "[encoded data removed]",
      "text/plain": [
       "<Figure size 720x432 with 1 Axes>"
      ]
     },
     "metadata": {
      "needs_background": "light"
     },
     "output_type": "display_data"
    }
   ],
   "source": [
    "fig, ax = plt.subplots(figsize = (10,6)) #this makes the plot larger, by scaling the axis\n",
    "\n",
    "sns.boxplot(\n",
    "    data = candidate_df,\n",
    "    x = (candidate_df['diff_raised']/1000),\n",
    "    y = 'winner',\n",
    "    ax=ax\n",
    ")\n",
    "plt.xticks(rotation = 45) #to rotate the x axis\n",
    "plt.xlabel('raised in thousands'); "
   ]
  },
  {
   "cell_type": "code",
   "execution_count": 121,
   "metadata": {},
   "outputs": [
    {
     "data": {
      "image/png": "[encoded data removed]",
      "text/plain": [
       "<Figure size 720x432 with 1 Axes>"
      ]
     },
     "metadata": {
      "needs_background": "light"
     },
     "output_type": "display_data"
    }
   ],
   "source": [
    "fig, ax = plt.subplots(figsize = (10,6)) #this makes the plot larger, by scaling the axis\n",
    "\n",
    "sns.boxplot(\n",
    "    data = candidate_df,\n",
    "    x = (candidate_df['diff_spent']/1000),\n",
    "    y = 'winner',\n",
    "    ax=ax\n",
    ")\n",
    "plt.xticks(rotation = 45) #to rotate the x axis\n",
    "plt.xlabel('spent in thousands'); "
   ]
  },
  {
   "cell_type": "markdown",
   "metadata": {},
   "source": [
    "the two plots above show even mroe significantly how the winners are typically the ones who spend (or raise) the most."
   ]
  },
  {
   "cell_type": "markdown",
   "metadata": {},
   "source": [
    "- How often does the incumbent candidate win a race?\n",
    "> 85.3%"
   ]
  },
  {
   "cell_type": "code",
   "execution_count": 89,
   "metadata": {},
   "outputs": [
    {
     "data": {
      "text/html": [
       "<div>\n",
       "<style scoped>\n",
       "    .dataframe tbody tr th:only-of-type {\n",
       "        vertical-align: middle;\n",
       "    }\n",
       "\n",
       "    .dataframe tbody tr th {\n",
       "        vertical-align: top;\n",
       "    }\n",
       "\n",
       "    .dataframe thead th {\n",
       "        text-align: right;\n",
       "    }\n",
       "</style>\n",
       "<table border=\"1\" class=\"dataframe\">\n",
       "  <thead>\n",
       "    <tr style=\"text-align: right;\">\n",
       "      <th></th>\n",
       "      <th>name</th>\n",
       "      <th>party</th>\n",
       "      <th>vote</th>\n",
       "      <th>incumbent</th>\n",
       "      <th>state</th>\n",
       "      <th>district</th>\n",
       "      <th>raised</th>\n",
       "      <th>spent</th>\n",
       "      <th>cash_on_hand</th>\n",
       "    </tr>\n",
       "    <tr>\n",
       "      <th>winner</th>\n",
       "      <th></th>\n",
       "      <th></th>\n",
       "      <th></th>\n",
       "      <th></th>\n",
       "      <th></th>\n",
       "      <th></th>\n",
       "      <th></th>\n",
       "      <th></th>\n",
       "      <th></th>\n",
       "    </tr>\n",
       "  </thead>\n",
       "  <tbody>\n",
       "    <tr>\n",
       "      <th>Not Winner</th>\n",
       "      <td>15</td>\n",
       "      <td>15</td>\n",
       "      <td>15</td>\n",
       "      <td>15</td>\n",
       "      <td>15</td>\n",
       "      <td>15</td>\n",
       "      <td>15</td>\n",
       "      <td>15</td>\n",
       "      <td>15</td>\n",
       "    </tr>\n",
       "    <tr>\n",
       "      <th>Winner</th>\n",
       "      <td>371</td>\n",
       "      <td>371</td>\n",
       "      <td>371</td>\n",
       "      <td>371</td>\n",
       "      <td>371</td>\n",
       "      <td>371</td>\n",
       "      <td>371</td>\n",
       "      <td>371</td>\n",
       "      <td>371</td>\n",
       "    </tr>\n",
       "  </tbody>\n",
       "</table>\n",
       "</div>"
      ],
      "text/plain": [
       "            name  party  vote  incumbent  state  district  raised  spent  \\\n",
       "winner                                                                     \n",
       "Not Winner    15     15    15         15     15        15      15     15   \n",
       "Winner       371    371   371        371    371       371     371    371   \n",
       "\n",
       "            cash_on_hand  \n",
       "winner                    \n",
       "Not Winner            15  \n",
       "Winner               371  "
      ]
     },
     "execution_count": 89,
     "metadata": {},
     "output_type": "execute_result"
    }
   ],
   "source": [
    "candidate_df[candidate_df['incumbent'] == 'Incumbent'].groupby(by='winner').count()"
   ]
  },
  {
   "cell_type": "code",
   "execution_count": 90,
   "metadata": {},
   "outputs": [
    {
     "data": {
      "text/plain": [
       "0.8528735632183908"
      ]
     },
     "execution_count": 90,
     "metadata": {},
     "output_type": "execute_result"
    }
   ],
   "source": [
    "371/435"
   ]
  },
  {
   "cell_type": "markdown",
   "metadata": {},
   "source": [
    "- Can you detect any relationship between amount of money raised and the incumbent status of a candidate?"
   ]
  },
  {
   "cell_type": "code",
   "execution_count": 104,
   "metadata": {},
   "outputs": [
    {
     "data": {
      "image/png": "[encoded data removed]",
      "text/plain": [
       "<Figure size 720x432 with 1 Axes>"
      ]
     },
     "metadata": {
      "needs_background": "light"
     },
     "output_type": "display_data"
    }
   ],
   "source": [
    "fig, ax = plt.subplots(figsize = (10,6)) #this makes the plot larger, by scaling the axis\n",
    "\n",
    "sns.boxplot(\n",
    "    data = candidate_df,\n",
    "    x = (candidate_df['raised']/1000),\n",
    "    y = 'incumbent',\n",
    "    ax=ax\n",
    ")\n",
    "plt.xticks(rotation = 45) #to rotate the x axis\n",
    "plt.xlabel('raised in thousands'); "
   ]
  }
 ],
 "metadata": {
  "kernelspec": {
   "display_name": "Python 3.9.12 ('base')",
   "language": "python",
   "name": "python3"
  },
  "language_info": {
   "codemirror_mode": {
    "name": "ipython",
    "version": 3
   },
   "file_extension": ".py",
   "mimetype": "text/x-python",
   "name": "python",
   "nbconvert_exporter": "python",
   "pygments_lexer": "ipython3",
   "version": "3.9.12"
  },
  "orig_nbformat": 4,
  "vscode": {
   "interpreter": {
    "hash": "8ae6d9166a6324ec8fca68373a3fb6f0a0d010f541edaf8017d36667030d4460"
   }
  }
 },
 "nbformat": 4,
 "nbformat_minor": 2
}
