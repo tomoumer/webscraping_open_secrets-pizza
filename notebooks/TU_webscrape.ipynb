{
 "cells": [
  {
   "cell_type": "code",
   "execution_count": 1,
   "metadata": {},
   "outputs": [],
   "source": [
    "import requests\n",
    "from bs4 import BeautifulSoup as BS\n",
    "import pandas as pd\n",
    "import re\n",
    "import numpy as np\n",
    "import time\n",
    "import matplotlib.pyplot as plt\n",
    "import seaborn as sns\n",
    "import statsmodels.api as sm\n",
    "import statsmodels.formula.api as smf\n",
    "from scipy.stats import chi2"
   ]
  },
  {
   "cell_type": "code",
   "execution_count": 2,
   "metadata": {},
   "outputs": [],
   "source": [
    "URL = 'https://www.opensecrets.org/races/candidates?cycle=2020&id=TN07&spec=N'\n",
    "\n",
    "response = requests.get(URL)"
   ]
  },
  {
   "cell_type": "code",
   "execution_count": 3,
   "metadata": {},
   "outputs": [
    {
     "data": {
      "text/plain": [
       "200"
      ]
     },
     "execution_count": 3,
     "metadata": {},
     "output_type": "execute_result"
    }
   ],
   "source": [
    "response.status_code"
   ]
  },
  {
   "cell_type": "code",
   "execution_count": 4,
   "metadata": {},
   "outputs": [],
   "source": [
    "soup_TN07 = BS(response.text)"
   ]
  },
  {
   "cell_type": "code",
   "execution_count": 5,
   "metadata": {},
   "outputs": [],
   "source": [
    "#print(soup_TN07.prettify())"
   ]
  },
  {
   "cell_type": "markdown",
   "metadata": {},
   "source": [
    "Alright, trying to find:\n",
    "- the percentage of the vote that candidate received\n",
    "- the total amount raised by that candidate (as a numeric variable)\n",
    "- the total amount spent by the candidate (as a numeric variable)"
   ]
  },
  {
   "cell_type": "code",
   "execution_count": 6,
   "metadata": {},
   "outputs": [],
   "source": [
    "# note1: the first [0] is to get the first candidate\n",
    "# note2: the second [0] is there because otherwise read_html returns a list of tables\n",
    "finances = (pd\n",
    "    .read_html(\n",
    "        str(soup_TN07.findAll('table', attrs={'class' : 'Members--table'})[0])\n",
    "            .replace('$','')\n",
    "            .replace(':', '')\n",
    "    )[0]\n",
    "    .pivot(index=2, columns=0, values=1)\n",
    "    .reset_index(drop=True)\n",
    ")"
   ]
  },
  {
   "cell_type": "code",
   "execution_count": 7,
   "metadata": {},
   "outputs": [
    {
     "data": {
      "text/html": [
       "<div>\n",
       "<style scoped>\n",
       "    .dataframe tbody tr th:only-of-type {\n",
       "        vertical-align: middle;\n",
       "    }\n",
       "\n",
       "    .dataframe tbody tr th {\n",
       "        vertical-align: top;\n",
       "    }\n",
       "\n",
       "    .dataframe thead th {\n",
       "        text-align: right;\n",
       "    }\n",
       "</style>\n",
       "<table border=\"1\" class=\"dataframe\">\n",
       "  <thead>\n",
       "    <tr style=\"text-align: right;\">\n",
       "      <th></th>\n",
       "      <th>Cash on Hand</th>\n",
       "      <th>Raised</th>\n",
       "      <th>Spent</th>\n",
       "    </tr>\n",
       "  </thead>\n",
       "  <tbody>\n",
       "    <tr>\n",
       "      <th>0</th>\n",
       "      <td>287889</td>\n",
       "      <td>1194960</td>\n",
       "      <td>935487</td>\n",
       "    </tr>\n",
       "  </tbody>\n",
       "</table>\n",
       "</div>"
      ],
      "text/plain": [
       "0  Cash on Hand   Raised   Spent\n",
       "0        287889  1194960  935487"
      ]
     },
     "execution_count": 7,
     "metadata": {},
     "output_type": "execute_result"
    }
   ],
   "source": [
    "finances.head()"
   ]
  },
  {
   "cell_type": "code",
   "execution_count": 8,
   "metadata": {},
   "outputs": [
    {
     "name": "stdout",
     "output_type": "stream",
     "text": [
      "<class 'pandas.core.frame.DataFrame'>\n",
      "RangeIndex: 1 entries, 0 to 0\n",
      "Data columns (total 3 columns):\n",
      " #   Column        Non-Null Count  Dtype\n",
      "---  ------        --------------  -----\n",
      " 0   Cash on Hand  1 non-null      int64\n",
      " 1   Raised        1 non-null      int64\n",
      " 2   Spent         1 non-null      int64\n",
      "dtypes: int64(3)\n",
      "memory usage: 152.0 bytes\n"
     ]
    }
   ],
   "source": [
    "finances.info()"
   ]
  },
  {
   "cell_type": "code",
   "execution_count": 9,
   "metadata": {},
   "outputs": [
    {
     "data": {
      "text/plain": [
       "'69.9%'"
      ]
     },
     "execution_count": 9,
     "metadata": {},
     "output_type": "execute_result"
    }
   ],
   "source": [
    "#soup_TN07.findAll('span', attrs={'class' : 'Members--vote-pct'})[0].text\n",
    "re.search(r'\\d{1,2}\\.\\d?%', soup_TN07.findAll('span', attrs={'class' : 'Members--vote-pct'})[0].text)[0]"
   ]
  },
  {
   "cell_type": "code",
   "execution_count": 10,
   "metadata": {},
   "outputs": [
    {
     "data": {
      "text/plain": [
       "'Incumbent'"
      ]
     },
     "execution_count": 10,
     "metadata": {},
     "output_type": "execute_result"
    }
   ],
   "source": [
    "soup_TN07.findAll('h2')[0].find('i').text"
   ]
  },
  {
   "cell_type": "code",
   "execution_count": 11,
   "metadata": {},
   "outputs": [
    {
     "data": {
      "text/plain": [
       "'Winner'"
      ]
     },
     "execution_count": 11,
     "metadata": {},
     "output_type": "execute_result"
    }
   ],
   "source": [
    "soup_TN07.findAll('h2')[0].find('span', attrs={'class' : 'winner'}).text"
   ]
  },
  {
   "cell_type": "code",
   "execution_count": 12,
   "metadata": {},
   "outputs": [],
   "source": [
    "candidate_info = soup_TN07.findAll('h2')[0].find('strong').text"
   ]
  },
  {
   "cell_type": "code",
   "execution_count": 13,
   "metadata": {},
   "outputs": [
    {
     "name": "stdout",
     "output_type": "stream",
     "text": [
      "\n",
      "Mark Green (R) • Incumbent\n",
      " • Winner \n",
      "(69.9% of vote)\n",
      "\n"
     ]
    }
   ],
   "source": [
    "print(candidate_info)"
   ]
  },
  {
   "cell_type": "markdown",
   "metadata": {},
   "source": [
    "the regex below possibly includes sr., jr. and the likes"
   ]
  },
  {
   "cell_type": "code",
   "execution_count": 14,
   "metadata": {},
   "outputs": [
    {
     "data": {
      "text/plain": [
       "'Mark Green'"
      ]
     },
     "execution_count": 14,
     "metadata": {},
     "output_type": "execute_result"
    }
   ],
   "source": [
    "re.search(r'[A-Z][a-z]+ [A-Z][a-z]+ [A-Z0-9]?[a-z]?', candidate_info)[0].strip()"
   ]
  },
  {
   "cell_type": "code",
   "execution_count": 15,
   "metadata": {},
   "outputs": [
    {
     "data": {
      "text/plain": [
       "'R'"
      ]
     },
     "execution_count": 15,
     "metadata": {},
     "output_type": "execute_result"
    }
   ],
   "source": [
    "re.findall(r'\\(([R,D])\\)', candidate_info)[0]"
   ]
  },
  {
   "cell_type": "code",
   "execution_count": 16,
   "metadata": {},
   "outputs": [
    {
     "name": "stdout",
     "output_type": "stream",
     "text": [
      "Incumbent\n"
     ]
    }
   ],
   "source": [
    "if re.search(r'Incumbent', candidate_info)[0] == 'Incumbent':\n",
    "    print('Incumbent')\n",
    "else :\n",
    "    print('Not Incumbent')"
   ]
  },
  {
   "cell_type": "code",
   "execution_count": 17,
   "metadata": {},
   "outputs": [
    {
     "name": "stdout",
     "output_type": "stream",
     "text": [
      "Winner\n"
     ]
    }
   ],
   "source": [
    "if re.search(r'Winner', candidate_info)[0] == 'Winner':\n",
    "    print('Winner')\n",
    "else :\n",
    "    print('Loser')"
   ]
  },
  {
   "cell_type": "code",
   "execution_count": 18,
   "metadata": {},
   "outputs": [
    {
     "data": {
      "text/plain": [
       "'Tennessee'"
      ]
     },
     "execution_count": 18,
     "metadata": {},
     "output_type": "execute_result"
    }
   ],
   "source": [
    "re.search(r'[A-Z][a-z]+', soup_TN07.find('h1').text)[0]"
   ]
  },
  {
   "cell_type": "code",
   "execution_count": 19,
   "metadata": {},
   "outputs": [
    {
     "data": {
      "text/plain": [
       "'07'"
      ]
     },
     "execution_count": 19,
     "metadata": {},
     "output_type": "execute_result"
    }
   ],
   "source": [
    "re.findall(r'District (\\d{2})', soup_TN07.find('h1').text)[0]"
   ]
  },
  {
   "cell_type": "markdown",
   "metadata": {},
   "source": [
    "## working together"
   ]
  },
  {
   "cell_type": "code",
   "execution_count": 20,
   "metadata": {},
   "outputs": [],
   "source": [
    "URL = 'https://www.opensecrets.org/races/candidates?cycle=2020&id=TN07&spec=N'\n",
    "response = requests.get(URL)\n",
    "soup = BS(response.text)"
   ]
  },
  {
   "cell_type": "code",
   "execution_count": 21,
   "metadata": {},
   "outputs": [],
   "source": [
    "candidate_df = pd.DataFrame()\n",
    "\n",
    "def district_scraper(soup):\n",
    "    candidate_list = [x.text.strip() for x in soup.find_all('strong')]\n",
    "    candidate_df['name'] = [re.findall(r'(.+ .+) \\(\\w', item)[0] for item in candidate_list]\n",
    "    candidate_df['party'] = [re.findall(r'\\((\\w)\\)', item)[0] for item in candidate_list]\n",
    "    candidate_df['vote'] = [re.findall(r'(\\d*[.?]\\d*\\%)', item)[0] for item in candidate_list]\n",
    "    #candidate_df['winner'] = ['Winner' if re.search(r'Winner', item) != 'None' else 'Not Winner' for item in candidate_list]\n",
    "    #[re.findall(r'(Winner)', item)[0] for item in candidate_list]\n",
    "    #candidate_df['incumbent'] = [re.findall(r'(Incumbent)', item)[0] for item in candidate_list]"
   ]
  },
  {
   "cell_type": "code",
   "execution_count": 22,
   "metadata": {},
   "outputs": [
    {
     "name": "stdout",
     "output_type": "stream",
     "text": [
      "Mark Green (R) • Incumbent\n",
      " • Winner \n",
      "(69.9% of vote)\n",
      "<class 're.Match'>\n",
      "Kiran Sreepada (D)\n",
      "\t\t\t\t\t\t\t\t\t\t\n",
      "(27.3% of vote)\n",
      "<class 'NoneType'>\n",
      "Ronald Brown (I)\n",
      "\t\t\t\t\t\t\t\t\t\t\n",
      "(2.2% of vote)\n",
      "<class 'NoneType'>\n",
      "Scott Vieira Jr (I)\n",
      "\t\t\t\t\t\t\t\t\t\t\n",
      "(0.6% of vote)\n",
      "<class 'NoneType'>\n"
     ]
    }
   ],
   "source": [
    "for item in [x.text.strip() for x in soup.find_all('strong')]:\n",
    "    print(item)\n",
    "    print(type(re.search(r'Winner', item)))"
   ]
  },
  {
   "cell_type": "code",
   "execution_count": 23,
   "metadata": {},
   "outputs": [
    {
     "data": {
      "text/html": [
       "<div>\n",
       "<style scoped>\n",
       "    .dataframe tbody tr th:only-of-type {\n",
       "        vertical-align: middle;\n",
       "    }\n",
       "\n",
       "    .dataframe tbody tr th {\n",
       "        vertical-align: top;\n",
       "    }\n",
       "\n",
       "    .dataframe thead th {\n",
       "        text-align: right;\n",
       "    }\n",
       "</style>\n",
       "<table border=\"1\" class=\"dataframe\">\n",
       "  <thead>\n",
       "    <tr style=\"text-align: right;\">\n",
       "      <th></th>\n",
       "    </tr>\n",
       "  </thead>\n",
       "  <tbody>\n",
       "  </tbody>\n",
       "</table>\n",
       "</div>"
      ],
      "text/plain": [
       "Empty DataFrame\n",
       "Columns: []\n",
       "Index: []"
      ]
     },
     "execution_count": 23,
     "metadata": {},
     "output_type": "execute_result"
    }
   ],
   "source": [
    "candidate_df.head()"
   ]
  },
  {
   "cell_type": "markdown",
   "metadata": {},
   "source": [
    "The code below is to format the finances tables (for each candidate) in the correct order"
   ]
  },
  {
   "cell_type": "code",
   "execution_count": 24,
   "metadata": {},
   "outputs": [],
   "source": [
    "# intitialize empty data frame\n",
    "final_finances = pd.DataFrame()\n",
    "\n",
    "# create the list of all dataframe tables for candidates\n",
    "finances = (pd\n",
    "    .read_html(\n",
    "        str(soup_TN07.findAll('table', attrs={'class' : 'Members--table'}))\n",
    "            .replace('$','')\n",
    "            .replace(':', '')\n",
    "    )\n",
    ")"
   ]
  },
  {
   "cell_type": "code",
   "execution_count": 25,
   "metadata": {},
   "outputs": [
    {
     "name": "stdout",
     "output_type": "stream",
     "text": [
      "[              0        1   2\n",
      "0        Raised  1194960 NaN\n",
      "1         Spent   935487 NaN\n",
      "2  Cash on Hand   287889 NaN,               0       1   2\n",
      "0        Raised  206644 NaN\n",
      "1         Spent  207191 NaN\n",
      "2  Cash on Hand       0 NaN,               0     1   2\n",
      "0        Raised  1750 NaN\n",
      "1         Spent     0 NaN\n",
      "2  Cash on Hand  9006 NaN,               0     1   2\n",
      "0        Raised   655 NaN\n",
      "1         Spent  1049 NaN\n",
      "2  Cash on Hand  -197 NaN]\n"
     ]
    }
   ],
   "source": [
    "print(finances)"
   ]
  },
  {
   "cell_type": "code",
   "execution_count": 26,
   "metadata": {},
   "outputs": [
    {
     "name": "stdout",
     "output_type": "stream",
     "text": [
      "0  Cash on Hand   Raised   Spent\n",
      "0        287889  1194960  935487\n",
      "0             0   206644  207191\n",
      "0          9006     1750       0\n",
      "0          -197      655    1049\n"
     ]
    }
   ],
   "source": [
    "# loop over the dataframes list\n",
    "for fin in finances:\n",
    "    final_finances = pd.concat(\n",
    "        [final_finances,\n",
    "        fin.pivot(index=2, columns=0, values=1).reset_index(drop=True)])\n",
    "\n",
    "print(final_finances)\n",
    "    "
   ]
  },
  {
   "cell_type": "markdown",
   "metadata": {},
   "source": [
    "## Code below after working with team (final version)"
   ]
  },
  {
   "cell_type": "code",
   "execution_count": 27,
   "metadata": {},
   "outputs": [],
   "source": [
    "candidate_df = pd.DataFrame()\n",
    "\n",
    "def district_scraper(state, district):\n",
    "    URL = f'https://www.opensecrets.org/races/candidates?cycle=2020&id={state}{district}&spec=N'\n",
    "    soup = BS(requests.get(URL).text)\n",
    "    \n",
    "    candidate_list = [x.text.strip() for x in soup.find_all('strong')]\n",
    "    \n",
    "    finances = (pd\n",
    "        .read_html(\n",
    "            str(soup.findAll('table', attrs={'class' : 'Members--table'}))\n",
    "                .replace('$','')\n",
    "                .replace(':', '')\n",
    "        )\n",
    "    )\n",
    "    \n",
    "    temp_df = pd.DataFrame()\n",
    "\n",
    "    temp_df['name'] = [re.findall(r'(.+ .+) \\(\\w', item)[0] for item in candidate_list]\n",
    "    temp_df['party'] = [re.findall(r'\\((\\w)\\)', item)[0] for item in candidate_list]\n",
    "    temp_df['vote'] = [re.findall(r'(\\d*[.?]\\d*\\%)', item)[0] for item in candidate_list]\n",
    "    temp_df['winner'] = ['Winner' if re.search(r'(Winner)', str(item)) is not None\n",
    "                              else 'Not Winner' for item in candidate_list]\n",
    "    temp_df['incumbent'] = ['Incumbent' if re.search(r'(Incumbent)', str(item)) != None \n",
    "                            else 'Not Incumbent' for item in candidate_list]\n",
    "    temp_df['state'] = str(re.search(r'[A-Z][a-z]+(?: [A-Z][a-hj-z][a-z]+)?',\n",
    "                                     soup.findAll('title')[0].text)[0])\n",
    "    temp_df['district'] = str(re.findall(r'District ([0-9]{2})', soup.findAll('title')[0].text)[0])\n",
    "    temp_df['raised'] = [finances[i].iloc[0,1] for i in range(len(candidate_list))]\n",
    "    temp_df['spent'] = [finances[i].iloc[1,1] for i in range(len(candidate_list))]\n",
    "    temp_df['cash_on_hand'] = [finances[i].iloc[2,1] for i in range(len(candidate_list))]\n",
    "    \n",
    "    global candidate_df\n",
    "    candidate_df = pd.concat([candidate_df, temp_df])\n",
    "    candidate_df = candidate_df.reset_index(drop=True)"
   ]
  },
  {
   "cell_type": "code",
   "execution_count": 28,
   "metadata": {},
   "outputs": [],
   "source": [
    "#the handy zfill function gives you a 0 with single digit numbers!\n",
    "\n",
    "for num in range(1,10):\n",
    "    district_scraper('TN', str(num).zfill(2))"
   ]
  },
  {
   "cell_type": "code",
   "execution_count": 29,
   "metadata": {},
   "outputs": [
    {
     "data": {
      "text/html": [
       "<div>\n",
       "<style scoped>\n",
       "    .dataframe tbody tr th:only-of-type {\n",
       "        vertical-align: middle;\n",
       "    }\n",
       "\n",
       "    .dataframe tbody tr th {\n",
       "        vertical-align: top;\n",
       "    }\n",
       "\n",
       "    .dataframe thead th {\n",
       "        text-align: right;\n",
       "    }\n",
       "</style>\n",
       "<table border=\"1\" class=\"dataframe\">\n",
       "  <thead>\n",
       "    <tr style=\"text-align: right;\">\n",
       "      <th></th>\n",
       "      <th>name</th>\n",
       "      <th>party</th>\n",
       "      <th>vote</th>\n",
       "      <th>winner</th>\n",
       "      <th>incumbent</th>\n",
       "      <th>state</th>\n",
       "      <th>district</th>\n",
       "      <th>raised</th>\n",
       "      <th>spent</th>\n",
       "      <th>cash_on_hand</th>\n",
       "    </tr>\n",
       "  </thead>\n",
       "  <tbody>\n",
       "    <tr>\n",
       "      <th>0</th>\n",
       "      <td>Diana Harshbarger</td>\n",
       "      <td>R</td>\n",
       "      <td>74.8%</td>\n",
       "      <td>Winner</td>\n",
       "      <td>Not Incumbent</td>\n",
       "      <td>Tennessee</td>\n",
       "      <td>01</td>\n",
       "      <td>2126946</td>\n",
       "      <td>1869100</td>\n",
       "      <td>257846</td>\n",
       "    </tr>\n",
       "    <tr>\n",
       "      <th>1</th>\n",
       "      <td>Blair Nicole Walsingham</td>\n",
       "      <td>D</td>\n",
       "      <td>22.4%</td>\n",
       "      <td>Not Winner</td>\n",
       "      <td>Not Incumbent</td>\n",
       "      <td>Tennessee</td>\n",
       "      <td>01</td>\n",
       "      <td>140209</td>\n",
       "      <td>134995</td>\n",
       "      <td>5215</td>\n",
       "    </tr>\n",
       "    <tr>\n",
       "      <th>2</th>\n",
       "      <td>Tim Burchett</td>\n",
       "      <td>R</td>\n",
       "      <td>67.7%</td>\n",
       "      <td>Winner</td>\n",
       "      <td>Incumbent</td>\n",
       "      <td>Tennessee</td>\n",
       "      <td>02</td>\n",
       "      <td>1336276</td>\n",
       "      <td>878488</td>\n",
       "      <td>593678</td>\n",
       "    </tr>\n",
       "    <tr>\n",
       "      <th>3</th>\n",
       "      <td>Renee Hoyos</td>\n",
       "      <td>D</td>\n",
       "      <td>31.0%</td>\n",
       "      <td>Not Winner</td>\n",
       "      <td>Not Incumbent</td>\n",
       "      <td>Tennessee</td>\n",
       "      <td>02</td>\n",
       "      <td>812784</td>\n",
       "      <td>816793</td>\n",
       "      <td>210</td>\n",
       "    </tr>\n",
       "    <tr>\n",
       "      <th>4</th>\n",
       "      <td>Chuck Fleischmann</td>\n",
       "      <td>R</td>\n",
       "      <td>67.3%</td>\n",
       "      <td>Winner</td>\n",
       "      <td>Incumbent</td>\n",
       "      <td>Tennessee</td>\n",
       "      <td>03</td>\n",
       "      <td>1051653</td>\n",
       "      <td>381411</td>\n",
       "      <td>1880341</td>\n",
       "    </tr>\n",
       "    <tr>\n",
       "      <th>5</th>\n",
       "      <td>Meg Gorman</td>\n",
       "      <td>D</td>\n",
       "      <td>30.5%</td>\n",
       "      <td>Not Winner</td>\n",
       "      <td>Not Incumbent</td>\n",
       "      <td>Tennessee</td>\n",
       "      <td>03</td>\n",
       "      <td>85843</td>\n",
       "      <td>77760</td>\n",
       "      <td>8083</td>\n",
       "    </tr>\n",
       "    <tr>\n",
       "      <th>6</th>\n",
       "      <td>Scott Desjarlais</td>\n",
       "      <td>R</td>\n",
       "      <td>66.7%</td>\n",
       "      <td>Winner</td>\n",
       "      <td>Incumbent</td>\n",
       "      <td>Tennessee</td>\n",
       "      <td>04</td>\n",
       "      <td>331464</td>\n",
       "      <td>392499</td>\n",
       "      <td>302649</td>\n",
       "    </tr>\n",
       "    <tr>\n",
       "      <th>7</th>\n",
       "      <td>Christopher Hale</td>\n",
       "      <td>D</td>\n",
       "      <td>33.3%</td>\n",
       "      <td>Not Winner</td>\n",
       "      <td>Not Incumbent</td>\n",
       "      <td>Tennessee</td>\n",
       "      <td>04</td>\n",
       "      <td>308731</td>\n",
       "      <td>302996</td>\n",
       "      <td>5735</td>\n",
       "    </tr>\n",
       "    <tr>\n",
       "      <th>8</th>\n",
       "      <td>Jim Cooper</td>\n",
       "      <td>D</td>\n",
       "      <td>100.0%</td>\n",
       "      <td>Winner</td>\n",
       "      <td>Incumbent</td>\n",
       "      <td>Tennessee</td>\n",
       "      <td>05</td>\n",
       "      <td>936569</td>\n",
       "      <td>1332131</td>\n",
       "      <td>272934</td>\n",
       "    </tr>\n",
       "    <tr>\n",
       "      <th>9</th>\n",
       "      <td>John Rose</td>\n",
       "      <td>R</td>\n",
       "      <td>73.7%</td>\n",
       "      <td>Winner</td>\n",
       "      <td>Incumbent</td>\n",
       "      <td>Tennessee</td>\n",
       "      <td>06</td>\n",
       "      <td>1050429</td>\n",
       "      <td>625688</td>\n",
       "      <td>454375</td>\n",
       "    </tr>\n",
       "    <tr>\n",
       "      <th>10</th>\n",
       "      <td>Mark Green</td>\n",
       "      <td>R</td>\n",
       "      <td>69.9%</td>\n",
       "      <td>Winner</td>\n",
       "      <td>Incumbent</td>\n",
       "      <td>Tennessee</td>\n",
       "      <td>07</td>\n",
       "      <td>1194960</td>\n",
       "      <td>935487</td>\n",
       "      <td>287889</td>\n",
       "    </tr>\n",
       "    <tr>\n",
       "      <th>11</th>\n",
       "      <td>Kiran Sreepada</td>\n",
       "      <td>D</td>\n",
       "      <td>27.3%</td>\n",
       "      <td>Not Winner</td>\n",
       "      <td>Not Incumbent</td>\n",
       "      <td>Tennessee</td>\n",
       "      <td>07</td>\n",
       "      <td>206644</td>\n",
       "      <td>207191</td>\n",
       "      <td>0</td>\n",
       "    </tr>\n",
       "    <tr>\n",
       "      <th>12</th>\n",
       "      <td>Ronald Brown</td>\n",
       "      <td>I</td>\n",
       "      <td>2.2%</td>\n",
       "      <td>Not Winner</td>\n",
       "      <td>Not Incumbent</td>\n",
       "      <td>Tennessee</td>\n",
       "      <td>07</td>\n",
       "      <td>1750</td>\n",
       "      <td>0</td>\n",
       "      <td>9006</td>\n",
       "    </tr>\n",
       "    <tr>\n",
       "      <th>13</th>\n",
       "      <td>Scott Vieira Jr</td>\n",
       "      <td>I</td>\n",
       "      <td>0.6%</td>\n",
       "      <td>Not Winner</td>\n",
       "      <td>Not Incumbent</td>\n",
       "      <td>Tennessee</td>\n",
       "      <td>07</td>\n",
       "      <td>655</td>\n",
       "      <td>1049</td>\n",
       "      <td>-197</td>\n",
       "    </tr>\n",
       "    <tr>\n",
       "      <th>14</th>\n",
       "      <td>David Kustoff</td>\n",
       "      <td>R</td>\n",
       "      <td>68.5%</td>\n",
       "      <td>Winner</td>\n",
       "      <td>Incumbent</td>\n",
       "      <td>Tennessee</td>\n",
       "      <td>08</td>\n",
       "      <td>1641217</td>\n",
       "      <td>999285</td>\n",
       "      <td>713832</td>\n",
       "    </tr>\n",
       "    <tr>\n",
       "      <th>15</th>\n",
       "      <td>Erika Stotts Pearson</td>\n",
       "      <td>D</td>\n",
       "      <td>29.5%</td>\n",
       "      <td>Not Winner</td>\n",
       "      <td>Not Incumbent</td>\n",
       "      <td>Tennessee</td>\n",
       "      <td>08</td>\n",
       "      <td>19070</td>\n",
       "      <td>15883</td>\n",
       "      <td>4137</td>\n",
       "    </tr>\n",
       "    <tr>\n",
       "      <th>16</th>\n",
       "      <td>Steve Cohen</td>\n",
       "      <td>D</td>\n",
       "      <td>77.4%</td>\n",
       "      <td>Winner</td>\n",
       "      <td>Incumbent</td>\n",
       "      <td>Tennessee</td>\n",
       "      <td>09</td>\n",
       "      <td>607570</td>\n",
       "      <td>457311</td>\n",
       "      <td>1216119</td>\n",
       "    </tr>\n",
       "    <tr>\n",
       "      <th>17</th>\n",
       "      <td>Charlotte Bergmann</td>\n",
       "      <td>R</td>\n",
       "      <td>20.1%</td>\n",
       "      <td>Not Winner</td>\n",
       "      <td>Not Incumbent</td>\n",
       "      <td>Tennessee</td>\n",
       "      <td>09</td>\n",
       "      <td>99147</td>\n",
       "      <td>100532</td>\n",
       "      <td>2566</td>\n",
       "    </tr>\n",
       "    <tr>\n",
       "      <th>18</th>\n",
       "      <td>Dennis Clark</td>\n",
       "      <td>I</td>\n",
       "      <td>1.6%</td>\n",
       "      <td>Not Winner</td>\n",
       "      <td>Not Incumbent</td>\n",
       "      <td>Tennessee</td>\n",
       "      <td>09</td>\n",
       "      <td>9991</td>\n",
       "      <td>9919</td>\n",
       "      <td>40</td>\n",
       "    </tr>\n",
       "  </tbody>\n",
       "</table>\n",
       "</div>"
      ],
      "text/plain": [
       "                       name party    vote      winner      incumbent  \\\n",
       "0         Diana Harshbarger     R   74.8%      Winner  Not Incumbent   \n",
       "1   Blair Nicole Walsingham     D   22.4%  Not Winner  Not Incumbent   \n",
       "2              Tim Burchett     R   67.7%      Winner      Incumbent   \n",
       "3               Renee Hoyos     D   31.0%  Not Winner  Not Incumbent   \n",
       "4         Chuck Fleischmann     R   67.3%      Winner      Incumbent   \n",
       "5                Meg Gorman     D   30.5%  Not Winner  Not Incumbent   \n",
       "6          Scott Desjarlais     R   66.7%      Winner      Incumbent   \n",
       "7          Christopher Hale     D   33.3%  Not Winner  Not Incumbent   \n",
       "8                Jim Cooper     D  100.0%      Winner      Incumbent   \n",
       "9                 John Rose     R   73.7%      Winner      Incumbent   \n",
       "10               Mark Green     R   69.9%      Winner      Incumbent   \n",
       "11           Kiran Sreepada     D   27.3%  Not Winner  Not Incumbent   \n",
       "12             Ronald Brown     I    2.2%  Not Winner  Not Incumbent   \n",
       "13          Scott Vieira Jr     I    0.6%  Not Winner  Not Incumbent   \n",
       "14            David Kustoff     R   68.5%      Winner      Incumbent   \n",
       "15     Erika Stotts Pearson     D   29.5%  Not Winner  Not Incumbent   \n",
       "16              Steve Cohen     D   77.4%      Winner      Incumbent   \n",
       "17       Charlotte Bergmann     R   20.1%  Not Winner  Not Incumbent   \n",
       "18             Dennis Clark     I    1.6%  Not Winner  Not Incumbent   \n",
       "\n",
       "        state district   raised    spent  cash_on_hand  \n",
       "0   Tennessee       01  2126946  1869100        257846  \n",
       "1   Tennessee       01   140209   134995          5215  \n",
       "2   Tennessee       02  1336276   878488        593678  \n",
       "3   Tennessee       02   812784   816793           210  \n",
       "4   Tennessee       03  1051653   381411       1880341  \n",
       "5   Tennessee       03    85843    77760          8083  \n",
       "6   Tennessee       04   331464   392499        302649  \n",
       "7   Tennessee       04   308731   302996          5735  \n",
       "8   Tennessee       05   936569  1332131        272934  \n",
       "9   Tennessee       06  1050429   625688        454375  \n",
       "10  Tennessee       07  1194960   935487        287889  \n",
       "11  Tennessee       07   206644   207191             0  \n",
       "12  Tennessee       07     1750        0          9006  \n",
       "13  Tennessee       07      655     1049          -197  \n",
       "14  Tennessee       08  1641217   999285        713832  \n",
       "15  Tennessee       08    19070    15883          4137  \n",
       "16  Tennessee       09   607570   457311       1216119  \n",
       "17  Tennessee       09    99147   100532          2566  \n",
       "18  Tennessee       09     9991     9919            40  "
      ]
     },
     "execution_count": 29,
     "metadata": {},
     "output_type": "execute_result"
    }
   ],
   "source": [
    "candidate_df"
   ]
  },
  {
   "cell_type": "code",
   "execution_count": 30,
   "metadata": {},
   "outputs": [],
   "source": [
    "URL2 = 'https://www.britannica.com/topic/United-States-House-of-Representatives-Seats-by-State-1787120'\n",
    "\n",
    "soup_house_rep = BS(requests.get(URL2).text)"
   ]
  },
  {
   "cell_type": "code",
   "execution_count": 31,
   "metadata": {},
   "outputs": [],
   "source": [
    "house_rep = pd.read_html(str(soup_house_rep.findAll('table')))[0].drop(index=50)"
   ]
  },
  {
   "cell_type": "code",
   "execution_count": 32,
   "metadata": {},
   "outputs": [
    {
     "data": {
      "text/html": [
       "<div>\n",
       "<style scoped>\n",
       "    .dataframe tbody tr th:only-of-type {\n",
       "        vertical-align: middle;\n",
       "    }\n",
       "\n",
       "    .dataframe tbody tr th {\n",
       "        vertical-align: top;\n",
       "    }\n",
       "\n",
       "    .dataframe thead th {\n",
       "        text-align: right;\n",
       "    }\n",
       "</style>\n",
       "<table border=\"1\" class=\"dataframe\">\n",
       "  <thead>\n",
       "    <tr style=\"text-align: right;\">\n",
       "      <th></th>\n",
       "      <th>state</th>\n",
       "      <th>representatives</th>\n",
       "    </tr>\n",
       "  </thead>\n",
       "  <tbody>\n",
       "    <tr>\n",
       "      <th>0</th>\n",
       "      <td>Alabama</td>\n",
       "      <td>7</td>\n",
       "    </tr>\n",
       "    <tr>\n",
       "      <th>1</th>\n",
       "      <td>Alaska</td>\n",
       "      <td>1</td>\n",
       "    </tr>\n",
       "    <tr>\n",
       "      <th>2</th>\n",
       "      <td>Arizona</td>\n",
       "      <td>9</td>\n",
       "    </tr>\n",
       "    <tr>\n",
       "      <th>3</th>\n",
       "      <td>Arkansas</td>\n",
       "      <td>4</td>\n",
       "    </tr>\n",
       "    <tr>\n",
       "      <th>4</th>\n",
       "      <td>California</td>\n",
       "      <td>53</td>\n",
       "    </tr>\n",
       "  </tbody>\n",
       "</table>\n",
       "</div>"
      ],
      "text/plain": [
       "        state  representatives\n",
       "0     Alabama                7\n",
       "1      Alaska                1\n",
       "2     Arizona                9\n",
       "3    Arkansas                4\n",
       "4  California               53"
      ]
     },
     "execution_count": 32,
     "metadata": {},
     "output_type": "execute_result"
    }
   ],
   "source": [
    "house_rep.head()"
   ]
  },
  {
   "cell_type": "code",
   "execution_count": 33,
   "metadata": {},
   "outputs": [],
   "source": [
    "URL3 = 'https://www.infoplease.com/us/postal-information/state-abbreviations-and-state-postal-codes'\n",
    "\n",
    "soup_stateabbr = BS(requests.get(URL3).text)"
   ]
  },
  {
   "cell_type": "code",
   "execution_count": 34,
   "metadata": {},
   "outputs": [],
   "source": [
    "request_url = requests.get(URL3)\n",
    "tm=0\n",
    "while request_url.status_code != 200:\n",
    "    print('no work')\n",
    "    time.sleep(1)\n",
    "    request_url = requests.get(URL3)\n",
    "    tm = tm + 1\n",
    "    if tm == 10:\n",
    "        break\n",
    "\n",
    "#print(BS(request_url.text))\n"
   ]
  },
  {
   "cell_type": "code",
   "execution_count": 35,
   "metadata": {},
   "outputs": [],
   "source": [
    "postal = pd.read_html(str(soup_stateabbr.findAll('table')))[0].rename(columns={'State Name/District' : 'state'})"
   ]
  },
  {
   "cell_type": "code",
   "execution_count": 36,
   "metadata": {},
   "outputs": [
    {
     "data": {
      "text/html": [
       "<div>\n",
       "<style scoped>\n",
       "    .dataframe tbody tr th:only-of-type {\n",
       "        vertical-align: middle;\n",
       "    }\n",
       "\n",
       "    .dataframe tbody tr th {\n",
       "        vertical-align: top;\n",
       "    }\n",
       "\n",
       "    .dataframe thead th {\n",
       "        text-align: right;\n",
       "    }\n",
       "</style>\n",
       "<table border=\"1\" class=\"dataframe\">\n",
       "  <thead>\n",
       "    <tr style=\"text-align: right;\">\n",
       "      <th></th>\n",
       "      <th>state</th>\n",
       "      <th>Postal Abbreviation</th>\n",
       "      <th>Postal Code</th>\n",
       "    </tr>\n",
       "  </thead>\n",
       "  <tbody>\n",
       "    <tr>\n",
       "      <th>0</th>\n",
       "      <td>Alabama</td>\n",
       "      <td>Ala.</td>\n",
       "      <td>AL</td>\n",
       "    </tr>\n",
       "    <tr>\n",
       "      <th>1</th>\n",
       "      <td>Alaska</td>\n",
       "      <td>Alaska</td>\n",
       "      <td>AK</td>\n",
       "    </tr>\n",
       "    <tr>\n",
       "      <th>2</th>\n",
       "      <td>Arizona</td>\n",
       "      <td>Ariz.</td>\n",
       "      <td>AZ</td>\n",
       "    </tr>\n",
       "    <tr>\n",
       "      <th>3</th>\n",
       "      <td>Arkansas</td>\n",
       "      <td>Ark.</td>\n",
       "      <td>AR</td>\n",
       "    </tr>\n",
       "    <tr>\n",
       "      <th>4</th>\n",
       "      <td>California</td>\n",
       "      <td>Calif.</td>\n",
       "      <td>CA</td>\n",
       "    </tr>\n",
       "  </tbody>\n",
       "</table>\n",
       "</div>"
      ],
      "text/plain": [
       "        state Postal Abbreviation Postal Code\n",
       "0     Alabama                Ala.          AL\n",
       "1      Alaska              Alaska          AK\n",
       "2     Arizona               Ariz.          AZ\n",
       "3    Arkansas                Ark.          AR\n",
       "4  California              Calif.          CA"
      ]
     },
     "execution_count": 36,
     "metadata": {},
     "output_type": "execute_result"
    }
   ],
   "source": [
    "postal.head()"
   ]
  },
  {
   "cell_type": "code",
   "execution_count": 37,
   "metadata": {},
   "outputs": [],
   "source": [
    "house_rep_postal = pd.merge(house_rep, postal, how=\"inner\", on='state')"
   ]
  },
  {
   "cell_type": "code",
   "execution_count": 38,
   "metadata": {},
   "outputs": [
    {
     "data": {
      "text/html": [
       "<div>\n",
       "<style scoped>\n",
       "    .dataframe tbody tr th:only-of-type {\n",
       "        vertical-align: middle;\n",
       "    }\n",
       "\n",
       "    .dataframe tbody tr th {\n",
       "        vertical-align: top;\n",
       "    }\n",
       "\n",
       "    .dataframe thead th {\n",
       "        text-align: right;\n",
       "    }\n",
       "</style>\n",
       "<table border=\"1\" class=\"dataframe\">\n",
       "  <thead>\n",
       "    <tr style=\"text-align: right;\">\n",
       "      <th></th>\n",
       "      <th>state</th>\n",
       "      <th>representatives</th>\n",
       "      <th>Postal Abbreviation</th>\n",
       "      <th>Postal Code</th>\n",
       "    </tr>\n",
       "  </thead>\n",
       "  <tbody>\n",
       "    <tr>\n",
       "      <th>0</th>\n",
       "      <td>Alabama</td>\n",
       "      <td>7</td>\n",
       "      <td>Ala.</td>\n",
       "      <td>AL</td>\n",
       "    </tr>\n",
       "    <tr>\n",
       "      <th>1</th>\n",
       "      <td>Alaska</td>\n",
       "      <td>1</td>\n",
       "      <td>Alaska</td>\n",
       "      <td>AK</td>\n",
       "    </tr>\n",
       "    <tr>\n",
       "      <th>2</th>\n",
       "      <td>Arizona</td>\n",
       "      <td>9</td>\n",
       "      <td>Ariz.</td>\n",
       "      <td>AZ</td>\n",
       "    </tr>\n",
       "    <tr>\n",
       "      <th>3</th>\n",
       "      <td>Arkansas</td>\n",
       "      <td>4</td>\n",
       "      <td>Ark.</td>\n",
       "      <td>AR</td>\n",
       "    </tr>\n",
       "    <tr>\n",
       "      <th>4</th>\n",
       "      <td>California</td>\n",
       "      <td>53</td>\n",
       "      <td>Calif.</td>\n",
       "      <td>CA</td>\n",
       "    </tr>\n",
       "  </tbody>\n",
       "</table>\n",
       "</div>"
      ],
      "text/plain": [
       "        state  representatives Postal Abbreviation Postal Code\n",
       "0     Alabama                7                Ala.          AL\n",
       "1      Alaska                1              Alaska          AK\n",
       "2     Arizona                9               Ariz.          AZ\n",
       "3    Arkansas                4                Ark.          AR\n",
       "4  California               53              Calif.          CA"
      ]
     },
     "execution_count": 38,
     "metadata": {},
     "output_type": "execute_result"
    }
   ],
   "source": [
    "house_rep_postal.head()"
   ]
  },
  {
   "cell_type": "code",
   "execution_count": 39,
   "metadata": {},
   "outputs": [],
   "source": [
    "district_dictionary = house_rep_postal.set_index('Postal Code')['representatives'].to_dict()"
   ]
  },
  {
   "cell_type": "markdown",
   "metadata": {},
   "source": [
    "## testing my own variation"
   ]
  },
  {
   "cell_type": "code",
   "execution_count": 40,
   "metadata": {},
   "outputs": [],
   "source": [
    "candidate_df = pd.DataFrame()\n",
    "\n",
    "def district_scraper(state, district):\n",
    "    URL = f'https://www.opensecrets.org/races/candidates?cycle=2020&id={state}{district}&spec=N'\n",
    "    \n",
    "    request_url = requests.get(URL)\n",
    "    tm=0\n",
    "\n",
    "    while request_url.status_code != 200:\n",
    "        print('waiting for ' + state + district)\n",
    "        time.sleep(10)\n",
    "        request_url = requests.get(URL)\n",
    "        tm = tm + 1\n",
    "        if tm == 10:\n",
    "            break\n",
    "\n",
    "    soup = BS(request_url.text)\n",
    "\n",
    "    candidate_list = [x.text.strip() for x in soup.find_all('strong')]\n",
    "    \n",
    "    finances = (pd\n",
    "        .read_html(\n",
    "            str(soup.findAll('table', attrs={'class' : 'Members--table'}))\n",
    "                .replace('$','')\n",
    "                .replace(':', '')\n",
    "        )\n",
    "    )\n",
    "    \n",
    "    temp_df = pd.DataFrame()\n",
    "\n",
    "    temp_df['name'] = [re.findall(r'(.+ .+) \\(\\w', item)[0] for item in candidate_list]\n",
    "    temp_df['party'] = [re.findall(r'\\((\\w)\\)', item)[0] for item in candidate_list]\n",
    "    temp_df['vote'] = [re.findall(r'(\\d*[.?]\\d*\\%)', item)[0] for item in candidate_list]\n",
    "    temp_df['winner'] = ['Winner' if re.search(r'(Winner)', str(item)) is not None\n",
    "                              else 'Not Winner' for item in candidate_list]\n",
    "    temp_df['incumbent'] = ['Incumbent' if re.search(r'(Incumbent)', str(item)) != None \n",
    "                            else 'Not Incumbent' for item in candidate_list]\n",
    "    temp_df['state'] = str(re.search(r'[A-Z][a-z]+(?: [A-Z][a-z][a-rt-z][a-z]+)?', soup.findAll('title')[0].text)[0])\n",
    "\n",
    "    temp_df['district'] = str(re.findall(r'District ([0-9]{2})', soup.findAll('title')[0].text)[0])\n",
    "    temp_df['raised'] = [finances[i].iloc[0,1] for i in range(len(candidate_list))]\n",
    "    temp_df['spent'] = [finances[i].iloc[1,1] for i in range(len(candidate_list))]\n",
    "    temp_df['cash_on_hand'] = [finances[i].iloc[2,1] for i in range(len(candidate_list))]\n",
    "\n",
    "    #funding source\n",
    "    funding_source = (pd\n",
    "        .read_html(\n",
    "            str([table for table in soup.findAll('table') \n",
    "                    if re.search(r'(Type of Contribution)', str(table)) != None ]\n",
    "                )\n",
    "                .replace('$','')\n",
    "        )\n",
    "    )\n",
    "\n",
    "    temp_df['Small Individual Contributions (≤ 200)'] = [funding_source[i].iloc[0,1] for i in range(len(candidate_list))]\n",
    "    temp_df['Large Individual Contributions'] = [funding_source[i].iloc[1,1] for i in range(len(candidate_list))]\n",
    "    temp_df['PAC Contributions*'] = [funding_source[i].iloc[2,1] for i in range(len(candidate_list))]\n",
    "    temp_df['Candidate self-financing'] = [funding_source[i].iloc[3,1] for i in range(len(candidate_list))]\n",
    "    temp_df['Other'] = [funding_source[i].iloc[4,1] for i in range(len(candidate_list))]\n",
    "\n",
    "\n",
    "    global candidate_df\n",
    "    candidate_df = pd.concat([candidate_df, temp_df])\n",
    "    candidate_df = candidate_df.reset_index(drop=True)"
   ]
  },
  {
   "cell_type": "code",
   "execution_count": 41,
   "metadata": {},
   "outputs": [
    {
     "name": "stdout",
     "output_type": "stream",
     "text": [
      "waiting for MN04\n",
      "waiting for MN04\n",
      "waiting for MN04\n",
      "waiting for MN04\n",
      "waiting for MN04\n",
      "waiting for MN04\n",
      "waiting for MN04\n"
     ]
    },
    {
     "data": {
      "text/plain": [
       "[]"
      ]
     },
     "execution_count": 41,
     "metadata": {},
     "output_type": "execute_result"
    }
   ],
   "source": [
    "candidate_df = pd.DataFrame()\n",
    "fail_list =[]\n",
    "\n",
    "for state, dist in district_dictionary.items():\n",
    "    try:\n",
    "        for num in range(1, dist +1): \n",
    "            district_scraper(state, str(num).zfill(2))\n",
    "\n",
    "    except: \n",
    "        fail_list.append((state, dist))\n",
    "\n",
    "fail_list"
   ]
  },
  {
   "cell_type": "code",
   "execution_count": 42,
   "metadata": {},
   "outputs": [
    {
     "data": {
      "text/html": [
       "<div>\n",
       "<style scoped>\n",
       "    .dataframe tbody tr th:only-of-type {\n",
       "        vertical-align: middle;\n",
       "    }\n",
       "\n",
       "    .dataframe tbody tr th {\n",
       "        vertical-align: top;\n",
       "    }\n",
       "\n",
       "    .dataframe thead th {\n",
       "        text-align: right;\n",
       "    }\n",
       "</style>\n",
       "<table border=\"1\" class=\"dataframe\">\n",
       "  <thead>\n",
       "    <tr style=\"text-align: right;\">\n",
       "      <th></th>\n",
       "      <th>name</th>\n",
       "      <th>party</th>\n",
       "      <th>vote</th>\n",
       "      <th>winner</th>\n",
       "      <th>incumbent</th>\n",
       "      <th>state</th>\n",
       "      <th>district</th>\n",
       "      <th>raised</th>\n",
       "      <th>spent</th>\n",
       "      <th>cash_on_hand</th>\n",
       "      <th>Small Individual Contributions (≤ 200)</th>\n",
       "      <th>Large Individual Contributions</th>\n",
       "      <th>PAC Contributions*</th>\n",
       "      <th>Candidate self-financing</th>\n",
       "      <th>Other</th>\n",
       "    </tr>\n",
       "  </thead>\n",
       "  <tbody>\n",
       "    <tr>\n",
       "      <th>0</th>\n",
       "      <td>Jerry Carl</td>\n",
       "      <td>R</td>\n",
       "      <td>64.9%</td>\n",
       "      <td>Winner</td>\n",
       "      <td>Not Incumbent</td>\n",
       "      <td>Alabama</td>\n",
       "      <td>01</td>\n",
       "      <td>1971321</td>\n",
       "      <td>1859349</td>\n",
       "      <td>111973</td>\n",
       "      <td>44580</td>\n",
       "      <td>999616</td>\n",
       "      <td>387000</td>\n",
       "      <td>434656</td>\n",
       "      <td>105470</td>\n",
       "    </tr>\n",
       "    <tr>\n",
       "      <th>1</th>\n",
       "      <td>James Averhart</td>\n",
       "      <td>D</td>\n",
       "      <td>35.0%</td>\n",
       "      <td>Not Winner</td>\n",
       "      <td>Not Incumbent</td>\n",
       "      <td>Alabama</td>\n",
       "      <td>01</td>\n",
       "      <td>80095</td>\n",
       "      <td>78973</td>\n",
       "      <td>1122</td>\n",
       "      <td>12895</td>\n",
       "      <td>37955</td>\n",
       "      <td>0</td>\n",
       "      <td>29245</td>\n",
       "      <td>0</td>\n",
       "    </tr>\n",
       "    <tr>\n",
       "      <th>2</th>\n",
       "      <td>Barry Moore</td>\n",
       "      <td>R</td>\n",
       "      <td>65.3%</td>\n",
       "      <td>Winner</td>\n",
       "      <td>Not Incumbent</td>\n",
       "      <td>Alabama</td>\n",
       "      <td>02</td>\n",
       "      <td>650807</td>\n",
       "      <td>669368</td>\n",
       "      <td>-13633</td>\n",
       "      <td>62208</td>\n",
       "      <td>346329</td>\n",
       "      <td>230282</td>\n",
       "      <td>11500</td>\n",
       "      <td>489</td>\n",
       "    </tr>\n",
       "    <tr>\n",
       "      <th>3</th>\n",
       "      <td>Phyllis Harvey-Hall</td>\n",
       "      <td>D</td>\n",
       "      <td>34.6%</td>\n",
       "      <td>Not Winner</td>\n",
       "      <td>Not Incumbent</td>\n",
       "      <td>Alabama</td>\n",
       "      <td>02</td>\n",
       "      <td>56050</td>\n",
       "      <td>55988</td>\n",
       "      <td>0</td>\n",
       "      <td>15307</td>\n",
       "      <td>27105</td>\n",
       "      <td>2032</td>\n",
       "      <td>10575</td>\n",
       "      <td>1030</td>\n",
       "    </tr>\n",
       "    <tr>\n",
       "      <th>4</th>\n",
       "      <td>Mike D Rogers</td>\n",
       "      <td>R</td>\n",
       "      <td>67.5%</td>\n",
       "      <td>Winner</td>\n",
       "      <td>Incumbent</td>\n",
       "      <td>Alabama</td>\n",
       "      <td>03</td>\n",
       "      <td>1193111</td>\n",
       "      <td>1218564</td>\n",
       "      <td>502234</td>\n",
       "      <td>5315</td>\n",
       "      <td>438054</td>\n",
       "      <td>744734</td>\n",
       "      <td>0</td>\n",
       "      <td>5009</td>\n",
       "    </tr>\n",
       "    <tr>\n",
       "      <th>...</th>\n",
       "      <td>...</td>\n",
       "      <td>...</td>\n",
       "      <td>...</td>\n",
       "      <td>...</td>\n",
       "      <td>...</td>\n",
       "      <td>...</td>\n",
       "      <td>...</td>\n",
       "      <td>...</td>\n",
       "      <td>...</td>\n",
       "      <td>...</td>\n",
       "      <td>...</td>\n",
       "      <td>...</td>\n",
       "      <td>...</td>\n",
       "      <td>...</td>\n",
       "      <td>...</td>\n",
       "    </tr>\n",
       "    <tr>\n",
       "      <th>887</th>\n",
       "      <td>Tricia Zunker</td>\n",
       "      <td>D</td>\n",
       "      <td>39.2%</td>\n",
       "      <td>Not Winner</td>\n",
       "      <td>Not Incumbent</td>\n",
       "      <td>Wisconsin</td>\n",
       "      <td>07</td>\n",
       "      <td>1261957</td>\n",
       "      <td>1232690</td>\n",
       "      <td>29267</td>\n",
       "      <td>600015</td>\n",
       "      <td>566860</td>\n",
       "      <td>91807</td>\n",
       "      <td>0</td>\n",
       "      <td>3276</td>\n",
       "    </tr>\n",
       "    <tr>\n",
       "      <th>888</th>\n",
       "      <td>Mike Gallagher</td>\n",
       "      <td>R</td>\n",
       "      <td>64.0%</td>\n",
       "      <td>Winner</td>\n",
       "      <td>Incumbent</td>\n",
       "      <td>Wisconsin</td>\n",
       "      <td>08</td>\n",
       "      <td>3202905</td>\n",
       "      <td>2841801</td>\n",
       "      <td>1169362</td>\n",
       "      <td>188430</td>\n",
       "      <td>2040299</td>\n",
       "      <td>841300</td>\n",
       "      <td>0</td>\n",
       "      <td>132876</td>\n",
       "    </tr>\n",
       "    <tr>\n",
       "      <th>889</th>\n",
       "      <td>Amanda Stuck</td>\n",
       "      <td>D</td>\n",
       "      <td>36.0%</td>\n",
       "      <td>Not Winner</td>\n",
       "      <td>Not Incumbent</td>\n",
       "      <td>Wisconsin</td>\n",
       "      <td>08</td>\n",
       "      <td>416978</td>\n",
       "      <td>399916</td>\n",
       "      <td>2165</td>\n",
       "      <td>169380</td>\n",
       "      <td>221453</td>\n",
       "      <td>30183</td>\n",
       "      <td>0</td>\n",
       "      <td>-4038</td>\n",
       "    </tr>\n",
       "    <tr>\n",
       "      <th>890</th>\n",
       "      <td>Liz Cheney</td>\n",
       "      <td>R</td>\n",
       "      <td>68.6%</td>\n",
       "      <td>Winner</td>\n",
       "      <td>Incumbent</td>\n",
       "      <td>Wyoming</td>\n",
       "      <td>01</td>\n",
       "      <td>3003883</td>\n",
       "      <td>3060167</td>\n",
       "      <td>153567</td>\n",
       "      <td>189647</td>\n",
       "      <td>980349</td>\n",
       "      <td>1292490</td>\n",
       "      <td>0</td>\n",
       "      <td>541398</td>\n",
       "    </tr>\n",
       "    <tr>\n",
       "      <th>891</th>\n",
       "      <td>Lynnette Grey Bull</td>\n",
       "      <td>D</td>\n",
       "      <td>24.6%</td>\n",
       "      <td>Not Winner</td>\n",
       "      <td>Not Incumbent</td>\n",
       "      <td>Wyoming</td>\n",
       "      <td>01</td>\n",
       "      <td>134597</td>\n",
       "      <td>132235</td>\n",
       "      <td>2363</td>\n",
       "      <td>64222</td>\n",
       "      <td>65975</td>\n",
       "      <td>2800</td>\n",
       "      <td>0</td>\n",
       "      <td>1600</td>\n",
       "    </tr>\n",
       "  </tbody>\n",
       "</table>\n",
       "<p>892 rows × 15 columns</p>\n",
       "</div>"
      ],
      "text/plain": [
       "                    name party   vote      winner      incumbent      state  \\\n",
       "0             Jerry Carl     R  64.9%      Winner  Not Incumbent    Alabama   \n",
       "1         James Averhart     D  35.0%  Not Winner  Not Incumbent    Alabama   \n",
       "2            Barry Moore     R  65.3%      Winner  Not Incumbent    Alabama   \n",
       "3    Phyllis Harvey-Hall     D  34.6%  Not Winner  Not Incumbent    Alabama   \n",
       "4          Mike D Rogers     R  67.5%      Winner      Incumbent    Alabama   \n",
       "..                   ...   ...    ...         ...            ...        ...   \n",
       "887        Tricia Zunker     D  39.2%  Not Winner  Not Incumbent  Wisconsin   \n",
       "888       Mike Gallagher     R  64.0%      Winner      Incumbent  Wisconsin   \n",
       "889         Amanda Stuck     D  36.0%  Not Winner  Not Incumbent  Wisconsin   \n",
       "890           Liz Cheney     R  68.6%      Winner      Incumbent    Wyoming   \n",
       "891   Lynnette Grey Bull     D  24.6%  Not Winner  Not Incumbent    Wyoming   \n",
       "\n",
       "    district   raised    spent  cash_on_hand  \\\n",
       "0         01  1971321  1859349        111973   \n",
       "1         01    80095    78973          1122   \n",
       "2         02   650807   669368        -13633   \n",
       "3         02    56050    55988             0   \n",
       "4         03  1193111  1218564        502234   \n",
       "..       ...      ...      ...           ...   \n",
       "887       07  1261957  1232690         29267   \n",
       "888       08  3202905  2841801       1169362   \n",
       "889       08   416978   399916          2165   \n",
       "890       01  3003883  3060167        153567   \n",
       "891       01   134597   132235          2363   \n",
       "\n",
       "     Small Individual Contributions (≤ 200)  Large Individual Contributions  \\\n",
       "0                                     44580                          999616   \n",
       "1                                     12895                           37955   \n",
       "2                                     62208                          346329   \n",
       "3                                     15307                           27105   \n",
       "4                                      5315                          438054   \n",
       "..                                      ...                             ...   \n",
       "887                                  600015                          566860   \n",
       "888                                  188430                         2040299   \n",
       "889                                  169380                          221453   \n",
       "890                                  189647                          980349   \n",
       "891                                   64222                           65975   \n",
       "\n",
       "     PAC Contributions*  Candidate self-financing   Other  \n",
       "0                387000                    434656  105470  \n",
       "1                     0                     29245       0  \n",
       "2                230282                     11500     489  \n",
       "3                  2032                     10575    1030  \n",
       "4                744734                         0    5009  \n",
       "..                  ...                       ...     ...  \n",
       "887               91807                         0    3276  \n",
       "888              841300                         0  132876  \n",
       "889               30183                         0   -4038  \n",
       "890             1292490                         0  541398  \n",
       "891                2800                         0    1600  \n",
       "\n",
       "[892 rows x 15 columns]"
      ]
     },
     "execution_count": 42,
     "metadata": {},
     "output_type": "execute_result"
    }
   ],
   "source": [
    "candidate_df"
   ]
  },
  {
   "cell_type": "markdown",
   "metadata": {},
   "source": [
    "4. Using your scraped data, investigates different relationships between candidates and the amount of money they raised. Here are some suggestions to get you started, but feel free to pose you own questions or do additional exploration:\n",
    "- How often does the candidate who raised more money win a race?\n",
    "> 88.3% of time"
   ]
  },
  {
   "cell_type": "code",
   "execution_count": 43,
   "metadata": {},
   "outputs": [
    {
     "data": {
      "text/html": [
       "<div>\n",
       "<style scoped>\n",
       "    .dataframe tbody tr th:only-of-type {\n",
       "        vertical-align: middle;\n",
       "    }\n",
       "\n",
       "    .dataframe tbody tr th {\n",
       "        vertical-align: top;\n",
       "    }\n",
       "\n",
       "    .dataframe thead th {\n",
       "        text-align: right;\n",
       "    }\n",
       "</style>\n",
       "<table border=\"1\" class=\"dataframe\">\n",
       "  <thead>\n",
       "    <tr style=\"text-align: right;\">\n",
       "      <th></th>\n",
       "      <th>name</th>\n",
       "      <th>party</th>\n",
       "      <th>vote</th>\n",
       "      <th>incumbent</th>\n",
       "      <th>state</th>\n",
       "      <th>district</th>\n",
       "      <th>raised</th>\n",
       "      <th>spent</th>\n",
       "      <th>cash_on_hand</th>\n",
       "      <th>Small Individual Contributions (≤ 200)</th>\n",
       "      <th>Large Individual Contributions</th>\n",
       "      <th>PAC Contributions*</th>\n",
       "      <th>Candidate self-financing</th>\n",
       "      <th>Other</th>\n",
       "    </tr>\n",
       "    <tr>\n",
       "      <th>winner</th>\n",
       "      <th></th>\n",
       "      <th></th>\n",
       "      <th></th>\n",
       "      <th></th>\n",
       "      <th></th>\n",
       "      <th></th>\n",
       "      <th></th>\n",
       "      <th></th>\n",
       "      <th></th>\n",
       "      <th></th>\n",
       "      <th></th>\n",
       "      <th></th>\n",
       "      <th></th>\n",
       "      <th></th>\n",
       "    </tr>\n",
       "  </thead>\n",
       "  <tbody>\n",
       "    <tr>\n",
       "      <th>Not Winner</th>\n",
       "      <td>51</td>\n",
       "      <td>51</td>\n",
       "      <td>51</td>\n",
       "      <td>51</td>\n",
       "      <td>51</td>\n",
       "      <td>51</td>\n",
       "      <td>51</td>\n",
       "      <td>51</td>\n",
       "      <td>51</td>\n",
       "      <td>51</td>\n",
       "      <td>51</td>\n",
       "      <td>51</td>\n",
       "      <td>51</td>\n",
       "      <td>51</td>\n",
       "    </tr>\n",
       "    <tr>\n",
       "      <th>Winner</th>\n",
       "      <td>384</td>\n",
       "      <td>384</td>\n",
       "      <td>384</td>\n",
       "      <td>384</td>\n",
       "      <td>384</td>\n",
       "      <td>384</td>\n",
       "      <td>384</td>\n",
       "      <td>384</td>\n",
       "      <td>384</td>\n",
       "      <td>384</td>\n",
       "      <td>384</td>\n",
       "      <td>384</td>\n",
       "      <td>384</td>\n",
       "      <td>384</td>\n",
       "    </tr>\n",
       "  </tbody>\n",
       "</table>\n",
       "</div>"
      ],
      "text/plain": [
       "            name  party  vote  incumbent  state  district  raised  spent  \\\n",
       "winner                                                                     \n",
       "Not Winner    51     51    51         51     51        51      51     51   \n",
       "Winner       384    384   384        384    384       384     384    384   \n",
       "\n",
       "            cash_on_hand  Small Individual Contributions (≤ 200)  \\\n",
       "winner                                                             \n",
       "Not Winner            51                                      51   \n",
       "Winner               384                                     384   \n",
       "\n",
       "            Large Individual Contributions  PAC Contributions*  \\\n",
       "winner                                                           \n",
       "Not Winner                              51                  51   \n",
       "Winner                                 384                 384   \n",
       "\n",
       "            Candidate self-financing  Other  \n",
       "winner                                       \n",
       "Not Winner                        51     51  \n",
       "Winner                           384    384  "
      ]
     },
     "execution_count": 43,
     "metadata": {},
     "output_type": "execute_result"
    }
   ],
   "source": [
    "candidate_df[\n",
    "    candidate_df['raised']\n",
    "    .isin(candidate_df.groupby(by=['state', 'district'])['raised'].max())\n",
    "    ].groupby(by='winner').count()"
   ]
  },
  {
   "cell_type": "code",
   "execution_count": 44,
   "metadata": {},
   "outputs": [
    {
     "data": {
      "text/plain": [
       "0.8827586206896552"
      ]
     },
     "execution_count": 44,
     "metadata": {},
     "output_type": "execute_result"
    }
   ],
   "source": [
    "384/435"
   ]
  },
  {
   "cell_type": "code",
   "execution_count": 45,
   "metadata": {},
   "outputs": [
    {
     "data": {
      "text/html": [
       "<div>\n",
       "<style scoped>\n",
       "    .dataframe tbody tr th:only-of-type {\n",
       "        vertical-align: middle;\n",
       "    }\n",
       "\n",
       "    .dataframe tbody tr th {\n",
       "        vertical-align: top;\n",
       "    }\n",
       "\n",
       "    .dataframe thead th {\n",
       "        text-align: right;\n",
       "    }\n",
       "</style>\n",
       "<table border=\"1\" class=\"dataframe\">\n",
       "  <thead>\n",
       "    <tr style=\"text-align: right;\">\n",
       "      <th></th>\n",
       "      <th>raised</th>\n",
       "    </tr>\n",
       "  </thead>\n",
       "  <tbody>\n",
       "    <tr>\n",
       "      <th>0</th>\n",
       "      <td>1971321</td>\n",
       "    </tr>\n",
       "    <tr>\n",
       "      <th>1</th>\n",
       "      <td>1971321</td>\n",
       "    </tr>\n",
       "    <tr>\n",
       "      <th>2</th>\n",
       "      <td>650807</td>\n",
       "    </tr>\n",
       "    <tr>\n",
       "      <th>3</th>\n",
       "      <td>650807</td>\n",
       "    </tr>\n",
       "    <tr>\n",
       "      <th>4</th>\n",
       "      <td>1193111</td>\n",
       "    </tr>\n",
       "    <tr>\n",
       "      <th>...</th>\n",
       "      <td>...</td>\n",
       "    </tr>\n",
       "    <tr>\n",
       "      <th>887</th>\n",
       "      <td>2637459</td>\n",
       "    </tr>\n",
       "    <tr>\n",
       "      <th>888</th>\n",
       "      <td>3202905</td>\n",
       "    </tr>\n",
       "    <tr>\n",
       "      <th>889</th>\n",
       "      <td>3202905</td>\n",
       "    </tr>\n",
       "    <tr>\n",
       "      <th>890</th>\n",
       "      <td>3003883</td>\n",
       "    </tr>\n",
       "    <tr>\n",
       "      <th>891</th>\n",
       "      <td>3003883</td>\n",
       "    </tr>\n",
       "  </tbody>\n",
       "</table>\n",
       "<p>892 rows × 1 columns</p>\n",
       "</div>"
      ],
      "text/plain": [
       "      raised\n",
       "0    1971321\n",
       "1    1971321\n",
       "2     650807\n",
       "3     650807\n",
       "4    1193111\n",
       "..       ...\n",
       "887  2637459\n",
       "888  3202905\n",
       "889  3202905\n",
       "890  3003883\n",
       "891  3003883\n",
       "\n",
       "[892 rows x 1 columns]"
      ]
     },
     "execution_count": 45,
     "metadata": {},
     "output_type": "execute_result"
    }
   ],
   "source": [
    "# the transform applies the 'max' value to undo the grouping essentially; the .to_frame() makes it a dataframe again\n",
    "candidate_df.groupby(['state', 'district'])['raised'].transform('max').to_frame()"
   ]
  },
  {
   "cell_type": "markdown",
   "metadata": {},
   "source": [
    "- How often does the candidate who spent more money win a race?\n",
    "> 87.6%"
   ]
  },
  {
   "cell_type": "code",
   "execution_count": 46,
   "metadata": {},
   "outputs": [
    {
     "data": {
      "text/html": [
       "<div>\n",
       "<style scoped>\n",
       "    .dataframe tbody tr th:only-of-type {\n",
       "        vertical-align: middle;\n",
       "    }\n",
       "\n",
       "    .dataframe tbody tr th {\n",
       "        vertical-align: top;\n",
       "    }\n",
       "\n",
       "    .dataframe thead th {\n",
       "        text-align: right;\n",
       "    }\n",
       "</style>\n",
       "<table border=\"1\" class=\"dataframe\">\n",
       "  <thead>\n",
       "    <tr style=\"text-align: right;\">\n",
       "      <th></th>\n",
       "      <th>name</th>\n",
       "      <th>party</th>\n",
       "      <th>vote</th>\n",
       "      <th>incumbent</th>\n",
       "      <th>state</th>\n",
       "      <th>district</th>\n",
       "      <th>raised</th>\n",
       "      <th>spent</th>\n",
       "      <th>cash_on_hand</th>\n",
       "      <th>Small Individual Contributions (≤ 200)</th>\n",
       "      <th>Large Individual Contributions</th>\n",
       "      <th>PAC Contributions*</th>\n",
       "      <th>Candidate self-financing</th>\n",
       "      <th>Other</th>\n",
       "    </tr>\n",
       "    <tr>\n",
       "      <th>winner</th>\n",
       "      <th></th>\n",
       "      <th></th>\n",
       "      <th></th>\n",
       "      <th></th>\n",
       "      <th></th>\n",
       "      <th></th>\n",
       "      <th></th>\n",
       "      <th></th>\n",
       "      <th></th>\n",
       "      <th></th>\n",
       "      <th></th>\n",
       "      <th></th>\n",
       "      <th></th>\n",
       "      <th></th>\n",
       "    </tr>\n",
       "  </thead>\n",
       "  <tbody>\n",
       "    <tr>\n",
       "      <th>Not Winner</th>\n",
       "      <td>54</td>\n",
       "      <td>54</td>\n",
       "      <td>54</td>\n",
       "      <td>54</td>\n",
       "      <td>54</td>\n",
       "      <td>54</td>\n",
       "      <td>54</td>\n",
       "      <td>54</td>\n",
       "      <td>54</td>\n",
       "      <td>54</td>\n",
       "      <td>54</td>\n",
       "      <td>54</td>\n",
       "      <td>54</td>\n",
       "      <td>54</td>\n",
       "    </tr>\n",
       "    <tr>\n",
       "      <th>Winner</th>\n",
       "      <td>381</td>\n",
       "      <td>381</td>\n",
       "      <td>381</td>\n",
       "      <td>381</td>\n",
       "      <td>381</td>\n",
       "      <td>381</td>\n",
       "      <td>381</td>\n",
       "      <td>381</td>\n",
       "      <td>381</td>\n",
       "      <td>381</td>\n",
       "      <td>381</td>\n",
       "      <td>381</td>\n",
       "      <td>381</td>\n",
       "      <td>381</td>\n",
       "    </tr>\n",
       "  </tbody>\n",
       "</table>\n",
       "</div>"
      ],
      "text/plain": [
       "            name  party  vote  incumbent  state  district  raised  spent  \\\n",
       "winner                                                                     \n",
       "Not Winner    54     54    54         54     54        54      54     54   \n",
       "Winner       381    381   381        381    381       381     381    381   \n",
       "\n",
       "            cash_on_hand  Small Individual Contributions (≤ 200)  \\\n",
       "winner                                                             \n",
       "Not Winner            54                                      54   \n",
       "Winner               381                                     381   \n",
       "\n",
       "            Large Individual Contributions  PAC Contributions*  \\\n",
       "winner                                                           \n",
       "Not Winner                              54                  54   \n",
       "Winner                                 381                 381   \n",
       "\n",
       "            Candidate self-financing  Other  \n",
       "winner                                       \n",
       "Not Winner                        54     54  \n",
       "Winner                           381    381  "
      ]
     },
     "execution_count": 46,
     "metadata": {},
     "output_type": "execute_result"
    }
   ],
   "source": [
    "candidate_df[\n",
    "    candidate_df['spent']\n",
    "    .isin(candidate_df.groupby(by=['state', 'district'])['spent'].max())\n",
    "    ].groupby(by='winner').count()"
   ]
  },
  {
   "cell_type": "code",
   "execution_count": 47,
   "metadata": {},
   "outputs": [
    {
     "data": {
      "text/plain": [
       "0.8758620689655172"
      ]
     },
     "execution_count": 47,
     "metadata": {},
     "output_type": "execute_result"
    }
   ],
   "source": [
    "381/435"
   ]
  },
  {
   "cell_type": "markdown",
   "metadata": {},
   "source": [
    "- Does the difference between either money raised or money spent seem to influence the likelihood of a candidate winning a race?"
   ]
  },
  {
   "cell_type": "code",
   "execution_count": 48,
   "metadata": {},
   "outputs": [],
   "source": [
    "candidate_df['diff_raised'] = candidate_df.groupby(by=['state', 'district'])['raised'].transform('max') - candidate_df['raised']"
   ]
  },
  {
   "cell_type": "code",
   "execution_count": 49,
   "metadata": {},
   "outputs": [],
   "source": [
    "candidate_df['diff_spent'] = candidate_df.groupby(by=['state', 'district'])['spent'].transform('max') - candidate_df['spent']"
   ]
  },
  {
   "cell_type": "code",
   "execution_count": 50,
   "metadata": {},
   "outputs": [
    {
     "data": {
      "text/html": [
       "<div>\n",
       "<style scoped>\n",
       "    .dataframe tbody tr th:only-of-type {\n",
       "        vertical-align: middle;\n",
       "    }\n",
       "\n",
       "    .dataframe tbody tr th {\n",
       "        vertical-align: top;\n",
       "    }\n",
       "\n",
       "    .dataframe thead th {\n",
       "        text-align: right;\n",
       "    }\n",
       "</style>\n",
       "<table border=\"1\" class=\"dataframe\">\n",
       "  <thead>\n",
       "    <tr style=\"text-align: right;\">\n",
       "      <th></th>\n",
       "      <th>name</th>\n",
       "      <th>party</th>\n",
       "      <th>vote</th>\n",
       "      <th>winner</th>\n",
       "      <th>incumbent</th>\n",
       "      <th>state</th>\n",
       "      <th>district</th>\n",
       "      <th>raised</th>\n",
       "      <th>spent</th>\n",
       "      <th>cash_on_hand</th>\n",
       "      <th>Small Individual Contributions (≤ 200)</th>\n",
       "      <th>Large Individual Contributions</th>\n",
       "      <th>PAC Contributions*</th>\n",
       "      <th>Candidate self-financing</th>\n",
       "      <th>Other</th>\n",
       "      <th>diff_raised</th>\n",
       "      <th>diff_spent</th>\n",
       "    </tr>\n",
       "  </thead>\n",
       "  <tbody>\n",
       "    <tr>\n",
       "      <th>0</th>\n",
       "      <td>Jerry Carl</td>\n",
       "      <td>R</td>\n",
       "      <td>64.9%</td>\n",
       "      <td>Winner</td>\n",
       "      <td>Not Incumbent</td>\n",
       "      <td>Alabama</td>\n",
       "      <td>01</td>\n",
       "      <td>1971321</td>\n",
       "      <td>1859349</td>\n",
       "      <td>111973</td>\n",
       "      <td>44580</td>\n",
       "      <td>999616</td>\n",
       "      <td>387000</td>\n",
       "      <td>434656</td>\n",
       "      <td>105470</td>\n",
       "      <td>0</td>\n",
       "      <td>0</td>\n",
       "    </tr>\n",
       "    <tr>\n",
       "      <th>1</th>\n",
       "      <td>James Averhart</td>\n",
       "      <td>D</td>\n",
       "      <td>35.0%</td>\n",
       "      <td>Not Winner</td>\n",
       "      <td>Not Incumbent</td>\n",
       "      <td>Alabama</td>\n",
       "      <td>01</td>\n",
       "      <td>80095</td>\n",
       "      <td>78973</td>\n",
       "      <td>1122</td>\n",
       "      <td>12895</td>\n",
       "      <td>37955</td>\n",
       "      <td>0</td>\n",
       "      <td>29245</td>\n",
       "      <td>0</td>\n",
       "      <td>1891226</td>\n",
       "      <td>1780376</td>\n",
       "    </tr>\n",
       "    <tr>\n",
       "      <th>2</th>\n",
       "      <td>Barry Moore</td>\n",
       "      <td>R</td>\n",
       "      <td>65.3%</td>\n",
       "      <td>Winner</td>\n",
       "      <td>Not Incumbent</td>\n",
       "      <td>Alabama</td>\n",
       "      <td>02</td>\n",
       "      <td>650807</td>\n",
       "      <td>669368</td>\n",
       "      <td>-13633</td>\n",
       "      <td>62208</td>\n",
       "      <td>346329</td>\n",
       "      <td>230282</td>\n",
       "      <td>11500</td>\n",
       "      <td>489</td>\n",
       "      <td>0</td>\n",
       "      <td>0</td>\n",
       "    </tr>\n",
       "    <tr>\n",
       "      <th>3</th>\n",
       "      <td>Phyllis Harvey-Hall</td>\n",
       "      <td>D</td>\n",
       "      <td>34.6%</td>\n",
       "      <td>Not Winner</td>\n",
       "      <td>Not Incumbent</td>\n",
       "      <td>Alabama</td>\n",
       "      <td>02</td>\n",
       "      <td>56050</td>\n",
       "      <td>55988</td>\n",
       "      <td>0</td>\n",
       "      <td>15307</td>\n",
       "      <td>27105</td>\n",
       "      <td>2032</td>\n",
       "      <td>10575</td>\n",
       "      <td>1030</td>\n",
       "      <td>594757</td>\n",
       "      <td>613380</td>\n",
       "    </tr>\n",
       "    <tr>\n",
       "      <th>4</th>\n",
       "      <td>Mike D Rogers</td>\n",
       "      <td>R</td>\n",
       "      <td>67.5%</td>\n",
       "      <td>Winner</td>\n",
       "      <td>Incumbent</td>\n",
       "      <td>Alabama</td>\n",
       "      <td>03</td>\n",
       "      <td>1193111</td>\n",
       "      <td>1218564</td>\n",
       "      <td>502234</td>\n",
       "      <td>5315</td>\n",
       "      <td>438054</td>\n",
       "      <td>744734</td>\n",
       "      <td>0</td>\n",
       "      <td>5009</td>\n",
       "      <td>0</td>\n",
       "      <td>0</td>\n",
       "    </tr>\n",
       "  </tbody>\n",
       "</table>\n",
       "</div>"
      ],
      "text/plain": [
       "                  name party   vote      winner      incumbent    state  \\\n",
       "0           Jerry Carl     R  64.9%      Winner  Not Incumbent  Alabama   \n",
       "1       James Averhart     D  35.0%  Not Winner  Not Incumbent  Alabama   \n",
       "2          Barry Moore     R  65.3%      Winner  Not Incumbent  Alabama   \n",
       "3  Phyllis Harvey-Hall     D  34.6%  Not Winner  Not Incumbent  Alabama   \n",
       "4        Mike D Rogers     R  67.5%      Winner      Incumbent  Alabama   \n",
       "\n",
       "  district   raised    spent  cash_on_hand  \\\n",
       "0       01  1971321  1859349        111973   \n",
       "1       01    80095    78973          1122   \n",
       "2       02   650807   669368        -13633   \n",
       "3       02    56050    55988             0   \n",
       "4       03  1193111  1218564        502234   \n",
       "\n",
       "   Small Individual Contributions (≤ 200)  Large Individual Contributions  \\\n",
       "0                                   44580                          999616   \n",
       "1                                   12895                           37955   \n",
       "2                                   62208                          346329   \n",
       "3                                   15307                           27105   \n",
       "4                                    5315                          438054   \n",
       "\n",
       "   PAC Contributions*  Candidate self-financing   Other  diff_raised  \\\n",
       "0              387000                    434656  105470            0   \n",
       "1                   0                     29245       0      1891226   \n",
       "2              230282                     11500     489            0   \n",
       "3                2032                     10575    1030       594757   \n",
       "4              744734                         0    5009            0   \n",
       "\n",
       "   diff_spent  \n",
       "0           0  \n",
       "1     1780376  \n",
       "2           0  \n",
       "3      613380  \n",
       "4           0  "
      ]
     },
     "execution_count": 50,
     "metadata": {},
     "output_type": "execute_result"
    }
   ],
   "source": [
    "candidate_df.head()"
   ]
  },
  {
   "cell_type": "code",
   "execution_count": 51,
   "metadata": {},
   "outputs": [
    {
     "data": {
      "image/png": "[encoded data removed]",
      "text/plain": [
       "<Figure size 720x432 with 1 Axes>"
      ]
     },
     "metadata": {
      "needs_background": "light"
     },
     "output_type": "display_data"
    }
   ],
   "source": [
    "fig, ax = plt.subplots(figsize = (10,6)) #this makes the plot larger, by scaling the axis\n",
    "\n",
    "sns.boxplot(\n",
    "    data = candidate_df,\n",
    "    x = (candidate_df['diff_raised']/1000),\n",
    "    y = 'winner',\n",
    "    ax=ax\n",
    ")\n",
    "plt.xticks(rotation = 45) #to rotate the x axis\n",
    "plt.xlabel('raised in thousands'); "
   ]
  },
  {
   "cell_type": "code",
   "execution_count": 52,
   "metadata": {},
   "outputs": [
    {
     "data": {
      "image/png": "[encoded data removed]",
      "text/plain": [
       "<Figure size 720x432 with 1 Axes>"
      ]
     },
     "metadata": {
      "needs_background": "light"
     },
     "output_type": "display_data"
    }
   ],
   "source": [
    "fig, ax = plt.subplots(figsize = (10,6)) #this makes the plot larger, by scaling the axis\n",
    "\n",
    "sns.boxplot(\n",
    "    data = candidate_df,\n",
    "    x = (candidate_df['diff_spent']/1000),\n",
    "    y = 'winner',\n",
    "    ax=ax\n",
    ")\n",
    "plt.xticks(rotation = 45) #to rotate the x axis\n",
    "plt.xlabel('spent in thousands'); "
   ]
  },
  {
   "cell_type": "markdown",
   "metadata": {},
   "source": [
    "the two plots above show even mroe significantly how the winners are typically the ones who spend (or raise) the most."
   ]
  },
  {
   "cell_type": "markdown",
   "metadata": {},
   "source": [
    "- How often does the incumbent candidate win a race?\n",
    "> 85.3%"
   ]
  },
  {
   "cell_type": "code",
   "execution_count": 53,
   "metadata": {},
   "outputs": [
    {
     "data": {
      "text/html": [
       "<div>\n",
       "<style scoped>\n",
       "    .dataframe tbody tr th:only-of-type {\n",
       "        vertical-align: middle;\n",
       "    }\n",
       "\n",
       "    .dataframe tbody tr th {\n",
       "        vertical-align: top;\n",
       "    }\n",
       "\n",
       "    .dataframe thead th {\n",
       "        text-align: right;\n",
       "    }\n",
       "</style>\n",
       "<table border=\"1\" class=\"dataframe\">\n",
       "  <thead>\n",
       "    <tr style=\"text-align: right;\">\n",
       "      <th></th>\n",
       "      <th>name</th>\n",
       "      <th>party</th>\n",
       "      <th>vote</th>\n",
       "      <th>incumbent</th>\n",
       "      <th>state</th>\n",
       "      <th>district</th>\n",
       "      <th>raised</th>\n",
       "      <th>spent</th>\n",
       "      <th>cash_on_hand</th>\n",
       "      <th>Small Individual Contributions (≤ 200)</th>\n",
       "      <th>Large Individual Contributions</th>\n",
       "      <th>PAC Contributions*</th>\n",
       "      <th>Candidate self-financing</th>\n",
       "      <th>Other</th>\n",
       "      <th>diff_raised</th>\n",
       "      <th>diff_spent</th>\n",
       "    </tr>\n",
       "    <tr>\n",
       "      <th>winner</th>\n",
       "      <th></th>\n",
       "      <th></th>\n",
       "      <th></th>\n",
       "      <th></th>\n",
       "      <th></th>\n",
       "      <th></th>\n",
       "      <th></th>\n",
       "      <th></th>\n",
       "      <th></th>\n",
       "      <th></th>\n",
       "      <th></th>\n",
       "      <th></th>\n",
       "      <th></th>\n",
       "      <th></th>\n",
       "      <th></th>\n",
       "      <th></th>\n",
       "    </tr>\n",
       "  </thead>\n",
       "  <tbody>\n",
       "    <tr>\n",
       "      <th>Not Winner</th>\n",
       "      <td>15</td>\n",
       "      <td>15</td>\n",
       "      <td>15</td>\n",
       "      <td>15</td>\n",
       "      <td>15</td>\n",
       "      <td>15</td>\n",
       "      <td>15</td>\n",
       "      <td>15</td>\n",
       "      <td>15</td>\n",
       "      <td>15</td>\n",
       "      <td>15</td>\n",
       "      <td>15</td>\n",
       "      <td>15</td>\n",
       "      <td>15</td>\n",
       "      <td>15</td>\n",
       "      <td>15</td>\n",
       "    </tr>\n",
       "    <tr>\n",
       "      <th>Winner</th>\n",
       "      <td>371</td>\n",
       "      <td>371</td>\n",
       "      <td>371</td>\n",
       "      <td>371</td>\n",
       "      <td>371</td>\n",
       "      <td>371</td>\n",
       "      <td>371</td>\n",
       "      <td>371</td>\n",
       "      <td>371</td>\n",
       "      <td>371</td>\n",
       "      <td>371</td>\n",
       "      <td>371</td>\n",
       "      <td>371</td>\n",
       "      <td>371</td>\n",
       "      <td>371</td>\n",
       "      <td>371</td>\n",
       "    </tr>\n",
       "  </tbody>\n",
       "</table>\n",
       "</div>"
      ],
      "text/plain": [
       "            name  party  vote  incumbent  state  district  raised  spent  \\\n",
       "winner                                                                     \n",
       "Not Winner    15     15    15         15     15        15      15     15   \n",
       "Winner       371    371   371        371    371       371     371    371   \n",
       "\n",
       "            cash_on_hand  Small Individual Contributions (≤ 200)  \\\n",
       "winner                                                             \n",
       "Not Winner            15                                      15   \n",
       "Winner               371                                     371   \n",
       "\n",
       "            Large Individual Contributions  PAC Contributions*  \\\n",
       "winner                                                           \n",
       "Not Winner                              15                  15   \n",
       "Winner                                 371                 371   \n",
       "\n",
       "            Candidate self-financing  Other  diff_raised  diff_spent  \n",
       "winner                                                                \n",
       "Not Winner                        15     15           15          15  \n",
       "Winner                           371    371          371         371  "
      ]
     },
     "execution_count": 53,
     "metadata": {},
     "output_type": "execute_result"
    }
   ],
   "source": [
    "candidate_df[candidate_df['incumbent'] == 'Incumbent'].groupby(by='winner').count()"
   ]
  },
  {
   "cell_type": "code",
   "execution_count": 54,
   "metadata": {},
   "outputs": [
    {
     "data": {
      "text/plain": [
       "0.8528735632183908"
      ]
     },
     "execution_count": 54,
     "metadata": {},
     "output_type": "execute_result"
    }
   ],
   "source": [
    "371/435"
   ]
  },
  {
   "cell_type": "markdown",
   "metadata": {},
   "source": [
    "- Can you detect any relationship between amount of money raised and the incumbent status of a candidate?"
   ]
  },
  {
   "cell_type": "code",
   "execution_count": 55,
   "metadata": {},
   "outputs": [
    {
     "name": "stderr",
     "output_type": "stream",
     "text": [
      "/Users/tomoumer/opt/anaconda3/lib/python3.9/site-packages/pandas/core/arraylike.py:397: RuntimeWarning: invalid value encountered in log\n",
      "  result = getattr(ufunc, method)(*inputs, **kwargs)\n"
     ]
    },
    {
     "data": {
      "image/png": "[encoded data removed]",
      "text/plain": [
       "<Figure size 720x432 with 1 Axes>"
      ]
     },
     "metadata": {
      "needs_background": "light"
     },
     "output_type": "display_data"
    }
   ],
   "source": [
    "fig, ax = plt.subplots(figsize = (10,6)) #this makes the plot larger, by scaling the axis\n",
    "\n",
    "sns.boxplot(\n",
    "    data = candidate_df,\n",
    "    x = np.log(candidate_df['raised']),\n",
    "    y = 'incumbent',\n",
    "    ax=ax\n",
    ")\n",
    "plt.xticks(rotation = 45) #to rotate the x axis\n",
    "plt.xlabel('log(raised money)');"
   ]
  },
  {
   "cell_type": "code",
   "execution_count": 56,
   "metadata": {},
   "outputs": [
    {
     "data": {
      "text/html": [
       "<div>\n",
       "<style scoped>\n",
       "    .dataframe tbody tr th:only-of-type {\n",
       "        vertical-align: middle;\n",
       "    }\n",
       "\n",
       "    .dataframe tbody tr th {\n",
       "        vertical-align: top;\n",
       "    }\n",
       "\n",
       "    .dataframe thead th {\n",
       "        text-align: right;\n",
       "    }\n",
       "</style>\n",
       "<table border=\"1\" class=\"dataframe\">\n",
       "  <thead>\n",
       "    <tr style=\"text-align: right;\">\n",
       "      <th></th>\n",
       "      <th>0</th>\n",
       "      <th>1</th>\n",
       "      <th>2</th>\n",
       "    </tr>\n",
       "  </thead>\n",
       "  <tbody>\n",
       "    <tr>\n",
       "      <th>0</th>\n",
       "      <td>Raised</td>\n",
       "      <td>1194960</td>\n",
       "      <td>NaN</td>\n",
       "    </tr>\n",
       "    <tr>\n",
       "      <th>1</th>\n",
       "      <td>Spent</td>\n",
       "      <td>935487</td>\n",
       "      <td>NaN</td>\n",
       "    </tr>\n",
       "    <tr>\n",
       "      <th>2</th>\n",
       "      <td>Cash on Hand</td>\n",
       "      <td>287889</td>\n",
       "      <td>NaN</td>\n",
       "    </tr>\n",
       "  </tbody>\n",
       "</table>\n",
       "</div>"
      ],
      "text/plain": [
       "              0        1   2\n",
       "0        Raised  1194960 NaN\n",
       "1         Spent   935487 NaN\n",
       "2  Cash on Hand   287889 NaN"
      ]
     },
     "execution_count": 56,
     "metadata": {},
     "output_type": "execute_result"
    }
   ],
   "source": [
    "pd.read_html(str(soup_TN07.findAll('table', attrs={'class' : 'Members--table'})[0]).replace('$','').replace(':', ''))[0]\n"
   ]
  },
  {
   "cell_type": "code",
   "execution_count": 57,
   "metadata": {},
   "outputs": [
    {
     "data": {
      "text/plain": [
       "<div class=\"u-richtext\">\n",
       "<h3>Source of Funds</h3>\n",
       "<table>\n",
       "<thead>\n",
       "<tr>\n",
       "<th scope=\"col\">Type of Contribution</th>\n",
       "<th class=\"number\" scope=\"col\">Amount</th>\n",
       "<th class=\"number\" scope=\"col\">Percentage</th>\n",
       "</tr>\n",
       "</thead>\n",
       "<tbody>\n",
       "<tr>\n",
       "<td>Small Individual Contributions (≤ $200)</td>\n",
       "<td class=\"number\">$0</td>\n",
       "<td class=\"number\">0.00%</td>\n",
       "</tr>\n",
       "<tr>\n",
       "<td>Large Individual Contributions</td>\n",
       "<td class=\"number\">$819,151</td>\n",
       "<td class=\"number\">68.55%</td>\n",
       "</tr>\n",
       "<tr>\n",
       "<td>PAC Contributions*</td>\n",
       "<td class=\"number\">$171,900</td>\n",
       "<td class=\"number\">14.39%</td>\n",
       "</tr>\n",
       "<tr>\n",
       "<td>Candidate self-financing</td>\n",
       "<td class=\"number\">$0</td>\n",
       "<td class=\"number\">0.00%</td>\n",
       "</tr>\n",
       "<tr>\n",
       "<td>Other</td>\n",
       "<td class=\"number\">$203,909</td>\n",
       "<td class=\"number\">17.06%</td>\n",
       "</tr>\n",
       "</tbody>\n",
       "</table>\n",
       "<h3>Quality of Disclosure</h3>\n",
       "<table>\n",
       "<thead>\n",
       "<tr>\n",
       "<th scope=\"col\">Type of Disclosure</th>\n",
       "<th class=\"number\" scope=\"col\">Amount</th>\n",
       "<th class=\"number\" scope=\"col\">Percentage</th>\n",
       "</tr>\n",
       "</thead>\n",
       "<tbody>\n",
       "<tr>\n",
       "<td nowrap=\"\">Full Disclosure</td>\n",
       "<td class=\"number\">$1,061,024</td>\n",
       "<td class=\"number\">98.64%</td>\n",
       "</tr>\n",
       "<tr>\n",
       "<td nowrap=\"\">Incomplete Disclosure</td>\n",
       "<td class=\"number\">$2,676</td>\n",
       "<td class=\"number\">0.25%</td>\n",
       "</tr>\n",
       "<tr>\n",
       "<td nowrap=\"\">No Disclosure</td>\n",
       "<td class=\"number\">$11,928</td>\n",
       "<td class=\"number\">1.11%</td>\n",
       "</tr>\n",
       "</tbody>\n",
       "</table>\n",
       "</div>"
      ]
     },
     "execution_count": 57,
     "metadata": {},
     "output_type": "execute_result"
    }
   ],
   "source": [
    "soup_TN07.findAll('div', attrs={'class' : 'u-richtext'})[2]"
   ]
  },
  {
   "cell_type": "code",
   "execution_count": 58,
   "metadata": {},
   "outputs": [],
   "source": [
    "source_funds = [table for table in soup_TN07.findAll('table') if re.search(r'(Type of Contribution)', str(table)) != None ]"
   ]
  },
  {
   "cell_type": "code",
   "execution_count": 59,
   "metadata": {},
   "outputs": [
    {
     "data": {
      "text/plain": [
       "[<table>\n",
       " <thead>\n",
       " <tr>\n",
       " <th scope=\"col\">Type of Contribution</th>\n",
       " <th class=\"number\" scope=\"col\">Amount</th>\n",
       " <th class=\"number\" scope=\"col\">Percentage</th>\n",
       " </tr>\n",
       " </thead>\n",
       " <tbody>\n",
       " <tr>\n",
       " <td>Small Individual Contributions (≤ $200)</td>\n",
       " <td class=\"number\">$0</td>\n",
       " <td class=\"number\">0.00%</td>\n",
       " </tr>\n",
       " <tr>\n",
       " <td>Large Individual Contributions</td>\n",
       " <td class=\"number\">$819,151</td>\n",
       " <td class=\"number\">68.55%</td>\n",
       " </tr>\n",
       " <tr>\n",
       " <td>PAC Contributions*</td>\n",
       " <td class=\"number\">$171,900</td>\n",
       " <td class=\"number\">14.39%</td>\n",
       " </tr>\n",
       " <tr>\n",
       " <td>Candidate self-financing</td>\n",
       " <td class=\"number\">$0</td>\n",
       " <td class=\"number\">0.00%</td>\n",
       " </tr>\n",
       " <tr>\n",
       " <td>Other</td>\n",
       " <td class=\"number\">$203,909</td>\n",
       " <td class=\"number\">17.06%</td>\n",
       " </tr>\n",
       " </tbody>\n",
       " </table>,\n",
       " <table>\n",
       " <thead>\n",
       " <tr>\n",
       " <th scope=\"col\">Type of Contribution</th>\n",
       " <th class=\"number\" scope=\"col\">Amount</th>\n",
       " <th class=\"number\" scope=\"col\">Percentage</th>\n",
       " </tr>\n",
       " </thead>\n",
       " <tbody>\n",
       " <tr>\n",
       " <td>Small Individual Contributions (≤ $200)</td>\n",
       " <td class=\"number\">$23,515</td>\n",
       " <td class=\"number\">11.38%</td>\n",
       " </tr>\n",
       " <tr>\n",
       " <td>Large Individual Contributions</td>\n",
       " <td class=\"number\">$179,130</td>\n",
       " <td class=\"number\">86.69%</td>\n",
       " </tr>\n",
       " <tr>\n",
       " <td>PAC Contributions*</td>\n",
       " <td class=\"number\">$4,000</td>\n",
       " <td class=\"number\">1.94%</td>\n",
       " </tr>\n",
       " <tr>\n",
       " <td>Candidate self-financing</td>\n",
       " <td class=\"number\">$0</td>\n",
       " <td class=\"number\">0.00%</td>\n",
       " </tr>\n",
       " <tr>\n",
       " <td>Other</td>\n",
       " <td class=\"number\">$0</td>\n",
       " <td class=\"number\">0.00%</td>\n",
       " </tr>\n",
       " </tbody>\n",
       " </table>,\n",
       " <table>\n",
       " <thead>\n",
       " <tr>\n",
       " <th scope=\"col\">Type of Contribution</th>\n",
       " <th class=\"number\" scope=\"col\">Amount</th>\n",
       " <th class=\"number\" scope=\"col\">Percentage</th>\n",
       " </tr>\n",
       " </thead>\n",
       " <tbody>\n",
       " <tr>\n",
       " <td>Small Individual Contributions (≤ $200)</td>\n",
       " <td class=\"number\">$1,450</td>\n",
       " <td class=\"number\">82.86%</td>\n",
       " </tr>\n",
       " <tr>\n",
       " <td>Large Individual Contributions</td>\n",
       " <td class=\"number\">$300</td>\n",
       " <td class=\"number\">17.14%</td>\n",
       " </tr>\n",
       " <tr>\n",
       " <td>PAC Contributions*</td>\n",
       " <td class=\"number\">$0</td>\n",
       " <td class=\"number\">0.00%</td>\n",
       " </tr>\n",
       " <tr>\n",
       " <td>Candidate self-financing</td>\n",
       " <td class=\"number\">$0</td>\n",
       " <td class=\"number\">0.00%</td>\n",
       " </tr>\n",
       " <tr>\n",
       " <td>Other</td>\n",
       " <td class=\"number\">$0</td>\n",
       " <td class=\"number\">0.00%</td>\n",
       " </tr>\n",
       " </tbody>\n",
       " </table>,\n",
       " <table>\n",
       " <thead>\n",
       " <tr>\n",
       " <th scope=\"col\">Type of Contribution</th>\n",
       " <th class=\"number\" scope=\"col\">Amount</th>\n",
       " <th class=\"number\" scope=\"col\">Percentage</th>\n",
       " </tr>\n",
       " </thead>\n",
       " <tbody>\n",
       " <tr>\n",
       " <td>Small Individual Contributions (≤ $200)</td>\n",
       " <td class=\"number\">$45</td>\n",
       " <td class=\"number\">6.87%</td>\n",
       " </tr>\n",
       " <tr>\n",
       " <td>Large Individual Contributions</td>\n",
       " <td class=\"number\">$0</td>\n",
       " <td class=\"number\">0.00%</td>\n",
       " </tr>\n",
       " <tr>\n",
       " <td>PAC Contributions*</td>\n",
       " <td class=\"number\">$10</td>\n",
       " <td class=\"number\">1.53%</td>\n",
       " </tr>\n",
       " <tr>\n",
       " <td>Candidate self-financing</td>\n",
       " <td class=\"number\">$35</td>\n",
       " <td class=\"number\">5.34%</td>\n",
       " </tr>\n",
       " <tr>\n",
       " <td>Other</td>\n",
       " <td class=\"number\">$565</td>\n",
       " <td class=\"number\">86.27%</td>\n",
       " </tr>\n",
       " </tbody>\n",
       " </table>]"
      ]
     },
     "execution_count": 59,
     "metadata": {},
     "output_type": "execute_result"
    }
   ],
   "source": [
    "source_funds"
   ]
  },
  {
   "cell_type": "code",
   "execution_count": 60,
   "metadata": {},
   "outputs": [],
   "source": [
    "contributions = pd.read_html(str(source_funds[0]).replace('$',''))[0]"
   ]
  },
  {
   "cell_type": "code",
   "execution_count": 61,
   "metadata": {},
   "outputs": [],
   "source": [
    "# if I wanted to pivot and collapse the table, I need to create a dummy column to use as index\n",
    "# contributions['dummy'] = 1\n",
    "# contributions.pivot(index='dummy', columns='Type of Contribution', values='Amount').reset_index(drop=True).rename_axis(None, axis=1)"
   ]
  },
  {
   "cell_type": "code",
   "execution_count": 62,
   "metadata": {},
   "outputs": [
    {
     "data": {
      "text/html": [
       "<div>\n",
       "<style scoped>\n",
       "    .dataframe tbody tr th:only-of-type {\n",
       "        vertical-align: middle;\n",
       "    }\n",
       "\n",
       "    .dataframe tbody tr th {\n",
       "        vertical-align: top;\n",
       "    }\n",
       "\n",
       "    .dataframe thead th {\n",
       "        text-align: right;\n",
       "    }\n",
       "</style>\n",
       "<table border=\"1\" class=\"dataframe\">\n",
       "  <thead>\n",
       "    <tr style=\"text-align: right;\">\n",
       "      <th></th>\n",
       "      <th>Type of Contribution</th>\n",
       "      <th>Amount</th>\n",
       "      <th>Percentage</th>\n",
       "    </tr>\n",
       "  </thead>\n",
       "  <tbody>\n",
       "    <tr>\n",
       "      <th>0</th>\n",
       "      <td>Small Individual Contributions (≤ 200)</td>\n",
       "      <td>0</td>\n",
       "      <td>0.00%</td>\n",
       "    </tr>\n",
       "    <tr>\n",
       "      <th>1</th>\n",
       "      <td>Large Individual Contributions</td>\n",
       "      <td>819151</td>\n",
       "      <td>68.55%</td>\n",
       "    </tr>\n",
       "    <tr>\n",
       "      <th>2</th>\n",
       "      <td>PAC Contributions*</td>\n",
       "      <td>171900</td>\n",
       "      <td>14.39%</td>\n",
       "    </tr>\n",
       "    <tr>\n",
       "      <th>3</th>\n",
       "      <td>Candidate self-financing</td>\n",
       "      <td>0</td>\n",
       "      <td>0.00%</td>\n",
       "    </tr>\n",
       "    <tr>\n",
       "      <th>4</th>\n",
       "      <td>Other</td>\n",
       "      <td>203909</td>\n",
       "      <td>17.06%</td>\n",
       "    </tr>\n",
       "  </tbody>\n",
       "</table>\n",
       "</div>"
      ],
      "text/plain": [
       "                     Type of Contribution  Amount Percentage\n",
       "0  Small Individual Contributions (≤ 200)       0      0.00%\n",
       "1          Large Individual Contributions  819151     68.55%\n",
       "2                      PAC Contributions*  171900     14.39%\n",
       "3                Candidate self-financing       0      0.00%\n",
       "4                                   Other  203909     17.06%"
      ]
     },
     "execution_count": 62,
     "metadata": {},
     "output_type": "execute_result"
    }
   ],
   "source": [
    "contributions.head()"
   ]
  },
  {
   "cell_type": "code",
   "execution_count": 63,
   "metadata": {},
   "outputs": [
    {
     "data": {
      "text/plain": [
       "[0, 819151, 171900, 0, 203909]"
      ]
     },
     "execution_count": 63,
     "metadata": {},
     "output_type": "execute_result"
    }
   ],
   "source": [
    "# get all 5 values!\n",
    "[contributions.iloc[i,1] for i in range(5)]\n"
   ]
  },
  {
   "cell_type": "code",
   "execution_count": 64,
   "metadata": {},
   "outputs": [
    {
     "data": {
      "text/html": [
       "<div>\n",
       "<style scoped>\n",
       "    .dataframe tbody tr th:only-of-type {\n",
       "        vertical-align: middle;\n",
       "    }\n",
       "\n",
       "    .dataframe tbody tr th {\n",
       "        vertical-align: top;\n",
       "    }\n",
       "\n",
       "    .dataframe thead th {\n",
       "        text-align: right;\n",
       "    }\n",
       "</style>\n",
       "<table border=\"1\" class=\"dataframe\">\n",
       "  <thead>\n",
       "    <tr style=\"text-align: right;\">\n",
       "      <th></th>\n",
       "      <th>Type of Contribution</th>\n",
       "      <th>Amount</th>\n",
       "      <th>Percentage</th>\n",
       "    </tr>\n",
       "  </thead>\n",
       "  <tbody>\n",
       "    <tr>\n",
       "      <th>0</th>\n",
       "      <td>Small Individual Contributions (≤ 200)</td>\n",
       "      <td>0</td>\n",
       "      <td>0.00%</td>\n",
       "    </tr>\n",
       "    <tr>\n",
       "      <th>1</th>\n",
       "      <td>Large Individual Contributions</td>\n",
       "      <td>819151</td>\n",
       "      <td>68.55%</td>\n",
       "    </tr>\n",
       "    <tr>\n",
       "      <th>2</th>\n",
       "      <td>PAC Contributions*</td>\n",
       "      <td>171900</td>\n",
       "      <td>14.39%</td>\n",
       "    </tr>\n",
       "    <tr>\n",
       "      <th>3</th>\n",
       "      <td>Candidate self-financing</td>\n",
       "      <td>0</td>\n",
       "      <td>0.00%</td>\n",
       "    </tr>\n",
       "    <tr>\n",
       "      <th>4</th>\n",
       "      <td>Other</td>\n",
       "      <td>203909</td>\n",
       "      <td>17.06%</td>\n",
       "    </tr>\n",
       "  </tbody>\n",
       "</table>\n",
       "</div>"
      ],
      "text/plain": [
       "                     Type of Contribution  Amount Percentage\n",
       "0  Small Individual Contributions (≤ 200)       0      0.00%\n",
       "1          Large Individual Contributions  819151     68.55%\n",
       "2                      PAC Contributions*  171900     14.39%\n",
       "3                Candidate self-financing       0      0.00%\n",
       "4                                   Other  203909     17.06%"
      ]
     },
     "execution_count": 64,
     "metadata": {},
     "output_type": "execute_result"
    }
   ],
   "source": [
    "# just combining all the info from above into the same function, for first candidate - index at the ent [0]\n",
    "pd.read_html(str([table for table in soup_TN07.findAll('table') if re.search(r'(Type of Contribution)', str(table)) != None ]).replace('$',''))[0]"
   ]
  },
  {
   "cell_type": "markdown",
   "metadata": {},
   "source": [
    "# An Analysis of Political Contributions During the 2020 House of Representatives Election, Part 2\n",
    "\n",
    "For the first part of this project, you scraped information for all House of Representatives races during 2020 and performed some exploratory analysis.\n",
    "\n",
    "Now, take the data you gathered and fit a logistic regression model to see if the amount spent has a statistically significant impact on the probability of winning an election.\n",
    "\n",
    "Feel free to brainstorm ways to set up your model, but a suggestion to get started would be to calculate, for each candidate, the percentage of to total amount spent in their race that was spent by them and use this as your predictor variable of interest. Hint: you may find the `transform` method (https://pandas.pydata.org/docs/reference/api/pandas.DataFrame.transform.html) in combination with `groupby` useful to find the total spending by race.\n",
    "\n",
    "Don't forget to include the incumbent variable in your model.\n",
    "\n",
    "After fitting your model, interpret the meaning of the coefficients you get."
   ]
  },
  {
   "cell_type": "code",
   "execution_count": 65,
   "metadata": {},
   "outputs": [
    {
     "data": {
      "text/html": [
       "<div>\n",
       "<style scoped>\n",
       "    .dataframe tbody tr th:only-of-type {\n",
       "        vertical-align: middle;\n",
       "    }\n",
       "\n",
       "    .dataframe tbody tr th {\n",
       "        vertical-align: top;\n",
       "    }\n",
       "\n",
       "    .dataframe thead th {\n",
       "        text-align: right;\n",
       "    }\n",
       "</style>\n",
       "<table border=\"1\" class=\"dataframe\">\n",
       "  <thead>\n",
       "    <tr style=\"text-align: right;\">\n",
       "      <th></th>\n",
       "      <th>name</th>\n",
       "      <th>party</th>\n",
       "      <th>vote</th>\n",
       "      <th>winner</th>\n",
       "      <th>incumbent</th>\n",
       "      <th>state</th>\n",
       "      <th>district</th>\n",
       "      <th>raised</th>\n",
       "      <th>spent</th>\n",
       "      <th>cash_on_hand</th>\n",
       "      <th>Small Individual Contributions (≤ 200)</th>\n",
       "      <th>Large Individual Contributions</th>\n",
       "      <th>PAC Contributions*</th>\n",
       "      <th>Candidate self-financing</th>\n",
       "      <th>Other</th>\n",
       "      <th>diff_raised</th>\n",
       "      <th>diff_spent</th>\n",
       "    </tr>\n",
       "  </thead>\n",
       "  <tbody>\n",
       "    <tr>\n",
       "      <th>0</th>\n",
       "      <td>Jerry Carl</td>\n",
       "      <td>R</td>\n",
       "      <td>64.9%</td>\n",
       "      <td>Winner</td>\n",
       "      <td>Not Incumbent</td>\n",
       "      <td>Alabama</td>\n",
       "      <td>01</td>\n",
       "      <td>1971321</td>\n",
       "      <td>1859349</td>\n",
       "      <td>111973</td>\n",
       "      <td>44580</td>\n",
       "      <td>999616</td>\n",
       "      <td>387000</td>\n",
       "      <td>434656</td>\n",
       "      <td>105470</td>\n",
       "      <td>0</td>\n",
       "      <td>0</td>\n",
       "    </tr>\n",
       "    <tr>\n",
       "      <th>1</th>\n",
       "      <td>James Averhart</td>\n",
       "      <td>D</td>\n",
       "      <td>35.0%</td>\n",
       "      <td>Not Winner</td>\n",
       "      <td>Not Incumbent</td>\n",
       "      <td>Alabama</td>\n",
       "      <td>01</td>\n",
       "      <td>80095</td>\n",
       "      <td>78973</td>\n",
       "      <td>1122</td>\n",
       "      <td>12895</td>\n",
       "      <td>37955</td>\n",
       "      <td>0</td>\n",
       "      <td>29245</td>\n",
       "      <td>0</td>\n",
       "      <td>1891226</td>\n",
       "      <td>1780376</td>\n",
       "    </tr>\n",
       "  </tbody>\n",
       "</table>\n",
       "</div>"
      ],
      "text/plain": [
       "             name party   vote      winner      incumbent    state district  \\\n",
       "0      Jerry Carl     R  64.9%      Winner  Not Incumbent  Alabama       01   \n",
       "1  James Averhart     D  35.0%  Not Winner  Not Incumbent  Alabama       01   \n",
       "\n",
       "    raised    spent  cash_on_hand  Small Individual Contributions (≤ 200)  \\\n",
       "0  1971321  1859349        111973                                   44580   \n",
       "1    80095    78973          1122                                   12895   \n",
       "\n",
       "   Large Individual Contributions  PAC Contributions*  \\\n",
       "0                          999616              387000   \n",
       "1                           37955                   0   \n",
       "\n",
       "   Candidate self-financing   Other  diff_raised  diff_spent  \n",
       "0                    434656  105470            0           0  \n",
       "1                     29245       0      1891226     1780376  "
      ]
     },
     "execution_count": 65,
     "metadata": {},
     "output_type": "execute_result"
    }
   ],
   "source": [
    "candidate_df.head(2)"
   ]
  },
  {
   "cell_type": "code",
   "execution_count": 66,
   "metadata": {},
   "outputs": [],
   "source": [
    "candidate_df['win_flag'] = [1 if x == 'Winner' else 0 for x in candidate_df['winner']]"
   ]
  },
  {
   "cell_type": "code",
   "execution_count": 67,
   "metadata": {},
   "outputs": [],
   "source": [
    "candidate_df['incumbent_flag'] = [1 if x == 'Incumbent' else 0 for x in candidate_df['incumbent']]"
   ]
  },
  {
   "cell_type": "code",
   "execution_count": 68,
   "metadata": {},
   "outputs": [],
   "source": [
    "# alternative to the above\n",
    "# all_candidates['winner_dum'] = pd.get_dummies(all_candidates['winner'])['Winner']"
   ]
  },
  {
   "cell_type": "code",
   "execution_count": 69,
   "metadata": {},
   "outputs": [
    {
     "data": {
      "text/html": [
       "<div>\n",
       "<style scoped>\n",
       "    .dataframe tbody tr th:only-of-type {\n",
       "        vertical-align: middle;\n",
       "    }\n",
       "\n",
       "    .dataframe tbody tr th {\n",
       "        vertical-align: top;\n",
       "    }\n",
       "\n",
       "    .dataframe thead th {\n",
       "        text-align: right;\n",
       "    }\n",
       "</style>\n",
       "<table border=\"1\" class=\"dataframe\">\n",
       "  <thead>\n",
       "    <tr style=\"text-align: right;\">\n",
       "      <th></th>\n",
       "      <th>name</th>\n",
       "      <th>party</th>\n",
       "      <th>vote</th>\n",
       "      <th>winner</th>\n",
       "      <th>incumbent</th>\n",
       "      <th>state</th>\n",
       "      <th>district</th>\n",
       "      <th>raised</th>\n",
       "      <th>spent</th>\n",
       "      <th>cash_on_hand</th>\n",
       "      <th>Small Individual Contributions (≤ 200)</th>\n",
       "      <th>Large Individual Contributions</th>\n",
       "      <th>PAC Contributions*</th>\n",
       "      <th>Candidate self-financing</th>\n",
       "      <th>Other</th>\n",
       "      <th>diff_raised</th>\n",
       "      <th>diff_spent</th>\n",
       "      <th>win_flag</th>\n",
       "      <th>incumbent_flag</th>\n",
       "    </tr>\n",
       "  </thead>\n",
       "  <tbody>\n",
       "    <tr>\n",
       "      <th>0</th>\n",
       "      <td>Jerry Carl</td>\n",
       "      <td>R</td>\n",
       "      <td>64.9%</td>\n",
       "      <td>Winner</td>\n",
       "      <td>Not Incumbent</td>\n",
       "      <td>Alabama</td>\n",
       "      <td>01</td>\n",
       "      <td>1971321</td>\n",
       "      <td>1859349</td>\n",
       "      <td>111973</td>\n",
       "      <td>44580</td>\n",
       "      <td>999616</td>\n",
       "      <td>387000</td>\n",
       "      <td>434656</td>\n",
       "      <td>105470</td>\n",
       "      <td>0</td>\n",
       "      <td>0</td>\n",
       "      <td>1</td>\n",
       "      <td>0</td>\n",
       "    </tr>\n",
       "    <tr>\n",
       "      <th>1</th>\n",
       "      <td>James Averhart</td>\n",
       "      <td>D</td>\n",
       "      <td>35.0%</td>\n",
       "      <td>Not Winner</td>\n",
       "      <td>Not Incumbent</td>\n",
       "      <td>Alabama</td>\n",
       "      <td>01</td>\n",
       "      <td>80095</td>\n",
       "      <td>78973</td>\n",
       "      <td>1122</td>\n",
       "      <td>12895</td>\n",
       "      <td>37955</td>\n",
       "      <td>0</td>\n",
       "      <td>29245</td>\n",
       "      <td>0</td>\n",
       "      <td>1891226</td>\n",
       "      <td>1780376</td>\n",
       "      <td>0</td>\n",
       "      <td>0</td>\n",
       "    </tr>\n",
       "  </tbody>\n",
       "</table>\n",
       "</div>"
      ],
      "text/plain": [
       "             name party   vote      winner      incumbent    state district  \\\n",
       "0      Jerry Carl     R  64.9%      Winner  Not Incumbent  Alabama       01   \n",
       "1  James Averhart     D  35.0%  Not Winner  Not Incumbent  Alabama       01   \n",
       "\n",
       "    raised    spent  cash_on_hand  Small Individual Contributions (≤ 200)  \\\n",
       "0  1971321  1859349        111973                                   44580   \n",
       "1    80095    78973          1122                                   12895   \n",
       "\n",
       "   Large Individual Contributions  PAC Contributions*  \\\n",
       "0                          999616              387000   \n",
       "1                           37955                   0   \n",
       "\n",
       "   Candidate self-financing   Other  diff_raised  diff_spent  win_flag  \\\n",
       "0                    434656  105470            0           0         1   \n",
       "1                     29245       0      1891226     1780376         0   \n",
       "\n",
       "   incumbent_flag  \n",
       "0               0  \n",
       "1               0  "
      ]
     },
     "execution_count": 69,
     "metadata": {},
     "output_type": "execute_result"
    }
   ],
   "source": [
    "candidate_df.head(2)"
   ]
  },
  {
   "cell_type": "code",
   "execution_count": 70,
   "metadata": {},
   "outputs": [],
   "source": [
    "# to get the total money spent in each district\n",
    "candidate_df['spent_by_district'] = candidate_df.groupby(['state', 'district'])['spent'].transform(sum)"
   ]
  },
  {
   "cell_type": "code",
   "execution_count": 71,
   "metadata": {},
   "outputs": [],
   "source": [
    "# percentage of money spent by candidate in district\n",
    "candidate_df['percentage_spent'] = candidate_df['spent'] / candidate_df['spent_by_district'] * 100"
   ]
  },
  {
   "cell_type": "code",
   "execution_count": 72,
   "metadata": {},
   "outputs": [
    {
     "data": {
      "text/html": [
       "<div>\n",
       "<style scoped>\n",
       "    .dataframe tbody tr th:only-of-type {\n",
       "        vertical-align: middle;\n",
       "    }\n",
       "\n",
       "    .dataframe tbody tr th {\n",
       "        vertical-align: top;\n",
       "    }\n",
       "\n",
       "    .dataframe thead th {\n",
       "        text-align: right;\n",
       "    }\n",
       "</style>\n",
       "<table border=\"1\" class=\"dataframe\">\n",
       "  <thead>\n",
       "    <tr style=\"text-align: right;\">\n",
       "      <th></th>\n",
       "      <th>name</th>\n",
       "      <th>party</th>\n",
       "      <th>vote</th>\n",
       "      <th>winner</th>\n",
       "      <th>incumbent</th>\n",
       "      <th>state</th>\n",
       "      <th>district</th>\n",
       "      <th>raised</th>\n",
       "      <th>spent</th>\n",
       "      <th>cash_on_hand</th>\n",
       "      <th>...</th>\n",
       "      <th>Large Individual Contributions</th>\n",
       "      <th>PAC Contributions*</th>\n",
       "      <th>Candidate self-financing</th>\n",
       "      <th>Other</th>\n",
       "      <th>diff_raised</th>\n",
       "      <th>diff_spent</th>\n",
       "      <th>win_flag</th>\n",
       "      <th>incumbent_flag</th>\n",
       "      <th>spent_by_district</th>\n",
       "      <th>percentage_spent</th>\n",
       "    </tr>\n",
       "  </thead>\n",
       "  <tbody>\n",
       "    <tr>\n",
       "      <th>0</th>\n",
       "      <td>Jerry Carl</td>\n",
       "      <td>R</td>\n",
       "      <td>64.9%</td>\n",
       "      <td>Winner</td>\n",
       "      <td>Not Incumbent</td>\n",
       "      <td>Alabama</td>\n",
       "      <td>01</td>\n",
       "      <td>1971321</td>\n",
       "      <td>1859349</td>\n",
       "      <td>111973</td>\n",
       "      <td>...</td>\n",
       "      <td>999616</td>\n",
       "      <td>387000</td>\n",
       "      <td>434656</td>\n",
       "      <td>105470</td>\n",
       "      <td>0</td>\n",
       "      <td>0</td>\n",
       "      <td>1</td>\n",
       "      <td>0</td>\n",
       "      <td>1938322</td>\n",
       "      <td>95.925703</td>\n",
       "    </tr>\n",
       "    <tr>\n",
       "      <th>1</th>\n",
       "      <td>James Averhart</td>\n",
       "      <td>D</td>\n",
       "      <td>35.0%</td>\n",
       "      <td>Not Winner</td>\n",
       "      <td>Not Incumbent</td>\n",
       "      <td>Alabama</td>\n",
       "      <td>01</td>\n",
       "      <td>80095</td>\n",
       "      <td>78973</td>\n",
       "      <td>1122</td>\n",
       "      <td>...</td>\n",
       "      <td>37955</td>\n",
       "      <td>0</td>\n",
       "      <td>29245</td>\n",
       "      <td>0</td>\n",
       "      <td>1891226</td>\n",
       "      <td>1780376</td>\n",
       "      <td>0</td>\n",
       "      <td>0</td>\n",
       "      <td>1938322</td>\n",
       "      <td>4.074297</td>\n",
       "    </tr>\n",
       "  </tbody>\n",
       "</table>\n",
       "<p>2 rows × 21 columns</p>\n",
       "</div>"
      ],
      "text/plain": [
       "             name party   vote      winner      incumbent    state district  \\\n",
       "0      Jerry Carl     R  64.9%      Winner  Not Incumbent  Alabama       01   \n",
       "1  James Averhart     D  35.0%  Not Winner  Not Incumbent  Alabama       01   \n",
       "\n",
       "    raised    spent  cash_on_hand  ...  Large Individual Contributions  \\\n",
       "0  1971321  1859349        111973  ...                          999616   \n",
       "1    80095    78973          1122  ...                           37955   \n",
       "\n",
       "   PAC Contributions*  Candidate self-financing   Other  diff_raised  \\\n",
       "0              387000                    434656  105470            0   \n",
       "1                   0                     29245       0      1891226   \n",
       "\n",
       "   diff_spent  win_flag  incumbent_flag  spent_by_district  percentage_spent  \n",
       "0           0         1               0            1938322         95.925703  \n",
       "1     1780376         0               0            1938322          4.074297  \n",
       "\n",
       "[2 rows x 21 columns]"
      ]
     },
     "execution_count": 72,
     "metadata": {},
     "output_type": "execute_result"
    }
   ],
   "source": [
    "candidate_df.head(2)"
   ]
  },
  {
   "cell_type": "code",
   "execution_count": 73,
   "metadata": {},
   "outputs": [
    {
     "name": "stdout",
     "output_type": "stream",
     "text": [
      "Optimization terminated successfully.\n",
      "         Current function value: 0.692582\n",
      "         Iterations 3\n"
     ]
    }
   ],
   "source": [
    "reduced_model = smf.logit('win_flag ~ 1',\n",
    "                        data = candidate_df).fit()"
   ]
  },
  {
   "cell_type": "code",
   "execution_count": 74,
   "metadata": {},
   "outputs": [
    {
     "name": "stdout",
     "output_type": "stream",
     "text": [
      "Optimization terminated successfully.\n",
      "         Current function value: 0.243755\n",
      "         Iterations 8\n"
     ]
    }
   ],
   "source": [
    "win_spend_logreg = smf.logit('win_flag ~ percentage_spent',\n",
    "                            data = candidate_df).fit()"
   ]
  },
  {
   "cell_type": "code",
   "execution_count": 75,
   "metadata": {},
   "outputs": [
    {
     "data": {
      "image/png": "[encoded data removed]",
      "text/plain": [
       "<Figure size 720x432 with 1 Axes>"
      ]
     },
     "metadata": {
      "needs_background": "light"
     },
     "output_type": "display_data"
    }
   ],
   "source": [
    "fit_df = pd.DataFrame({\n",
    "    'percentage_spent': np.linspace(start = candidate_df['percentage_spent'].min(),\n",
    "                            stop = candidate_df['percentage_spent'].max(),\n",
    "                            num = 150)\n",
    "})\n",
    "\n",
    "fit_df['fit'] = win_spend_logreg.predict(fit_df)\n",
    "\n",
    "fit_df.plot(x = 'percentage_spent',\n",
    "             y = 'fit',\n",
    "             legend = False,\n",
    "             figsize = (10,6),\n",
    "             color = 'black',\n",
    "            title = 'Estimated Probability of winning based on spending');"
   ]
  },
  {
   "cell_type": "code",
   "execution_count": 76,
   "metadata": {},
   "outputs": [
    {
     "name": "stderr",
     "output_type": "stream",
     "text": [
      "/var/folders/3t/x8rz35tn765cm0bkf_n4ydlh0000gn/T/ipykernel_58351/1118825022.py:2: FutureWarning: Indexing with multiple keys (implicitly converted to a tuple of keys) will be deprecated, use a list instead.\n",
      "  candidate_df\n"
     ]
    }
   ],
   "source": [
    "win_summary = (\n",
    "    candidate_df\n",
    "    .assign(group = pd.qcut(candidate_df['percentage_spent'], \n",
    "                            q = 10, \n",
    "                            duplicates = 'drop'))\n",
    "    .groupby('group')\n",
    "    ['win_flag', 'percentage_spent']\n",
    "    .mean()\n",
    "    .reset_index()\n",
    "    .rename(columns = {'win_flag': 'eprob'})\n",
    ")"
   ]
  },
  {
   "cell_type": "code",
   "execution_count": 77,
   "metadata": {},
   "outputs": [
    {
     "data": {
      "text/html": [
       "<div>\n",
       "<style scoped>\n",
       "    .dataframe tbody tr th:only-of-type {\n",
       "        vertical-align: middle;\n",
       "    }\n",
       "\n",
       "    .dataframe tbody tr th {\n",
       "        vertical-align: top;\n",
       "    }\n",
       "\n",
       "    .dataframe thead th {\n",
       "        text-align: right;\n",
       "    }\n",
       "</style>\n",
       "<table border=\"1\" class=\"dataframe\">\n",
       "  <thead>\n",
       "    <tr style=\"text-align: right;\">\n",
       "      <th></th>\n",
       "      <th>group</th>\n",
       "      <th>eprob</th>\n",
       "      <th>percentage_spent</th>\n",
       "      <th>fit_prob</th>\n",
       "    </tr>\n",
       "  </thead>\n",
       "  <tbody>\n",
       "    <tr>\n",
       "      <th>0</th>\n",
       "      <td>(-0.393, 0.975]</td>\n",
       "      <td>0.000000</td>\n",
       "      <td>0.283931</td>\n",
       "      <td>0.011537</td>\n",
       "    </tr>\n",
       "    <tr>\n",
       "      <th>1</th>\n",
       "      <td>(0.975, 4.76]</td>\n",
       "      <td>0.000000</td>\n",
       "      <td>2.692317</td>\n",
       "      <td>0.014241</td>\n",
       "    </tr>\n",
       "    <tr>\n",
       "      <th>2</th>\n",
       "      <td>(4.76, 14.525]</td>\n",
       "      <td>0.011236</td>\n",
       "      <td>8.526336</td>\n",
       "      <td>0.023646</td>\n",
       "    </tr>\n",
       "    <tr>\n",
       "      <th>3</th>\n",
       "      <td>(14.525, 31.438]</td>\n",
       "      <td>0.146067</td>\n",
       "      <td>23.098337</td>\n",
       "      <td>0.080901</td>\n",
       "    </tr>\n",
       "    <tr>\n",
       "      <th>4</th>\n",
       "      <td>(31.438, 47.719]</td>\n",
       "      <td>0.325843</td>\n",
       "      <td>39.388358</td>\n",
       "      <td>0.271400</td>\n",
       "    </tr>\n",
       "    <tr>\n",
       "      <th>5</th>\n",
       "      <td>(47.719, 64.64]</td>\n",
       "      <td>0.561798</td>\n",
       "      <td>55.850561</td>\n",
       "      <td>0.615466</td>\n",
       "    </tr>\n",
       "    <tr>\n",
       "      <th>6</th>\n",
       "      <td>(64.64, 81.838]</td>\n",
       "      <td>0.820225</td>\n",
       "      <td>72.576838</td>\n",
       "      <td>0.875623</td>\n",
       "    </tr>\n",
       "    <tr>\n",
       "      <th>7</th>\n",
       "      <td>(81.838, 94.023]</td>\n",
       "      <td>0.977528</td>\n",
       "      <td>88.782014</td>\n",
       "      <td>0.967287</td>\n",
       "    </tr>\n",
       "    <tr>\n",
       "      <th>8</th>\n",
       "      <td>(94.023, 98.987]</td>\n",
       "      <td>0.988764</td>\n",
       "      <td>96.582448</td>\n",
       "      <td>0.983333</td>\n",
       "    </tr>\n",
       "    <tr>\n",
       "      <th>9</th>\n",
       "      <td>(98.987, 100.0]</td>\n",
       "      <td>1.000000</td>\n",
       "      <td>99.857718</td>\n",
       "      <td>0.987477</td>\n",
       "    </tr>\n",
       "  </tbody>\n",
       "</table>\n",
       "</div>"
      ],
      "text/plain": [
       "              group     eprob  percentage_spent  fit_prob\n",
       "0   (-0.393, 0.975]  0.000000          0.283931  0.011537\n",
       "1     (0.975, 4.76]  0.000000          2.692317  0.014241\n",
       "2    (4.76, 14.525]  0.011236          8.526336  0.023646\n",
       "3  (14.525, 31.438]  0.146067         23.098337  0.080901\n",
       "4  (31.438, 47.719]  0.325843         39.388358  0.271400\n",
       "5   (47.719, 64.64]  0.561798         55.850561  0.615466\n",
       "6   (64.64, 81.838]  0.820225         72.576838  0.875623\n",
       "7  (81.838, 94.023]  0.977528         88.782014  0.967287\n",
       "8  (94.023, 98.987]  0.988764         96.582448  0.983333\n",
       "9   (98.987, 100.0]  1.000000         99.857718  0.987477"
      ]
     },
     "execution_count": 77,
     "metadata": {},
     "output_type": "execute_result"
    }
   ],
   "source": [
    "win_summary['fit_prob'] = win_spend_logreg.predict(win_summary[['percentage_spent']])\n",
    "win_summary"
   ]
  },
  {
   "cell_type": "code",
   "execution_count": 78,
   "metadata": {},
   "outputs": [
    {
     "data": {
      "image/png": "[encoded data removed]",
      "text/plain": [
       "<Figure size 432x288 with 1 Axes>"
      ]
     },
     "metadata": {
      "needs_background": "light"
     },
     "output_type": "display_data"
    }
   ],
   "source": [
    "ax = win_summary.plot(x = 'percentage_spent', y = 'eprob')\n",
    "win_summary.plot(x = 'percentage_spent', y = 'fit_prob',\n",
    "                color = 'black',\n",
    "                ax = ax);"
   ]
  },
  {
   "cell_type": "code",
   "execution_count": 79,
   "metadata": {},
   "outputs": [],
   "source": [
    "def dd_test(reduced_model, full_model):\n",
    "    G2 = -2 * (reduced_model.llf - full_model.llf)\n",
    "    df = full_model.df_model - reduced_model.df_model\n",
    "    return chi2.sf(G2, df = df)"
   ]
  },
  {
   "cell_type": "code",
   "execution_count": 80,
   "metadata": {},
   "outputs": [
    {
     "data": {
      "text/plain": [
       "3.7900959342976285e-176"
      ]
     },
     "execution_count": 80,
     "metadata": {},
     "output_type": "execute_result"
    }
   ],
   "source": [
    "dd_test(reduced_model, win_spend_logreg)"
   ]
  },
  {
   "cell_type": "code",
   "execution_count": 81,
   "metadata": {},
   "outputs": [
    {
     "name": "stdout",
     "output_type": "stream",
     "text": [
      "Optimization terminated successfully.\n",
      "         Current function value: 0.182464\n",
      "         Iterations 8\n"
     ]
    }
   ],
   "source": [
    "full_model = smf.logit('win_flag ~ incumbent_flag + percentage_spent',\n",
    "                        data = candidate_df).fit()"
   ]
  },
  {
   "cell_type": "code",
   "execution_count": 82,
   "metadata": {},
   "outputs": [
    {
     "data": {
      "text/plain": [
       "1.3641003638762768e-25"
      ]
     },
     "execution_count": 82,
     "metadata": {},
     "output_type": "execute_result"
    }
   ],
   "source": [
    "dd_test(win_spend_logreg, full_model)"
   ]
  },
  {
   "cell_type": "code",
   "execution_count": 83,
   "metadata": {},
   "outputs": [
    {
     "data": {
      "text/html": [
       "<table class=\"simpletable\">\n",
       "<caption>Logit Regression Results</caption>\n",
       "<tr>\n",
       "  <th>Dep. Variable:</th>       <td>win_flag</td>     <th>  No. Observations:  </th>   <td>   892</td>  \n",
       "</tr>\n",
       "<tr>\n",
       "  <th>Model:</th>                 <td>Logit</td>      <th>  Df Residuals:      </th>   <td>   889</td>  \n",
       "</tr>\n",
       "<tr>\n",
       "  <th>Method:</th>                 <td>MLE</td>       <th>  Df Model:          </th>   <td>     2</td>  \n",
       "</tr>\n",
       "<tr>\n",
       "  <th>Date:</th>            <td>Sun, 16 Oct 2022</td> <th>  Pseudo R-squ.:     </th>   <td>0.7365</td>  \n",
       "</tr>\n",
       "<tr>\n",
       "  <th>Time:</th>                <td>13:28:53</td>     <th>  Log-Likelihood:    </th>  <td> -162.76</td> \n",
       "</tr>\n",
       "<tr>\n",
       "  <th>converged:</th>             <td>True</td>       <th>  LL-Null:           </th>  <td> -617.78</td> \n",
       "</tr>\n",
       "<tr>\n",
       "  <th>Covariance Type:</th>     <td>nonrobust</td>    <th>  LLR p-value:       </th> <td>2.428e-198</td>\n",
       "</tr>\n",
       "</table>\n",
       "<table class=\"simpletable\">\n",
       "<tr>\n",
       "          <td></td>            <th>coef</th>     <th>std err</th>      <th>z</th>      <th>P>|z|</th>  <th>[0.025</th>    <th>0.975]</th>  \n",
       "</tr>\n",
       "<tr>\n",
       "  <th>Intercept</th>        <td>   -4.3755</td> <td>    0.333</td> <td>  -13.136</td> <td> 0.000</td> <td>   -5.028</td> <td>   -3.723</td>\n",
       "</tr>\n",
       "<tr>\n",
       "  <th>incumbent_flag</th>   <td>    3.2072</td> <td>    0.339</td> <td>    9.467</td> <td> 0.000</td> <td>    2.543</td> <td>    3.871</td>\n",
       "</tr>\n",
       "<tr>\n",
       "  <th>percentage_spent</th> <td>    0.0623</td> <td>    0.006</td> <td>   10.546</td> <td> 0.000</td> <td>    0.051</td> <td>    0.074</td>\n",
       "</tr>\n",
       "</table>"
      ],
      "text/plain": [
       "<class 'statsmodels.iolib.summary.Summary'>\n",
       "\"\"\"\n",
       "                           Logit Regression Results                           \n",
       "==============================================================================\n",
       "Dep. Variable:               win_flag   No. Observations:                  892\n",
       "Model:                          Logit   Df Residuals:                      889\n",
       "Method:                           MLE   Df Model:                            2\n",
       "Date:                Sun, 16 Oct 2022   Pseudo R-squ.:                  0.7365\n",
       "Time:                        13:28:53   Log-Likelihood:                -162.76\n",
       "converged:                       True   LL-Null:                       -617.78\n",
       "Covariance Type:            nonrobust   LLR p-value:                2.428e-198\n",
       "====================================================================================\n",
       "                       coef    std err          z      P>|z|      [0.025      0.975]\n",
       "------------------------------------------------------------------------------------\n",
       "Intercept           -4.3755      0.333    -13.136      0.000      -5.028      -3.723\n",
       "incumbent_flag       3.2072      0.339      9.467      0.000       2.543       3.871\n",
       "percentage_spent     0.0623      0.006     10.546      0.000       0.051       0.074\n",
       "====================================================================================\n",
       "\"\"\""
      ]
     },
     "execution_count": 83,
     "metadata": {},
     "output_type": "execute_result"
    }
   ],
   "source": [
    "full_model.summary()"
   ]
  },
  {
   "cell_type": "markdown",
   "metadata": {},
   "source": [
    "Incumbent candidates have a much higher probability to win than non. That factor matters much more than the money spent."
   ]
  },
  {
   "cell_type": "code",
   "execution_count": 84,
   "metadata": {},
   "outputs": [
    {
     "name": "stdout",
     "output_type": "stream",
     "text": [
      "Optimization terminated successfully.\n",
      "         Current function value: 0.181391\n",
      "         Iterations 8\n"
     ]
    }
   ],
   "source": [
    "interaction_model = smf.logit('win_flag ~ incumbent_flag + percentage_spent + incumbent_flag:percentage_spent',\n",
    "                        data = candidate_df).fit()"
   ]
  },
  {
   "cell_type": "code",
   "execution_count": 85,
   "metadata": {},
   "outputs": [
    {
     "data": {
      "text/plain": [
       "0.16651127921676967"
      ]
     },
     "execution_count": 85,
     "metadata": {},
     "output_type": "execute_result"
    }
   ],
   "source": [
    "dd_test(full_model, interaction_model)"
   ]
  },
  {
   "cell_type": "code",
   "execution_count": 86,
   "metadata": {},
   "outputs": [
    {
     "data": {
      "text/html": [
       "<div>\n",
       "<style scoped>\n",
       "    .dataframe tbody tr th:only-of-type {\n",
       "        vertical-align: middle;\n",
       "    }\n",
       "\n",
       "    .dataframe tbody tr th {\n",
       "        vertical-align: top;\n",
       "    }\n",
       "\n",
       "    .dataframe thead th {\n",
       "        text-align: right;\n",
       "    }\n",
       "</style>\n",
       "<table border=\"1\" class=\"dataframe\">\n",
       "  <thead>\n",
       "    <tr style=\"text-align: right;\">\n",
       "      <th></th>\n",
       "      <th>name</th>\n",
       "      <th>party</th>\n",
       "      <th>vote</th>\n",
       "      <th>winner</th>\n",
       "      <th>incumbent</th>\n",
       "      <th>state</th>\n",
       "      <th>district</th>\n",
       "      <th>raised</th>\n",
       "      <th>spent</th>\n",
       "      <th>cash_on_hand</th>\n",
       "      <th>...</th>\n",
       "      <th>Large Individual Contributions</th>\n",
       "      <th>PAC Contributions*</th>\n",
       "      <th>Candidate self-financing</th>\n",
       "      <th>Other</th>\n",
       "      <th>diff_raised</th>\n",
       "      <th>diff_spent</th>\n",
       "      <th>win_flag</th>\n",
       "      <th>incumbent_flag</th>\n",
       "      <th>spent_by_district</th>\n",
       "      <th>percentage_spent</th>\n",
       "    </tr>\n",
       "  </thead>\n",
       "  <tbody>\n",
       "    <tr>\n",
       "      <th>0</th>\n",
       "      <td>Jerry Carl</td>\n",
       "      <td>R</td>\n",
       "      <td>64.9%</td>\n",
       "      <td>Winner</td>\n",
       "      <td>Not Incumbent</td>\n",
       "      <td>Alabama</td>\n",
       "      <td>01</td>\n",
       "      <td>1971321</td>\n",
       "      <td>1859349</td>\n",
       "      <td>111973</td>\n",
       "      <td>...</td>\n",
       "      <td>999616</td>\n",
       "      <td>387000</td>\n",
       "      <td>434656</td>\n",
       "      <td>105470</td>\n",
       "      <td>0</td>\n",
       "      <td>0</td>\n",
       "      <td>1</td>\n",
       "      <td>0</td>\n",
       "      <td>1938322</td>\n",
       "      <td>95.925703</td>\n",
       "    </tr>\n",
       "    <tr>\n",
       "      <th>1</th>\n",
       "      <td>James Averhart</td>\n",
       "      <td>D</td>\n",
       "      <td>35.0%</td>\n",
       "      <td>Not Winner</td>\n",
       "      <td>Not Incumbent</td>\n",
       "      <td>Alabama</td>\n",
       "      <td>01</td>\n",
       "      <td>80095</td>\n",
       "      <td>78973</td>\n",
       "      <td>1122</td>\n",
       "      <td>...</td>\n",
       "      <td>37955</td>\n",
       "      <td>0</td>\n",
       "      <td>29245</td>\n",
       "      <td>0</td>\n",
       "      <td>1891226</td>\n",
       "      <td>1780376</td>\n",
       "      <td>0</td>\n",
       "      <td>0</td>\n",
       "      <td>1938322</td>\n",
       "      <td>4.074297</td>\n",
       "    </tr>\n",
       "  </tbody>\n",
       "</table>\n",
       "<p>2 rows × 21 columns</p>\n",
       "</div>"
      ],
      "text/plain": [
       "             name party   vote      winner      incumbent    state district  \\\n",
       "0      Jerry Carl     R  64.9%      Winner  Not Incumbent  Alabama       01   \n",
       "1  James Averhart     D  35.0%  Not Winner  Not Incumbent  Alabama       01   \n",
       "\n",
       "    raised    spent  cash_on_hand  ...  Large Individual Contributions  \\\n",
       "0  1971321  1859349        111973  ...                          999616   \n",
       "1    80095    78973          1122  ...                           37955   \n",
       "\n",
       "   PAC Contributions*  Candidate self-financing   Other  diff_raised  \\\n",
       "0              387000                    434656  105470            0   \n",
       "1                   0                     29245       0      1891226   \n",
       "\n",
       "   diff_spent  win_flag  incumbent_flag  spent_by_district  percentage_spent  \n",
       "0           0         1               0            1938322         95.925703  \n",
       "1     1780376         0               0            1938322          4.074297  \n",
       "\n",
       "[2 rows x 21 columns]"
      ]
     },
     "execution_count": 86,
     "metadata": {},
     "output_type": "execute_result"
    }
   ],
   "source": [
    "candidate_df.head(2)"
   ]
  },
  {
   "cell_type": "markdown",
   "metadata": {},
   "source": [
    "## Additional exploration Questions\n",
    "\n",
    "- What does the overall distribution of funding sources look like?\n",
    "- Is there any detectable difference in contribution sources between Democrat and Republican candidates?\n",
    "- Do the funding sources for either the winning candidate or incumbent candidate differ from the other candidates?"
   ]
  },
  {
   "cell_type": "code",
   "execution_count": 87,
   "metadata": {},
   "outputs": [
    {
     "data": {
      "image/png": "[encoded data removed]",
      "text/plain": [
       "<Figure size 432x288 with 1 Axes>"
      ]
     },
     "metadata": {
      "needs_background": "light"
     },
     "output_type": "display_data"
    }
   ],
   "source": [
    "plt.hist([\n",
    "    candidate_df['Small Individual Contributions (≤ 200)'],\n",
    "    candidate_df['Large Individual Contributions'],\n",
    "    candidate_df['PAC Contributions*'],\n",
    "    candidate_df['Candidate self-financing'],\n",
    "    candidate_df['Other']\n",
    "    ],\n",
    "    alpha=0.5,\n",
    "    bins=10\n",
    ");"
   ]
  },
  {
   "cell_type": "code",
   "execution_count": 88,
   "metadata": {},
   "outputs": [
    {
     "data": {
      "text/plain": [
       "<matplotlib.legend.Legend at 0x7fa3009dffd0>"
      ]
     },
     "execution_count": 88,
     "metadata": {},
     "output_type": "execute_result"
    },
    {
     "data": {
      "image/png": "[encoded data removed]",
      "text/plain": [
       "<Figure size 432x288 with 1 Axes>"
      ]
     },
     "metadata": {
      "needs_background": "light"
     },
     "output_type": "display_data"
    }
   ],
   "source": [
    "plt.hist([\n",
    "    np.cbrt(candidate_df['Small Individual Contributions (≤ 200)']),\n",
    "    np.cbrt(candidate_df['Large Individual Contributions']),\n",
    "    np.cbrt(candidate_df['PAC Contributions*']),\n",
    "    np.cbrt(candidate_df['Candidate self-financing']),\n",
    "    np.cbrt(candidate_df['Other'])\n",
    "    ],\n",
    "    alpha=0.5,\n",
    "    bins=10\n",
    ");\n",
    "plt.legend(['Small Individual Contributions (≤ 200)', 'Large Individual Contributions', 'PAC Contributions*', 'Candidate self-financing', 'Other'])"
   ]
  },
  {
   "cell_type": "markdown",
   "metadata": {},
   "source": [
    "note: couldn't do log directly because of some 0 values or negative ones.\n",
    "\n",
    "> observations: Some of the 'other' contributions are negative. why? As small individual contributions and candidate self-financing peaks at lower values than large ind. contributions and PAC contributions"
   ]
  },
  {
   "cell_type": "code",
   "execution_count": 89,
   "metadata": {},
   "outputs": [
    {
     "data": {
      "text/html": [
       "<div>\n",
       "<style scoped>\n",
       "    .dataframe tbody tr th:only-of-type {\n",
       "        vertical-align: middle;\n",
       "    }\n",
       "\n",
       "    .dataframe tbody tr th {\n",
       "        vertical-align: top;\n",
       "    }\n",
       "\n",
       "    .dataframe thead th {\n",
       "        text-align: right;\n",
       "    }\n",
       "</style>\n",
       "<table border=\"1\" class=\"dataframe\">\n",
       "  <thead>\n",
       "    <tr style=\"text-align: right;\">\n",
       "      <th></th>\n",
       "      <th>raised</th>\n",
       "      <th>spent</th>\n",
       "      <th>cash_on_hand</th>\n",
       "      <th>Small Individual Contributions (≤ 200)</th>\n",
       "      <th>Large Individual Contributions</th>\n",
       "      <th>PAC Contributions*</th>\n",
       "      <th>Candidate self-financing</th>\n",
       "      <th>Other</th>\n",
       "      <th>diff_raised</th>\n",
       "      <th>diff_spent</th>\n",
       "      <th>win_flag</th>\n",
       "      <th>incumbent_flag</th>\n",
       "      <th>spent_by_district</th>\n",
       "      <th>percentage_spent</th>\n",
       "    </tr>\n",
       "  </thead>\n",
       "  <tbody>\n",
       "    <tr>\n",
       "      <th>count</th>\n",
       "      <td>8.920000e+02</td>\n",
       "      <td>8.920000e+02</td>\n",
       "      <td>8.920000e+02</td>\n",
       "      <td>8.920000e+02</td>\n",
       "      <td>8.920000e+02</td>\n",
       "      <td>8.920000e+02</td>\n",
       "      <td>8.920000e+02</td>\n",
       "      <td>8.920000e+02</td>\n",
       "      <td>8.920000e+02</td>\n",
       "      <td>8.920000e+02</td>\n",
       "      <td>892.000000</td>\n",
       "      <td>892.000000</td>\n",
       "      <td>8.920000e+02</td>\n",
       "      <td>892.000000</td>\n",
       "    </tr>\n",
       "    <tr>\n",
       "      <th>mean</th>\n",
       "      <td>1.869719e+06</td>\n",
       "      <td>1.687890e+06</td>\n",
       "      <td>4.145076e+05</td>\n",
       "      <td>4.234739e+05</td>\n",
       "      <td>8.909687e+05</td>\n",
       "      <td>4.150407e+05</td>\n",
       "      <td>5.572106e+04</td>\n",
       "      <td>8.462074e+04</td>\n",
       "      <td>1.126903e+06</td>\n",
       "      <td>9.592798e+05</td>\n",
       "      <td>0.483184</td>\n",
       "      <td>0.432735</td>\n",
       "      <td>3.603903e+06</td>\n",
       "      <td>48.766816</td>\n",
       "    </tr>\n",
       "    <tr>\n",
       "      <th>std</th>\n",
       "      <td>3.028104e+06</td>\n",
       "      <td>2.627025e+06</td>\n",
       "      <td>1.046607e+06</td>\n",
       "      <td>1.454744e+06</td>\n",
       "      <td>1.354832e+06</td>\n",
       "      <td>5.056065e+05</td>\n",
       "      <td>3.676646e+05</td>\n",
       "      <td>3.956457e+05</td>\n",
       "      <td>2.393864e+06</td>\n",
       "      <td>1.984299e+06</td>\n",
       "      <td>0.499997</td>\n",
       "      <td>0.495733</td>\n",
       "      <td>4.277784e+06</td>\n",
       "      <td>37.582099</td>\n",
       "    </tr>\n",
       "    <tr>\n",
       "      <th>min</th>\n",
       "      <td>-2.084000e+03</td>\n",
       "      <td>-4.965000e+03</td>\n",
       "      <td>-5.135500e+04</td>\n",
       "      <td>0.000000e+00</td>\n",
       "      <td>0.000000e+00</td>\n",
       "      <td>0.000000e+00</td>\n",
       "      <td>0.000000e+00</td>\n",
       "      <td>-4.159300e+05</td>\n",
       "      <td>0.000000e+00</td>\n",
       "      <td>0.000000e+00</td>\n",
       "      <td>0.000000</td>\n",
       "      <td>0.000000</td>\n",
       "      <td>1.056600e+05</td>\n",
       "      <td>-0.392057</td>\n",
       "    </tr>\n",
       "    <tr>\n",
       "      <th>25%</th>\n",
       "      <td>1.300595e+05</td>\n",
       "      <td>1.132970e+05</td>\n",
       "      <td>2.594250e+03</td>\n",
       "      <td>1.434725e+04</td>\n",
       "      <td>4.684875e+04</td>\n",
       "      <td>3.815000e+03</td>\n",
       "      <td>0.000000e+00</td>\n",
       "      <td>-4.722500e+02</td>\n",
       "      <td>0.000000e+00</td>\n",
       "      <td>0.000000e+00</td>\n",
       "      <td>0.000000</td>\n",
       "      <td>0.000000</td>\n",
       "      <td>1.116666e+06</td>\n",
       "      <td>7.659950</td>\n",
       "    </tr>\n",
       "    <tr>\n",
       "      <th>50%</th>\n",
       "      <td>1.088816e+06</td>\n",
       "      <td>9.476810e+05</td>\n",
       "      <td>5.000200e+04</td>\n",
       "      <td>6.376200e+04</td>\n",
       "      <td>4.091095e+05</td>\n",
       "      <td>2.564295e+05</td>\n",
       "      <td>0.000000e+00</td>\n",
       "      <td>8.005000e+02</td>\n",
       "      <td>2.317050e+05</td>\n",
       "      <td>1.238850e+05</td>\n",
       "      <td>0.000000</td>\n",
       "      <td>0.000000</td>\n",
       "      <td>1.825329e+06</td>\n",
       "      <td>47.719279</td>\n",
       "    </tr>\n",
       "    <tr>\n",
       "      <th>75%</th>\n",
       "      <td>2.265568e+06</td>\n",
       "      <td>2.037730e+06</td>\n",
       "      <td>4.106440e+05</td>\n",
       "      <td>2.887590e+05</td>\n",
       "      <td>1.081924e+06</td>\n",
       "      <td>6.705528e+05</td>\n",
       "      <td>2.800000e+03</td>\n",
       "      <td>5.915675e+04</td>\n",
       "      <td>1.414926e+06</td>\n",
       "      <td>1.194052e+06</td>\n",
       "      <td>1.000000</td>\n",
       "      <td>1.000000</td>\n",
       "      <td>4.231620e+06</td>\n",
       "      <td>89.409688</td>\n",
       "    </tr>\n",
       "    <tr>\n",
       "      <th>max</th>\n",
       "      <td>3.726283e+07</td>\n",
       "      <td>3.283061e+07</td>\n",
       "      <td>1.390827e+07</td>\n",
       "      <td>1.643459e+07</td>\n",
       "      <td>1.458320e+07</td>\n",
       "      <td>3.127684e+06</td>\n",
       "      <td>6.921255e+06</td>\n",
       "      <td>9.608903e+06</td>\n",
       "      <td>2.610954e+07</td>\n",
       "      <td>2.260021e+07</td>\n",
       "      <td>1.000000</td>\n",
       "      <td>1.000000</td>\n",
       "      <td>3.283061e+07</td>\n",
       "      <td>100.000000</td>\n",
       "    </tr>\n",
       "  </tbody>\n",
       "</table>\n",
       "</div>"
      ],
      "text/plain": [
       "             raised         spent  cash_on_hand  \\\n",
       "count  8.920000e+02  8.920000e+02  8.920000e+02   \n",
       "mean   1.869719e+06  1.687890e+06  4.145076e+05   \n",
       "std    3.028104e+06  2.627025e+06  1.046607e+06   \n",
       "min   -2.084000e+03 -4.965000e+03 -5.135500e+04   \n",
       "25%    1.300595e+05  1.132970e+05  2.594250e+03   \n",
       "50%    1.088816e+06  9.476810e+05  5.000200e+04   \n",
       "75%    2.265568e+06  2.037730e+06  4.106440e+05   \n",
       "max    3.726283e+07  3.283061e+07  1.390827e+07   \n",
       "\n",
       "       Small Individual Contributions (≤ 200)  Large Individual Contributions  \\\n",
       "count                            8.920000e+02                    8.920000e+02   \n",
       "mean                             4.234739e+05                    8.909687e+05   \n",
       "std                              1.454744e+06                    1.354832e+06   \n",
       "min                              0.000000e+00                    0.000000e+00   \n",
       "25%                              1.434725e+04                    4.684875e+04   \n",
       "50%                              6.376200e+04                    4.091095e+05   \n",
       "75%                              2.887590e+05                    1.081924e+06   \n",
       "max                              1.643459e+07                    1.458320e+07   \n",
       "\n",
       "       PAC Contributions*  Candidate self-financing         Other  \\\n",
       "count        8.920000e+02              8.920000e+02  8.920000e+02   \n",
       "mean         4.150407e+05              5.572106e+04  8.462074e+04   \n",
       "std          5.056065e+05              3.676646e+05  3.956457e+05   \n",
       "min          0.000000e+00              0.000000e+00 -4.159300e+05   \n",
       "25%          3.815000e+03              0.000000e+00 -4.722500e+02   \n",
       "50%          2.564295e+05              0.000000e+00  8.005000e+02   \n",
       "75%          6.705528e+05              2.800000e+03  5.915675e+04   \n",
       "max          3.127684e+06              6.921255e+06  9.608903e+06   \n",
       "\n",
       "        diff_raised    diff_spent    win_flag  incumbent_flag  \\\n",
       "count  8.920000e+02  8.920000e+02  892.000000      892.000000   \n",
       "mean   1.126903e+06  9.592798e+05    0.483184        0.432735   \n",
       "std    2.393864e+06  1.984299e+06    0.499997        0.495733   \n",
       "min    0.000000e+00  0.000000e+00    0.000000        0.000000   \n",
       "25%    0.000000e+00  0.000000e+00    0.000000        0.000000   \n",
       "50%    2.317050e+05  1.238850e+05    0.000000        0.000000   \n",
       "75%    1.414926e+06  1.194052e+06    1.000000        1.000000   \n",
       "max    2.610954e+07  2.260021e+07    1.000000        1.000000   \n",
       "\n",
       "       spent_by_district  percentage_spent  \n",
       "count       8.920000e+02        892.000000  \n",
       "mean        3.603903e+06         48.766816  \n",
       "std         4.277784e+06         37.582099  \n",
       "min         1.056600e+05         -0.392057  \n",
       "25%         1.116666e+06          7.659950  \n",
       "50%         1.825329e+06         47.719279  \n",
       "75%         4.231620e+06         89.409688  \n",
       "max         3.283061e+07        100.000000  "
      ]
     },
     "execution_count": 89,
     "metadata": {},
     "output_type": "execute_result"
    }
   ],
   "source": [
    "candidate_df.describe()"
   ]
  },
  {
   "cell_type": "code",
   "execution_count": 97,
   "metadata": {},
   "outputs": [
    {
     "data": {
      "text/plain": [
       "numpy.ndarray"
      ]
     },
     "execution_count": 97,
     "metadata": {},
     "output_type": "execute_result"
    }
   ],
   "source": [
    "candidate_df['party'].unique()"
   ]
  },
  {
   "cell_type": "code",
   "execution_count": 140,
   "metadata": {},
   "outputs": [
    {
     "data": {
      "image/png": "[encoded data removed]",
      "text/plain": [
       "<Figure size 1080x216 with 5 Axes>"
      ]
     },
     "metadata": {
      "needs_background": "light"
     },
     "output_type": "display_data"
    }
   ],
   "source": [
    "g = sns.FacetGrid(\n",
    "candidate_df,\n",
    "col='party'\n",
    ")\n",
    "g.map(sns.histplot, data=[\n",
    "    np.cbrt(candidate_df['Small Individual Contributions (≤ 200)']),\n",
    "    np.cbrt(candidate_df['Large Individual Contributions']),\n",
    "    np.cbrt(candidate_df['PAC Contributions*']),\n",
    "    np.cbrt(candidate_df['Candidate self-financing']),\n",
    "    np.cbrt(candidate_df['Other'])\n",
    "    ]\n",
    ");\n",
    "\n",
    "# why does this not work?\n"
   ]
  },
  {
   "cell_type": "code",
   "execution_count": 176,
   "metadata": {},
   "outputs": [],
   "source": [
    "candidate_df['log Small Contr'] = [\n",
    "    (-1)* np.log(contribution* (-1)) if contribution < 0\n",
    "    else 0 if contribution < 1\n",
    "    else np.log(contribution)\n",
    "    for contribution in candidate_df['Small Individual Contributions (≤ 200)']\n",
    "]\n",
    "candidate_df['log Large Contr'] = [\n",
    "    (-1)* np.log(contribution* (-1)) if contribution < 0\n",
    "    else 0 if contribution < 1\n",
    "    else np.log(contribution)\n",
    "    for contribution in candidate_df['Large Individual Contributions']\n",
    "]\n",
    "candidate_df['log PAC'] = [\n",
    "    (-1)* np.log(contribution* (-1)) if contribution < 0\n",
    "    else 0 if contribution < 1\n",
    "    else np.log(contribution)\n",
    "    for contribution in candidate_df['PAC Contributions*']\n",
    "]\n",
    "candidate_df['log Self'] = [\n",
    "    (-1)* np.log(contribution* (-1)) if contribution < 0\n",
    "    else 0 if contribution < 1\n",
    "    else np.log(contribution)\n",
    "    for contribution in candidate_df['Candidate self-financing']\n",
    "]\n",
    "candidate_df['log Other'] = [\n",
    "    (-1)* np.log(contribution* (-1)) if contribution < 0\n",
    "    else 0 if contribution < 1\n",
    "    else np.log(contribution)\n",
    "    for contribution in candidate_df['Other']\n",
    "]"
   ]
  },
  {
   "cell_type": "code",
   "execution_count": 174,
   "metadata": {},
   "outputs": [
    {
     "data": {
      "image/png": "[encoded data removed]",
      "text/plain": [
       "<Figure size 619.75x576 with 4 Axes>"
      ]
     },
     "metadata": {
      "needs_background": "light"
     },
     "output_type": "display_data"
    }
   ],
   "source": [
    "g = sns.FacetGrid(\n",
    "candidate_df,\n",
    "height=4,\n",
    "col='winner',\n",
    "row='incumbent',\n",
    "hue='party'\n",
    ")\n",
    "g.map(sns.histplot, 'Small Individual Contributions (≤ 200)')\n",
    "#g.map(sns.histplot, 'Large Individual Contributions')\n",
    "#g.map(sns.histplot, 'PAC Contributions*')\n",
    "#g.map(sns.histplot, 'Candidate self-financing')\n",
    "#g.map(sns.histplot, 'Other')\n",
    "g.add_legend();"
   ]
  },
  {
   "cell_type": "code",
   "execution_count": 183,
   "metadata": {},
   "outputs": [
    {
     "data": {
      "image/png": "[encoded data removed]",
      "text/plain": [
       "<Figure size 619.75x576 with 4 Axes>"
      ]
     },
     "metadata": {
      "needs_background": "light"
     },
     "output_type": "display_data"
    }
   ],
   "source": [
    "g = sns.FacetGrid(\n",
    "candidate_df,\n",
    "height=4,\n",
    "col='winner',\n",
    "row='incumbent',\n",
    "hue='party'\n",
    ")\n",
    "g.map(sns.histplot, 'log Small Contr')\n",
    "#g.map(sns.histplot, 'log Large Contr')\n",
    "#g.map(sns.histplot, 'log PAC')\n",
    "#g.map(sns.histplot, 'log Self')\n",
    "#g.map(sns.histplot, 'log Other')\n",
    "g.add_legend();\n"
   ]
  },
  {
   "cell_type": "code",
   "execution_count": 112,
   "metadata": {},
   "outputs": [
    {
     "data": {
      "text/plain": [
       "pandas.core.series.Series"
      ]
     },
     "execution_count": 112,
     "metadata": {},
     "output_type": "execute_result"
    }
   ],
   "source": [
    "type(pd.Series(candidate_df['party'].unique()))"
   ]
  },
  {
   "cell_type": "code",
   "execution_count": 92,
   "metadata": {},
   "outputs": [
    {
     "data": {
      "text/plain": [
       "<matplotlib.legend.Legend at 0x7fa3009df730>"
      ]
     },
     "execution_count": 92,
     "metadata": {},
     "output_type": "execute_result"
    },
    {
     "data": {
      "image/png": "[encoded data removed]",
      "text/plain": [
       "<Figure size 432x288 with 1 Axes>"
      ]
     },
     "metadata": {
      "needs_background": "light"
     },
     "output_type": "display_data"
    }
   ],
   "source": [
    "plt.hist([\n",
    "    np.cbrt(candidate_df[candidate_df['winner']=='Winner']['Small Individual Contributions (≤ 200)']),\n",
    "    np.cbrt(candidate_df[candidate_df['winner']=='Winner']['Large Individual Contributions']),\n",
    "    np.cbrt(candidate_df[candidate_df['winner']=='Winner']['PAC Contributions*']),\n",
    "    np.cbrt(candidate_df[candidate_df['winner']=='Winner']['Candidate self-financing']),\n",
    "    np.cbrt(candidate_df[candidate_df['winner']=='Winner']['Other'])\n",
    "    ],\n",
    "    alpha=0.5,\n",
    "    bins=10\n",
    ");\n",
    "plt.legend(['W Small Individual Contributions (≤ 200)', 'W Large Individual Contributions', 'W PAC Contributions*', 'W Candidate self-financing', 'W Other'])"
   ]
  },
  {
   "cell_type": "code",
   "execution_count": 93,
   "metadata": {},
   "outputs": [
    {
     "data": {
      "text/plain": [
       "<matplotlib.legend.Legend at 0x7fa313412cd0>"
      ]
     },
     "execution_count": 93,
     "metadata": {},
     "output_type": "execute_result"
    },
    {
     "data": {
      "image/png": "[encoded data removed]",
      "text/plain": [
       "<Figure size 432x288 with 1 Axes>"
      ]
     },
     "metadata": {
      "needs_background": "light"
     },
     "output_type": "display_data"
    }
   ],
   "source": [
    "plt.hist([\n",
    "    np.cbrt(candidate_df[candidate_df['winner']=='Not Winner']['Small Individual Contributions (≤ 200)']),\n",
    "    np.cbrt(candidate_df[candidate_df['winner']=='Not Winner']['Large Individual Contributions']),\n",
    "    np.cbrt(candidate_df[candidate_df['winner']=='Not Winner']['PAC Contributions*']),\n",
    "    np.cbrt(candidate_df[candidate_df['winner']=='Not Winner']['Candidate self-financing']),\n",
    "    np.cbrt(candidate_df[candidate_df['winner']=='Not Winner']['Other'])\n",
    "    ],\n",
    "    alpha=0.5,\n",
    "    bins=10\n",
    ");\n",
    "plt.legend(['NW Small Individual Contributions (≤ 200)', 'NW Large Individual Contributions', 'NW PAC Contributions*', 'NW Candidate self-financing', 'NW Other'])"
   ]
  },
  {
   "cell_type": "code",
   "execution_count": 95,
   "metadata": {},
   "outputs": [
    {
     "data": {
      "text/plain": [
       "<matplotlib.legend.Legend at 0x7fa332987a30>"
      ]
     },
     "execution_count": 95,
     "metadata": {},
     "output_type": "execute_result"
    },
    {
     "data": {
      "image/png": "[encoded data removed]",
      "text/plain": [
       "<Figure size 432x288 with 1 Axes>"
      ]
     },
     "metadata": {
      "needs_background": "light"
     },
     "output_type": "display_data"
    }
   ],
   "source": [
    "plt.hist([\n",
    "    np.cbrt(candidate_df[candidate_df['incumbent']=='Incumbent']['Small Individual Contributions (≤ 200)']),\n",
    "    np.cbrt(candidate_df[candidate_df['incumbent']=='Incumbent']['Large Individual Contributions']),\n",
    "    np.cbrt(candidate_df[candidate_df['incumbent']=='Incumbent']['PAC Contributions*']),\n",
    "    np.cbrt(candidate_df[candidate_df['incumbent']=='Incumbent']['Candidate self-financing']),\n",
    "    np.cbrt(candidate_df[candidate_df['incumbent']=='Incumbent']['Other'])\n",
    "    ],\n",
    "    alpha=0.5,\n",
    "    bins=10\n",
    ");\n",
    "plt.legend(['I Small Individual Contributions (≤ 200)', 'I Large Individual Contributions', 'I PAC Contributions*', 'I Candidate self-financing', 'I Other'])"
   ]
  },
  {
   "cell_type": "code",
   "execution_count": 94,
   "metadata": {},
   "outputs": [
    {
     "data": {
      "text/plain": [
       "<matplotlib.legend.Legend at 0x7fa332a5cfd0>"
      ]
     },
     "execution_count": 94,
     "metadata": {},
     "output_type": "execute_result"
    },
    {
     "data": {
      "image/png": "[encoded data removed]",
      "text/plain": [
       "<Figure size 432x288 with 1 Axes>"
      ]
     },
     "metadata": {
      "needs_background": "light"
     },
     "output_type": "display_data"
    }
   ],
   "source": [
    "plt.hist([\n",
    "    np.cbrt(candidate_df[candidate_df['incumbent']=='Not Incumbent']['Small Individual Contributions (≤ 200)']),\n",
    "    np.cbrt(candidate_df[candidate_df['incumbent']=='Not Incumbent']['Large Individual Contributions']),\n",
    "    np.cbrt(candidate_df[candidate_df['incumbent']=='Not Incumbent']['PAC Contributions*']),\n",
    "    np.cbrt(candidate_df[candidate_df['incumbent']=='Not Incumbent']['Candidate self-financing']),\n",
    "    np.cbrt(candidate_df[candidate_df['incumbent']=='Not Incumbent']['Other'])\n",
    "    ],\n",
    "    alpha=0.5,\n",
    "    bins=10\n",
    ");\n",
    "plt.legend(['NI Small Individual Contributions (≤ 200)', 'NI Large Individual Contributions', 'NI PAC Contributions*', 'NI Candidate self-financing', 'NI Other'])"
   ]
  },
  {
   "cell_type": "code",
   "execution_count": null,
   "metadata": {},
   "outputs": [],
   "source": []
  }
 ],
 "metadata": {
  "kernelspec": {
   "display_name": "Python 3.9.12 ('base')",
   "language": "python",
   "name": "python3"
  },
  "language_info": {
   "codemirror_mode": {
    "name": "ipython",
    "version": 3
   },
   "file_extension": ".py",
   "mimetype": "text/x-python",
   "name": "python",
   "nbconvert_exporter": "python",
   "pygments_lexer": "ipython3",
   "version": "3.9.12"
  },
  "orig_nbformat": 4,
  "vscode": {
   "interpreter": {
    "hash": "8ae6d9166a6324ec8fca68373a3fb6f0a0d010f541edaf8017d36667030d4460"
   }
  }
 },
 "nbformat": 4,
 "nbformat_minor": 2
}
