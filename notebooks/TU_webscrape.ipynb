{
 "cells": [
  {
   "cell_type": "code",
   "execution_count": 122,
   "metadata": {},
   "outputs": [],
   "source": [
    "import requests\n",
    "from bs4 import BeautifulSoup as BS\n",
    "import pandas as pd\n",
    "import re\n",
    "import numpy as np\n",
    "import time\n",
    "import matplotlib.pyplot as plt\n",
    "import seaborn as sns"
   ]
  },
  {
   "cell_type": "code",
   "execution_count": 133,
   "metadata": {},
   "outputs": [],
   "source": [
    "URL = 'https://www.opensecrets.org/races/candidates?cycle=2020&id=TN07&spec=N'\n",
    "\n",
    "response = requests.get(URL)"
   ]
  },
  {
   "cell_type": "code",
   "execution_count": 134,
   "metadata": {},
   "outputs": [
    {
     "data": {
      "text/plain": [
       "200"
      ]
     },
     "execution_count": 134,
     "metadata": {},
     "output_type": "execute_result"
    }
   ],
   "source": [
    "response.status_code"
   ]
  },
  {
   "cell_type": "code",
   "execution_count": 135,
   "metadata": {},
   "outputs": [],
   "source": [
    "soup_TN07 = BS(response.text)"
   ]
  },
  {
   "cell_type": "code",
   "execution_count": 5,
   "metadata": {},
   "outputs": [],
   "source": [
    "#print(soup_TN07.prettify())"
   ]
  },
  {
   "cell_type": "markdown",
   "metadata": {},
   "source": [
    "Alright, trying to find:\n",
    "- the percentage of the vote that candidate received\n",
    "- the total amount raised by that candidate (as a numeric variable)\n",
    "- the total amount spent by the candidate (as a numeric variable)"
   ]
  },
  {
   "cell_type": "code",
   "execution_count": 136,
   "metadata": {},
   "outputs": [],
   "source": [
    "# note1: the first [0] is to get the first candidate\n",
    "# note2: the second [0] is there because otherwise read_html returns a list of tables\n",
    "finances = (pd\n",
    "    .read_html(\n",
    "        str(soup_TN07.findAll('table', attrs={'class' : 'Members--table'})[0])\n",
    "            .replace('$','')\n",
    "            .replace(':', '')\n",
    "    )[0]\n",
    "    .pivot(index=2, columns=0, values=1)\n",
    "    .reset_index(drop=True)\n",
    ")"
   ]
  },
  {
   "cell_type": "code",
   "execution_count": 137,
   "metadata": {},
   "outputs": [
    {
     "data": {
      "text/html": [
       "<div>\n",
       "<style scoped>\n",
       "    .dataframe tbody tr th:only-of-type {\n",
       "        vertical-align: middle;\n",
       "    }\n",
       "\n",
       "    .dataframe tbody tr th {\n",
       "        vertical-align: top;\n",
       "    }\n",
       "\n",
       "    .dataframe thead th {\n",
       "        text-align: right;\n",
       "    }\n",
       "</style>\n",
       "<table border=\"1\" class=\"dataframe\">\n",
       "  <thead>\n",
       "    <tr style=\"text-align: right;\">\n",
       "      <th></th>\n",
       "      <th>Cash on Hand</th>\n",
       "      <th>Raised</th>\n",
       "      <th>Spent</th>\n",
       "    </tr>\n",
       "  </thead>\n",
       "  <tbody>\n",
       "    <tr>\n",
       "      <th>0</th>\n",
       "      <td>287889</td>\n",
       "      <td>1194960</td>\n",
       "      <td>935487</td>\n",
       "    </tr>\n",
       "  </tbody>\n",
       "</table>\n",
       "</div>"
      ],
      "text/plain": [
       "0  Cash on Hand   Raised   Spent\n",
       "0        287889  1194960  935487"
      ]
     },
     "execution_count": 137,
     "metadata": {},
     "output_type": "execute_result"
    }
   ],
   "source": [
    "finances.head()"
   ]
  },
  {
   "cell_type": "code",
   "execution_count": 8,
   "metadata": {},
   "outputs": [
    {
     "name": "stdout",
     "output_type": "stream",
     "text": [
      "<class 'pandas.core.frame.DataFrame'>\n",
      "RangeIndex: 1 entries, 0 to 0\n",
      "Data columns (total 3 columns):\n",
      " #   Column        Non-Null Count  Dtype\n",
      "---  ------        --------------  -----\n",
      " 0   Cash on Hand  1 non-null      int64\n",
      " 1   Raised        1 non-null      int64\n",
      " 2   Spent         1 non-null      int64\n",
      "dtypes: int64(3)\n",
      "memory usage: 152.0 bytes\n"
     ]
    }
   ],
   "source": [
    "finances.info()"
   ]
  },
  {
   "cell_type": "code",
   "execution_count": 9,
   "metadata": {},
   "outputs": [
    {
     "data": {
      "text/plain": [
       "'69.9%'"
      ]
     },
     "execution_count": 9,
     "metadata": {},
     "output_type": "execute_result"
    }
   ],
   "source": [
    "#soup_TN07.findAll('span', attrs={'class' : 'Members--vote-pct'})[0].text\n",
    "re.search(r'\\d{1,2}\\.\\d?%', soup_TN07.findAll('span', attrs={'class' : 'Members--vote-pct'})[0].text)[0]"
   ]
  },
  {
   "cell_type": "code",
   "execution_count": 10,
   "metadata": {},
   "outputs": [
    {
     "data": {
      "text/plain": [
       "'Incumbent'"
      ]
     },
     "execution_count": 10,
     "metadata": {},
     "output_type": "execute_result"
    }
   ],
   "source": [
    "soup_TN07.findAll('h2')[0].find('i').text"
   ]
  },
  {
   "cell_type": "code",
   "execution_count": 11,
   "metadata": {},
   "outputs": [
    {
     "data": {
      "text/plain": [
       "'Winner'"
      ]
     },
     "execution_count": 11,
     "metadata": {},
     "output_type": "execute_result"
    }
   ],
   "source": [
    "soup_TN07.findAll('h2')[0].find('span', attrs={'class' : 'winner'}).text"
   ]
  },
  {
   "cell_type": "code",
   "execution_count": 12,
   "metadata": {},
   "outputs": [],
   "source": [
    "candidate_info = soup_TN07.findAll('h2')[0].find('strong').text"
   ]
  },
  {
   "cell_type": "code",
   "execution_count": 13,
   "metadata": {},
   "outputs": [
    {
     "name": "stdout",
     "output_type": "stream",
     "text": [
      "\n",
      "Mark Green (R) • Incumbent\n",
      " • Winner \n",
      "(69.9% of vote)\n",
      "\n"
     ]
    }
   ],
   "source": [
    "print(candidate_info)"
   ]
  },
  {
   "cell_type": "markdown",
   "metadata": {},
   "source": [
    "the regex below possibly includes sr., jr. and the likes"
   ]
  },
  {
   "cell_type": "code",
   "execution_count": 14,
   "metadata": {},
   "outputs": [
    {
     "data": {
      "text/plain": [
       "'Mark Green'"
      ]
     },
     "execution_count": 14,
     "metadata": {},
     "output_type": "execute_result"
    }
   ],
   "source": [
    "re.search(r'[A-Z][a-z]+ [A-Z][a-z]+ [A-Z0-9]?[a-z]?', candidate_info)[0].strip()"
   ]
  },
  {
   "cell_type": "code",
   "execution_count": 15,
   "metadata": {},
   "outputs": [
    {
     "data": {
      "text/plain": [
       "'R'"
      ]
     },
     "execution_count": 15,
     "metadata": {},
     "output_type": "execute_result"
    }
   ],
   "source": [
    "re.findall(r'\\(([R,D])\\)', candidate_info)[0]"
   ]
  },
  {
   "cell_type": "code",
   "execution_count": 16,
   "metadata": {},
   "outputs": [
    {
     "name": "stdout",
     "output_type": "stream",
     "text": [
      "Incumbent\n"
     ]
    }
   ],
   "source": [
    "if re.search(r'Incumbent', candidate_info)[0] == 'Incumbent':\n",
    "    print('Incumbent')\n",
    "else :\n",
    "    print('Not Incumbent')"
   ]
  },
  {
   "cell_type": "code",
   "execution_count": 17,
   "metadata": {},
   "outputs": [
    {
     "name": "stdout",
     "output_type": "stream",
     "text": [
      "Winner\n"
     ]
    }
   ],
   "source": [
    "if re.search(r'Winner', candidate_info)[0] == 'Winner':\n",
    "    print('Winner')\n",
    "else :\n",
    "    print('Loser')"
   ]
  },
  {
   "cell_type": "code",
   "execution_count": 18,
   "metadata": {},
   "outputs": [
    {
     "data": {
      "text/plain": [
       "'Tennessee'"
      ]
     },
     "execution_count": 18,
     "metadata": {},
     "output_type": "execute_result"
    }
   ],
   "source": [
    "re.search(r'[A-Z][a-z]+', soup_TN07.find('h1').text)[0]"
   ]
  },
  {
   "cell_type": "code",
   "execution_count": 19,
   "metadata": {},
   "outputs": [
    {
     "data": {
      "text/plain": [
       "'07'"
      ]
     },
     "execution_count": 19,
     "metadata": {},
     "output_type": "execute_result"
    }
   ],
   "source": [
    "re.findall(r'District (\\d{2})', soup_TN07.find('h1').text)[0]"
   ]
  },
  {
   "cell_type": "markdown",
   "metadata": {},
   "source": [
    "## working together"
   ]
  },
  {
   "cell_type": "code",
   "execution_count": 20,
   "metadata": {},
   "outputs": [],
   "source": [
    "URL = 'https://www.opensecrets.org/races/candidates?cycle=2020&id=TN07&spec=N'\n",
    "response = requests.get(URL)\n",
    "soup = BS(response.text)"
   ]
  },
  {
   "cell_type": "code",
   "execution_count": 21,
   "metadata": {},
   "outputs": [],
   "source": [
    "candidate_df = pd.DataFrame()\n",
    "\n",
    "def district_scraper(soup):\n",
    "    candidate_list = [x.text.strip() for x in soup.find_all('strong')]\n",
    "    candidate_df['name'] = [re.findall(r'(.+ .+) \\(\\w', item)[0] for item in candidate_list]\n",
    "    candidate_df['party'] = [re.findall(r'\\((\\w)\\)', item)[0] for item in candidate_list]\n",
    "    candidate_df['vote'] = [re.findall(r'(\\d*[.?]\\d*\\%)', item)[0] for item in candidate_list]\n",
    "    #candidate_df['winner'] = ['Winner' if re.search(r'Winner', item) != 'None' else 'Not Winner' for item in candidate_list]\n",
    "    #[re.findall(r'(Winner)', item)[0] for item in candidate_list]\n",
    "    #candidate_df['incumbent'] = [re.findall(r'(Incumbent)', item)[0] for item in candidate_list]"
   ]
  },
  {
   "cell_type": "code",
   "execution_count": 22,
   "metadata": {},
   "outputs": [
    {
     "name": "stdout",
     "output_type": "stream",
     "text": [
      "Mark Green (R) • Incumbent\n",
      " • Winner \n",
      "(69.9% of vote)\n",
      "<class 're.Match'>\n",
      "Kiran Sreepada (D)\n",
      "\t\t\t\t\t\t\t\t\t\t\n",
      "(27.3% of vote)\n",
      "<class 'NoneType'>\n",
      "Ronald Brown (I)\n",
      "\t\t\t\t\t\t\t\t\t\t\n",
      "(2.2% of vote)\n",
      "<class 'NoneType'>\n",
      "Scott Vieira Jr (I)\n",
      "\t\t\t\t\t\t\t\t\t\t\n",
      "(0.6% of vote)\n",
      "<class 'NoneType'>\n"
     ]
    }
   ],
   "source": [
    "for item in [x.text.strip() for x in soup.find_all('strong')]:\n",
    "    print(item)\n",
    "    print(type(re.search(r'Winner', item)))"
   ]
  },
  {
   "cell_type": "code",
   "execution_count": 23,
   "metadata": {},
   "outputs": [
    {
     "data": {
      "text/html": [
       "<div>\n",
       "<style scoped>\n",
       "    .dataframe tbody tr th:only-of-type {\n",
       "        vertical-align: middle;\n",
       "    }\n",
       "\n",
       "    .dataframe tbody tr th {\n",
       "        vertical-align: top;\n",
       "    }\n",
       "\n",
       "    .dataframe thead th {\n",
       "        text-align: right;\n",
       "    }\n",
       "</style>\n",
       "<table border=\"1\" class=\"dataframe\">\n",
       "  <thead>\n",
       "    <tr style=\"text-align: right;\">\n",
       "      <th></th>\n",
       "    </tr>\n",
       "  </thead>\n",
       "  <tbody>\n",
       "  </tbody>\n",
       "</table>\n",
       "</div>"
      ],
      "text/plain": [
       "Empty DataFrame\n",
       "Columns: []\n",
       "Index: []"
      ]
     },
     "execution_count": 23,
     "metadata": {},
     "output_type": "execute_result"
    }
   ],
   "source": [
    "candidate_df.head()"
   ]
  },
  {
   "cell_type": "markdown",
   "metadata": {},
   "source": [
    "The code below is to format the finances tables (for each candidate) in the correct order"
   ]
  },
  {
   "cell_type": "code",
   "execution_count": 24,
   "metadata": {},
   "outputs": [],
   "source": [
    "# intitialize empty data frame\n",
    "final_finances = pd.DataFrame()\n",
    "\n",
    "# create the list of all dataframe tables for candidates\n",
    "finances = (pd\n",
    "    .read_html(\n",
    "        str(soup_TN07.findAll('table', attrs={'class' : 'Members--table'}))\n",
    "            .replace('$','')\n",
    "            .replace(':', '')\n",
    "    )\n",
    ")"
   ]
  },
  {
   "cell_type": "code",
   "execution_count": 25,
   "metadata": {},
   "outputs": [
    {
     "name": "stdout",
     "output_type": "stream",
     "text": [
      "[              0        1   2\n",
      "0        Raised  1194960 NaN\n",
      "1         Spent   935487 NaN\n",
      "2  Cash on Hand   287889 NaN,               0       1   2\n",
      "0        Raised  206644 NaN\n",
      "1         Spent  207191 NaN\n",
      "2  Cash on Hand       0 NaN,               0     1   2\n",
      "0        Raised  1750 NaN\n",
      "1         Spent     0 NaN\n",
      "2  Cash on Hand  9006 NaN,               0     1   2\n",
      "0        Raised   655 NaN\n",
      "1         Spent  1049 NaN\n",
      "2  Cash on Hand  -197 NaN]\n"
     ]
    }
   ],
   "source": [
    "print(finances)"
   ]
  },
  {
   "cell_type": "code",
   "execution_count": 26,
   "metadata": {},
   "outputs": [
    {
     "name": "stdout",
     "output_type": "stream",
     "text": [
      "0  Cash on Hand   Raised   Spent\n",
      "0        287889  1194960  935487\n",
      "0             0   206644  207191\n",
      "0          9006     1750       0\n",
      "0          -197      655    1049\n"
     ]
    }
   ],
   "source": [
    "# loop over the dataframes list\n",
    "for fin in finances:\n",
    "    final_finances = pd.concat(\n",
    "        [final_finances,\n",
    "        fin.pivot(index=2, columns=0, values=1).reset_index(drop=True)])\n",
    "\n",
    "print(final_finances)\n",
    "    "
   ]
  },
  {
   "cell_type": "markdown",
   "metadata": {},
   "source": [
    "## Code below after working with team (final version)"
   ]
  },
  {
   "cell_type": "code",
   "execution_count": 27,
   "metadata": {},
   "outputs": [],
   "source": [
    "candidate_df = pd.DataFrame()\n",
    "\n",
    "def district_scraper(state, district):\n",
    "    URL = f'https://www.opensecrets.org/races/candidates?cycle=2020&id={state}{district}&spec=N'\n",
    "    soup = BS(requests.get(URL).text)\n",
    "    \n",
    "    candidate_list = [x.text.strip() for x in soup.find_all('strong')]\n",
    "    \n",
    "    finances = (pd\n",
    "        .read_html(\n",
    "            str(soup.findAll('table', attrs={'class' : 'Members--table'}))\n",
    "                .replace('$','')\n",
    "                .replace(':', '')\n",
    "        )\n",
    "    )\n",
    "    \n",
    "    temp_df = pd.DataFrame()\n",
    "\n",
    "    temp_df['name'] = [re.findall(r'(.+ .+) \\(\\w', item)[0] for item in candidate_list]\n",
    "    temp_df['party'] = [re.findall(r'\\((\\w)\\)', item)[0] for item in candidate_list]\n",
    "    temp_df['vote'] = [re.findall(r'(\\d*[.?]\\d*\\%)', item)[0] for item in candidate_list]\n",
    "    temp_df['winner'] = ['Winner' if re.search(r'(Winner)', str(item)) is not None\n",
    "                              else 'Not Winner' for item in candidate_list]\n",
    "    temp_df['incumbent'] = ['Incumbent' if re.search(r'(Incumbent)', str(item)) != None \n",
    "                            else 'Not Incumbent' for item in candidate_list]\n",
    "    temp_df['state'] = str(re.search(r'[A-Z][a-z]+(?: [A-Z][a-hj-z][a-z]+)?',\n",
    "                                     soup.findAll('title')[0].text)[0])\n",
    "    temp_df['district'] = str(re.findall(r'District ([0-9]{2})', soup.findAll('title')[0].text)[0])\n",
    "    temp_df['raised'] = [finances[i].iloc[0,1] for i in range(len(candidate_list))]\n",
    "    temp_df['spent'] = [finances[i].iloc[1,1] for i in range(len(candidate_list))]\n",
    "    temp_df['cash_on_hand'] = [finances[i].iloc[2,1] for i in range(len(candidate_list))]\n",
    "    \n",
    "    global candidate_df\n",
    "    candidate_df = pd.concat([candidate_df, temp_df])\n",
    "    candidate_df = candidate_df.reset_index(drop=True)"
   ]
  },
  {
   "cell_type": "code",
   "execution_count": 28,
   "metadata": {},
   "outputs": [],
   "source": [
    "#the handy zfill function gives you a 0 with single digit numbers!\n",
    "\n",
    "for num in range(1,10):\n",
    "    district_scraper('TN', str(num).zfill(2))"
   ]
  },
  {
   "cell_type": "code",
   "execution_count": 29,
   "metadata": {},
   "outputs": [
    {
     "data": {
      "text/html": [
       "<div>\n",
       "<style scoped>\n",
       "    .dataframe tbody tr th:only-of-type {\n",
       "        vertical-align: middle;\n",
       "    }\n",
       "\n",
       "    .dataframe tbody tr th {\n",
       "        vertical-align: top;\n",
       "    }\n",
       "\n",
       "    .dataframe thead th {\n",
       "        text-align: right;\n",
       "    }\n",
       "</style>\n",
       "<table border=\"1\" class=\"dataframe\">\n",
       "  <thead>\n",
       "    <tr style=\"text-align: right;\">\n",
       "      <th></th>\n",
       "      <th>name</th>\n",
       "      <th>party</th>\n",
       "      <th>vote</th>\n",
       "      <th>winner</th>\n",
       "      <th>incumbent</th>\n",
       "      <th>state</th>\n",
       "      <th>district</th>\n",
       "      <th>raised</th>\n",
       "      <th>spent</th>\n",
       "      <th>cash_on_hand</th>\n",
       "    </tr>\n",
       "  </thead>\n",
       "  <tbody>\n",
       "    <tr>\n",
       "      <th>0</th>\n",
       "      <td>Diana Harshbarger</td>\n",
       "      <td>R</td>\n",
       "      <td>74.8%</td>\n",
       "      <td>Winner</td>\n",
       "      <td>Not Incumbent</td>\n",
       "      <td>Tennessee</td>\n",
       "      <td>01</td>\n",
       "      <td>2126946</td>\n",
       "      <td>1869100</td>\n",
       "      <td>257846</td>\n",
       "    </tr>\n",
       "    <tr>\n",
       "      <th>1</th>\n",
       "      <td>Blair Nicole Walsingham</td>\n",
       "      <td>D</td>\n",
       "      <td>22.4%</td>\n",
       "      <td>Not Winner</td>\n",
       "      <td>Not Incumbent</td>\n",
       "      <td>Tennessee</td>\n",
       "      <td>01</td>\n",
       "      <td>140209</td>\n",
       "      <td>134995</td>\n",
       "      <td>5215</td>\n",
       "    </tr>\n",
       "    <tr>\n",
       "      <th>2</th>\n",
       "      <td>Tim Burchett</td>\n",
       "      <td>R</td>\n",
       "      <td>67.7%</td>\n",
       "      <td>Winner</td>\n",
       "      <td>Incumbent</td>\n",
       "      <td>Tennessee</td>\n",
       "      <td>02</td>\n",
       "      <td>1336276</td>\n",
       "      <td>878488</td>\n",
       "      <td>593678</td>\n",
       "    </tr>\n",
       "    <tr>\n",
       "      <th>3</th>\n",
       "      <td>Renee Hoyos</td>\n",
       "      <td>D</td>\n",
       "      <td>31.0%</td>\n",
       "      <td>Not Winner</td>\n",
       "      <td>Not Incumbent</td>\n",
       "      <td>Tennessee</td>\n",
       "      <td>02</td>\n",
       "      <td>812784</td>\n",
       "      <td>816793</td>\n",
       "      <td>210</td>\n",
       "    </tr>\n",
       "    <tr>\n",
       "      <th>4</th>\n",
       "      <td>Chuck Fleischmann</td>\n",
       "      <td>R</td>\n",
       "      <td>67.3%</td>\n",
       "      <td>Winner</td>\n",
       "      <td>Incumbent</td>\n",
       "      <td>Tennessee</td>\n",
       "      <td>03</td>\n",
       "      <td>1051653</td>\n",
       "      <td>381411</td>\n",
       "      <td>1880341</td>\n",
       "    </tr>\n",
       "    <tr>\n",
       "      <th>5</th>\n",
       "      <td>Meg Gorman</td>\n",
       "      <td>D</td>\n",
       "      <td>30.5%</td>\n",
       "      <td>Not Winner</td>\n",
       "      <td>Not Incumbent</td>\n",
       "      <td>Tennessee</td>\n",
       "      <td>03</td>\n",
       "      <td>85843</td>\n",
       "      <td>77760</td>\n",
       "      <td>8083</td>\n",
       "    </tr>\n",
       "    <tr>\n",
       "      <th>6</th>\n",
       "      <td>Scott Desjarlais</td>\n",
       "      <td>R</td>\n",
       "      <td>66.7%</td>\n",
       "      <td>Winner</td>\n",
       "      <td>Incumbent</td>\n",
       "      <td>Tennessee</td>\n",
       "      <td>04</td>\n",
       "      <td>331464</td>\n",
       "      <td>392499</td>\n",
       "      <td>302649</td>\n",
       "    </tr>\n",
       "    <tr>\n",
       "      <th>7</th>\n",
       "      <td>Christopher Hale</td>\n",
       "      <td>D</td>\n",
       "      <td>33.3%</td>\n",
       "      <td>Not Winner</td>\n",
       "      <td>Not Incumbent</td>\n",
       "      <td>Tennessee</td>\n",
       "      <td>04</td>\n",
       "      <td>308731</td>\n",
       "      <td>302996</td>\n",
       "      <td>5735</td>\n",
       "    </tr>\n",
       "    <tr>\n",
       "      <th>8</th>\n",
       "      <td>Jim Cooper</td>\n",
       "      <td>D</td>\n",
       "      <td>100.0%</td>\n",
       "      <td>Winner</td>\n",
       "      <td>Incumbent</td>\n",
       "      <td>Tennessee</td>\n",
       "      <td>05</td>\n",
       "      <td>936569</td>\n",
       "      <td>1332131</td>\n",
       "      <td>272934</td>\n",
       "    </tr>\n",
       "    <tr>\n",
       "      <th>9</th>\n",
       "      <td>John Rose</td>\n",
       "      <td>R</td>\n",
       "      <td>73.7%</td>\n",
       "      <td>Winner</td>\n",
       "      <td>Incumbent</td>\n",
       "      <td>Tennessee</td>\n",
       "      <td>06</td>\n",
       "      <td>1050429</td>\n",
       "      <td>625688</td>\n",
       "      <td>454375</td>\n",
       "    </tr>\n",
       "    <tr>\n",
       "      <th>10</th>\n",
       "      <td>Mark Green</td>\n",
       "      <td>R</td>\n",
       "      <td>69.9%</td>\n",
       "      <td>Winner</td>\n",
       "      <td>Incumbent</td>\n",
       "      <td>Tennessee</td>\n",
       "      <td>07</td>\n",
       "      <td>1194960</td>\n",
       "      <td>935487</td>\n",
       "      <td>287889</td>\n",
       "    </tr>\n",
       "    <tr>\n",
       "      <th>11</th>\n",
       "      <td>Kiran Sreepada</td>\n",
       "      <td>D</td>\n",
       "      <td>27.3%</td>\n",
       "      <td>Not Winner</td>\n",
       "      <td>Not Incumbent</td>\n",
       "      <td>Tennessee</td>\n",
       "      <td>07</td>\n",
       "      <td>206644</td>\n",
       "      <td>207191</td>\n",
       "      <td>0</td>\n",
       "    </tr>\n",
       "    <tr>\n",
       "      <th>12</th>\n",
       "      <td>Ronald Brown</td>\n",
       "      <td>I</td>\n",
       "      <td>2.2%</td>\n",
       "      <td>Not Winner</td>\n",
       "      <td>Not Incumbent</td>\n",
       "      <td>Tennessee</td>\n",
       "      <td>07</td>\n",
       "      <td>1750</td>\n",
       "      <td>0</td>\n",
       "      <td>9006</td>\n",
       "    </tr>\n",
       "    <tr>\n",
       "      <th>13</th>\n",
       "      <td>Scott Vieira Jr</td>\n",
       "      <td>I</td>\n",
       "      <td>0.6%</td>\n",
       "      <td>Not Winner</td>\n",
       "      <td>Not Incumbent</td>\n",
       "      <td>Tennessee</td>\n",
       "      <td>07</td>\n",
       "      <td>655</td>\n",
       "      <td>1049</td>\n",
       "      <td>-197</td>\n",
       "    </tr>\n",
       "    <tr>\n",
       "      <th>14</th>\n",
       "      <td>David Kustoff</td>\n",
       "      <td>R</td>\n",
       "      <td>68.5%</td>\n",
       "      <td>Winner</td>\n",
       "      <td>Incumbent</td>\n",
       "      <td>Tennessee</td>\n",
       "      <td>08</td>\n",
       "      <td>1641217</td>\n",
       "      <td>999285</td>\n",
       "      <td>713832</td>\n",
       "    </tr>\n",
       "    <tr>\n",
       "      <th>15</th>\n",
       "      <td>Erika Stotts Pearson</td>\n",
       "      <td>D</td>\n",
       "      <td>29.5%</td>\n",
       "      <td>Not Winner</td>\n",
       "      <td>Not Incumbent</td>\n",
       "      <td>Tennessee</td>\n",
       "      <td>08</td>\n",
       "      <td>19070</td>\n",
       "      <td>15883</td>\n",
       "      <td>4137</td>\n",
       "    </tr>\n",
       "    <tr>\n",
       "      <th>16</th>\n",
       "      <td>Steve Cohen</td>\n",
       "      <td>D</td>\n",
       "      <td>77.4%</td>\n",
       "      <td>Winner</td>\n",
       "      <td>Incumbent</td>\n",
       "      <td>Tennessee</td>\n",
       "      <td>09</td>\n",
       "      <td>607570</td>\n",
       "      <td>457311</td>\n",
       "      <td>1216119</td>\n",
       "    </tr>\n",
       "    <tr>\n",
       "      <th>17</th>\n",
       "      <td>Charlotte Bergmann</td>\n",
       "      <td>R</td>\n",
       "      <td>20.1%</td>\n",
       "      <td>Not Winner</td>\n",
       "      <td>Not Incumbent</td>\n",
       "      <td>Tennessee</td>\n",
       "      <td>09</td>\n",
       "      <td>99147</td>\n",
       "      <td>100532</td>\n",
       "      <td>2566</td>\n",
       "    </tr>\n",
       "    <tr>\n",
       "      <th>18</th>\n",
       "      <td>Dennis Clark</td>\n",
       "      <td>I</td>\n",
       "      <td>1.6%</td>\n",
       "      <td>Not Winner</td>\n",
       "      <td>Not Incumbent</td>\n",
       "      <td>Tennessee</td>\n",
       "      <td>09</td>\n",
       "      <td>9991</td>\n",
       "      <td>9919</td>\n",
       "      <td>40</td>\n",
       "    </tr>\n",
       "  </tbody>\n",
       "</table>\n",
       "</div>"
      ],
      "text/plain": [
       "                       name party    vote      winner      incumbent  \\\n",
       "0         Diana Harshbarger     R   74.8%      Winner  Not Incumbent   \n",
       "1   Blair Nicole Walsingham     D   22.4%  Not Winner  Not Incumbent   \n",
       "2              Tim Burchett     R   67.7%      Winner      Incumbent   \n",
       "3               Renee Hoyos     D   31.0%  Not Winner  Not Incumbent   \n",
       "4         Chuck Fleischmann     R   67.3%      Winner      Incumbent   \n",
       "5                Meg Gorman     D   30.5%  Not Winner  Not Incumbent   \n",
       "6          Scott Desjarlais     R   66.7%      Winner      Incumbent   \n",
       "7          Christopher Hale     D   33.3%  Not Winner  Not Incumbent   \n",
       "8                Jim Cooper     D  100.0%      Winner      Incumbent   \n",
       "9                 John Rose     R   73.7%      Winner      Incumbent   \n",
       "10               Mark Green     R   69.9%      Winner      Incumbent   \n",
       "11           Kiran Sreepada     D   27.3%  Not Winner  Not Incumbent   \n",
       "12             Ronald Brown     I    2.2%  Not Winner  Not Incumbent   \n",
       "13          Scott Vieira Jr     I    0.6%  Not Winner  Not Incumbent   \n",
       "14            David Kustoff     R   68.5%      Winner      Incumbent   \n",
       "15     Erika Stotts Pearson     D   29.5%  Not Winner  Not Incumbent   \n",
       "16              Steve Cohen     D   77.4%      Winner      Incumbent   \n",
       "17       Charlotte Bergmann     R   20.1%  Not Winner  Not Incumbent   \n",
       "18             Dennis Clark     I    1.6%  Not Winner  Not Incumbent   \n",
       "\n",
       "        state district   raised    spent  cash_on_hand  \n",
       "0   Tennessee       01  2126946  1869100        257846  \n",
       "1   Tennessee       01   140209   134995          5215  \n",
       "2   Tennessee       02  1336276   878488        593678  \n",
       "3   Tennessee       02   812784   816793           210  \n",
       "4   Tennessee       03  1051653   381411       1880341  \n",
       "5   Tennessee       03    85843    77760          8083  \n",
       "6   Tennessee       04   331464   392499        302649  \n",
       "7   Tennessee       04   308731   302996          5735  \n",
       "8   Tennessee       05   936569  1332131        272934  \n",
       "9   Tennessee       06  1050429   625688        454375  \n",
       "10  Tennessee       07  1194960   935487        287889  \n",
       "11  Tennessee       07   206644   207191             0  \n",
       "12  Tennessee       07     1750        0          9006  \n",
       "13  Tennessee       07      655     1049          -197  \n",
       "14  Tennessee       08  1641217   999285        713832  \n",
       "15  Tennessee       08    19070    15883          4137  \n",
       "16  Tennessee       09   607570   457311       1216119  \n",
       "17  Tennessee       09    99147   100532          2566  \n",
       "18  Tennessee       09     9991     9919            40  "
      ]
     },
     "execution_count": 29,
     "metadata": {},
     "output_type": "execute_result"
    }
   ],
   "source": [
    "candidate_df"
   ]
  },
  {
   "cell_type": "code",
   "execution_count": 30,
   "metadata": {},
   "outputs": [],
   "source": [
    "URL2 = 'https://www.britannica.com/topic/United-States-House-of-Representatives-Seats-by-State-1787120'\n",
    "\n",
    "soup_house_rep = BS(requests.get(URL2).text)"
   ]
  },
  {
   "cell_type": "code",
   "execution_count": 31,
   "metadata": {},
   "outputs": [],
   "source": [
    "house_rep = pd.read_html(str(soup_house_rep.findAll('table')))[0].drop(index=50)"
   ]
  },
  {
   "cell_type": "code",
   "execution_count": 32,
   "metadata": {},
   "outputs": [
    {
     "data": {
      "text/html": [
       "<div>\n",
       "<style scoped>\n",
       "    .dataframe tbody tr th:only-of-type {\n",
       "        vertical-align: middle;\n",
       "    }\n",
       "\n",
       "    .dataframe tbody tr th {\n",
       "        vertical-align: top;\n",
       "    }\n",
       "\n",
       "    .dataframe thead th {\n",
       "        text-align: right;\n",
       "    }\n",
       "</style>\n",
       "<table border=\"1\" class=\"dataframe\">\n",
       "  <thead>\n",
       "    <tr style=\"text-align: right;\">\n",
       "      <th></th>\n",
       "      <th>state</th>\n",
       "      <th>representatives</th>\n",
       "    </tr>\n",
       "  </thead>\n",
       "  <tbody>\n",
       "    <tr>\n",
       "      <th>0</th>\n",
       "      <td>Alabama</td>\n",
       "      <td>7</td>\n",
       "    </tr>\n",
       "    <tr>\n",
       "      <th>1</th>\n",
       "      <td>Alaska</td>\n",
       "      <td>1</td>\n",
       "    </tr>\n",
       "    <tr>\n",
       "      <th>2</th>\n",
       "      <td>Arizona</td>\n",
       "      <td>9</td>\n",
       "    </tr>\n",
       "    <tr>\n",
       "      <th>3</th>\n",
       "      <td>Arkansas</td>\n",
       "      <td>4</td>\n",
       "    </tr>\n",
       "    <tr>\n",
       "      <th>4</th>\n",
       "      <td>California</td>\n",
       "      <td>53</td>\n",
       "    </tr>\n",
       "  </tbody>\n",
       "</table>\n",
       "</div>"
      ],
      "text/plain": [
       "        state  representatives\n",
       "0     Alabama                7\n",
       "1      Alaska                1\n",
       "2     Arizona                9\n",
       "3    Arkansas                4\n",
       "4  California               53"
      ]
     },
     "execution_count": 32,
     "metadata": {},
     "output_type": "execute_result"
    }
   ],
   "source": [
    "house_rep.head()"
   ]
  },
  {
   "cell_type": "code",
   "execution_count": 33,
   "metadata": {},
   "outputs": [],
   "source": [
    "URL3 = 'https://www.infoplease.com/us/postal-information/state-abbreviations-and-state-postal-codes'\n",
    "\n",
    "soup_stateabbr = BS(requests.get(URL3).text)"
   ]
  },
  {
   "cell_type": "code",
   "execution_count": 123,
   "metadata": {},
   "outputs": [],
   "source": [
    "request_url = requests.get(URL3)\n",
    "tm=0\n",
    "while request_url.status_code != 200:\n",
    "    print('no work')\n",
    "    time.sleep(1)\n",
    "    request_url = requests.get(URL3)\n",
    "    tm = tm + 1\n",
    "    if tm == 10:\n",
    "        break\n",
    "\n",
    "#print(BS(request_url.text))\n"
   ]
  },
  {
   "cell_type": "code",
   "execution_count": 35,
   "metadata": {},
   "outputs": [],
   "source": [
    "postal = pd.read_html(str(soup_stateabbr.findAll('table')))[0].rename(columns={'State Name/District' : 'state'})"
   ]
  },
  {
   "cell_type": "code",
   "execution_count": 36,
   "metadata": {},
   "outputs": [
    {
     "data": {
      "text/html": [
       "<div>\n",
       "<style scoped>\n",
       "    .dataframe tbody tr th:only-of-type {\n",
       "        vertical-align: middle;\n",
       "    }\n",
       "\n",
       "    .dataframe tbody tr th {\n",
       "        vertical-align: top;\n",
       "    }\n",
       "\n",
       "    .dataframe thead th {\n",
       "        text-align: right;\n",
       "    }\n",
       "</style>\n",
       "<table border=\"1\" class=\"dataframe\">\n",
       "  <thead>\n",
       "    <tr style=\"text-align: right;\">\n",
       "      <th></th>\n",
       "      <th>state</th>\n",
       "      <th>Postal Abbreviation</th>\n",
       "      <th>Postal Code</th>\n",
       "    </tr>\n",
       "  </thead>\n",
       "  <tbody>\n",
       "    <tr>\n",
       "      <th>0</th>\n",
       "      <td>Alabama</td>\n",
       "      <td>Ala.</td>\n",
       "      <td>AL</td>\n",
       "    </tr>\n",
       "    <tr>\n",
       "      <th>1</th>\n",
       "      <td>Alaska</td>\n",
       "      <td>Alaska</td>\n",
       "      <td>AK</td>\n",
       "    </tr>\n",
       "    <tr>\n",
       "      <th>2</th>\n",
       "      <td>Arizona</td>\n",
       "      <td>Ariz.</td>\n",
       "      <td>AZ</td>\n",
       "    </tr>\n",
       "    <tr>\n",
       "      <th>3</th>\n",
       "      <td>Arkansas</td>\n",
       "      <td>Ark.</td>\n",
       "      <td>AR</td>\n",
       "    </tr>\n",
       "    <tr>\n",
       "      <th>4</th>\n",
       "      <td>California</td>\n",
       "      <td>Calif.</td>\n",
       "      <td>CA</td>\n",
       "    </tr>\n",
       "  </tbody>\n",
       "</table>\n",
       "</div>"
      ],
      "text/plain": [
       "        state Postal Abbreviation Postal Code\n",
       "0     Alabama                Ala.          AL\n",
       "1      Alaska              Alaska          AK\n",
       "2     Arizona               Ariz.          AZ\n",
       "3    Arkansas                Ark.          AR\n",
       "4  California              Calif.          CA"
      ]
     },
     "execution_count": 36,
     "metadata": {},
     "output_type": "execute_result"
    }
   ],
   "source": [
    "postal.head()"
   ]
  },
  {
   "cell_type": "code",
   "execution_count": 37,
   "metadata": {},
   "outputs": [],
   "source": [
    "house_rep_postal = pd.merge(house_rep, postal, how=\"inner\", on='state')"
   ]
  },
  {
   "cell_type": "code",
   "execution_count": 38,
   "metadata": {},
   "outputs": [
    {
     "data": {
      "text/html": [
       "<div>\n",
       "<style scoped>\n",
       "    .dataframe tbody tr th:only-of-type {\n",
       "        vertical-align: middle;\n",
       "    }\n",
       "\n",
       "    .dataframe tbody tr th {\n",
       "        vertical-align: top;\n",
       "    }\n",
       "\n",
       "    .dataframe thead th {\n",
       "        text-align: right;\n",
       "    }\n",
       "</style>\n",
       "<table border=\"1\" class=\"dataframe\">\n",
       "  <thead>\n",
       "    <tr style=\"text-align: right;\">\n",
       "      <th></th>\n",
       "      <th>state</th>\n",
       "      <th>representatives</th>\n",
       "      <th>Postal Abbreviation</th>\n",
       "      <th>Postal Code</th>\n",
       "    </tr>\n",
       "  </thead>\n",
       "  <tbody>\n",
       "    <tr>\n",
       "      <th>0</th>\n",
       "      <td>Alabama</td>\n",
       "      <td>7</td>\n",
       "      <td>Ala.</td>\n",
       "      <td>AL</td>\n",
       "    </tr>\n",
       "    <tr>\n",
       "      <th>1</th>\n",
       "      <td>Alaska</td>\n",
       "      <td>1</td>\n",
       "      <td>Alaska</td>\n",
       "      <td>AK</td>\n",
       "    </tr>\n",
       "    <tr>\n",
       "      <th>2</th>\n",
       "      <td>Arizona</td>\n",
       "      <td>9</td>\n",
       "      <td>Ariz.</td>\n",
       "      <td>AZ</td>\n",
       "    </tr>\n",
       "    <tr>\n",
       "      <th>3</th>\n",
       "      <td>Arkansas</td>\n",
       "      <td>4</td>\n",
       "      <td>Ark.</td>\n",
       "      <td>AR</td>\n",
       "    </tr>\n",
       "    <tr>\n",
       "      <th>4</th>\n",
       "      <td>California</td>\n",
       "      <td>53</td>\n",
       "      <td>Calif.</td>\n",
       "      <td>CA</td>\n",
       "    </tr>\n",
       "  </tbody>\n",
       "</table>\n",
       "</div>"
      ],
      "text/plain": [
       "        state  representatives Postal Abbreviation Postal Code\n",
       "0     Alabama                7                Ala.          AL\n",
       "1      Alaska                1              Alaska          AK\n",
       "2     Arizona                9               Ariz.          AZ\n",
       "3    Arkansas                4                Ark.          AR\n",
       "4  California               53              Calif.          CA"
      ]
     },
     "execution_count": 38,
     "metadata": {},
     "output_type": "execute_result"
    }
   ],
   "source": [
    "house_rep_postal.head()"
   ]
  },
  {
   "cell_type": "code",
   "execution_count": 39,
   "metadata": {},
   "outputs": [],
   "source": [
    "district_dictionary = house_rep_postal.set_index('Postal Code')['representatives'].to_dict()"
   ]
  },
  {
   "cell_type": "markdown",
   "metadata": {},
   "source": [
    "## testing my own variation"
   ]
  },
  {
   "cell_type": "code",
   "execution_count": 272,
   "metadata": {},
   "outputs": [],
   "source": [
    "candidate_df = pd.DataFrame()\n",
    "\n",
    "def district_scraper(state, district):\n",
    "    URL = f'https://www.opensecrets.org/races/candidates?cycle=2020&id={state}{district}&spec=N'\n",
    "    \n",
    "    request_url = requests.get(URL)\n",
    "    tm=0\n",
    "\n",
    "    while request_url.status_code != 200:\n",
    "        print('waiting for ' + state + district)\n",
    "        time.sleep(10)\n",
    "        request_url = requests.get(URL)\n",
    "        tm = tm + 1\n",
    "        if tm == 10:\n",
    "            break\n",
    "\n",
    "    soup = BS(request_url.text)\n",
    "\n",
    "    candidate_list = [x.text.strip() for x in soup.find_all('strong')]\n",
    "    \n",
    "    finances = (pd\n",
    "        .read_html(\n",
    "            str(soup.findAll('table', attrs={'class' : 'Members--table'}))\n",
    "                .replace('$','')\n",
    "                .replace(':', '')\n",
    "        )\n",
    "    )\n",
    "    \n",
    "    temp_df = pd.DataFrame()\n",
    "\n",
    "    temp_df['name'] = [re.findall(r'(.+ .+) \\(\\w', item)[0] for item in candidate_list]\n",
    "    temp_df['party'] = [re.findall(r'\\((\\w)\\)', item)[0] for item in candidate_list]\n",
    "    temp_df['vote'] = [re.findall(r'(\\d*[.?]\\d*\\%)', item)[0] for item in candidate_list]\n",
    "    temp_df['winner'] = ['Winner' if re.search(r'(Winner)', str(item)) is not None\n",
    "                              else 'Not Winner' for item in candidate_list]\n",
    "    temp_df['incumbent'] = ['Incumbent' if re.search(r'(Incumbent)', str(item)) != None \n",
    "                            else 'Not Incumbent' for item in candidate_list]\n",
    "    temp_df['state'] = str(re.search(r'[A-Z][a-z]+(?: [A-Z][a-z][a-rt-z][a-z]+)?', soup.findAll('title')[0].text)[0])\n",
    "\n",
    "    temp_df['district'] = str(re.findall(r'District ([0-9]{2})', soup.findAll('title')[0].text)[0])\n",
    "    temp_df['raised'] = [finances[i].iloc[0,1] for i in range(len(candidate_list))]\n",
    "    temp_df['spent'] = [finances[i].iloc[1,1] for i in range(len(candidate_list))]\n",
    "    temp_df['cash_on_hand'] = [finances[i].iloc[2,1] for i in range(len(candidate_list))]\n",
    "\n",
    "    #funding source\n",
    "    funding_source = (pd\n",
    "        .read_html(\n",
    "            str([table for table in soup.findAll('table') \n",
    "                    if re.search(r'(Type of Contribution)', str(table)) != None ]\n",
    "                )\n",
    "                .replace('$','')\n",
    "        )\n",
    "    )\n",
    "\n",
    "    temp_df['Small Individual Contributions (≤ 200)'] = [funding_source[i].iloc[0,1] for i in range(len(candidate_list))]\n",
    "    temp_df['Large Individual Contributions'] = [funding_source[i].iloc[1,1] for i in range(len(candidate_list))]\n",
    "    temp_df['PAC Contributions*'] = [funding_source[i].iloc[2,1] for i in range(len(candidate_list))]\n",
    "    temp_df['Candidate self-financing'] = [funding_source[i].iloc[3,1] for i in range(len(candidate_list))]\n",
    "    temp_df['Other'] = [funding_source[i].iloc[4,1] for i in range(len(candidate_list))]\n",
    "\n",
    "\n",
    "    global candidate_df\n",
    "    candidate_df = pd.concat([candidate_df, temp_df])\n",
    "    candidate_df = candidate_df.reset_index(drop=True)"
   ]
  },
  {
   "cell_type": "code",
   "execution_count": 273,
   "metadata": {},
   "outputs": [
    {
     "name": "stdout",
     "output_type": "stream",
     "text": [
      "waiting for CT04\n",
      "waiting for CT04\n",
      "waiting for CT04\n",
      "waiting for CT04\n",
      "waiting for CT04\n",
      "waiting for CT04\n",
      "waiting for CT04\n",
      "waiting for NY18\n",
      "waiting for NY18\n",
      "waiting for NY18\n",
      "waiting for NY18\n",
      "waiting for NY18\n",
      "waiting for NY18\n",
      "waiting for NY18\n"
     ]
    },
    {
     "data": {
      "text/plain": [
       "[]"
      ]
     },
     "execution_count": 273,
     "metadata": {},
     "output_type": "execute_result"
    }
   ],
   "source": [
    "candidate_df = pd.DataFrame()\n",
    "fail_list =[]\n",
    "\n",
    "for state, dist in district_dictionary.items():\n",
    "    try:\n",
    "        for num in range(1, dist +1): \n",
    "            district_scraper(state, str(num).zfill(2))\n",
    "\n",
    "    except: \n",
    "        fail_list.append((state, dist))\n",
    "\n",
    "fail_list"
   ]
  },
  {
   "cell_type": "code",
   "execution_count": 274,
   "metadata": {},
   "outputs": [
    {
     "data": {
      "text/html": [
       "<div>\n",
       "<style scoped>\n",
       "    .dataframe tbody tr th:only-of-type {\n",
       "        vertical-align: middle;\n",
       "    }\n",
       "\n",
       "    .dataframe tbody tr th {\n",
       "        vertical-align: top;\n",
       "    }\n",
       "\n",
       "    .dataframe thead th {\n",
       "        text-align: right;\n",
       "    }\n",
       "</style>\n",
       "<table border=\"1\" class=\"dataframe\">\n",
       "  <thead>\n",
       "    <tr style=\"text-align: right;\">\n",
       "      <th></th>\n",
       "      <th>name</th>\n",
       "      <th>party</th>\n",
       "      <th>vote</th>\n",
       "      <th>winner</th>\n",
       "      <th>incumbent</th>\n",
       "      <th>state</th>\n",
       "      <th>district</th>\n",
       "      <th>raised</th>\n",
       "      <th>spent</th>\n",
       "      <th>cash_on_hand</th>\n",
       "      <th>Small Individual Contributions (≤ 200)</th>\n",
       "      <th>Large Individual Contributions</th>\n",
       "      <th>PAC Contributions*</th>\n",
       "      <th>Candidate self-financing</th>\n",
       "      <th>Other</th>\n",
       "    </tr>\n",
       "  </thead>\n",
       "  <tbody>\n",
       "    <tr>\n",
       "      <th>0</th>\n",
       "      <td>Jerry Carl</td>\n",
       "      <td>R</td>\n",
       "      <td>64.9%</td>\n",
       "      <td>Winner</td>\n",
       "      <td>Not Incumbent</td>\n",
       "      <td>Alabama</td>\n",
       "      <td>01</td>\n",
       "      <td>1971321</td>\n",
       "      <td>1859349</td>\n",
       "      <td>111973</td>\n",
       "      <td>44580</td>\n",
       "      <td>999616</td>\n",
       "      <td>387000</td>\n",
       "      <td>434656</td>\n",
       "      <td>105470</td>\n",
       "    </tr>\n",
       "    <tr>\n",
       "      <th>1</th>\n",
       "      <td>James Averhart</td>\n",
       "      <td>D</td>\n",
       "      <td>35.0%</td>\n",
       "      <td>Not Winner</td>\n",
       "      <td>Not Incumbent</td>\n",
       "      <td>Alabama</td>\n",
       "      <td>01</td>\n",
       "      <td>80095</td>\n",
       "      <td>78973</td>\n",
       "      <td>1122</td>\n",
       "      <td>12895</td>\n",
       "      <td>37955</td>\n",
       "      <td>0</td>\n",
       "      <td>29245</td>\n",
       "      <td>0</td>\n",
       "    </tr>\n",
       "    <tr>\n",
       "      <th>2</th>\n",
       "      <td>Barry Moore</td>\n",
       "      <td>R</td>\n",
       "      <td>65.3%</td>\n",
       "      <td>Winner</td>\n",
       "      <td>Not Incumbent</td>\n",
       "      <td>Alabama</td>\n",
       "      <td>02</td>\n",
       "      <td>650807</td>\n",
       "      <td>669368</td>\n",
       "      <td>-13633</td>\n",
       "      <td>62208</td>\n",
       "      <td>346329</td>\n",
       "      <td>230282</td>\n",
       "      <td>11500</td>\n",
       "      <td>489</td>\n",
       "    </tr>\n",
       "    <tr>\n",
       "      <th>3</th>\n",
       "      <td>Phyllis Harvey-Hall</td>\n",
       "      <td>D</td>\n",
       "      <td>34.6%</td>\n",
       "      <td>Not Winner</td>\n",
       "      <td>Not Incumbent</td>\n",
       "      <td>Alabama</td>\n",
       "      <td>02</td>\n",
       "      <td>56050</td>\n",
       "      <td>55988</td>\n",
       "      <td>0</td>\n",
       "      <td>15307</td>\n",
       "      <td>27105</td>\n",
       "      <td>2032</td>\n",
       "      <td>10575</td>\n",
       "      <td>1030</td>\n",
       "    </tr>\n",
       "    <tr>\n",
       "      <th>4</th>\n",
       "      <td>Mike D Rogers</td>\n",
       "      <td>R</td>\n",
       "      <td>67.5%</td>\n",
       "      <td>Winner</td>\n",
       "      <td>Incumbent</td>\n",
       "      <td>Alabama</td>\n",
       "      <td>03</td>\n",
       "      <td>1193111</td>\n",
       "      <td>1218564</td>\n",
       "      <td>502234</td>\n",
       "      <td>5315</td>\n",
       "      <td>438054</td>\n",
       "      <td>744734</td>\n",
       "      <td>0</td>\n",
       "      <td>5009</td>\n",
       "    </tr>\n",
       "    <tr>\n",
       "      <th>...</th>\n",
       "      <td>...</td>\n",
       "      <td>...</td>\n",
       "      <td>...</td>\n",
       "      <td>...</td>\n",
       "      <td>...</td>\n",
       "      <td>...</td>\n",
       "      <td>...</td>\n",
       "      <td>...</td>\n",
       "      <td>...</td>\n",
       "      <td>...</td>\n",
       "      <td>...</td>\n",
       "      <td>...</td>\n",
       "      <td>...</td>\n",
       "      <td>...</td>\n",
       "      <td>...</td>\n",
       "    </tr>\n",
       "    <tr>\n",
       "      <th>887</th>\n",
       "      <td>Tricia Zunker</td>\n",
       "      <td>D</td>\n",
       "      <td>39.2%</td>\n",
       "      <td>Not Winner</td>\n",
       "      <td>Not Incumbent</td>\n",
       "      <td>Wisconsin</td>\n",
       "      <td>07</td>\n",
       "      <td>1261957</td>\n",
       "      <td>1232690</td>\n",
       "      <td>29267</td>\n",
       "      <td>600015</td>\n",
       "      <td>566860</td>\n",
       "      <td>91807</td>\n",
       "      <td>0</td>\n",
       "      <td>3276</td>\n",
       "    </tr>\n",
       "    <tr>\n",
       "      <th>888</th>\n",
       "      <td>Mike Gallagher</td>\n",
       "      <td>R</td>\n",
       "      <td>64.0%</td>\n",
       "      <td>Winner</td>\n",
       "      <td>Incumbent</td>\n",
       "      <td>Wisconsin</td>\n",
       "      <td>08</td>\n",
       "      <td>3202905</td>\n",
       "      <td>2841801</td>\n",
       "      <td>1169362</td>\n",
       "      <td>188430</td>\n",
       "      <td>2040299</td>\n",
       "      <td>841300</td>\n",
       "      <td>0</td>\n",
       "      <td>132876</td>\n",
       "    </tr>\n",
       "    <tr>\n",
       "      <th>889</th>\n",
       "      <td>Amanda Stuck</td>\n",
       "      <td>D</td>\n",
       "      <td>36.0%</td>\n",
       "      <td>Not Winner</td>\n",
       "      <td>Not Incumbent</td>\n",
       "      <td>Wisconsin</td>\n",
       "      <td>08</td>\n",
       "      <td>416978</td>\n",
       "      <td>399916</td>\n",
       "      <td>2165</td>\n",
       "      <td>169380</td>\n",
       "      <td>221453</td>\n",
       "      <td>30183</td>\n",
       "      <td>0</td>\n",
       "      <td>-4038</td>\n",
       "    </tr>\n",
       "    <tr>\n",
       "      <th>890</th>\n",
       "      <td>Liz Cheney</td>\n",
       "      <td>R</td>\n",
       "      <td>68.6%</td>\n",
       "      <td>Winner</td>\n",
       "      <td>Incumbent</td>\n",
       "      <td>Wyoming</td>\n",
       "      <td>01</td>\n",
       "      <td>3003883</td>\n",
       "      <td>3060167</td>\n",
       "      <td>153567</td>\n",
       "      <td>189647</td>\n",
       "      <td>980349</td>\n",
       "      <td>1292490</td>\n",
       "      <td>0</td>\n",
       "      <td>541398</td>\n",
       "    </tr>\n",
       "    <tr>\n",
       "      <th>891</th>\n",
       "      <td>Lynnette Grey Bull</td>\n",
       "      <td>D</td>\n",
       "      <td>24.6%</td>\n",
       "      <td>Not Winner</td>\n",
       "      <td>Not Incumbent</td>\n",
       "      <td>Wyoming</td>\n",
       "      <td>01</td>\n",
       "      <td>134597</td>\n",
       "      <td>132235</td>\n",
       "      <td>2363</td>\n",
       "      <td>64222</td>\n",
       "      <td>65975</td>\n",
       "      <td>2800</td>\n",
       "      <td>0</td>\n",
       "      <td>1600</td>\n",
       "    </tr>\n",
       "  </tbody>\n",
       "</table>\n",
       "<p>892 rows × 15 columns</p>\n",
       "</div>"
      ],
      "text/plain": [
       "                    name party   vote      winner      incumbent      state  \\\n",
       "0             Jerry Carl     R  64.9%      Winner  Not Incumbent    Alabama   \n",
       "1         James Averhart     D  35.0%  Not Winner  Not Incumbent    Alabama   \n",
       "2            Barry Moore     R  65.3%      Winner  Not Incumbent    Alabama   \n",
       "3    Phyllis Harvey-Hall     D  34.6%  Not Winner  Not Incumbent    Alabama   \n",
       "4          Mike D Rogers     R  67.5%      Winner      Incumbent    Alabama   \n",
       "..                   ...   ...    ...         ...            ...        ...   \n",
       "887        Tricia Zunker     D  39.2%  Not Winner  Not Incumbent  Wisconsin   \n",
       "888       Mike Gallagher     R  64.0%      Winner      Incumbent  Wisconsin   \n",
       "889         Amanda Stuck     D  36.0%  Not Winner  Not Incumbent  Wisconsin   \n",
       "890           Liz Cheney     R  68.6%      Winner      Incumbent    Wyoming   \n",
       "891   Lynnette Grey Bull     D  24.6%  Not Winner  Not Incumbent    Wyoming   \n",
       "\n",
       "    district   raised    spent  cash_on_hand  \\\n",
       "0         01  1971321  1859349        111973   \n",
       "1         01    80095    78973          1122   \n",
       "2         02   650807   669368        -13633   \n",
       "3         02    56050    55988             0   \n",
       "4         03  1193111  1218564        502234   \n",
       "..       ...      ...      ...           ...   \n",
       "887       07  1261957  1232690         29267   \n",
       "888       08  3202905  2841801       1169362   \n",
       "889       08   416978   399916          2165   \n",
       "890       01  3003883  3060167        153567   \n",
       "891       01   134597   132235          2363   \n",
       "\n",
       "     Small Individual Contributions (≤ 200)  Large Individual Contributions  \\\n",
       "0                                     44580                          999616   \n",
       "1                                     12895                           37955   \n",
       "2                                     62208                          346329   \n",
       "3                                     15307                           27105   \n",
       "4                                      5315                          438054   \n",
       "..                                      ...                             ...   \n",
       "887                                  600015                          566860   \n",
       "888                                  188430                         2040299   \n",
       "889                                  169380                          221453   \n",
       "890                                  189647                          980349   \n",
       "891                                   64222                           65975   \n",
       "\n",
       "     PAC Contributions*  Candidate self-financing   Other  \n",
       "0                387000                    434656  105470  \n",
       "1                     0                     29245       0  \n",
       "2                230282                     11500     489  \n",
       "3                  2032                     10575    1030  \n",
       "4                744734                         0    5009  \n",
       "..                  ...                       ...     ...  \n",
       "887               91807                         0    3276  \n",
       "888              841300                         0  132876  \n",
       "889               30183                         0   -4038  \n",
       "890             1292490                         0  541398  \n",
       "891                2800                         0    1600  \n",
       "\n",
       "[892 rows x 15 columns]"
      ]
     },
     "execution_count": 274,
     "metadata": {},
     "output_type": "execute_result"
    }
   ],
   "source": [
    "candidate_df"
   ]
  },
  {
   "cell_type": "markdown",
   "metadata": {},
   "source": [
    "4. Using your scraped data, investigates different relationships between candidates and the amount of money they raised. Here are some suggestions to get you started, but feel free to pose you own questions or do additional exploration:\n",
    "- How often does the candidate who raised more money win a race?\n",
    "> 88.3% of time"
   ]
  },
  {
   "cell_type": "code",
   "execution_count": 70,
   "metadata": {},
   "outputs": [
    {
     "data": {
      "text/html": [
       "<div>\n",
       "<style scoped>\n",
       "    .dataframe tbody tr th:only-of-type {\n",
       "        vertical-align: middle;\n",
       "    }\n",
       "\n",
       "    .dataframe tbody tr th {\n",
       "        vertical-align: top;\n",
       "    }\n",
       "\n",
       "    .dataframe thead th {\n",
       "        text-align: right;\n",
       "    }\n",
       "</style>\n",
       "<table border=\"1\" class=\"dataframe\">\n",
       "  <thead>\n",
       "    <tr style=\"text-align: right;\">\n",
       "      <th></th>\n",
       "      <th>name</th>\n",
       "      <th>party</th>\n",
       "      <th>vote</th>\n",
       "      <th>incumbent</th>\n",
       "      <th>state</th>\n",
       "      <th>district</th>\n",
       "      <th>raised</th>\n",
       "      <th>spent</th>\n",
       "      <th>cash_on_hand</th>\n",
       "    </tr>\n",
       "    <tr>\n",
       "      <th>winner</th>\n",
       "      <th></th>\n",
       "      <th></th>\n",
       "      <th></th>\n",
       "      <th></th>\n",
       "      <th></th>\n",
       "      <th></th>\n",
       "      <th></th>\n",
       "      <th></th>\n",
       "      <th></th>\n",
       "    </tr>\n",
       "  </thead>\n",
       "  <tbody>\n",
       "    <tr>\n",
       "      <th>Not Winner</th>\n",
       "      <td>51</td>\n",
       "      <td>51</td>\n",
       "      <td>51</td>\n",
       "      <td>51</td>\n",
       "      <td>51</td>\n",
       "      <td>51</td>\n",
       "      <td>51</td>\n",
       "      <td>51</td>\n",
       "      <td>51</td>\n",
       "    </tr>\n",
       "    <tr>\n",
       "      <th>Winner</th>\n",
       "      <td>384</td>\n",
       "      <td>384</td>\n",
       "      <td>384</td>\n",
       "      <td>384</td>\n",
       "      <td>384</td>\n",
       "      <td>384</td>\n",
       "      <td>384</td>\n",
       "      <td>384</td>\n",
       "      <td>384</td>\n",
       "    </tr>\n",
       "  </tbody>\n",
       "</table>\n",
       "</div>"
      ],
      "text/plain": [
       "            name  party  vote  incumbent  state  district  raised  spent  \\\n",
       "winner                                                                     \n",
       "Not Winner    51     51    51         51     51        51      51     51   \n",
       "Winner       384    384   384        384    384       384     384    384   \n",
       "\n",
       "            cash_on_hand  \n",
       "winner                    \n",
       "Not Winner            51  \n",
       "Winner               384  "
      ]
     },
     "execution_count": 70,
     "metadata": {},
     "output_type": "execute_result"
    }
   ],
   "source": [
    "candidate_df[\n",
    "    candidate_df['raised']\n",
    "    .isin(candidate_df.groupby(by=['state', 'district'])['raised'].max())\n",
    "    ].groupby(by='winner').count()"
   ]
  },
  {
   "cell_type": "code",
   "execution_count": 77,
   "metadata": {},
   "outputs": [
    {
     "data": {
      "text/plain": [
       "0.8827586206896552"
      ]
     },
     "execution_count": 77,
     "metadata": {},
     "output_type": "execute_result"
    }
   ],
   "source": [
    "384/435"
   ]
  },
  {
   "cell_type": "code",
   "execution_count": 75,
   "metadata": {},
   "outputs": [
    {
     "data": {
      "text/html": [
       "<div>\n",
       "<style scoped>\n",
       "    .dataframe tbody tr th:only-of-type {\n",
       "        vertical-align: middle;\n",
       "    }\n",
       "\n",
       "    .dataframe tbody tr th {\n",
       "        vertical-align: top;\n",
       "    }\n",
       "\n",
       "    .dataframe thead th {\n",
       "        text-align: right;\n",
       "    }\n",
       "</style>\n",
       "<table border=\"1\" class=\"dataframe\">\n",
       "  <thead>\n",
       "    <tr style=\"text-align: right;\">\n",
       "      <th></th>\n",
       "      <th>raised</th>\n",
       "    </tr>\n",
       "  </thead>\n",
       "  <tbody>\n",
       "    <tr>\n",
       "      <th>0</th>\n",
       "      <td>1971321</td>\n",
       "    </tr>\n",
       "    <tr>\n",
       "      <th>1</th>\n",
       "      <td>1971321</td>\n",
       "    </tr>\n",
       "    <tr>\n",
       "      <th>2</th>\n",
       "      <td>650807</td>\n",
       "    </tr>\n",
       "    <tr>\n",
       "      <th>3</th>\n",
       "      <td>650807</td>\n",
       "    </tr>\n",
       "    <tr>\n",
       "      <th>4</th>\n",
       "      <td>1193111</td>\n",
       "    </tr>\n",
       "    <tr>\n",
       "      <th>...</th>\n",
       "      <td>...</td>\n",
       "    </tr>\n",
       "    <tr>\n",
       "      <th>887</th>\n",
       "      <td>2637459</td>\n",
       "    </tr>\n",
       "    <tr>\n",
       "      <th>888</th>\n",
       "      <td>3202905</td>\n",
       "    </tr>\n",
       "    <tr>\n",
       "      <th>889</th>\n",
       "      <td>3202905</td>\n",
       "    </tr>\n",
       "    <tr>\n",
       "      <th>890</th>\n",
       "      <td>3003883</td>\n",
       "    </tr>\n",
       "    <tr>\n",
       "      <th>891</th>\n",
       "      <td>3003883</td>\n",
       "    </tr>\n",
       "  </tbody>\n",
       "</table>\n",
       "<p>892 rows × 1 columns</p>\n",
       "</div>"
      ],
      "text/plain": [
       "      raised\n",
       "0    1971321\n",
       "1    1971321\n",
       "2     650807\n",
       "3     650807\n",
       "4    1193111\n",
       "..       ...\n",
       "887  2637459\n",
       "888  3202905\n",
       "889  3202905\n",
       "890  3003883\n",
       "891  3003883\n",
       "\n",
       "[892 rows x 1 columns]"
      ]
     },
     "execution_count": 75,
     "metadata": {},
     "output_type": "execute_result"
    }
   ],
   "source": [
    "# the transform applies the 'max' value to undo the grouping essentially; the .to_frame() makes it a dataframe again\n",
    "candidate_df.groupby(['state', 'district'])['raised'].transform('max').to_frame()"
   ]
  },
  {
   "cell_type": "markdown",
   "metadata": {},
   "source": [
    "- How often does the candidate who spent more money win a race?\n",
    "> 87.6%"
   ]
  },
  {
   "cell_type": "code",
   "execution_count": 78,
   "metadata": {},
   "outputs": [
    {
     "data": {
      "text/html": [
       "<div>\n",
       "<style scoped>\n",
       "    .dataframe tbody tr th:only-of-type {\n",
       "        vertical-align: middle;\n",
       "    }\n",
       "\n",
       "    .dataframe tbody tr th {\n",
       "        vertical-align: top;\n",
       "    }\n",
       "\n",
       "    .dataframe thead th {\n",
       "        text-align: right;\n",
       "    }\n",
       "</style>\n",
       "<table border=\"1\" class=\"dataframe\">\n",
       "  <thead>\n",
       "    <tr style=\"text-align: right;\">\n",
       "      <th></th>\n",
       "      <th>name</th>\n",
       "      <th>party</th>\n",
       "      <th>vote</th>\n",
       "      <th>incumbent</th>\n",
       "      <th>state</th>\n",
       "      <th>district</th>\n",
       "      <th>raised</th>\n",
       "      <th>spent</th>\n",
       "      <th>cash_on_hand</th>\n",
       "    </tr>\n",
       "    <tr>\n",
       "      <th>winner</th>\n",
       "      <th></th>\n",
       "      <th></th>\n",
       "      <th></th>\n",
       "      <th></th>\n",
       "      <th></th>\n",
       "      <th></th>\n",
       "      <th></th>\n",
       "      <th></th>\n",
       "      <th></th>\n",
       "    </tr>\n",
       "  </thead>\n",
       "  <tbody>\n",
       "    <tr>\n",
       "      <th>Not Winner</th>\n",
       "      <td>54</td>\n",
       "      <td>54</td>\n",
       "      <td>54</td>\n",
       "      <td>54</td>\n",
       "      <td>54</td>\n",
       "      <td>54</td>\n",
       "      <td>54</td>\n",
       "      <td>54</td>\n",
       "      <td>54</td>\n",
       "    </tr>\n",
       "    <tr>\n",
       "      <th>Winner</th>\n",
       "      <td>381</td>\n",
       "      <td>381</td>\n",
       "      <td>381</td>\n",
       "      <td>381</td>\n",
       "      <td>381</td>\n",
       "      <td>381</td>\n",
       "      <td>381</td>\n",
       "      <td>381</td>\n",
       "      <td>381</td>\n",
       "    </tr>\n",
       "  </tbody>\n",
       "</table>\n",
       "</div>"
      ],
      "text/plain": [
       "            name  party  vote  incumbent  state  district  raised  spent  \\\n",
       "winner                                                                     \n",
       "Not Winner    54     54    54         54     54        54      54     54   \n",
       "Winner       381    381   381        381    381       381     381    381   \n",
       "\n",
       "            cash_on_hand  \n",
       "winner                    \n",
       "Not Winner            54  \n",
       "Winner               381  "
      ]
     },
     "execution_count": 78,
     "metadata": {},
     "output_type": "execute_result"
    }
   ],
   "source": [
    "candidate_df[\n",
    "    candidate_df['spent']\n",
    "    .isin(candidate_df.groupby(by=['state', 'district'])['spent'].max())\n",
    "    ].groupby(by='winner').count()"
   ]
  },
  {
   "cell_type": "code",
   "execution_count": 79,
   "metadata": {},
   "outputs": [
    {
     "data": {
      "text/plain": [
       "0.8758620689655172"
      ]
     },
     "execution_count": 79,
     "metadata": {},
     "output_type": "execute_result"
    }
   ],
   "source": [
    "381/435"
   ]
  },
  {
   "cell_type": "markdown",
   "metadata": {},
   "source": [
    "- Does the difference between either money raised or money spent seem to influence the likelihood of a candidate winning a race?"
   ]
  },
  {
   "cell_type": "code",
   "execution_count": 116,
   "metadata": {},
   "outputs": [],
   "source": [
    "candidate_df['diff_raised'] = candidate_df.groupby(by=['state', 'district'])['raised'].transform('max') - candidate_df['raised']"
   ]
  },
  {
   "cell_type": "code",
   "execution_count": 118,
   "metadata": {},
   "outputs": [],
   "source": [
    "candidate_df['diff_spent'] = candidate_df.groupby(by=['state', 'district'])['spent'].transform('max') - candidate_df['spent']"
   ]
  },
  {
   "cell_type": "code",
   "execution_count": 119,
   "metadata": {},
   "outputs": [
    {
     "data": {
      "text/html": [
       "<div>\n",
       "<style scoped>\n",
       "    .dataframe tbody tr th:only-of-type {\n",
       "        vertical-align: middle;\n",
       "    }\n",
       "\n",
       "    .dataframe tbody tr th {\n",
       "        vertical-align: top;\n",
       "    }\n",
       "\n",
       "    .dataframe thead th {\n",
       "        text-align: right;\n",
       "    }\n",
       "</style>\n",
       "<table border=\"1\" class=\"dataframe\">\n",
       "  <thead>\n",
       "    <tr style=\"text-align: right;\">\n",
       "      <th></th>\n",
       "      <th>name</th>\n",
       "      <th>party</th>\n",
       "      <th>vote</th>\n",
       "      <th>winner</th>\n",
       "      <th>incumbent</th>\n",
       "      <th>state</th>\n",
       "      <th>district</th>\n",
       "      <th>raised</th>\n",
       "      <th>spent</th>\n",
       "      <th>cash_on_hand</th>\n",
       "      <th>diff_raised</th>\n",
       "      <th>diff_spent</th>\n",
       "    </tr>\n",
       "  </thead>\n",
       "  <tbody>\n",
       "    <tr>\n",
       "      <th>0</th>\n",
       "      <td>Jerry Carl</td>\n",
       "      <td>R</td>\n",
       "      <td>64.9%</td>\n",
       "      <td>Winner</td>\n",
       "      <td>Not Incumbent</td>\n",
       "      <td>Alabama</td>\n",
       "      <td>01</td>\n",
       "      <td>1971321</td>\n",
       "      <td>1859349</td>\n",
       "      <td>111973</td>\n",
       "      <td>0</td>\n",
       "      <td>0</td>\n",
       "    </tr>\n",
       "    <tr>\n",
       "      <th>1</th>\n",
       "      <td>James Averhart</td>\n",
       "      <td>D</td>\n",
       "      <td>35.0%</td>\n",
       "      <td>Not Winner</td>\n",
       "      <td>Not Incumbent</td>\n",
       "      <td>Alabama</td>\n",
       "      <td>01</td>\n",
       "      <td>80095</td>\n",
       "      <td>78973</td>\n",
       "      <td>1122</td>\n",
       "      <td>1891226</td>\n",
       "      <td>1780376</td>\n",
       "    </tr>\n",
       "    <tr>\n",
       "      <th>2</th>\n",
       "      <td>Barry Moore</td>\n",
       "      <td>R</td>\n",
       "      <td>65.3%</td>\n",
       "      <td>Winner</td>\n",
       "      <td>Not Incumbent</td>\n",
       "      <td>Alabama</td>\n",
       "      <td>02</td>\n",
       "      <td>650807</td>\n",
       "      <td>669368</td>\n",
       "      <td>-13633</td>\n",
       "      <td>0</td>\n",
       "      <td>0</td>\n",
       "    </tr>\n",
       "    <tr>\n",
       "      <th>3</th>\n",
       "      <td>Phyllis Harvey-Hall</td>\n",
       "      <td>D</td>\n",
       "      <td>34.6%</td>\n",
       "      <td>Not Winner</td>\n",
       "      <td>Not Incumbent</td>\n",
       "      <td>Alabama</td>\n",
       "      <td>02</td>\n",
       "      <td>56050</td>\n",
       "      <td>55988</td>\n",
       "      <td>0</td>\n",
       "      <td>594757</td>\n",
       "      <td>613380</td>\n",
       "    </tr>\n",
       "    <tr>\n",
       "      <th>4</th>\n",
       "      <td>Mike D Rogers</td>\n",
       "      <td>R</td>\n",
       "      <td>67.5%</td>\n",
       "      <td>Winner</td>\n",
       "      <td>Incumbent</td>\n",
       "      <td>Alabama</td>\n",
       "      <td>03</td>\n",
       "      <td>1193111</td>\n",
       "      <td>1218564</td>\n",
       "      <td>502234</td>\n",
       "      <td>0</td>\n",
       "      <td>0</td>\n",
       "    </tr>\n",
       "  </tbody>\n",
       "</table>\n",
       "</div>"
      ],
      "text/plain": [
       "                  name party   vote      winner      incumbent    state  \\\n",
       "0           Jerry Carl     R  64.9%      Winner  Not Incumbent  Alabama   \n",
       "1       James Averhart     D  35.0%  Not Winner  Not Incumbent  Alabama   \n",
       "2          Barry Moore     R  65.3%      Winner  Not Incumbent  Alabama   \n",
       "3  Phyllis Harvey-Hall     D  34.6%  Not Winner  Not Incumbent  Alabama   \n",
       "4        Mike D Rogers     R  67.5%      Winner      Incumbent  Alabama   \n",
       "\n",
       "  district   raised    spent  cash_on_hand  diff_raised  diff_spent  \n",
       "0       01  1971321  1859349        111973            0           0  \n",
       "1       01    80095    78973          1122      1891226     1780376  \n",
       "2       02   650807   669368        -13633            0           0  \n",
       "3       02    56050    55988             0       594757      613380  \n",
       "4       03  1193111  1218564        502234            0           0  "
      ]
     },
     "execution_count": 119,
     "metadata": {},
     "output_type": "execute_result"
    }
   ],
   "source": [
    "candidate_df.head()"
   ]
  },
  {
   "cell_type": "code",
   "execution_count": 120,
   "metadata": {},
   "outputs": [
    {
     "data": {
      "image/png": "[encoded data removed]",
      "text/plain": [
       "<Figure size 720x432 with 1 Axes>"
      ]
     },
     "metadata": {
      "needs_background": "light"
     },
     "output_type": "display_data"
    }
   ],
   "source": [
    "fig, ax = plt.subplots(figsize = (10,6)) #this makes the plot larger, by scaling the axis\n",
    "\n",
    "sns.boxplot(\n",
    "    data = candidate_df,\n",
    "    x = (candidate_df['diff_raised']/1000),\n",
    "    y = 'winner',\n",
    "    ax=ax\n",
    ")\n",
    "plt.xticks(rotation = 45) #to rotate the x axis\n",
    "plt.xlabel('raised in thousands'); "
   ]
  },
  {
   "cell_type": "code",
   "execution_count": 121,
   "metadata": {},
   "outputs": [
    {
     "data": {
      "image/png": "[encoded data removed]",
      "text/plain": [
       "<Figure size 720x432 with 1 Axes>"
      ]
     },
     "metadata": {
      "needs_background": "light"
     },
     "output_type": "display_data"
    }
   ],
   "source": [
    "fig, ax = plt.subplots(figsize = (10,6)) #this makes the plot larger, by scaling the axis\n",
    "\n",
    "sns.boxplot(\n",
    "    data = candidate_df,\n",
    "    x = (candidate_df['diff_spent']/1000),\n",
    "    y = 'winner',\n",
    "    ax=ax\n",
    ")\n",
    "plt.xticks(rotation = 45) #to rotate the x axis\n",
    "plt.xlabel('spent in thousands'); "
   ]
  },
  {
   "cell_type": "markdown",
   "metadata": {},
   "source": [
    "the two plots above show even mroe significantly how the winners are typically the ones who spend (or raise) the most."
   ]
  },
  {
   "cell_type": "markdown",
   "metadata": {},
   "source": [
    "- How often does the incumbent candidate win a race?\n",
    "> 85.3%"
   ]
  },
  {
   "cell_type": "code",
   "execution_count": 89,
   "metadata": {},
   "outputs": [
    {
     "data": {
      "text/html": [
       "<div>\n",
       "<style scoped>\n",
       "    .dataframe tbody tr th:only-of-type {\n",
       "        vertical-align: middle;\n",
       "    }\n",
       "\n",
       "    .dataframe tbody tr th {\n",
       "        vertical-align: top;\n",
       "    }\n",
       "\n",
       "    .dataframe thead th {\n",
       "        text-align: right;\n",
       "    }\n",
       "</style>\n",
       "<table border=\"1\" class=\"dataframe\">\n",
       "  <thead>\n",
       "    <tr style=\"text-align: right;\">\n",
       "      <th></th>\n",
       "      <th>name</th>\n",
       "      <th>party</th>\n",
       "      <th>vote</th>\n",
       "      <th>incumbent</th>\n",
       "      <th>state</th>\n",
       "      <th>district</th>\n",
       "      <th>raised</th>\n",
       "      <th>spent</th>\n",
       "      <th>cash_on_hand</th>\n",
       "    </tr>\n",
       "    <tr>\n",
       "      <th>winner</th>\n",
       "      <th></th>\n",
       "      <th></th>\n",
       "      <th></th>\n",
       "      <th></th>\n",
       "      <th></th>\n",
       "      <th></th>\n",
       "      <th></th>\n",
       "      <th></th>\n",
       "      <th></th>\n",
       "    </tr>\n",
       "  </thead>\n",
       "  <tbody>\n",
       "    <tr>\n",
       "      <th>Not Winner</th>\n",
       "      <td>15</td>\n",
       "      <td>15</td>\n",
       "      <td>15</td>\n",
       "      <td>15</td>\n",
       "      <td>15</td>\n",
       "      <td>15</td>\n",
       "      <td>15</td>\n",
       "      <td>15</td>\n",
       "      <td>15</td>\n",
       "    </tr>\n",
       "    <tr>\n",
       "      <th>Winner</th>\n",
       "      <td>371</td>\n",
       "      <td>371</td>\n",
       "      <td>371</td>\n",
       "      <td>371</td>\n",
       "      <td>371</td>\n",
       "      <td>371</td>\n",
       "      <td>371</td>\n",
       "      <td>371</td>\n",
       "      <td>371</td>\n",
       "    </tr>\n",
       "  </tbody>\n",
       "</table>\n",
       "</div>"
      ],
      "text/plain": [
       "            name  party  vote  incumbent  state  district  raised  spent  \\\n",
       "winner                                                                     \n",
       "Not Winner    15     15    15         15     15        15      15     15   \n",
       "Winner       371    371   371        371    371       371     371    371   \n",
       "\n",
       "            cash_on_hand  \n",
       "winner                    \n",
       "Not Winner            15  \n",
       "Winner               371  "
      ]
     },
     "execution_count": 89,
     "metadata": {},
     "output_type": "execute_result"
    }
   ],
   "source": [
    "candidate_df[candidate_df['incumbent'] == 'Incumbent'].groupby(by='winner').count()"
   ]
  },
  {
   "cell_type": "code",
   "execution_count": 90,
   "metadata": {},
   "outputs": [
    {
     "data": {
      "text/plain": [
       "0.8528735632183908"
      ]
     },
     "execution_count": 90,
     "metadata": {},
     "output_type": "execute_result"
    }
   ],
   "source": [
    "371/435"
   ]
  },
  {
   "cell_type": "markdown",
   "metadata": {},
   "source": [
    "- Can you detect any relationship between amount of money raised and the incumbent status of a candidate?"
   ]
  },
  {
   "cell_type": "code",
   "execution_count": 131,
   "metadata": {},
   "outputs": [
    {
     "name": "stderr",
     "output_type": "stream",
     "text": [
      "/Users/tomoumer/opt/anaconda3/lib/python3.9/site-packages/pandas/core/arraylike.py:397: RuntimeWarning: invalid value encountered in log\n",
      "  result = getattr(ufunc, method)(*inputs, **kwargs)\n"
     ]
    },
    {
     "data": {
      "image/png": "[encoded data removed]",
      "text/plain": [
       "<Figure size 720x432 with 1 Axes>"
      ]
     },
     "metadata": {
      "needs_background": "light"
     },
     "output_type": "display_data"
    }
   ],
   "source": [
    "fig, ax = plt.subplots(figsize = (10,6)) #this makes the plot larger, by scaling the axis\n",
    "\n",
    "sns.boxplot(\n",
    "    data = candidate_df,\n",
    "    x = np.log(candidate_df['raised']),\n",
    "    y = 'incumbent',\n",
    "    ax=ax\n",
    ")\n",
    "plt.xticks(rotation = 45) #to rotate the x axis\n",
    "plt.xlabel('log(raised money)');"
   ]
  },
  {
   "cell_type": "code",
   "execution_count": 218,
   "metadata": {},
   "outputs": [
    {
     "data": {
      "text/html": [
       "<div>\n",
       "<style scoped>\n",
       "    .dataframe tbody tr th:only-of-type {\n",
       "        vertical-align: middle;\n",
       "    }\n",
       "\n",
       "    .dataframe tbody tr th {\n",
       "        vertical-align: top;\n",
       "    }\n",
       "\n",
       "    .dataframe thead th {\n",
       "        text-align: right;\n",
       "    }\n",
       "</style>\n",
       "<table border=\"1\" class=\"dataframe\">\n",
       "  <thead>\n",
       "    <tr style=\"text-align: right;\">\n",
       "      <th></th>\n",
       "      <th>0</th>\n",
       "      <th>1</th>\n",
       "      <th>2</th>\n",
       "    </tr>\n",
       "  </thead>\n",
       "  <tbody>\n",
       "    <tr>\n",
       "      <th>0</th>\n",
       "      <td>Raised</td>\n",
       "      <td>1194960</td>\n",
       "      <td>NaN</td>\n",
       "    </tr>\n",
       "    <tr>\n",
       "      <th>1</th>\n",
       "      <td>Spent</td>\n",
       "      <td>935487</td>\n",
       "      <td>NaN</td>\n",
       "    </tr>\n",
       "    <tr>\n",
       "      <th>2</th>\n",
       "      <td>Cash on Hand</td>\n",
       "      <td>287889</td>\n",
       "      <td>NaN</td>\n",
       "    </tr>\n",
       "  </tbody>\n",
       "</table>\n",
       "</div>"
      ],
      "text/plain": [
       "              0        1   2\n",
       "0        Raised  1194960 NaN\n",
       "1         Spent   935487 NaN\n",
       "2  Cash on Hand   287889 NaN"
      ]
     },
     "execution_count": 218,
     "metadata": {},
     "output_type": "execute_result"
    }
   ],
   "source": [
    "pd.read_html(str(soup_TN07.findAll('table', attrs={'class' : 'Members--table'})[0]).replace('$','').replace(':', ''))[0]\n"
   ]
  },
  {
   "cell_type": "code",
   "execution_count": 186,
   "metadata": {},
   "outputs": [
    {
     "data": {
      "text/plain": [
       "<div class=\"u-richtext\">\n",
       "<h3>Source of Funds</h3>\n",
       "<table>\n",
       "<thead>\n",
       "<tr>\n",
       "<th scope=\"col\">Type of Contribution</th>\n",
       "<th class=\"number\" scope=\"col\">Amount</th>\n",
       "<th class=\"number\" scope=\"col\">Percentage</th>\n",
       "</tr>\n",
       "</thead>\n",
       "<tbody>\n",
       "<tr>\n",
       "<td>Small Individual Contributions (≤ $200)</td>\n",
       "<td class=\"number\">$0</td>\n",
       "<td class=\"number\">0.00%</td>\n",
       "</tr>\n",
       "<tr>\n",
       "<td>Large Individual Contributions</td>\n",
       "<td class=\"number\">$819,151</td>\n",
       "<td class=\"number\">68.55%</td>\n",
       "</tr>\n",
       "<tr>\n",
       "<td>PAC Contributions*</td>\n",
       "<td class=\"number\">$171,900</td>\n",
       "<td class=\"number\">14.39%</td>\n",
       "</tr>\n",
       "<tr>\n",
       "<td>Candidate self-financing</td>\n",
       "<td class=\"number\">$0</td>\n",
       "<td class=\"number\">0.00%</td>\n",
       "</tr>\n",
       "<tr>\n",
       "<td>Other</td>\n",
       "<td class=\"number\">$203,909</td>\n",
       "<td class=\"number\">17.06%</td>\n",
       "</tr>\n",
       "</tbody>\n",
       "</table>\n",
       "<h3>Quality of Disclosure</h3>\n",
       "<table>\n",
       "<thead>\n",
       "<tr>\n",
       "<th scope=\"col\">Type of Disclosure</th>\n",
       "<th class=\"number\" scope=\"col\">Amount</th>\n",
       "<th class=\"number\" scope=\"col\">Percentage</th>\n",
       "</tr>\n",
       "</thead>\n",
       "<tbody>\n",
       "<tr>\n",
       "<td nowrap=\"\">Full Disclosure</td>\n",
       "<td class=\"number\">$1,061,024</td>\n",
       "<td class=\"number\">98.64%</td>\n",
       "</tr>\n",
       "<tr>\n",
       "<td nowrap=\"\">Incomplete Disclosure</td>\n",
       "<td class=\"number\">$2,676</td>\n",
       "<td class=\"number\">0.25%</td>\n",
       "</tr>\n",
       "<tr>\n",
       "<td nowrap=\"\">No Disclosure</td>\n",
       "<td class=\"number\">$11,928</td>\n",
       "<td class=\"number\">1.11%</td>\n",
       "</tr>\n",
       "</tbody>\n",
       "</table>\n",
       "</div>"
      ]
     },
     "execution_count": 186,
     "metadata": {},
     "output_type": "execute_result"
    }
   ],
   "source": [
    "soup_TN07.findAll('div', attrs={'class' : 'u-richtext'})[2]"
   ]
  },
  {
   "cell_type": "code",
   "execution_count": 235,
   "metadata": {},
   "outputs": [],
   "source": [
    "source_funds = [table for table in soup_TN07.findAll('table') if re.search(r'(Type of Contribution)', str(table)) != None ]"
   ]
  },
  {
   "cell_type": "code",
   "execution_count": 236,
   "metadata": {},
   "outputs": [
    {
     "data": {
      "text/plain": [
       "[<table>\n",
       " <thead>\n",
       " <tr>\n",
       " <th scope=\"col\">Type of Contribution</th>\n",
       " <th class=\"number\" scope=\"col\">Amount</th>\n",
       " <th class=\"number\" scope=\"col\">Percentage</th>\n",
       " </tr>\n",
       " </thead>\n",
       " <tbody>\n",
       " <tr>\n",
       " <td>Small Individual Contributions (≤ $200)</td>\n",
       " <td class=\"number\">$0</td>\n",
       " <td class=\"number\">0.00%</td>\n",
       " </tr>\n",
       " <tr>\n",
       " <td>Large Individual Contributions</td>\n",
       " <td class=\"number\">$819,151</td>\n",
       " <td class=\"number\">68.55%</td>\n",
       " </tr>\n",
       " <tr>\n",
       " <td>PAC Contributions*</td>\n",
       " <td class=\"number\">$171,900</td>\n",
       " <td class=\"number\">14.39%</td>\n",
       " </tr>\n",
       " <tr>\n",
       " <td>Candidate self-financing</td>\n",
       " <td class=\"number\">$0</td>\n",
       " <td class=\"number\">0.00%</td>\n",
       " </tr>\n",
       " <tr>\n",
       " <td>Other</td>\n",
       " <td class=\"number\">$203,909</td>\n",
       " <td class=\"number\">17.06%</td>\n",
       " </tr>\n",
       " </tbody>\n",
       " </table>,\n",
       " <table>\n",
       " <thead>\n",
       " <tr>\n",
       " <th scope=\"col\">Type of Contribution</th>\n",
       " <th class=\"number\" scope=\"col\">Amount</th>\n",
       " <th class=\"number\" scope=\"col\">Percentage</th>\n",
       " </tr>\n",
       " </thead>\n",
       " <tbody>\n",
       " <tr>\n",
       " <td>Small Individual Contributions (≤ $200)</td>\n",
       " <td class=\"number\">$23,515</td>\n",
       " <td class=\"number\">11.38%</td>\n",
       " </tr>\n",
       " <tr>\n",
       " <td>Large Individual Contributions</td>\n",
       " <td class=\"number\">$179,130</td>\n",
       " <td class=\"number\">86.69%</td>\n",
       " </tr>\n",
       " <tr>\n",
       " <td>PAC Contributions*</td>\n",
       " <td class=\"number\">$4,000</td>\n",
       " <td class=\"number\">1.94%</td>\n",
       " </tr>\n",
       " <tr>\n",
       " <td>Candidate self-financing</td>\n",
       " <td class=\"number\">$0</td>\n",
       " <td class=\"number\">0.00%</td>\n",
       " </tr>\n",
       " <tr>\n",
       " <td>Other</td>\n",
       " <td class=\"number\">$0</td>\n",
       " <td class=\"number\">0.00%</td>\n",
       " </tr>\n",
       " </tbody>\n",
       " </table>,\n",
       " <table>\n",
       " <thead>\n",
       " <tr>\n",
       " <th scope=\"col\">Type of Contribution</th>\n",
       " <th class=\"number\" scope=\"col\">Amount</th>\n",
       " <th class=\"number\" scope=\"col\">Percentage</th>\n",
       " </tr>\n",
       " </thead>\n",
       " <tbody>\n",
       " <tr>\n",
       " <td>Small Individual Contributions (≤ $200)</td>\n",
       " <td class=\"number\">$1,450</td>\n",
       " <td class=\"number\">82.86%</td>\n",
       " </tr>\n",
       " <tr>\n",
       " <td>Large Individual Contributions</td>\n",
       " <td class=\"number\">$300</td>\n",
       " <td class=\"number\">17.14%</td>\n",
       " </tr>\n",
       " <tr>\n",
       " <td>PAC Contributions*</td>\n",
       " <td class=\"number\">$0</td>\n",
       " <td class=\"number\">0.00%</td>\n",
       " </tr>\n",
       " <tr>\n",
       " <td>Candidate self-financing</td>\n",
       " <td class=\"number\">$0</td>\n",
       " <td class=\"number\">0.00%</td>\n",
       " </tr>\n",
       " <tr>\n",
       " <td>Other</td>\n",
       " <td class=\"number\">$0</td>\n",
       " <td class=\"number\">0.00%</td>\n",
       " </tr>\n",
       " </tbody>\n",
       " </table>,\n",
       " <table>\n",
       " <thead>\n",
       " <tr>\n",
       " <th scope=\"col\">Type of Contribution</th>\n",
       " <th class=\"number\" scope=\"col\">Amount</th>\n",
       " <th class=\"number\" scope=\"col\">Percentage</th>\n",
       " </tr>\n",
       " </thead>\n",
       " <tbody>\n",
       " <tr>\n",
       " <td>Small Individual Contributions (≤ $200)</td>\n",
       " <td class=\"number\">$45</td>\n",
       " <td class=\"number\">6.87%</td>\n",
       " </tr>\n",
       " <tr>\n",
       " <td>Large Individual Contributions</td>\n",
       " <td class=\"number\">$0</td>\n",
       " <td class=\"number\">0.00%</td>\n",
       " </tr>\n",
       " <tr>\n",
       " <td>PAC Contributions*</td>\n",
       " <td class=\"number\">$10</td>\n",
       " <td class=\"number\">1.53%</td>\n",
       " </tr>\n",
       " <tr>\n",
       " <td>Candidate self-financing</td>\n",
       " <td class=\"number\">$35</td>\n",
       " <td class=\"number\">5.34%</td>\n",
       " </tr>\n",
       " <tr>\n",
       " <td>Other</td>\n",
       " <td class=\"number\">$565</td>\n",
       " <td class=\"number\">86.27%</td>\n",
       " </tr>\n",
       " </tbody>\n",
       " </table>]"
      ]
     },
     "execution_count": 236,
     "metadata": {},
     "output_type": "execute_result"
    }
   ],
   "source": [
    "source_funds"
   ]
  },
  {
   "cell_type": "code",
   "execution_count": 253,
   "metadata": {},
   "outputs": [],
   "source": [
    "contributions = pd.read_html(str(source_funds[0]).replace('$',''))[0]"
   ]
  },
  {
   "cell_type": "code",
   "execution_count": 246,
   "metadata": {},
   "outputs": [],
   "source": [
    "# if I wanted to pivot and collapse the table, I need to create a dummy column to use as index\n",
    "# contributions['dummy'] = 1\n",
    "# contributions.pivot(index='dummy', columns='Type of Contribution', values='Amount').reset_index(drop=True).rename_axis(None, axis=1)"
   ]
  },
  {
   "cell_type": "code",
   "execution_count": 254,
   "metadata": {},
   "outputs": [
    {
     "data": {
      "text/html": [
       "<div>\n",
       "<style scoped>\n",
       "    .dataframe tbody tr th:only-of-type {\n",
       "        vertical-align: middle;\n",
       "    }\n",
       "\n",
       "    .dataframe tbody tr th {\n",
       "        vertical-align: top;\n",
       "    }\n",
       "\n",
       "    .dataframe thead th {\n",
       "        text-align: right;\n",
       "    }\n",
       "</style>\n",
       "<table border=\"1\" class=\"dataframe\">\n",
       "  <thead>\n",
       "    <tr style=\"text-align: right;\">\n",
       "      <th></th>\n",
       "      <th>Type of Contribution</th>\n",
       "      <th>Amount</th>\n",
       "      <th>Percentage</th>\n",
       "    </tr>\n",
       "  </thead>\n",
       "  <tbody>\n",
       "    <tr>\n",
       "      <th>0</th>\n",
       "      <td>Small Individual Contributions (≤ 200)</td>\n",
       "      <td>0</td>\n",
       "      <td>0.00%</td>\n",
       "    </tr>\n",
       "    <tr>\n",
       "      <th>1</th>\n",
       "      <td>Large Individual Contributions</td>\n",
       "      <td>819151</td>\n",
       "      <td>68.55%</td>\n",
       "    </tr>\n",
       "    <tr>\n",
       "      <th>2</th>\n",
       "      <td>PAC Contributions*</td>\n",
       "      <td>171900</td>\n",
       "      <td>14.39%</td>\n",
       "    </tr>\n",
       "    <tr>\n",
       "      <th>3</th>\n",
       "      <td>Candidate self-financing</td>\n",
       "      <td>0</td>\n",
       "      <td>0.00%</td>\n",
       "    </tr>\n",
       "    <tr>\n",
       "      <th>4</th>\n",
       "      <td>Other</td>\n",
       "      <td>203909</td>\n",
       "      <td>17.06%</td>\n",
       "    </tr>\n",
       "  </tbody>\n",
       "</table>\n",
       "</div>"
      ],
      "text/plain": [
       "                     Type of Contribution  Amount Percentage\n",
       "0  Small Individual Contributions (≤ 200)       0      0.00%\n",
       "1          Large Individual Contributions  819151     68.55%\n",
       "2                      PAC Contributions*  171900     14.39%\n",
       "3                Candidate self-financing       0      0.00%\n",
       "4                                   Other  203909     17.06%"
      ]
     },
     "execution_count": 254,
     "metadata": {},
     "output_type": "execute_result"
    }
   ],
   "source": [
    "contributions.head()"
   ]
  },
  {
   "cell_type": "code",
   "execution_count": 264,
   "metadata": {},
   "outputs": [
    {
     "data": {
      "text/plain": [
       "[0, 819151, 171900, 0, 203909]"
      ]
     },
     "execution_count": 264,
     "metadata": {},
     "output_type": "execute_result"
    }
   ],
   "source": [
    "# get all 5 values!\n",
    "[contributions.iloc[i,1] for i in range(5)]\n"
   ]
  },
  {
   "cell_type": "code",
   "execution_count": 269,
   "metadata": {},
   "outputs": [
    {
     "data": {
      "text/html": [
       "<div>\n",
       "<style scoped>\n",
       "    .dataframe tbody tr th:only-of-type {\n",
       "        vertical-align: middle;\n",
       "    }\n",
       "\n",
       "    .dataframe tbody tr th {\n",
       "        vertical-align: top;\n",
       "    }\n",
       "\n",
       "    .dataframe thead th {\n",
       "        text-align: right;\n",
       "    }\n",
       "</style>\n",
       "<table border=\"1\" class=\"dataframe\">\n",
       "  <thead>\n",
       "    <tr style=\"text-align: right;\">\n",
       "      <th></th>\n",
       "      <th>Type of Contribution</th>\n",
       "      <th>Amount</th>\n",
       "      <th>Percentage</th>\n",
       "    </tr>\n",
       "  </thead>\n",
       "  <tbody>\n",
       "    <tr>\n",
       "      <th>0</th>\n",
       "      <td>Small Individual Contributions (≤ 200)</td>\n",
       "      <td>0</td>\n",
       "      <td>0.00%</td>\n",
       "    </tr>\n",
       "    <tr>\n",
       "      <th>1</th>\n",
       "      <td>Large Individual Contributions</td>\n",
       "      <td>819151</td>\n",
       "      <td>68.55%</td>\n",
       "    </tr>\n",
       "    <tr>\n",
       "      <th>2</th>\n",
       "      <td>PAC Contributions*</td>\n",
       "      <td>171900</td>\n",
       "      <td>14.39%</td>\n",
       "    </tr>\n",
       "    <tr>\n",
       "      <th>3</th>\n",
       "      <td>Candidate self-financing</td>\n",
       "      <td>0</td>\n",
       "      <td>0.00%</td>\n",
       "    </tr>\n",
       "    <tr>\n",
       "      <th>4</th>\n",
       "      <td>Other</td>\n",
       "      <td>203909</td>\n",
       "      <td>17.06%</td>\n",
       "    </tr>\n",
       "  </tbody>\n",
       "</table>\n",
       "</div>"
      ],
      "text/plain": [
       "                     Type of Contribution  Amount Percentage\n",
       "0  Small Individual Contributions (≤ 200)       0      0.00%\n",
       "1          Large Individual Contributions  819151     68.55%\n",
       "2                      PAC Contributions*  171900     14.39%\n",
       "3                Candidate self-financing       0      0.00%\n",
       "4                                   Other  203909     17.06%"
      ]
     },
     "execution_count": 269,
     "metadata": {},
     "output_type": "execute_result"
    }
   ],
   "source": [
    "# just combining all the info from above into the same function, for first candidate - index at the ent [0]\n",
    "pd.read_html(str([table for table in soup_TN07.findAll('table') if re.search(r'(Type of Contribution)', str(table)) != None ]).replace('$',''))[0]"
   ]
  },
  {
   "cell_type": "code",
   "execution_count": null,
   "metadata": {},
   "outputs": [],
   "source": []
  }
 ],
 "metadata": {
  "kernelspec": {
   "display_name": "Python 3.9.12 ('base')",
   "language": "python",
   "name": "python3"
  },
  "language_info": {
   "codemirror_mode": {
    "name": "ipython",
    "version": 3
   },
   "file_extension": ".py",
   "mimetype": "text/x-python",
   "name": "python",
   "nbconvert_exporter": "python",
   "pygments_lexer": "ipython3",
   "version": "3.9.12"
  },
  "orig_nbformat": 4,
  "vscode": {
   "interpreter": {
    "hash": "8ae6d9166a6324ec8fca68373a3fb6f0a0d010f541edaf8017d36667030d4460"
   }
  }
 },
 "nbformat": 4,
 "nbformat_minor": 2
}
